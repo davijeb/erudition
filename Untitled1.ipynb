{
 "cells": [
  {
   "cell_type": "code",
   "execution_count": 4,
   "metadata": {},
   "outputs": [],
   "source": [
    "from pyecore.resources import ResourceSet, URI\n",
    "rset = ResourceSet()\n",
    "resource = rset.get_resource(URI('C:/Users/Jez/eclipse-workspace/org.xtext.example.mydsl/model/generated/MyDsl.ecore'))\n",
    "mm_root = resource.contents[0]\n",
    "rset.metamodel_registry[mm_root.nsURI] = mm_root\n",
    "# # At this point, the .ecore is loaded in the 'rset' as a metamodel\n",
    "# resource = rset.get_resource(URI('path/to/instance.xmi'))\n",
    "# model_root = resource.contents[0]\n",
    "# # At this point, the model instance is loaded!"
   ]
  },
  {
   "cell_type": "code",
   "execution_count": 7,
   "metadata": {},
   "outputs": [
    {
     "data": {
      "text/plain": [
       "<pyecore.resources.resource.ResourceSet at 0x19ef7d265c8>"
      ]
     },
     "execution_count": 7,
     "metadata": {},
     "output_type": "execute_result"
    }
   ],
   "source": [
    "rset.metamodel_registry[mm_root.nsURI] = mm_root\n",
    "rset"
   ]
  }
 ],
 "metadata": {
  "kernelspec": {
   "display_name": "Python 3",
   "language": "python",
   "name": "python3"
  },
  "language_info": {
   "codemirror_mode": {
    "name": "ipython",
    "version": 3
   },
   "file_extension": ".py",
   "mimetype": "text/x-python",
   "name": "python",
   "nbconvert_exporter": "python",
   "pygments_lexer": "ipython3",
   "version": "3.7.7"
  }
 },
 "nbformat": 4,
 "nbformat_minor": 4
}
