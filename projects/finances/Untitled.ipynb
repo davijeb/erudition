{
 "cells": [
  {
   "cell_type": "code",
   "execution_count": 13,
   "metadata": {},
   "outputs": [],
   "source": [
    "import pandas as pd\n",
    "from IPython.display import clear_output\n",
    "\n",
    "import matplotlib.pyplot as plt\n",
    "plt.rcParams[\"figure.figsize\"] = (20,3)\n",
    "import ipywidgets as widgets\n",
    "\n",
    "%matplotlib widget"
   ]
  },
  {
   "cell_type": "code",
   "execution_count": 21,
   "metadata": {},
   "outputs": [
    {
     "data": {
      "application/vnd.jupyter.widget-view+json": {
       "model_id": "7180fce1de9545c19b9a7d36dd4fee94",
       "version_major": 2,
       "version_minor": 0
      },
      "text/plain": [
       "HBox(children=(Button(description='Plot', style=ButtonStyle()), Dropdown(description='Code:', options=('ASD', …"
      ]
     },
     "metadata": {},
     "output_type": "display_data"
    },
    {
     "data": {
      "text/plain": [
       "None"
      ]
     },
     "metadata": {},
     "output_type": "display_data"
    },
    {
     "data": {
      "application/vnd.jupyter.widget-view+json": {
       "model_id": "c6bc17bd242d4c699223eaa9541f2ffb",
       "version_major": 2,
       "version_minor": 0
      },
      "text/plain": [
       "HBox(children=(Button(description='Plot', style=ButtonStyle()), Dropdown(description='Code:', options=('ASD', …"
      ]
     },
     "metadata": {},
     "output_type": "display_data"
    },
    {
     "data": {
      "text/plain": [
       "None"
      ]
     },
     "metadata": {},
     "output_type": "display_data"
    },
    {
     "data": {
      "application/vnd.jupyter.widget-view+json": {
       "model_id": "51672b5a610947f9bfb0d50e54d70ec0",
       "version_major": 2,
       "version_minor": 0
      },
      "text/plain": [
       "HBox(children=(Button(description='Plot', style=ButtonStyle()), Dropdown(description='Code:', index=6, options…"
      ]
     },
     "metadata": {},
     "output_type": "display_data"
    },
    {
     "data": {
      "text/plain": [
       "None"
      ]
     },
     "metadata": {},
     "output_type": "display_data"
    },
    {
     "data": {
      "application/vnd.jupyter.widget-view+json": {
       "model_id": "7635d1efcdf14bee8b846800bd4e3ace",
       "version_major": 2,
       "version_minor": 0
      },
      "text/plain": [
       "HBox(children=(Button(description='Plot', style=ButtonStyle()), Dropdown(description='Code:', index=1, options…"
      ]
     },
     "metadata": {},
     "output_type": "display_data"
    }
   ],
   "source": [
    "df=pd.read_csv('financial_transactions_01_04_2014-02_11_2019.csv', encoding='ISO-8859-1')\n",
    "\n",
    "df = df.astype({'Code': 'str'})\n",
    "df = df.astype({'Category': 'str'})\n",
    "df = df.astype({'Memo': 'str'})\n",
    "\n",
    "button = widgets.Button(description=\"Plot\")\n",
    "\n",
    "def on_button_clicked(b):\n",
    "    display(plot())\n",
    "    display(widgets.HBox([button, w1, w2, w3]))\n",
    "\n",
    "button.on_click(on_button_clicked)\n",
    "\n",
    "w1=widgets.Dropdown(\n",
    "    options=list(sorted(df.Code.unique())),\n",
    "    description='Code:',\n",
    "    disabled=False,\n",
    ")\n",
    "\n",
    "w2=widgets.Dropdown(\n",
    "    options=list(sorted(df.Category.unique())),\n",
    "    description='Category:',\n",
    "    disabled=False,\n",
    ")\n",
    "\n",
    "w3=widgets.Dropdown(\n",
    "    options=list(sorted(df.Memo.unique())),\n",
    "    description='Memo:',\n",
    "    disabled=False,\n",
    ")\n",
    "\n",
    "def plot():\n",
    "    df_plot = df[(df['Code']==w1.value) & (df['Category']==w2.value) & (df['Memo']==w3.value)]\n",
    "    plt.plot(df_plot.Date, df_plot.Amount)\n",
    "\n",
    "def update_w1(change):\n",
    "    if change['type'] == 'change' and change['name'] == 'value':\n",
    "        df_filter = df[df.Code == change['new']]\n",
    "        w2.options = list(sorted(df_filter.Category.unique()))\n",
    "        w3.options = list(sorted(df_filter.Memo.unique()))\n",
    "        \n",
    "def update_w2(change):\n",
    "    if change['type'] == 'change' and change['name'] == 'value':\n",
    "        df_filter = df[df.Category == change['new']]\n",
    "        w1.options = list(sorted(df_filter.Code.unique()))\n",
    "        w3.options = list(sorted(df_filter.Memo.unique()))\n",
    "\n",
    "def update_w3(change):\n",
    "    if change['type'] == 'change' and change['name'] == 'value':\n",
    "        df_filter = df[df.Memo == change['new']]\n",
    "        w1.options = list(sorted(df_filter.Code.unique()))\n",
    "        w2.options = list(sorted(df_filter.Category.unique()))\n",
    "    \n",
    "w1.observe(update_w1)\n",
    "#w2.observe(update_w2)\n",
    "#w3.observe(update_w3)\n",
    "\n",
    "display(widgets.HBox([button, w1, w2, w3]))"
   ]
  },
  {
   "cell_type": "code",
   "execution_count": 73,
   "metadata": {},
   "outputs": [
    {
     "data": {
      "text/plain": [
       "Index(['Date', 'Account', 'Amount', 'Category', 'Code', 'Memo'], dtype='object')"
      ]
     },
     "execution_count": 73,
     "metadata": {},
     "output_type": "execute_result"
    }
   ],
   "source": [
    "df.columns"
   ]
  }
 ],
 "metadata": {
  "kernelspec": {
   "display_name": "Python 3",
   "language": "python",
   "name": "python3"
  },
  "language_info": {
   "codemirror_mode": {
    "name": "ipython",
    "version": 3
   },
   "file_extension": ".py",
   "mimetype": "text/x-python",
   "name": "python",
   "nbconvert_exporter": "python",
   "pygments_lexer": "ipython3",
   "version": "3.7.3"
  }
 },
 "nbformat": 4,
 "nbformat_minor": 4
}
