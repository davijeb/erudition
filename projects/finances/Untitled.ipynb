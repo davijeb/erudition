{
 "cells": [
  {
   "cell_type": "code",
   "execution_count": 208,
   "metadata": {},
   "outputs": [],
   "source": [
    "import pandas as pd\n",
    "\n",
    "%matplotlib inline"
   ]
  },
  {
   "cell_type": "code",
   "execution_count": 221,
   "metadata": {
    "scrolled": false
   },
   "outputs": [],
   "source": [
    "df=pd.read_csv('2019.csv')\n",
    "keywords = [' ON ', 'SAINSBURYS', 'WAGAMAMA', 'CO-OP', 'COSTA']\n",
    "keywords = [' ON ', '\\*', '/', 'LTD',' PO ', ' BC', ' STORES ', ' REDHILL', ' MORTGAGE ', ' CO ', ' CONNEC', ' PYMTS ', ' FINANCI    ', ' PLC ', ' CAPITAL ', ' LIMITED ', ' MEM ', ' MIA ', ' NDDS ', ' PL ']\n",
    "tidy(df, keywords)\n",
    "df['Date'] = pd.to_datetime(df['Date'], format='%d/%m/%Y')\n",
    "df['year'] = pd.DatetimeIndex(df['Date']).year\n",
    "df['month'] = pd.DatetimeIndex(df['Date']).month\n",
    "df['Memo'] = df['Memo'].str.strip()\n",
    "df.Memo.unique()\n",
    "dx=df[df.Subcategory == 'PAYMENT']\n",
    "dx.groupby(['Memo', 'Subcategory', 'month'], as_index=False)['Amount'].sum().to_csv('look.csv')\n",
    "#df"
   ]
  },
  {
   "cell_type": "code",
   "execution_count": 106,
   "metadata": {},
   "outputs": [],
   "source": [
    "memo = df.Memo.str.split(pat=' ON ', n=1, expand=True)\n",
    "df['Memo'] = memo[0]\n",
    "\n",
    "\n",
    "df['Date'] = pd.to_datetime(df['Date'], format='%d/%m/%Y')\n",
    "df['year'] = pd.DatetimeIndex(df['Date']).year\n",
    "df['month'] = pd.DatetimeIndex(df['Date']).month\n",
    "\n",
    "df=df[['year', 'month','Memo', 'Subcategory', 'Amount']]"
   ]
  },
  {
   "cell_type": "code",
   "execution_count": 100,
   "metadata": {},
   "outputs": [
    {
     "data": {
      "text/html": [
       "<div>\n",
       "<style scoped>\n",
       "    .dataframe tbody tr th:only-of-type {\n",
       "        vertical-align: middle;\n",
       "    }\n",
       "\n",
       "    .dataframe tbody tr th {\n",
       "        vertical-align: top;\n",
       "    }\n",
       "\n",
       "    .dataframe thead th {\n",
       "        text-align: right;\n",
       "    }\n",
       "</style>\n",
       "<table border=\"1\" class=\"dataframe\">\n",
       "  <thead>\n",
       "    <tr style=\"text-align: right;\">\n",
       "      <th></th>\n",
       "      <th>Memo</th>\n",
       "      <th>Subcategory</th>\n",
       "      <th>month</th>\n",
       "      <th>Amount</th>\n",
       "    </tr>\n",
       "  </thead>\n",
       "  <tbody>\n",
       "    <tr>\n",
       "      <th>665</th>\n",
       "      <td>MORTONS               IRELAND</td>\n",
       "      <td>PAYMENT</td>\n",
       "      <td>1</td>\n",
       "      <td>-7.47</td>\n",
       "    </tr>\n",
       "    <tr>\n",
       "      <th>510</th>\n",
       "      <td>HSBC                  403810REIGATE</td>\n",
       "      <td>CASH</td>\n",
       "      <td>1</td>\n",
       "      <td>-50.00</td>\n",
       "    </tr>\n",
       "    <tr>\n",
       "      <th>520</th>\n",
       "      <td>INDIGO UK-GTR</td>\n",
       "      <td>PAYMENT</td>\n",
       "      <td>1</td>\n",
       "      <td>-28.35</td>\n",
       "    </tr>\n",
       "    <tr>\n",
       "      <th>524</th>\n",
       "      <td>INSIDE OUT HEALTH</td>\n",
       "      <td>PAYMENT</td>\n",
       "      <td>1</td>\n",
       "      <td>-37.95</td>\n",
       "    </tr>\n",
       "    <tr>\n",
       "      <th>529</th>\n",
       "      <td>ITUNES.COM/BILL       IRELAND</td>\n",
       "      <td>PAYMENT</td>\n",
       "      <td>1</td>\n",
       "      <td>-9.78</td>\n",
       "    </tr>\n",
       "  </tbody>\n",
       "</table>\n",
       "</div>"
      ],
      "text/plain": [
       "                                             Memo Subcategory  month  Amount\n",
       "665  MORTONS               IRELAND                    PAYMENT      1   -7.47\n",
       "510  HSBC                  403810REIGATE                 CASH      1  -50.00\n",
       "520                         INDIGO UK-GTR             PAYMENT      1  -28.35\n",
       "524                         INSIDE OUT HEALTH         PAYMENT      1  -37.95\n",
       "529  ITUNES.COM/BILL       IRELAND                    PAYMENT      1   -9.78"
      ]
     },
     "execution_count": 100,
     "metadata": {},
     "output_type": "execute_result"
    }
   ],
   "source": [
    "dfg=df.groupby(['Memo', 'Subcategory','month'], as_index=False)['Amount'].sum().sort_values('month')#.sort_values(['Amount', 'month'])\n",
    "dfg = dfg[dfg.Amount < 0]\n",
    "dfg = dfg[dfg.Subcategory != 'DIRECTDEBIT']\n",
    "dfg.head()"
   ]
  },
  {
   "cell_type": "code",
   "execution_count": 179,
   "metadata": {},
   "outputs": [],
   "source": [
    "def tidy(df, keywords):\n",
    "    \n",
    "    for kw in keywords:\n",
    "        res = df.Memo.str.split(pat=kw, n=1, expand=True)\n",
    "        df['Memo'] = res[0]\n",
    "    return df"
   ]
  }
 ],
 "metadata": {
  "kernelspec": {
   "display_name": "Python 3",
   "language": "python",
   "name": "python3"
  },
  "language_info": {
   "codemirror_mode": {
    "name": "ipython",
    "version": 3
   },
   "file_extension": ".py",
   "mimetype": "text/x-python",
   "name": "python",
   "nbconvert_exporter": "python",
   "pygments_lexer": "ipython3",
   "version": "3.7.3"
  }
 },
 "nbformat": 4,
 "nbformat_minor": 4
}
