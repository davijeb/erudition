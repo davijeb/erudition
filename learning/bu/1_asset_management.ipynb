{
 "cells": [
  {
   "cell_type": "markdown",
   "metadata": {},
   "source": [
    "# Asset Management Basics \n",
    "Asset management is the professional management of securities and other products – such as stock, bonds, money market securities, and alternative assets, to meet the specified investment goals of investors. Asset management is often referred to under different names, including:\n",
    "\n",
    "Investment management\n",
    "Fund management\n",
    "Wealth management\n",
    "Money management\n",
    " \n",
    "By putting funds under management, an investor has access to the investing experience and specialized services of the asset manager.\n",
    "\n",
    "Depending on their mandate, an asset manager can have a great deal of leeway in terms of how they invest their funds. This flexibility allows the manager to make rapid investing decisions without the constant need to consult investors. This typically results in a higher return on the assets than could be achieved \"conventionally\" by many investors (particularly less sophisticated retail or private clients).\n",
    "\n",
    "Fund managers, irrespective of how esoteric their strategies are, basically manage assets. They might track an index or create value through complex arbitrage strategies, but their ultimate goal is to run a portfolio professionally."
   ]
  },
  {
   "cell_type": "markdown",
   "metadata": {},
   "source": [
    "# Asset Management Sectors\n",
    "The three key asset management sectors by customer type are:\n",
    "\n",
    "> Institutional asset management\n",
    "\n",
    "> Retail asset management\n",
    "\n",
    "> Wealth management / private client\n"
   ]
  },
  {
   "cell_type": "markdown",
   "metadata": {},
   "source": [
    "# Institutional Asset Management\n",
    "Institutional asset management is the provision of asset management services to a variety of institutions, including:\n",
    "\n",
    "- Insurance companies\n",
    "- Pension funds\n",
    "- Nonfinancial corporates\n",
    "- Endowments\n",
    "- Government bodies\n",
    "- Charities\n",
    "- Defined benefit / contribution plans\n",
    " \n",
    "Institutional customers, such as insurance companies and pension funds, represent the dominant segment of the asset management industry.\n",
    "\n",
    "Other customers, such as nonfinancial corporations, local governments / authorities, and endowments, invest through a combination of investment funds and discretionary mandates. Products offered to institutional customers include money market funds, mutual funds, and other collective/pooled investment vehicles. Many institutional customers (for example, insurance companies and pension funds) also act as intermediaries for retail investors."
   ]
  },
  {
   "cell_type": "markdown",
   "metadata": {},
   "source": [
    "# Wealth Management \n",
    "## Private Client Services\n",
    "Asset management is a core activity of wealth management firms that offer specialized financial services to high net worth individuals (HNWI). Products offered tend to be more exotic than those offered to retail clients, and include structured products, private equity funds, and art and collectibles.\n",
    "\n",
    "Typically, the private client will meet with a wealth manager to discuss investment goals and styles. The manager works with the client to set realistic goals to grow the client's wealth, and will suggest a range of asset classes that may be used to enable the investor to meet the investment objectives.\n",
    "\n",
    "Having considered the options, the client will state a preferred investment style for the asset manager to engage in. For example, a younger client with a long investment horizon may be prepared to take on more risk, while an older investor with a shorter investment horizon may prefer a more conservative investment style.\n",
    "\n",
    "Meetings with the wealth manager are held on a regular basis so that the investor can be informed of progress and kept up to date. They also provide the opportunity to consider any changes that may be relevant as the client’s circumstances and needs change."
   ]
  },
  {
   "cell_type": "markdown",
   "metadata": {},
   "source": [
    "# Retail Asset Management\n",
    "Retail asset management is aimed at individual or private investors with a lower net worth. It includes trusts and professionally managed accounts. A client’s level of investable assets (that is, net worth) determines the level of service received, with managers typically charging a fee based on assets under management (AUM).\n",
    "\n",
    "A retail client’s portfolio will typically incorporate the following elements:"
   ]
  },
  {
   "cell_type": "markdown",
   "metadata": {},
   "source": [
    "# Asset Allocation\n",
    "The best way for investors to achieve an acceptable risk/return trade-off for their portfolios is to diversify portfolio assets. For this reason, assets are rarely pooled in one asset class alone, but are instead distributed across a number of different classes. The process by which asset managers allocate investment capital to specific asset classes (and subclasses) is called asset allocation. It also involves deciding on the geographical and industry/sector mix in an investment portfolio.\n",
    "\n",
    "Asset allocation is based on the principle of diversification and modern portfolio theory, whereby portfolio risk can be reduced as more assets are added to the portfolio. The asset allocation process is vital – some studies have shown that over 90% of portfolio performance depends on the asset allocation decision. In turn, the asset allocation decision depends primarily on the client's risk tolerance and time horizon.\n",
    "\n",
    "Asset allocation has a major impact on whether a fund or portfolio will achieve an acceptable return – if enough \"risky\" assets (such as equities) are not included in a fund, the return earned may not permit investors to achieve their investment objectives.\n",
    "\n",
    "Through asset allocation, portfolios can be diversified both across asset classes (for example, equities, bonds, and cash) and within asset classes (for example, blue-chip stocks and emerging market stocks). In addition to the traditional classes of stocks, bonds, and cash, there are also alternative investments such as private equity, commodities, and structured products. Historically, each asset class has produced different average returns, as well as varying levels of volatility, over different time periods.\n",
    "\n"
   ]
  },
  {
   "cell_type": "markdown",
   "metadata": {},
   "source": [
    "# Strategic Asset Allocation (SAA)\n",
    "SAA is the long-term allocation of an investment portfolio to stocks, bonds, and other assets based on an investor’s goals and risk tolerance. A portfolio strategic asset allocation incorporates a base policy mix (for example, 60% equity, 30% bonds, and 10% cash) that should remain unchanged even when the market moves up and down. The allocation is only altered when an investor’s risk profile and return objectives change or when new classes of asset emerge that the investor has not previously considered. Over time, SAA is the most important determinant of the total return and risk of a broadly diversified portfolio.\n",
    "\n",
    "The initial steps in the asset allocation process involve establishing the investor's objectives, risk tolerance, and investment time horizon. The next step involves determining which asset class to include in the portfolio, and the strategic proportions (weightings) to be assigned to these asset classes over the long term. In practice, there is no universally optimal strategic asset allocation.\n",
    "\n",
    "The process can be highly subjective, and asset mixes will vary due to factors such as investor preferences, interpretation, or even political, tax, and cultural differences in different locations. The mix of assets should be chosen to give the highest probability of meeting the long-term objectives of the investor."
   ]
  },
  {
   "cell_type": "markdown",
   "metadata": {},
   "source": [
    "# Tactical Asset Allocation (TAA)\n",
    "TAA is the process of making short-term adjustments to a portfolio’s strategic allocation to take advantage of particular investment opportunities or market inefficiencies. These temporary shifts typically occur in response to current economic or market conditions, whereas current conditions do not play the central role of determining allocation. These temporary shifts are typically limited to specific ranges, such as 5–10% above or below the strategic weights.\n",
    "\n",
    "TAA assumes that the relative returns among different asset classes and subclasses sometimes diverge (at least temporarily) from equilibrium levels, but ultimately are mean reverting.\n",
    "\n",
    "For example, equilibrium spreads between equities and bonds were well above their equilibrium levels before the equity market returned to equilibrium levels in the year 2000. To take advantage of such disequilibrium, a TAA strategist would have underweighted equities before the stock market dotcom \"bubble\" burst in the early part of the century.\n",
    "\n",
    "Tactical asset allocation frequently seeks asset classes where risk premiums are well above normal levels, in anticipation of mean reversion. This requires judgment, as the mean reversion process can take many years. In practice, many investors use a combination of tactical and strategic asset allocation. TAA enables investors to anticipate and respond to significant shifts in asset price, while strategic asset allocation helps them set a long-term plan to achieve their long-term goals.\n",
    "\n",
    "TAA involves forecasting the returns on each asset class represented in the portfolio, and increasing or decreasing the commitment to an asset class based on that forecast. TAA thus involves overweighting one asset class and underweighting another. For example, if the long-term commitment to equities is 50%, this may be increased or lowered by 20% based on an investor's forecast of the market. A typical tactical asset allocation strategy will carefully delineate the extent to which asset class proportions may differ from the long-term policy asset allocation.\n",
    "\n",
    "A TAA strategy typically uses equities, bonds, and short-term debt, but may also involve assets such as commodities, currencies, and alternative assets. Subclasses of assets may also be used, such as corporate and government bonds, and international and emerging market equities. Derivatives contracts such as stock index futures may be used to change exposure to an asset class quickly. TAA typically focuses on improving returns at some expense to risk management (although downside risk is sometimes improved through TAA). It thus assumes that an investor's risk tolerance is relatively stable in the long term and flexible in the near term."
   ]
  },
  {
   "cell_type": "markdown",
   "metadata": {},
   "source": [
    "# Active & Passive Management\n",
    "While most asset managers share the same objectives, there are conflicting views as to how to meet these objectives.\n",
    "\n",
    "## Active Management \n",
    "Active management involves frequent and often substantial adjustments to the composition of a portfolio. Asset managers are described as active if they have discretion to invest in whatever securities or assets they want and the flexibility to invest whenever they wish, as long as they remain within the constraints of the mandate.\n",
    "\n",
    "Active managers do not typically believe that capital markets are efficient. Instead they believe that assets can be mispriced and their analysis or skill can reveal this. Active fund managers are of the opinion that trading in these assets can lead to excess returns even after adjusting for risk and costs.\n",
    "\n",
    "## Passive Management \n",
    "Passive managers believe that it is impossible to predict which individual assets or sectors of the market will perform better than others, so their portfolio strategy is determined at the outset of the investment and does not vary thereafter. Many passive funds are index funds where the fund tries to track the market as a whole with the aim of replicating the index return. Because of the lack of trading activity, investors in passive funds should expect to pay lower fees"
   ]
  },
  {
   "cell_type": "markdown",
   "metadata": {},
   "source": [
    "# Overview of Investment Funds\n",
    "The management of funds that pool money from many investors is a huge part of the asset management business. There are many different types of fund that are managed and serviced within the industry. These include:\n",
    "\n",
    ">Collective investment vehicles\n",
    "\n",
    ">Hedge funds\n",
    "\n",
    ">Private equity funds\n"
   ]
  },
  {
   "cell_type": "markdown",
   "metadata": {},
   "source": [
    "# Collective Investment Vehicles\n",
    "There are many different types of collective investment vehicle. The terminology for these products varies across different countries. For example: \n",
    "\n",
    "- In the US, they are referred to as investment funds. These include mutual funds, closed-end funds, and unit investment trusts (UITs).\n",
    "- In Europe, collective investment schemes may be referred to as undertakings for collective investment in transferable securities (UCITS), société d'investissement à capital variable (SICAV), or fonds commun de placement.\n",
    "- In the UK, investors can place funds in a collective investment scheme (CIS), through an open-ended investment company (OEIC – also known as an investment company with variable capital/ICVC), an authorized unit trust (AUT), or an investment trust.\n",
    "- Internationally recognized investment vehicles include exchange-traded funds and real estate investment trusts (REITs).\n",
    "\n",
    "These vehicles enable a number of investors to pool their money and invest in a professionally managed portfolio of investments. They are predominantly, but not exclusively, aimed at small or retail investors, enabling them to hold a wide range of assets (thereby diversifying their portfolio) rather than buy individual securities.\n",
    "\n",
    "Usually, fund managers are constrained in terms of the types of asset that they invest in by the category of fund that they have established. For example, stock/equity funds invest in quoted shares; bond funds invest in corporate, sovereign, or other bonds; and money market funds typically invest in deposits. General managed funds, meanwhile, invest in a wide variety of assets."
   ]
  },
  {
   "cell_type": "markdown",
   "metadata": {},
   "source": [
    "# Collective Investment Vehicles: Mutual Funds and ETFs\n",
    "A mutual fund is an investment company that pools together money from many investors and invests it in stocks, bonds, or other securities. Each investor (shareholder) holds shares in the mutual fund, which represent part ownership of the portfolio. These shares are sold by the fund directly to investors or indirectly through brokers/intermediaries for the fund. Shares cannot be purchased from other investors on the secondary market, such as a stock exchange. There is no limit on the number of shares that can be issued by a mutual fund – hence the term open-end – and most funds sell new shares on a continuous basis to accommodate new investors. Shares are redeemed by the funds when investors want to liquidate their investments.\n",
    "While mutual funds have existed for almost a century, the ETF structure is a far more recent and increasingly popular type of fund. ETFs are generally structured as open-ended pooled investment vehicles that are traded on stock markets like regular stocks. The ETF invests in diversified portfolios with the objective of meeting or beating market returns. Most ETFs track benchmark indexes. Unlike mutual funds that are priced and exchangeable only at the end of each day, ETFs can be traded intraday like individual stocks. Apart from stocks and bonds, ETFs also invest in alternative assets, such as currencies, commodities, and real estate."
   ]
  },
  {
   "cell_type": "markdown",
   "metadata": {},
   "source": [
    "# Hedge Funds\n",
    "A hedge fund is a private investment vehicle organized for the purpose of pooling investors’ assets. The hedge fund sponsor (manager) invests the fund’s assets pursuant to a predetermined strategy.\n",
    "\n",
    "Hedge funds apply a variety of investment techniques and operate in multiple market sectors. They typically utilize aggressive or risky strategies (including the extensive use of leverage and short selling) in an attempt to generate absolute returns (rather than returns relative to some index). For instance, the preferred strategy of a fund might be to generate profits through significant derivative transactions or investments in alternative assets. This contrasts with more traditional instruments such as mutual funds, where the objective is to \"beat the market.\"\n",
    "\n",
    "Hedge funds are typically structured as partnerships divided between limited partners (who are the investors) and general/limited partners (who manage the fund according to the stated investment strategy). Most hedge funds set extremely high minimum investment amounts; a minimum of USD 1 million would not be unusual. Investors in hedge funds pay a management fee (typically around 2%), which is usually higher than fees paid on conventional mutual funds. Hedge funds also take a percentage of any profits."
   ]
  },
  {
   "cell_type": "markdown",
   "metadata": {},
   "source": [
    "# Private Equity Funds\n",
    "Private equity (PE) is a specialized form of investing in companies whose shares are (generally) not traded in public markets. It represents a way of \"owning\" companies different from the more familiar stock market investment.\n",
    "\n",
    "Direct investment in private equity has traditionally been the preserve of institutional investors and wealthy private clients with some form of connection to the companies concerned. Indirect investment in private equity funds represents a vehicle of convenience for investors to participate in a better-diversified pool of private equity investments. Firms of all shapes and sizes raise money for private equity investments and manage the funds. These firms range from boutique operations that do perhaps just one or two deals a year to globetrotting entities that execute numerous transactions.\n",
    "\n",
    "The headline makers that were responsible for many of the industry's largest transactions during the “golden era” of private equity that ended with the 2007 credit crisis are conglomerate-type, independent firms (for example, the Blackstone Group, TPG Capital, and Kohlberg Kravis Roberts) that are structured as either partnerships or corporations. Funds managed by these PE firms compete with so-called “captive funds” – such as the private equity arms of investment banks – that obtain funds from their parent companies."
   ]
  },
  {
   "cell_type": "markdown",
   "metadata": {},
   "source": [
    "# Current State of the Asset Management Industry\n",
    "Estimates of the overall size of the asset management industry vary. According to a report by the Boston Consulting Group (Global Asset Management 2017: The Innovator's Advantage), global assets under management (AUM) were estimated to exceed USD 69.1 trillion at year-end 2016.\n",
    "\n",
    "Asset management continues to rank among the most profitable industries. However, operating margins, or profits as a percentage of net revenues, which had been rising for a few years have begun to fall, albeit only slightly from 39% in 2015 to 38% in 2016.\n",
    "\n",
    "The asset management industry is very fragmented, with hundreds of players that have very small market shares. But the pressures on asset managers from regulators and clients to deliver better value on fees and greater transparency on costs has squeezed margins. This is driving the need for more merger and acquisition activity across the industry.\n",
    "\n",
    "Although mergers in the asset management industry historically have produced disappointing results, the industry appears to have entered into a period of at least some consolidation. A number of transactions have recently taken place, including:\n",
    "\n",
    "BNP Paribas' acquisition of Fortis Investment Management\n",
    "Softbank's purchase of the Fortress Investment Group\n",
    "Merger between Janus Capital and the Henderson Group\n",
    "Merger between Standard Life and Aberdeen Asset Management\n",
    " \n",
    "More deals are expected in the future, with cash-strapped banks keen to shed their asset management arms in an attempt to raise capital, or because they no longer see a business model that combines deposit-taking with investment management."
   ]
  },
  {
   "cell_type": "markdown",
   "metadata": {},
   "source": [
    "# Asset Management: Future Growth\n",
    "According to a survey by professional services network Pricewaterhouse Coopers (Asset Management 2020: A Brave New World), global AUM at asset management firms are expected to grow by a compound annual rate of around 6% to exceed USD 100 trillion by 2020. The main driver of future growth in the asset management industry worldwide will be the retirement market (especially the government-incentivized shift to individual retirement plans). Demographic projections for industrialized countries show a continuation and intensification of the ageing of populations in the future. As the world ages, retirement and healthcare will become critical issues that only asset management can solve.\n",
    "\n",
    "Another key driver will be economic progress in the developing world where AUM are set to grow faster than in the developed world. The growth of assets in the developing world will be driven by the increase in net worth individuals and the growth of sovereign wealth funds (SWFs).\n",
    "\n",
    "However, alongside rising assets, there will be rising costs for asset management firms. First, regulatory costs will remain high. Asset management fees will be under continued pressure amid the ongoing push for greater transparency and comparability. Investment in technology and data management is expected to increase in order to maximize distribution opportunities and to cope with regulation and reporting."
   ]
  },
  {
   "cell_type": "markdown",
   "metadata": {},
   "source": [
    "# Overview of Asset Management\n",
    "\n",
    "Asset management is the professional management of securities and alternative assets to meet the specified investment goals of investors. Asset management clients can be categorized as: \n",
    "\n",
    "- *Institutional* – These represent the dominant segment of the asset management industry and include pension funds, insurance companies, nonfinancial corporates, and endowments.\n",
    "- *High net worth* – Wealth managers manage funds for high net worth private clients on both a discretionary and nondiscretionary basis.\n",
    "- *Retail* – Retail investors have a lower net worth than high net worth investors. The retail client’s level of investable assets determines the level of service they will receive. \n",
    "\n",
    "Asset allocation is the process by which asset managers allocate investment capital to specific asset classes in order to achieve an acceptable rate of return for the investor. The asset allocation decision depends primarily on the investor’s risk tolerance and time horizon. Asset allocation can be tactical or strategic: \n",
    "\n",
    "- Tactical asset allocation – TAA exploits short-term swings in market prices by making temporary adjustments to the investment portfolio.\n",
    "- Strategic asset allocation – SAA refers to the long-term allocation of an investment portfolio to different asset classes based on an investor’s goals and risk tolerance. The allocation is only altered when the investor’s goals and/or risk tolerance change or when new classes of assets emerge. \n",
    "\n",
    "Managers may track a benchmark (passive investing) or invest in whatever securities they wish (active management).\n",
    "\n",
    "## Investment Funds\n",
    "\n",
    "The management of funds that pool money from many investors is a huge part of the asset management business.\n",
    "\n",
    "There are many different types of fund that are managed and serviced within the industry. These include:\n",
    "- Collective investment vehicles\n",
    "- Hedge funds\n",
    "- Private equity funds\n"
   ]
  },
  {
   "cell_type": "code",
   "execution_count": null,
   "metadata": {},
   "outputs": [],
   "source": []
  }
 ],
 "metadata": {
  "kernelspec": {
   "display_name": "Python 3",
   "language": "python",
   "name": "python3"
  },
  "language_info": {
   "codemirror_mode": {
    "name": "ipython",
    "version": 3
   },
   "file_extension": ".py",
   "mimetype": "text/x-python",
   "name": "python",
   "nbconvert_exporter": "python",
   "pygments_lexer": "ipython3",
   "version": "3.7.3"
  }
 },
 "nbformat": 4,
 "nbformat_minor": 4
}
