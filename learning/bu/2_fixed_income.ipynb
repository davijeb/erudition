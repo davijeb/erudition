{
 "cells": [
  {
   "cell_type": "markdown",
   "metadata": {},
   "source": [
    "# Definition of a Bond Derivative\n",
    "A bond derivative is a futures or options contract based on a fixed income security. So, a bond futures contract allows a participant to physically buy or sell some quantity of bonds at a predetermined delivery date.\n",
    "\n",
    "Bond derivative trading typically takes place on futures exchanges. The majority of liquidity is found in contracts covering benchmark government bonds with maturities of 10-30 years. Most bond futures contracts offer a standard three-month delivery cycle (March, June, September, and December) with nearly all transactions concentrated in the front (nearest) delivery month.\n",
    "\n",
    "Rather than specifying a particular bond, most futures contracts allow the contract seller to choose from a particular basket of bonds.\n",
    "Conversion Factors\n",
    "The choice of bond will depend on the invoice price determined through a conversion factor. This conversion factor translates the futures price into a bond-specific price. At any particular time, there will usually be one bond in the basket which is \"cheapest-to-deliver\" (CTD). This mechanism means that price movements of the futures contract are driven by the characteristics of the CTD.\n",
    "\n",
    "Bond futures allow a small degree of extra flexibility for agents looking to delay purchases or sales, but the majority of bond futures transactions are either short-term directional trades (most contracts are unwound before any actual physical delivery) or arbitrage basis trades."
   ]
  },
  {
   "cell_type": "markdown",
   "metadata": {},
   "source": [
    "Bond Options & Forwards\n",
    "Standardized options are available on bond futures contracts, with liquidity again concentrated in the front month. This effectively means that there is only one liquid exercise date.\n",
    "\n",
    "There is more activity in customized OTC bond options (particularly for large government markets). Unlike options on futures, OTC options allow agents to specify particular bonds, strike prices, transaction quantities, and exercise dates.\n",
    "\n",
    "There is a limited amount of OTC trading for bond forward contracts, usually in the form of delayed settlements.\n"
   ]
  },
  {
   "cell_type": "markdown",
   "metadata": {},
   "source": [
    "# Bond Options & Forwards\n",
    "Standardized options are available on bond futures contracts, with liquidity again concentrated in the front month. This effectively means that there is only one liquid exercise date.\n",
    "\n",
    "There is more activity in customized OTC bond options (particularly for large government markets). Unlike options on futures, OTC options allow agents to specify particular bonds, strike prices, transaction quantities, and exercise dates.\n",
    "\n",
    "There is a limited amount of OTC trading for bond forward contracts, usually in the form of delayed settlements.\n"
   ]
  },
  {
   "cell_type": "markdown",
   "metadata": {},
   "source": [
    "Forward Rate Agreement (FRAs)\n",
    "FRAs are cash-settled derivative contracts that pay the discounted difference between a contracted level and an observed forward level of some short-term interest rate, based on some notional principal.\n",
    "\n",
    "The buyer of a FRA:\n",
    " \n",
    "- Receives cash if the observed rate is higher than the contracted rate\n",
    "- Pays cash if the observed rate is lower than the contracted rate\n",
    " \n",
    "Although FRAs are OTC products that can be customized for any particular forward date, most interbank trading is concentrated around particular forward dates.\n",
    "\n",
    "The most common \"0 × 3\" FRA allows participants to fix a three-month rate (such as LIBOR) just before the official rate setting. A \"1 × 4\" FRA would refer to a three-month rate setting in one month's time, while a \"2 × 8\" would refer to a six-month rate setting in two months' time."
   ]
  },
  {
   "cell_type": "markdown",
   "metadata": {},
   "source": [
    "# Basis Swaps\n",
    "In a basis swap, one counterparty exchanges one variable cash flow for another. For example, a counterparty could pay three-month LIBOR, while receiving six-month LIBOR. In a cross-currency basis swap, the variable rates refer to different markets, for example, paying three-month LIBOR and receiving three-month Euribor.\n",
    "\n",
    "Basis swaps are rarely executed on a flat basis – one counterparty or the other will need to pay a premium, the size of which depends on supply and demand conditions.\n",
    "\n",
    "For example, at the time of writing, there was a sharply negative basis swap spread between three-month Euribor and three-month LIBOR, reflecting high demand for dollars relative to euro. For a five-year cross-currency basis swap, an agent would pay roughly Euribor – 0.35% against receiving three-month LIBOR. Similarly, an agent would pay one-month LIBOR + 0.10% against receiving three-month LIBOR."
   ]
  },
  {
   "cell_type": "markdown",
   "metadata": {},
   "source": [
    "# Interest Rate Options\n",
    "An interest rate option is an option contract whose value depends on future interest rates\n",
    "\n",
    "There are two key types of interest rate option:\n",
    "\n",
    "## Cap/Floor\n",
    "\n",
    "Caps and floors are both collections of options on future short-term interest rates. Cap holders receive a payoff if the settled rate is greater than the strike rate, while floors pay out if rates are lower.\n",
    "\n",
    "Payouts, paid at the maturity of the borrowing period, are equal to the difference between the settled rate and the strike rate.\n",
    "\n",
    "Therefore, a three-year 3.25% cap on three-month LIBOR is not a single option, but actually 11 different options, or \"caplets\". (There is no requirement for an option for the initial setting.)\n",
    "\n",
    "Each caplet covers a particular three-month borrowing period and has a 3.25% strike rate.\n",
    " \n",
    "If three-month USD LIBOR exceeds 3.25% for a borrowing period, a payment is made to the cap holder.\n",
    "If the rate is lower, no payment is required.\n",
    "\n",
    "## Swaption\n",
    "\n",
    "The holder of a swaption (or swap option) has the right – but not the obligation – to enter into an IRS of a particular tenor at a particular yield (strike). The option can either be to:\n",
    " \n",
    "- Pay the fixed rate (\"payer\" swaption)\n",
    "- Receive the fixed rate (\"receiver\" swaption)\n",
    " \n",
    "Swaptions are usually described in the form:\n",
    "\n",
    "Option Expiry × Swap Tenor\n",
    "\n",
    "For example, a 2 × 5 swaption is a two-year option into a five-year swap (this is slightly different from FRA nomenclature).\n",
    "\n",
    "Most swaptions are European-style with a single exercise date. Expiration dates for swaptions can be many years into the future. "
   ]
  },
  {
   "cell_type": "markdown",
   "metadata": {},
   "source": [
    "# Credit Derivatives\n",
    "A credit derivative is a financial instrument whose value is determined by the default risk of an underlying asset. The most popular type of credit derivative is the credit default swap (CDS).\n",
    "\n",
    "A CDS transfers the credit risk of some underlying name between two or more parties. Credit default swaps are similar to insurance contracts. In a standard CDS, a periodic (usually quarterly) fixed payment – known as the \"premium\" – is made by one party (the protection buyer) to another (protection seller). This is shown below.\n",
    "\n",
    "If the underlying name defaults (or experiences some other credit event), the protection seller must either:\n",
    " \n",
    "Pay the protection buyer the principal value of the credit default swap less any anticipated recovery\n",
    "Purchase defaulted obligations at par value\n",
    "\n",
    "Credit default swaps can be of any maturity, although most liquidity is concentrated in five-year transactions.\n",
    "\n",
    "The premium should reflect the credit risk embedded in a corporate bond. For example, if a five-year corporate bond investor is receiving a 1% annualized yield premium for the credit risk, then the five-year CDS premium should not be too far away from 1%. Higher payments reflect less creditworthy names.\n"
   ]
  },
  {
   "cell_type": "markdown",
   "metadata": {},
   "source": [
    "# Index Swaps\n",
    "Another type of credit derivative is the index swap. Here, the protection buyer effectively pays a fixed rate on a portfolio of underlying names. In the event of a credit event, a proportion of the index swap settles through a default payment, with the defaulting name \"dropping out\" of the portfolio and the principal amount reducing in size.\n",
    "\n",
    "Most credit trading is concentrated in index swaps (though there is also a healthy market for single-name CDS). Each index focuses on a particular credit segment (such as US low-grade credits or high-quality European credits)."
   ]
  },
  {
   "cell_type": "markdown",
   "metadata": {},
   "source": [
    "# Inflation Derivatives\n",
    "There is a small but growing market in inflation derivatives. In a standard inflation swap, one party pays a fixed rate and receives the inflation rate as measured by a national index (such as the Consumer Price Index/CPI in the US).\n",
    "\n",
    "Most inflation swaps are executed using a zero-coupon structure, with a single compounded fixed rate paid against the relevant change in the appropriate index. This is shown below.\n",
    "\n",
    "There are also inflation caps and floors. Some instruments are periodic (with year-on-year/YOY payouts), while others are similar to the zero-coupon swaps, and have a single payment at the end of the period."
   ]
  },
  {
   "cell_type": "markdown",
   "metadata": {},
   "source": [
    "## Transformations\n",
    "The wide range of available derivative products also allows agents to manage underlying risks. Risks can be increased, decreased, or transformed.\n",
    "\n",
    "For instance, a company may wish to borrow at a variable rate, but that does not mean that it must borrow through (for instance) a bank loan or floating rate note (FRN). In the following example, a company issues a five-year fixed rate bond with a semiannual coupon of 2.5%. The company enters into a five-year swap whereby it pays USD 3-month LIBOR and receives the five-year swap rate of 2% semiannual. This generates an overall borrowing cost of approximately:\n",
    "\n",
    "Borrowing Cost = 3-Month USD LIBOR + (2.5% – 2%)\n",
    "                          = 3-Month USD LIBOR + 0.50%\n",
    "\n",
    "Note that the cash flows of the transaction would be matched – the issuer would receive 2.5% from the swap counterparty and pay approximately 3-month LIBOR + 0.50% (there are small differences in payment conventions for fixed and floating cash flows)."
   ]
  },
  {
   "cell_type": "markdown",
   "metadata": {},
   "source": [
    "# Embedded Options\n",
    "A bond issuer may also be able to crystallize any value in embedded options.\n",
    "\n",
    "For example, a company that ultimately requires variable rate funding might issue a seven-year fixed-rate bond with a call after five years. The issuer can swap the bond for the first five years, and sell a swap counterparty a 5 × 2 \"payer\" swaption where the contingent swap has the same terms as the original one. (Equivalently, the borrower could swap for seven years and sell the counterparty a 5 × 2 receiver option. In this case, if rates have fallen and the swap counterparty exercises the option, then the issuer will call the bond.)\n",
    "\n",
    "If, at expiration, rates have risen above the strike level, then the swap counterparty will exercise the option – the bond is not called, but the issuer retains floating rate funding (receiving fixed on the new swap, paying fixed on the underlying bond).\n",
    "\n",
    "By selling the option, the issuer reduces the overall cost of funding."
   ]
  },
  {
   "cell_type": "markdown",
   "metadata": {},
   "source": [
    "# Comparing Instruments\n",
    "Just as derivatives allow agents to transform the risks of underlying positions, analysts can also use them to compare instruments from different markets.\n",
    "\n",
    "For example, interest rate swaps can convert a USD fixed rate bond yield into a floating rate equivalent. Similarly, cross-currency basis swaps convert EUR returns into USD returns. Analysts can compare the USD fixed rate bond (expressed in LIBOR terms) with an EUR fixed rate bond (also expressed in LIBOR terms).\n",
    "\n",
    "Market prices can also be assessed relative to the \"fair value\" cost of a replication strategy. If the risks and returns are identical, and agents can buy and sell instruments freely, then the principle of \"no arbitrage\" suggests that the market price of an instrument should equal that of the strategy.\n",
    "\n",
    "Let's look at an example of this.\n",
    "\n",
    "## Arbitrage & Replication Strategies\n",
    "Consider a USD 100 million five-year USD corporate FRN trading at par with a coupon of 3-month LIBOR + 1.50%. An investor could replicate this bond by:\n",
    " \n",
    "Placing USD 100 million in a LIBOR deposit, reinvesting every three months for five years\n",
    "Selling protection on the underlying name through a five-year 100 million CDS with quarterly payments\n",
    "\n",
    "If the CDS pays more than 1.50%, then replication generates more income than the FRN. Should the investor already hold the FRN, the investor sells it and pursues the replication strategy instead. If the CDS pays less, then the investor buys protection, borrows funds through the deposit, and then buys the FRN. This strategy should earn a \"riskless\" income equal to the difference between the FRN margin over LIBOR and the CDS rate. A similar argument should apply to asset-swapped fixed-rate bonds, or to corporate loans.\n"
   ]
  },
  {
   "cell_type": "markdown",
   "metadata": {},
   "source": [
    "# Limitations of Arbitrage\n",
    "No market allows perfect replication – deviations from the theoretical \"fair\" values will be affected by the following factors\n",
    "\n",
    "# Trading Limitations\n",
    "Arbitrage strategies are subject to trading limitations. In the example above, agents can borrow or lend funds at LIBOR. This is a common, but unrealistic, assumption (particularly following the financial crisis). Furthermore, transactional costs (such as bid/offer spreads) can quickly eliminate potential opportunities.\n",
    "\n",
    "Many arbitrage strategies assume that transactions can be executed in any size and in any direction. However, this may not be possible (there may be regulatory restrictions on 'shorting' securities) and liquidity will vary between instrument types and transaction volumes.\n",
    "\n",
    "# Basis Risk\n",
    "Broadly speaking, some form of basis risk exists whenever an agent seeks to reproduce the same risk using different instruments. For instance, in the example above, the default conditions for the CDS will not perfectly reflect those of the FRN. In order to cope with basis risk, existing derivatives are refined and new products emerge - but it will never disappear.\n",
    "\n",
    "### Swaps as Benchmark Rates\n",
    "Historically, government bond yields have represented \"riskless\" interest rate benchmarks. Mainstream swap rates were consistently higher than government yields of the same maturity, meaning that swap spreads were positive.\n",
    "\n",
    "However, in some markets, a small number of spreads have recently turned negative. One explanation is that, as securities, government bonds are affected by liquidity and funding constraints. The desirability of holding bonds is also affected by capital charges. By contrast, IRS are off-balance sheet instruments, with no \"issue sizes\" or funding requirements.\n",
    "\n",
    "In addition, there has been a shift toward central clearing for all interest rate derivatives. Most IRS transactions are now cleared, with counterparties posting collateral to a regulatory approved central clearing counterparty, thereby drastically reducing counterparty credit risk.\n",
    "\n",
    "If government yields are distorted by technical factors, and swap rates have negligible credit risk, it is unsurprising that swap rates (particularly in the US) are increasingly viewed as \"true\" benchmark rates."
   ]
  },
  {
   "cell_type": "markdown",
   "metadata": {},
   "source": [
    "# Putting It All Together: Valuations\n",
    "The different interest rate derivatives (FRAs, STIR futures, and IRS) are used as inputs in constructing benchmark swap par, spot (zero), and forward curves. Instead of focusing on the \"G-spread\" (the yield of a bond relative to the government yield curve), investors increasingly compare bond yields with swap yields. This gives rise to spreads such as:\n",
    "\n",
    "###  I-Spread\n",
    "The \"I-spread\" (interpolated spread) is simply the yield difference between the yield to maturity (YTM) and the swap rate for that maturity.\n",
    "\n",
    "### Z-Spread\n",
    "The Z-spread is the amount by which the discount rate would need to exceed the return of risk-free bonds in order for the present value to equal the market price.\n",
    "\n",
    "The Z-spread begins by calculating a bond PV by discounting each cash flow by the appropriate zero rate. This PV is unlikely to equal the actual bond price; the Z-spread is the yield spread that must be added (or subtracted) to each discount rate such that the resultant PV equals the market bond price.\n",
    "\n",
    "### Asset Swap Spread (ASW)\n",
    "In a standard asset swap, an investor pays fixed rate coupon cash flows over the life of the bond, plus/minus the discount/premium. In return, the investor receives the variable rate index plus/minus an annuity. This annuity is the asset swap spread. ASW and Z-spread values can only be calculated by discounting cash flows at the appropriate zero rates for each maturity – I-spreads are simple comparisons between YTMs and par rates."
   ]
  },
  {
   "cell_type": "markdown",
   "metadata": {},
   "source": [
    "# Options & Sensitivities\n",
    "Simple Z-spread calculations are inappropriate for bonds with embedded options since these securities have contingent cash flows dependent on future levels of interest rates. Instead, bonds are valued using option adjusted spreads (OAS).\n",
    "\n",
    "OAS calculations are similar to those for the Z-spread, but instead of discounting known cash flows, OAS models estimate contingent cash flows based on an estimated distribution of future interest rates. Generating this distribution requires both an interest rate option model and estimates of rate volatility.\n",
    "\n",
    "As volatility increases so too does the value of an embedded option. Where the investor has sold the option (as with a callable bond) the OAS will fall (the opposite will be true for a putable bond).\n",
    "\n",
    "OAS model inputs are based on current interest rate and swaption levels. However, before you can price an option, you need to generate some future price distribution, usually based on current levels and estimated volatility. This calculation is far more difficult for interest rates than it is for physical assets.\n",
    "\n",
    "Whereas physical asset prices can never fall below zero, interest rates can become negative. Further, it is difficult to reconcile the potential forward distribution of short rates (required for pricing caps and floors) with that of long rates (required for swaptions). Option traders will differ as to how they calibrate their models to existing market prices. There is consequently no single \"market-wide\" OAS calculation.\n",
    " \n",
    "### Sensitivities\n",
    "Finally, agents can use derivative inputs to estimate differing product sensitivities:\n",
    "\n",
    "Duration and convexity measurements quantify an instrument's sensitivity to overall changes in interest rates. However, they cannot measure shifts in value due to changes in the shape of the yield curve. By contrast, valuing an asset using a zero curve allows agents to vary the degree to which they adjust rates for different maturities.\n",
    "\n",
    "The term structures for CDS and IRS can be combined to generate a schedule of \"risky\" discount rates. These rates generate a present value for \"risky\" cash flows. Credit sensitivities can be estimated by measuring how changes in CDS levels affect an asset's PV."
   ]
  },
  {
   "cell_type": "code",
   "execution_count": null,
   "metadata": {},
   "outputs": [],
   "source": []
  }
 ],
 "metadata": {
  "kernelspec": {
   "display_name": "Python 3",
   "language": "python",
   "name": "python3"
  },
  "language_info": {
   "codemirror_mode": {
    "name": "ipython",
    "version": 3
   },
   "file_extension": ".py",
   "mimetype": "text/x-python",
   "name": "python",
   "nbconvert_exporter": "python",
   "pygments_lexer": "ipython3",
   "version": "3.8.5"
  }
 },
 "nbformat": 4,
 "nbformat_minor": 4
}
