{
 "cells": [
  {
   "cell_type": "markdown",
   "metadata": {},
   "source": [
    "# Partition counts\n",
    "\n",
    "Today's challenge comes from a recent Mathologer video.\n",
    "\n",
    "## Background\n",
    "There are 7 ways to partition the number 5 into the sum of positive integers:\n",
    "\n",
    "5 = 1 + 4 = 1 + 1 + 3 = 2 + 3 = 1 + 2 + 2 = 1 + 1 + 1 + 2 = 1 + 1 + 1 + 1 + 1\n",
    "Let's express this as p(5) = 7. If you write down the number of ways to partition each number starting at 0 you get:\n",
    "\n",
    "p(n) = 1, 1, 2, 3, 5, 7, 11, 15, 22, 30, 42, 56, ...\n",
    "By convention, p(0) = 1.\n",
    "\n",
    "## Challenge\n",
    "Compute p(666). You must run your program all the way through to completion to meet the challenge. To check your answer, p(666) is a 26-digit number and the sum of the digits is 127. Also, p(66) = 2323520.\n",
    "\n",
    "You can do this using the definition of p(n) above, although you'll need to be more clever than listing all possible partitions of 666 and counting them. Alternatively, you can use the formula for p(n) given in the next section.\n",
    "\n",
    "If your programming language does not handle big integers easily, you can instead compute the last 6 digits of p(666).\n",
    "\n",
    "## Sequence formula\n",
    "If you wish to see this section in video form, it's covered in the Mathologer video starting at 9:35.\n",
    "\n",
    "The formula for p(n) can be recursively defined in terms of smaller values in the sequence. For example,\n",
    "\n",
    "p(6) = p(6-1) + p(6-2) - p(6-5)\n",
    "    = p(5) + p(4) - p(1)\n",
    "    = 7 + 5 - 1\n",
    "    = 11\n",
    "In general:\n",
    "\n",
    "p(n) =\n",
    "    p(n-1) +\n",
    "    p(n-2) -\n",
    "    p(n-5) -\n",
    "    p(n-7) +\n",
    "    p(n-12) +\n",
    "    p(n-15) -\n",
    "    p(n-22) -\n",
    "    p(n-26) + ...\n",
    "While the sequence is infinite, p(n) = 0 when n < 0, so you stop when the argument becomes negative. The first two terms of this sequence (p(n-1) and p(n-2)) are positive, followed by two negative terms (-p(n-5) and -p(n-7)), and then it repeats back and forth: two positive, two negative, etc.\n",
    "\n",
    "The numbers that get subtracted from the argument form a second sequence:\n",
    "\n",
    "1, 2, 5, 7, 12, 15, 22, 26, 35, 40, 51, 57, 70, ...\n",
    "This second sequence starts at 1, and the difference between consecutive values in the sequence (2-1, 5-2, 7-5, 12-7, ...) is a third sequence:\n",
    "\n",
    "1, 3, 2, 5, 3, 7, 4, 9, 5, 11, 6, 13, 7, ...\n",
    "This third sequence alternates between the sequence 1, 2, 3, 4, 5, 6, ... and the sequence 3, 5, 7, 9, 11, 13, .... It's easier to see if you write it like this:\n",
    "\n",
    "1,    2,    3,    4,    5,     6,     7,\n",
    "   3,    5,    7,    9,    11,    13,    ...\n",
    "Okay? So using this third sequence, you can generate the second sequence above, which lets you implement the formula for p(n) in terms of smaller p values.\n",
    "\n",
    "## Optional Bonus\n",
    "How fast can you find the sum of the digits of p(666666)."
   ]
  },
  {
   "cell_type": "code",
   "execution_count": 27,
   "metadata": {},
   "outputs": [
    {
     "name": "stdout",
     "output_type": "stream",
     "text": [
      "4.0 3.0\n",
      "0.0 -2.0\n"
     ]
    }
   ],
   "source": [
    "import math\n",
    "\n",
    "res = {}\n",
    "\n",
    "def pentagolan_number(k_max):\n",
    "    pentagonal_numbers = []\n",
    "    for k in range(0, k_max)[1:]:\n",
    "        pentagonal_numbers.append((k*(3*k-1)/2, k*(3*k+1)/2))\n",
    "    return pentagonal_numbers\n",
    "r = pentagolan_number(66)\n",
    "\n",
    "print(5-r[0][0], 5-r[0][1])\n",
    "print(5-r[1][0], 5-r[1][1])\n"
   ]
  }
 ],
 "metadata": {
  "kernelspec": {
   "display_name": "Python 3",
   "language": "python",
   "name": "python3"
  },
  "language_info": {
   "codemirror_mode": {
    "name": "ipython",
    "version": 3
   },
   "file_extension": ".py",
   "mimetype": "text/x-python",
   "name": "python",
   "nbconvert_exporter": "python",
   "pygments_lexer": "ipython3",
   "version": "3.7.7"
  }
 },
 "nbformat": 4,
 "nbformat_minor": 4
}
