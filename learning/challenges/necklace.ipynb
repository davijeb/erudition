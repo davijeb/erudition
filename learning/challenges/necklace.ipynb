{
 "cells": [
  {
   "cell_type": "markdown",
   "metadata": {},
   "source": [
    "# Challenge\n",
    "Imagine a necklace with lettered beads that can slide along the string. Here's an example image. In this example, you could take the N off NICOLE and slide it around to the other end to make ICOLEN. Do it again to get COLENI, and so on. For the purpose of today's challenge, we'll say that the strings \"nicole\", \"icolen\", and \"coleni\" describe the same necklace.\n",
    "\n",
    "Generally, two strings describe the same necklace if you can remove some number of letters from the beginning of one, attach them to the end in their original ordering, and get the other string. Reordering the letters in some other way does not, in general, produce a string that describes the same necklace.\n",
    "\n",
    "Write a function that returns whether two strings describe the same necklace.\n",
    "\n",
    "### Examples\n",
    "-  same_necklace(\"nicole\", \"icolen\") => true\n",
    "-  same_necklace(\"nicole\", \"lenico\") => true\n",
    "-  same_necklace(\"nicole\", \"coneli\") => false\n",
    "-  same_necklace(\"aabaaaaabaab\", \"aabaabaabaaa\") => true\n",
    "-  same_necklace(\"abc\", \"cba\") => false\n",
    "-  same_necklace(\"xxyyy\", \"xxxyy\") => false\n",
    "-  same_necklace(\"xyxxz\", \"xxyxz\") => false\n",
    "-  same_necklace(\"x\", \"x\") => true\n",
    "-  same_necklace(\"x\", \"xx\") => false\n",
    "-  same_necklace(\"x\", \"\") => false\n",
    "-  same_necklace(\"\", \"\") => true\n",
    "\n",
    "### Optional Bonus 1\n",
    "If you have a string of N letters and you move each letter one at a time from the start to the end, you'll eventually get back to the string you started with, after N steps. Sometimes, you'll see the same string you started with before N steps. For instance, if you start with \"abcabcabc\", you'll see the same string (\"abcabcabc\") 3 times over the course of moving a letter 9 times.\n",
    "\n",
    "Write a function that returns the number of times you encounter the same starting string if you move each letter in the string from the start to the end, one at a time.\n",
    "\n",
    "-  repeats(\"abc\") => 1\n",
    "-  repeats(\"abcabcabc\") => 3\n",
    "-  repeats(\"abcabcabcx\") => 1\n",
    "-  repeats(\"aaaaaa\") => 6\n",
    "-  repeats(\"a\") => 1\n",
    "-  repeats(\"\") => 1"
   ]
  },
  {
   "cell_type": "code",
   "execution_count": 113,
   "metadata": {},
   "outputs": [],
   "source": [
    "def same_necklace(n1, n2):\n",
    "    for i in range(0, len(n2)):\n",
    "        swap = n2[-1] + n2[:-1]\n",
    "        if n1 == swap:\n",
    "            return True\n",
    "        n2 = swap\n",
    "    if n1 == n2:\n",
    "        return True\n",
    "    return False\n",
    "\n",
    "def repeats(s):\n",
    "    if not s:\n",
    "        return 1\n",
    "    orig = s\n",
    "    repeats = 0\n",
    "    for i in range(0, len(s)):\n",
    "        swap = s[-1] + s[:-1]\n",
    "        if orig == swap:\n",
    "            repeats+=1\n",
    "        s= swap\n",
    "    return repeats"
   ]
  }
 ],
 "metadata": {
  "kernelspec": {
   "display_name": "Python 3",
   "language": "python",
   "name": "python3"
  },
  "language_info": {
   "codemirror_mode": {
    "name": "ipython",
    "version": 3
   },
   "file_extension": ".py",
   "mimetype": "text/x-python",
   "name": "python",
   "nbconvert_exporter": "python",
   "pygments_lexer": "ipython3",
   "version": "3.7.7"
  }
 },
 "nbformat": 4,
 "nbformat_minor": 4
}
