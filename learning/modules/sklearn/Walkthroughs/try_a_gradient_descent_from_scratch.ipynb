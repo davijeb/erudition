{
 "cells": [
  {
   "cell_type": "code",
   "execution_count": 109,
   "metadata": {},
   "outputs": [],
   "source": [
    "import numpy as np\n",
    "\n",
    "import os, sys, plotly.graph_objects as go\n",
    "import plotly.figure_factory as ff\n",
    "module_path = os.path.abspath(os.path.join('../../../../..'))\n",
    "if module_path not in sys.path:\n",
    "    sys.path.append(module_path) \n",
    "\n",
    "from sklearn.naive_bayes import GaussianNB\n",
    "from sklearn import datasets \n",
    "\n",
    "from erudition.learning.helpers.plots.plotly_render import render, scatter"
   ]
  },
  {
   "cell_type": "code",
   "execution_count": 172,
   "metadata": {},
   "outputs": [
    {
     "data": {
      "application/vnd.plotly.v1+json": {
       "config": {
        "plotlyServerURL": "https://plot.ly"
       },
       "data": [
        {
         "marker": {
          "color": "yellow",
          "size": 3
         },
         "mode": "markers",
         "name": "Data",
         "opacity": 0.5,
         "type": "scatter",
         "x": [
          0.2748788529997622,
          0.34805354443553826,
          0.7207009952890803,
          -0.6312131663914817,
          0.3671242987784487,
          2.6595312074212734,
          -1.6637076087974554,
          -1.187427244427341,
          1.6382976639807547,
          -0.4962691905304663,
          1.07577153144842,
          1.3978780443163266,
          -0.2316773639077261,
          0.7760060168477281,
          -1.0496630438794503,
          -0.5848956478089978,
          -0.4772191476831492,
          0.08423643981868563,
          0.6566412928449701,
          -0.5760216027315207,
          -0.6370741970077578,
          -0.3550262390167028,
          -0.8758708767498131,
          0.794961811648499,
          0.6734332881500904,
          0.7124544265515635,
          -0.7400699246727244,
          -1.511323900466685,
          -0.703553645093557,
          0.7226598942287964,
          2.442043627325817,
          -0.2627468632883025,
          0.5226008375233862,
          0.1871528089263292,
          -0.11453908363990965,
          0.746601849504325,
          -0.2937693818782532,
          0.4131299144728634,
          0.9820766006323185,
          0.770050733627795,
          -0.7056376605937944,
          -0.15093233134404022,
          -1.1818680505184926,
          0.8878561637866823,
          0.6884366084035003,
          -0.8604030271848754,
          1.4872654458588972,
          -0.7568313013548122,
          1.3569161852994578,
          -1.6935138197114534,
          1.2938185789278942,
          2.7716357358591757,
          0.3156692843386267,
          1.0163299186894141,
          -0.1331924950116329,
          0.2801965187478838,
          -0.37591981706471894,
          0.02246549114083494,
          -0.08228730715576676,
          -2.286811270564066,
          -0.7813045461006399,
          -0.07602971586404458,
          -1.2039239692190424,
          -0.4937929908697359,
          0.1803057185723553,
          -1.4603812745803453,
          0.2423975230245442,
          0.6678614112295226,
          -0.9486739165959714,
          1.259427473828063,
          -0.9940011364641517,
          -0.04641023864860329,
          -0.9964346162472184,
          -0.7730002641671624,
          0.0820186248471703,
          -1.2383840792119392,
          1.2406545255710257,
          0.1420094350423998,
          -0.6707742435518669,
          1.4568807543215958,
          -0.010013999936286802,
          0.06821070541598019,
          0.32888942494256124,
          0.0648747847812852,
          0.308633199270828,
          0.48744238389516675,
          -0.6133838131528297,
          -0.8680984659741708,
          0.03175867313734016,
          0.3882173519869826,
          0.5219131108452172,
          1.1646618887201499,
          -1.4701511912362335,
          -0.10326141016976968,
          -0.5343021523585917,
          -0.8635006894696675,
          0.5825997437774028,
          1.5498255581282365,
          1.6407437017170512,
          -0.07390306966861299
         ],
         "y": [
          5.475241453735084,
          52.45341967521624,
          36.2997230981444,
          -62.74284225850026,
          27.615768380556577,
          206.78505054897406,
          -172.27025142333565,
          -71.46429914120398,
          120.30476743585074,
          -27.912388343585576,
          138.13878803194515,
          151.4915583465167,
          -50.846931496238355,
          73.40897267015397,
          -23.8566060291569,
          -49.27236168154955,
          -59.2768274334649,
          34.972977787505585,
          95.47826455466156,
          -34.80378217387524,
          -46.85729625441681,
          -23.818760487190104,
          -61.10260484534083,
          47.40987806896398,
          63.32739297876519,
          34.369563759034165,
          -88.23452886131713,
          -129.23384102663425,
          -77.6243950835669,
          74.31956770686634,
          202.58028884477272,
          4.708252453194227,
          38.935168682832426,
          15.382454777992852,
          -37.86055060839438,
          65.35348601516729,
          -37.1017115714742,
          17.38113450229682,
          114.56051353133546,
          98.47412186852745,
          -70.76748654863987,
          12.322620519524756,
          -95.24661869656728,
          42.91595972177023,
          63.01728385341623,
          -80.84689808679461,
          121.36932696363743,
          -84.78194248685051,
          104.95300724904632,
          -204.3495549503009,
          103.64909185699244,
          247.92188258231587,
          17.17214080862908,
          103.11884541584698,
          -41.93030679354405,
          -39.67112475698636,
          -42.075027038787184,
          -16.113354578235615,
          1.3794286281786068,
          -186.7369513162426,
          -53.874153260291095,
          52.75841144610063,
          -64.30688303176115,
          -37.946564024771604,
          25.25532845648253,
          -138.37123685179952,
          39.03029481637421,
          21.362898754300076,
          -91.70042040814477,
          115.53760574236054,
          -79.23934231322005,
          -4.646869234540683,
          -82.92466921643684,
          -17.49296934801758,
          2.2032046202878215,
          -116.43131499694951,
          125.66317341776283,
          44.31142473289725,
          -81.14670401740037,
          106.88501007099016,
          -19.137202136480628,
          48.96256350022992,
          86.44336616589091,
          20.653986101083674,
          10.852192969355634,
          71.53858735114247,
          -71.96690710873659,
          -98.99415178492738,
          -46.06206965804657,
          64.18279943394529,
          65.42275819029237,
          102.87731603369856,
          -92.58211390057909,
          33.23696264039598,
          -34.53071624390058,
          -47.36554113964955,
          30.923094510124223,
          99.23660105777012,
          148.1278625689365,
          8.813898633642983
         ]
        }
       ],
       "layout": {
        "height": 500,
        "legend": {
         "font": {
          "color": "#ffffff"
         }
        },
        "paper_bgcolor": "#22252B",
        "plot_bgcolor": "#292C34",
        "showlegend": true,
        "template": {
         "data": {
          "bar": [
           {
            "error_x": {
             "color": "#2a3f5f"
            },
            "error_y": {
             "color": "#2a3f5f"
            },
            "marker": {
             "line": {
              "color": "#E5ECF6",
              "width": 0.5
             }
            },
            "type": "bar"
           }
          ],
          "barpolar": [
           {
            "marker": {
             "line": {
              "color": "#E5ECF6",
              "width": 0.5
             }
            },
            "type": "barpolar"
           }
          ],
          "carpet": [
           {
            "aaxis": {
             "endlinecolor": "#2a3f5f",
             "gridcolor": "white",
             "linecolor": "white",
             "minorgridcolor": "white",
             "startlinecolor": "#2a3f5f"
            },
            "baxis": {
             "endlinecolor": "#2a3f5f",
             "gridcolor": "white",
             "linecolor": "white",
             "minorgridcolor": "white",
             "startlinecolor": "#2a3f5f"
            },
            "type": "carpet"
           }
          ],
          "choropleth": [
           {
            "colorbar": {
             "outlinewidth": 0,
             "ticks": ""
            },
            "type": "choropleth"
           }
          ],
          "contour": [
           {
            "colorbar": {
             "outlinewidth": 0,
             "ticks": ""
            },
            "colorscale": [
             [
              0,
              "#0d0887"
             ],
             [
              0.1111111111111111,
              "#46039f"
             ],
             [
              0.2222222222222222,
              "#7201a8"
             ],
             [
              0.3333333333333333,
              "#9c179e"
             ],
             [
              0.4444444444444444,
              "#bd3786"
             ],
             [
              0.5555555555555556,
              "#d8576b"
             ],
             [
              0.6666666666666666,
              "#ed7953"
             ],
             [
              0.7777777777777778,
              "#fb9f3a"
             ],
             [
              0.8888888888888888,
              "#fdca26"
             ],
             [
              1,
              "#f0f921"
             ]
            ],
            "type": "contour"
           }
          ],
          "contourcarpet": [
           {
            "colorbar": {
             "outlinewidth": 0,
             "ticks": ""
            },
            "type": "contourcarpet"
           }
          ],
          "heatmap": [
           {
            "colorbar": {
             "outlinewidth": 0,
             "ticks": ""
            },
            "colorscale": [
             [
              0,
              "#0d0887"
             ],
             [
              0.1111111111111111,
              "#46039f"
             ],
             [
              0.2222222222222222,
              "#7201a8"
             ],
             [
              0.3333333333333333,
              "#9c179e"
             ],
             [
              0.4444444444444444,
              "#bd3786"
             ],
             [
              0.5555555555555556,
              "#d8576b"
             ],
             [
              0.6666666666666666,
              "#ed7953"
             ],
             [
              0.7777777777777778,
              "#fb9f3a"
             ],
             [
              0.8888888888888888,
              "#fdca26"
             ],
             [
              1,
              "#f0f921"
             ]
            ],
            "type": "heatmap"
           }
          ],
          "heatmapgl": [
           {
            "colorbar": {
             "outlinewidth": 0,
             "ticks": ""
            },
            "colorscale": [
             [
              0,
              "#0d0887"
             ],
             [
              0.1111111111111111,
              "#46039f"
             ],
             [
              0.2222222222222222,
              "#7201a8"
             ],
             [
              0.3333333333333333,
              "#9c179e"
             ],
             [
              0.4444444444444444,
              "#bd3786"
             ],
             [
              0.5555555555555556,
              "#d8576b"
             ],
             [
              0.6666666666666666,
              "#ed7953"
             ],
             [
              0.7777777777777778,
              "#fb9f3a"
             ],
             [
              0.8888888888888888,
              "#fdca26"
             ],
             [
              1,
              "#f0f921"
             ]
            ],
            "type": "heatmapgl"
           }
          ],
          "histogram": [
           {
            "marker": {
             "colorbar": {
              "outlinewidth": 0,
              "ticks": ""
             }
            },
            "type": "histogram"
           }
          ],
          "histogram2d": [
           {
            "colorbar": {
             "outlinewidth": 0,
             "ticks": ""
            },
            "colorscale": [
             [
              0,
              "#0d0887"
             ],
             [
              0.1111111111111111,
              "#46039f"
             ],
             [
              0.2222222222222222,
              "#7201a8"
             ],
             [
              0.3333333333333333,
              "#9c179e"
             ],
             [
              0.4444444444444444,
              "#bd3786"
             ],
             [
              0.5555555555555556,
              "#d8576b"
             ],
             [
              0.6666666666666666,
              "#ed7953"
             ],
             [
              0.7777777777777778,
              "#fb9f3a"
             ],
             [
              0.8888888888888888,
              "#fdca26"
             ],
             [
              1,
              "#f0f921"
             ]
            ],
            "type": "histogram2d"
           }
          ],
          "histogram2dcontour": [
           {
            "colorbar": {
             "outlinewidth": 0,
             "ticks": ""
            },
            "colorscale": [
             [
              0,
              "#0d0887"
             ],
             [
              0.1111111111111111,
              "#46039f"
             ],
             [
              0.2222222222222222,
              "#7201a8"
             ],
             [
              0.3333333333333333,
              "#9c179e"
             ],
             [
              0.4444444444444444,
              "#bd3786"
             ],
             [
              0.5555555555555556,
              "#d8576b"
             ],
             [
              0.6666666666666666,
              "#ed7953"
             ],
             [
              0.7777777777777778,
              "#fb9f3a"
             ],
             [
              0.8888888888888888,
              "#fdca26"
             ],
             [
              1,
              "#f0f921"
             ]
            ],
            "type": "histogram2dcontour"
           }
          ],
          "mesh3d": [
           {
            "colorbar": {
             "outlinewidth": 0,
             "ticks": ""
            },
            "type": "mesh3d"
           }
          ],
          "parcoords": [
           {
            "line": {
             "colorbar": {
              "outlinewidth": 0,
              "ticks": ""
             }
            },
            "type": "parcoords"
           }
          ],
          "scatter": [
           {
            "marker": {
             "colorbar": {
              "outlinewidth": 0,
              "ticks": ""
             }
            },
            "type": "scatter"
           }
          ],
          "scatter3d": [
           {
            "line": {
             "colorbar": {
              "outlinewidth": 0,
              "ticks": ""
             }
            },
            "marker": {
             "colorbar": {
              "outlinewidth": 0,
              "ticks": ""
             }
            },
            "type": "scatter3d"
           }
          ],
          "scattercarpet": [
           {
            "marker": {
             "colorbar": {
              "outlinewidth": 0,
              "ticks": ""
             }
            },
            "type": "scattercarpet"
           }
          ],
          "scattergeo": [
           {
            "marker": {
             "colorbar": {
              "outlinewidth": 0,
              "ticks": ""
             }
            },
            "type": "scattergeo"
           }
          ],
          "scattergl": [
           {
            "marker": {
             "colorbar": {
              "outlinewidth": 0,
              "ticks": ""
             }
            },
            "type": "scattergl"
           }
          ],
          "scattermapbox": [
           {
            "marker": {
             "colorbar": {
              "outlinewidth": 0,
              "ticks": ""
             }
            },
            "type": "scattermapbox"
           }
          ],
          "scatterpolar": [
           {
            "marker": {
             "colorbar": {
              "outlinewidth": 0,
              "ticks": ""
             }
            },
            "type": "scatterpolar"
           }
          ],
          "scatterpolargl": [
           {
            "marker": {
             "colorbar": {
              "outlinewidth": 0,
              "ticks": ""
             }
            },
            "type": "scatterpolargl"
           }
          ],
          "scatterternary": [
           {
            "marker": {
             "colorbar": {
              "outlinewidth": 0,
              "ticks": ""
             }
            },
            "type": "scatterternary"
           }
          ],
          "surface": [
           {
            "colorbar": {
             "outlinewidth": 0,
             "ticks": ""
            },
            "colorscale": [
             [
              0,
              "#0d0887"
             ],
             [
              0.1111111111111111,
              "#46039f"
             ],
             [
              0.2222222222222222,
              "#7201a8"
             ],
             [
              0.3333333333333333,
              "#9c179e"
             ],
             [
              0.4444444444444444,
              "#bd3786"
             ],
             [
              0.5555555555555556,
              "#d8576b"
             ],
             [
              0.6666666666666666,
              "#ed7953"
             ],
             [
              0.7777777777777778,
              "#fb9f3a"
             ],
             [
              0.8888888888888888,
              "#fdca26"
             ],
             [
              1,
              "#f0f921"
             ]
            ],
            "type": "surface"
           }
          ],
          "table": [
           {
            "cells": {
             "fill": {
              "color": "#EBF0F8"
             },
             "line": {
              "color": "white"
             }
            },
            "header": {
             "fill": {
              "color": "#C8D4E3"
             },
             "line": {
              "color": "white"
             }
            },
            "type": "table"
           }
          ]
         },
         "layout": {
          "annotationdefaults": {
           "arrowcolor": "#2a3f5f",
           "arrowhead": 0,
           "arrowwidth": 1
          },
          "colorscale": {
           "diverging": [
            [
             0,
             "#8e0152"
            ],
            [
             0.1,
             "#c51b7d"
            ],
            [
             0.2,
             "#de77ae"
            ],
            [
             0.3,
             "#f1b6da"
            ],
            [
             0.4,
             "#fde0ef"
            ],
            [
             0.5,
             "#f7f7f7"
            ],
            [
             0.6,
             "#e6f5d0"
            ],
            [
             0.7,
             "#b8e186"
            ],
            [
             0.8,
             "#7fbc41"
            ],
            [
             0.9,
             "#4d9221"
            ],
            [
             1,
             "#276419"
            ]
           ],
           "sequential": [
            [
             0,
             "#0d0887"
            ],
            [
             0.1111111111111111,
             "#46039f"
            ],
            [
             0.2222222222222222,
             "#7201a8"
            ],
            [
             0.3333333333333333,
             "#9c179e"
            ],
            [
             0.4444444444444444,
             "#bd3786"
            ],
            [
             0.5555555555555556,
             "#d8576b"
            ],
            [
             0.6666666666666666,
             "#ed7953"
            ],
            [
             0.7777777777777778,
             "#fb9f3a"
            ],
            [
             0.8888888888888888,
             "#fdca26"
            ],
            [
             1,
             "#f0f921"
            ]
           ],
           "sequentialminus": [
            [
             0,
             "#0d0887"
            ],
            [
             0.1111111111111111,
             "#46039f"
            ],
            [
             0.2222222222222222,
             "#7201a8"
            ],
            [
             0.3333333333333333,
             "#9c179e"
            ],
            [
             0.4444444444444444,
             "#bd3786"
            ],
            [
             0.5555555555555556,
             "#d8576b"
            ],
            [
             0.6666666666666666,
             "#ed7953"
            ],
            [
             0.7777777777777778,
             "#fb9f3a"
            ],
            [
             0.8888888888888888,
             "#fdca26"
            ],
            [
             1,
             "#f0f921"
            ]
           ]
          },
          "colorway": [
           "#636efa",
           "#EF553B",
           "#00cc96",
           "#ab63fa",
           "#FFA15A",
           "#19d3f3",
           "#FF6692",
           "#B6E880",
           "#FF97FF",
           "#FECB52"
          ],
          "font": {
           "color": "#2a3f5f"
          },
          "geo": {
           "bgcolor": "white",
           "lakecolor": "white",
           "landcolor": "#E5ECF6",
           "showlakes": true,
           "showland": true,
           "subunitcolor": "white"
          },
          "hoverlabel": {
           "align": "left"
          },
          "hovermode": "closest",
          "mapbox": {
           "style": "light"
          },
          "paper_bgcolor": "white",
          "plot_bgcolor": "#E5ECF6",
          "polar": {
           "angularaxis": {
            "gridcolor": "white",
            "linecolor": "white",
            "ticks": ""
           },
           "bgcolor": "#E5ECF6",
           "radialaxis": {
            "gridcolor": "white",
            "linecolor": "white",
            "ticks": ""
           }
          },
          "scene": {
           "xaxis": {
            "backgroundcolor": "#E5ECF6",
            "gridcolor": "white",
            "gridwidth": 2,
            "linecolor": "white",
            "showbackground": true,
            "ticks": "",
            "zerolinecolor": "white"
           },
           "yaxis": {
            "backgroundcolor": "#E5ECF6",
            "gridcolor": "white",
            "gridwidth": 2,
            "linecolor": "white",
            "showbackground": true,
            "ticks": "",
            "zerolinecolor": "white"
           },
           "zaxis": {
            "backgroundcolor": "#E5ECF6",
            "gridcolor": "white",
            "gridwidth": 2,
            "linecolor": "white",
            "showbackground": true,
            "ticks": "",
            "zerolinecolor": "white"
           }
          },
          "shapedefaults": {
           "line": {
            "color": "#2a3f5f"
           }
          },
          "ternary": {
           "aaxis": {
            "gridcolor": "white",
            "linecolor": "white",
            "ticks": ""
           },
           "baxis": {
            "gridcolor": "white",
            "linecolor": "white",
            "ticks": ""
           },
           "bgcolor": "#E5ECF6",
           "caxis": {
            "gridcolor": "white",
            "linecolor": "white",
            "ticks": ""
           }
          },
          "title": {
           "x": 0.05
          },
          "xaxis": {
           "automargin": true,
           "gridcolor": "white",
           "linecolor": "white",
           "ticks": "",
           "zerolinecolor": "white",
           "zerolinewidth": 2
          },
          "yaxis": {
           "automargin": true,
           "gridcolor": "white",
           "linecolor": "white",
           "ticks": "",
           "zerolinecolor": "white",
           "zerolinewidth": 2
          }
         }
        },
        "title": {
         "font": {
          "color": "#9398A4"
         },
         "text": "Random scatter"
        },
        "width": 500,
        "xaxis": {
         "autorange": true,
         "gridcolor": "#3F434F",
         "range": [
          -2.6263220217756156,
          3.1111464870707253
         ],
         "tickfont": {
          "color": "#ffffff"
         },
         "title": {
          "font": {
           "color": "#ffffff"
          }
         },
         "type": "linear",
         "zeroline": false
        },
        "yaxis": {
         "autorange": true,
         "gridcolor": "#3F434F",
         "range": [
          -234.82174400391693,
          278.3940716359319
         ],
         "tickfont": {
          "color": "#ffffff"
         },
         "title": {
          "font": {
           "color": "#ffffff"
          }
         },
         "type": "linear",
         "zeroline": false
        }
       }
      },
      "image/png": "[encoded data removed]",
      "text/html": [
       "<div>\n",
       "        \n",
       "        \n",
       "            <div id=\"f6bd0e27-4a50-47b9-9f3a-fd6eea7d6f4e\" class=\"plotly-graph-div\" style=\"height:500px; width:500px;\"></div>\n",
       "            <script type=\"text/javascript\">\n",
       "                require([\"plotly\"], function(Plotly) {\n",
       "                    window.PLOTLYENV=window.PLOTLYENV || {};\n",
       "                    \n",
       "                if (document.getElementById(\"f6bd0e27-4a50-47b9-9f3a-fd6eea7d6f4e\")) {\n",
       "                    Plotly.newPlot(\n",
       "                        'f6bd0e27-4a50-47b9-9f3a-fd6eea7d6f4e',\n",
       "                        [{\"marker\": {\"color\": \"yellow\", \"size\": 3}, \"mode\": \"markers\", \"name\": \"Data\", \"opacity\": 0.5, \"type\": \"scatter\", \"x\": [0.2748788529997622, 0.34805354443553826, 0.7207009952890803, -0.6312131663914817, 0.3671242987784487, 2.6595312074212734, -1.6637076087974554, -1.187427244427341, 1.6382976639807547, -0.4962691905304663, 1.07577153144842, 1.3978780443163266, -0.2316773639077261, 0.7760060168477281, -1.0496630438794503, -0.5848956478089978, -0.4772191476831492, 0.08423643981868563, 0.6566412928449701, -0.5760216027315207, -0.6370741970077578, -0.3550262390167028, -0.8758708767498131, 0.794961811648499, 0.6734332881500904, 0.7124544265515635, -0.7400699246727244, -1.511323900466685, -0.703553645093557, 0.7226598942287964, 2.442043627325817, -0.2627468632883025, 0.5226008375233862, 0.1871528089263292, -0.11453908363990965, 0.746601849504325, -0.2937693818782532, 0.4131299144728634, 0.9820766006323185, 0.770050733627795, -0.7056376605937944, -0.15093233134404022, -1.1818680505184926, 0.8878561637866823, 0.6884366084035003, -0.8604030271848754, 1.4872654458588972, -0.7568313013548122, 1.3569161852994578, -1.6935138197114534, 1.2938185789278942, 2.7716357358591757, 0.3156692843386267, 1.0163299186894141, -0.1331924950116329, 0.2801965187478838, -0.37591981706471894, 0.02246549114083494, -0.08228730715576676, -2.286811270564066, -0.7813045461006399, -0.07602971586404458, -1.2039239692190424, -0.4937929908697359, 0.1803057185723553, -1.4603812745803453, 0.2423975230245442, 0.6678614112295226, -0.9486739165959714, 1.259427473828063, -0.9940011364641517, -0.04641023864860329, -0.9964346162472184, -0.7730002641671624, 0.0820186248471703, -1.2383840792119392, 1.2406545255710257, 0.1420094350423998, -0.6707742435518669, 1.4568807543215958, -0.010013999936286802, 0.06821070541598019, 0.32888942494256124, 0.0648747847812852, 0.308633199270828, 0.48744238389516675, -0.6133838131528297, -0.8680984659741708, 0.03175867313734016, 0.3882173519869826, 0.5219131108452172, 1.1646618887201499, -1.4701511912362335, -0.10326141016976968, -0.5343021523585917, -0.8635006894696675, 0.5825997437774028, 1.5498255581282365, 1.6407437017170512, -0.07390306966861299], \"y\": [5.475241453735084, 52.45341967521624, 36.2997230981444, -62.74284225850026, 27.615768380556577, 206.78505054897406, -172.27025142333565, -71.46429914120398, 120.30476743585074, -27.912388343585576, 138.13878803194515, 151.4915583465167, -50.846931496238355, 73.40897267015397, -23.8566060291569, -49.27236168154955, -59.2768274334649, 34.972977787505585, 95.47826455466156, -34.80378217387524, -46.85729625441681, -23.818760487190104, -61.10260484534083, 47.40987806896398, 63.32739297876519, 34.369563759034165, -88.23452886131713, -129.23384102663425, -77.6243950835669, 74.31956770686634, 202.58028884477272, 4.708252453194227, 38.935168682832426, 15.382454777992852, -37.86055060839438, 65.35348601516729, -37.1017115714742, 17.38113450229682, 114.56051353133546, 98.47412186852745, -70.76748654863987, 12.322620519524756, -95.24661869656728, 42.91595972177023, 63.01728385341623, -80.84689808679461, 121.36932696363743, -84.78194248685051, 104.95300724904632, -204.3495549503009, 103.64909185699244, 247.92188258231587, 17.17214080862908, 103.11884541584698, -41.93030679354405, -39.67112475698636, -42.075027038787184, -16.113354578235615, 1.3794286281786068, -186.7369513162426, -53.874153260291095, 52.75841144610063, -64.30688303176115, -37.946564024771604, 25.25532845648253, -138.37123685179952, 39.03029481637421, 21.362898754300076, -91.70042040814477, 115.53760574236054, -79.23934231322005, -4.646869234540683, -82.92466921643684, -17.49296934801758, 2.2032046202878215, -116.43131499694951, 125.66317341776283, 44.31142473289725, -81.14670401740037, 106.88501007099016, -19.137202136480628, 48.96256350022992, 86.44336616589091, 20.653986101083674, 10.852192969355634, 71.53858735114247, -71.96690710873659, -98.99415178492738, -46.06206965804657, 64.18279943394529, 65.42275819029237, 102.87731603369856, -92.58211390057909, 33.23696264039598, -34.53071624390058, -47.36554113964955, 30.923094510124223, 99.23660105777012, 148.1278625689365, 8.813898633642983]}],\n",
       "                        {\"height\": 500, \"legend\": {\"font\": {\"color\": \"#ffffff\"}}, \"paper_bgcolor\": \"#22252B\", \"plot_bgcolor\": \"#292C34\", \"showlegend\": true, \"template\": {\"data\": {\"bar\": [{\"error_x\": {\"color\": \"#2a3f5f\"}, \"error_y\": {\"color\": \"#2a3f5f\"}, \"marker\": {\"line\": {\"color\": \"#E5ECF6\", \"width\": 0.5}}, \"type\": \"bar\"}], \"barpolar\": [{\"marker\": {\"line\": {\"color\": \"#E5ECF6\", \"width\": 0.5}}, \"type\": \"barpolar\"}], \"carpet\": [{\"aaxis\": {\"endlinecolor\": \"#2a3f5f\", \"gridcolor\": \"white\", \"linecolor\": \"white\", \"minorgridcolor\": \"white\", \"startlinecolor\": \"#2a3f5f\"}, \"baxis\": {\"endlinecolor\": \"#2a3f5f\", \"gridcolor\": \"white\", \"linecolor\": \"white\", \"minorgridcolor\": \"white\", \"startlinecolor\": \"#2a3f5f\"}, \"type\": \"carpet\"}], \"choropleth\": [{\"colorbar\": {\"outlinewidth\": 0, \"ticks\": \"\"}, \"type\": \"choropleth\"}], \"contour\": [{\"colorbar\": {\"outlinewidth\": 0, \"ticks\": \"\"}, \"colorscale\": [[0.0, \"#0d0887\"], [0.1111111111111111, \"#46039f\"], [0.2222222222222222, \"#7201a8\"], [0.3333333333333333, \"#9c179e\"], [0.4444444444444444, \"#bd3786\"], [0.5555555555555556, \"#d8576b\"], [0.6666666666666666, \"#ed7953\"], [0.7777777777777778, \"#fb9f3a\"], [0.8888888888888888, \"#fdca26\"], [1.0, \"#f0f921\"]], \"type\": \"contour\"}], \"contourcarpet\": [{\"colorbar\": {\"outlinewidth\": 0, \"ticks\": \"\"}, \"type\": \"contourcarpet\"}], \"heatmap\": [{\"colorbar\": {\"outlinewidth\": 0, \"ticks\": \"\"}, \"colorscale\": [[0.0, \"#0d0887\"], [0.1111111111111111, \"#46039f\"], [0.2222222222222222, \"#7201a8\"], [0.3333333333333333, \"#9c179e\"], [0.4444444444444444, \"#bd3786\"], [0.5555555555555556, \"#d8576b\"], [0.6666666666666666, \"#ed7953\"], [0.7777777777777778, \"#fb9f3a\"], [0.8888888888888888, \"#fdca26\"], [1.0, \"#f0f921\"]], \"type\": \"heatmap\"}], \"heatmapgl\": [{\"colorbar\": {\"outlinewidth\": 0, \"ticks\": \"\"}, \"colorscale\": [[0.0, \"#0d0887\"], [0.1111111111111111, \"#46039f\"], [0.2222222222222222, \"#7201a8\"], [0.3333333333333333, \"#9c179e\"], [0.4444444444444444, \"#bd3786\"], [0.5555555555555556, \"#d8576b\"], [0.6666666666666666, \"#ed7953\"], [0.7777777777777778, \"#fb9f3a\"], [0.8888888888888888, \"#fdca26\"], [1.0, \"#f0f921\"]], \"type\": \"heatmapgl\"}], \"histogram\": [{\"marker\": {\"colorbar\": {\"outlinewidth\": 0, \"ticks\": \"\"}}, \"type\": \"histogram\"}], \"histogram2d\": [{\"colorbar\": {\"outlinewidth\": 0, \"ticks\": \"\"}, \"colorscale\": [[0.0, \"#0d0887\"], [0.1111111111111111, \"#46039f\"], [0.2222222222222222, \"#7201a8\"], [0.3333333333333333, \"#9c179e\"], [0.4444444444444444, \"#bd3786\"], [0.5555555555555556, \"#d8576b\"], [0.6666666666666666, \"#ed7953\"], [0.7777777777777778, \"#fb9f3a\"], [0.8888888888888888, \"#fdca26\"], [1.0, \"#f0f921\"]], \"type\": \"histogram2d\"}], \"histogram2dcontour\": [{\"colorbar\": {\"outlinewidth\": 0, \"ticks\": \"\"}, \"colorscale\": [[0.0, \"#0d0887\"], [0.1111111111111111, \"#46039f\"], [0.2222222222222222, \"#7201a8\"], [0.3333333333333333, \"#9c179e\"], [0.4444444444444444, \"#bd3786\"], [0.5555555555555556, \"#d8576b\"], [0.6666666666666666, \"#ed7953\"], [0.7777777777777778, \"#fb9f3a\"], [0.8888888888888888, \"#fdca26\"], [1.0, \"#f0f921\"]], \"type\": \"histogram2dcontour\"}], \"mesh3d\": [{\"colorbar\": {\"outlinewidth\": 0, \"ticks\": \"\"}, \"type\": \"mesh3d\"}], \"parcoords\": [{\"line\": {\"colorbar\": {\"outlinewidth\": 0, \"ticks\": \"\"}}, \"type\": \"parcoords\"}], \"scatter\": [{\"marker\": {\"colorbar\": {\"outlinewidth\": 0, \"ticks\": \"\"}}, \"type\": \"scatter\"}], \"scatter3d\": [{\"line\": {\"colorbar\": {\"outlinewidth\": 0, \"ticks\": \"\"}}, \"marker\": {\"colorbar\": {\"outlinewidth\": 0, \"ticks\": \"\"}}, \"type\": \"scatter3d\"}], \"scattercarpet\": [{\"marker\": {\"colorbar\": {\"outlinewidth\": 0, \"ticks\": \"\"}}, \"type\": \"scattercarpet\"}], \"scattergeo\": [{\"marker\": {\"colorbar\": {\"outlinewidth\": 0, \"ticks\": \"\"}}, \"type\": \"scattergeo\"}], \"scattergl\": [{\"marker\": {\"colorbar\": {\"outlinewidth\": 0, \"ticks\": \"\"}}, \"type\": \"scattergl\"}], \"scattermapbox\": [{\"marker\": {\"colorbar\": {\"outlinewidth\": 0, \"ticks\": \"\"}}, \"type\": \"scattermapbox\"}], \"scatterpolar\": [{\"marker\": {\"colorbar\": {\"outlinewidth\": 0, \"ticks\": \"\"}}, \"type\": \"scatterpolar\"}], \"scatterpolargl\": [{\"marker\": {\"colorbar\": {\"outlinewidth\": 0, \"ticks\": \"\"}}, \"type\": \"scatterpolargl\"}], \"scatterternary\": [{\"marker\": {\"colorbar\": {\"outlinewidth\": 0, \"ticks\": \"\"}}, \"type\": \"scatterternary\"}], \"surface\": [{\"colorbar\": {\"outlinewidth\": 0, \"ticks\": \"\"}, \"colorscale\": [[0.0, \"#0d0887\"], [0.1111111111111111, \"#46039f\"], [0.2222222222222222, \"#7201a8\"], [0.3333333333333333, \"#9c179e\"], [0.4444444444444444, \"#bd3786\"], [0.5555555555555556, \"#d8576b\"], [0.6666666666666666, \"#ed7953\"], [0.7777777777777778, \"#fb9f3a\"], [0.8888888888888888, \"#fdca26\"], [1.0, \"#f0f921\"]], \"type\": \"surface\"}], \"table\": [{\"cells\": {\"fill\": {\"color\": \"#EBF0F8\"}, \"line\": {\"color\": \"white\"}}, \"header\": {\"fill\": {\"color\": \"#C8D4E3\"}, \"line\": {\"color\": \"white\"}}, \"type\": \"table\"}]}, \"layout\": {\"annotationdefaults\": {\"arrowcolor\": \"#2a3f5f\", \"arrowhead\": 0, \"arrowwidth\": 1}, \"colorscale\": {\"diverging\": [[0, \"#8e0152\"], [0.1, \"#c51b7d\"], [0.2, \"#de77ae\"], [0.3, \"#f1b6da\"], [0.4, \"#fde0ef\"], [0.5, \"#f7f7f7\"], [0.6, \"#e6f5d0\"], [0.7, \"#b8e186\"], [0.8, \"#7fbc41\"], [0.9, \"#4d9221\"], [1, \"#276419\"]], \"sequential\": [[0.0, \"#0d0887\"], [0.1111111111111111, \"#46039f\"], [0.2222222222222222, \"#7201a8\"], [0.3333333333333333, \"#9c179e\"], [0.4444444444444444, \"#bd3786\"], [0.5555555555555556, \"#d8576b\"], [0.6666666666666666, \"#ed7953\"], [0.7777777777777778, \"#fb9f3a\"], [0.8888888888888888, \"#fdca26\"], [1.0, \"#f0f921\"]], \"sequentialminus\": [[0.0, \"#0d0887\"], [0.1111111111111111, \"#46039f\"], [0.2222222222222222, \"#7201a8\"], [0.3333333333333333, \"#9c179e\"], [0.4444444444444444, \"#bd3786\"], [0.5555555555555556, \"#d8576b\"], [0.6666666666666666, \"#ed7953\"], [0.7777777777777778, \"#fb9f3a\"], [0.8888888888888888, \"#fdca26\"], [1.0, \"#f0f921\"]]}, \"colorway\": [\"#636efa\", \"#EF553B\", \"#00cc96\", \"#ab63fa\", \"#FFA15A\", \"#19d3f3\", \"#FF6692\", \"#B6E880\", \"#FF97FF\", \"#FECB52\"], \"font\": {\"color\": \"#2a3f5f\"}, \"geo\": {\"bgcolor\": \"white\", \"lakecolor\": \"white\", \"landcolor\": \"#E5ECF6\", \"showlakes\": true, \"showland\": true, \"subunitcolor\": \"white\"}, \"hoverlabel\": {\"align\": \"left\"}, \"hovermode\": \"closest\", \"mapbox\": {\"style\": \"light\"}, \"paper_bgcolor\": \"white\", \"plot_bgcolor\": \"#E5ECF6\", \"polar\": {\"angularaxis\": {\"gridcolor\": \"white\", \"linecolor\": \"white\", \"ticks\": \"\"}, \"bgcolor\": \"#E5ECF6\", \"radialaxis\": {\"gridcolor\": \"white\", \"linecolor\": \"white\", \"ticks\": \"\"}}, \"scene\": {\"xaxis\": {\"backgroundcolor\": \"#E5ECF6\", \"gridcolor\": \"white\", \"gridwidth\": 2, \"linecolor\": \"white\", \"showbackground\": true, \"ticks\": \"\", \"zerolinecolor\": \"white\"}, \"yaxis\": {\"backgroundcolor\": \"#E5ECF6\", \"gridcolor\": \"white\", \"gridwidth\": 2, \"linecolor\": \"white\", \"showbackground\": true, \"ticks\": \"\", \"zerolinecolor\": \"white\"}, \"zaxis\": {\"backgroundcolor\": \"#E5ECF6\", \"gridcolor\": \"white\", \"gridwidth\": 2, \"linecolor\": \"white\", \"showbackground\": true, \"ticks\": \"\", \"zerolinecolor\": \"white\"}}, \"shapedefaults\": {\"line\": {\"color\": \"#2a3f5f\"}}, \"ternary\": {\"aaxis\": {\"gridcolor\": \"white\", \"linecolor\": \"white\", \"ticks\": \"\"}, \"baxis\": {\"gridcolor\": \"white\", \"linecolor\": \"white\", \"ticks\": \"\"}, \"bgcolor\": \"#E5ECF6\", \"caxis\": {\"gridcolor\": \"white\", \"linecolor\": \"white\", \"ticks\": \"\"}}, \"title\": {\"x\": 0.05}, \"xaxis\": {\"automargin\": true, \"gridcolor\": \"white\", \"linecolor\": \"white\", \"ticks\": \"\", \"zerolinecolor\": \"white\", \"zerolinewidth\": 2}, \"yaxis\": {\"automargin\": true, \"gridcolor\": \"white\", \"linecolor\": \"white\", \"ticks\": \"\", \"zerolinecolor\": \"white\", \"zerolinewidth\": 2}}}, \"title\": {\"font\": {\"color\": \"#9398A4\"}, \"text\": \"Random scatter\"}, \"width\": 500, \"xaxis\": {\"gridcolor\": \"#3F434F\", \"tickfont\": {\"color\": \"#ffffff\"}, \"title\": {\"font\": {\"color\": \"#ffffff\"}}, \"zeroline\": false}, \"yaxis\": {\"gridcolor\": \"#3F434F\", \"tickfont\": {\"color\": \"#ffffff\"}, \"title\": {\"font\": {\"color\": \"#ffffff\"}}, \"zeroline\": false}},\n",
       "                        {\"responsive\": true}\n",
       "                    ).then(function(){\n",
       "                            \n",
       "var gd = document.getElementById('f6bd0e27-4a50-47b9-9f3a-fd6eea7d6f4e');\n",
       "var x = new MutationObserver(function (mutations, observer) {{\n",
       "        var display = window.getComputedStyle(gd).display;\n",
       "        if (!display || display === 'none') {{\n",
       "            console.log([gd, 'removed!']);\n",
       "            Plotly.purge(gd);\n",
       "            observer.disconnect();\n",
       "        }}\n",
       "}});\n",
       "\n",
       "// Listen for the removal of the full notebook cells\n",
       "var notebookContainer = gd.closest('#notebook-container');\n",
       "if (notebookContainer) {{\n",
       "    x.observe(notebookContainer, {childList: true});\n",
       "}}\n",
       "\n",
       "// Listen for the clearing of the current output cell\n",
       "var outputEl = gd.closest('.output');\n",
       "if (outputEl) {{\n",
       "    x.observe(outputEl, {childList: true});\n",
       "}}\n",
       "\n",
       "                        })\n",
       "                };\n",
       "                });\n",
       "            </script>\n",
       "        </div>"
      ]
     },
     "metadata": {},
     "output_type": "display_data"
    }
   ],
   "source": [
    "x,y = datasets.make_regression(n_features=1, n_samples=100, noise=25)\n",
    "\n",
    "render(go.Figure(data=[scatter(x[:,0], y, 'Data', mode='markers')]), title='Random scatter')"
   ]
  },
  {
   "cell_type": "code",
   "execution_count": 173,
   "metadata": {},
   "outputs": [],
   "source": [
    "def cost_function(thetas, X, y, m):\n",
    "    dt = np.dot(X, thetas) - y\n",
    "    return np.dot(dt,dt)/(2*m)"
   ]
  },
  {
   "cell_type": "code",
   "execution_count": 174,
   "metadata": {},
   "outputs": [],
   "source": [
    "def gradient_descent(thetas, X, y, m, alpha, iters = 10):\n",
    "    \n",
    "    t0 = thetas[0]\n",
    "    t1 = thetas[1]\n",
    "    \n",
    "    thetas_new = thetas.copy()\n",
    "    \n",
    "    j_history = np.zeros(iters)\n",
    "    \n",
    "    for _ in range(iters):\n",
    "        \n",
    "        thetas_new -= alpha * np.dot(X.T, (np.dot(X, thetas_new) - y)) / m\n",
    "        j_history[_] = cost_function(thetas_new, X, y, m)\n",
    "        \n",
    "    return thetas_new, j_history"
   ]
  },
  {
   "cell_type": "code",
   "execution_count": 175,
   "metadata": {},
   "outputs": [
    {
     "data": {
      "application/vnd.plotly.v1+json": {
       "config": {
        "plotlyServerURL": "https://plot.ly"
       },
       "data": [
        {
         "marker": {
          "color": "yellow",
          "size": 3
         },
         "mode": "lines",
         "name": "Cost Function",
         "opacity": 0.5,
         "type": "scatter",
         "x": [
          1,
          2,
          3,
          4,
          5,
          6,
          7,
          8,
          9,
          10,
          11,
          12,
          13,
          14,
          15,
          16,
          17,
          18,
          19,
          20,
          21,
          22,
          23,
          24,
          25,
          26,
          27,
          28,
          29,
          30,
          31,
          32,
          33,
          34,
          35,
          36,
          37,
          38,
          39,
          40,
          41,
          42,
          43,
          44,
          45,
          46,
          47,
          48,
          49,
          50,
          51,
          52,
          53,
          54,
          55,
          56,
          57,
          58,
          59,
          60,
          61,
          62,
          63,
          64,
          65,
          66,
          67,
          68,
          69,
          70,
          71,
          72,
          73,
          74,
          75,
          76,
          77,
          78,
          79,
          80,
          81,
          82,
          83,
          84,
          85,
          86,
          87,
          88,
          89,
          90,
          91,
          92,
          93,
          94,
          95,
          96,
          97,
          98,
          99,
          100,
          101,
          102,
          103,
          104,
          105,
          106,
          107,
          108,
          109,
          110,
          111,
          112,
          113,
          114,
          115,
          116,
          117,
          118,
          119,
          120,
          121,
          122,
          123,
          124,
          125,
          126,
          127,
          128,
          129,
          130,
          131,
          132,
          133,
          134,
          135,
          136,
          137,
          138,
          139,
          140,
          141,
          142,
          143,
          144,
          145,
          146,
          147,
          148,
          149,
          150,
          151,
          152,
          153,
          154,
          155,
          156,
          157,
          158,
          159,
          160,
          161,
          162,
          163,
          164,
          165,
          166,
          167,
          168,
          169,
          170,
          171,
          172,
          173,
          174,
          175,
          176,
          177,
          178,
          179,
          180,
          181,
          182,
          183,
          184,
          185,
          186,
          187,
          188,
          189,
          190,
          191,
          192,
          193,
          194,
          195,
          196,
          197,
          198,
          199,
          200,
          201,
          202,
          203,
          204,
          205,
          206,
          207,
          208,
          209,
          210,
          211,
          212,
          213,
          214,
          215,
          216,
          217,
          218,
          219,
          220,
          221,
          222,
          223,
          224,
          225,
          226,
          227,
          228,
          229,
          230,
          231,
          232,
          233,
          234,
          235,
          236,
          237,
          238,
          239,
          240,
          241,
          242,
          243,
          244,
          245,
          246,
          247,
          248,
          249,
          250,
          251,
          252,
          253,
          254,
          255,
          256,
          257,
          258,
          259,
          260,
          261,
          262,
          263,
          264,
          265,
          266,
          267,
          268,
          269,
          270,
          271,
          272,
          273,
          274,
          275,
          276,
          277,
          278,
          279,
          280,
          281,
          282,
          283,
          284,
          285,
          286,
          287,
          288,
          289,
          290,
          291,
          292,
          293,
          294,
          295,
          296,
          297,
          298,
          299,
          300,
          301,
          302,
          303,
          304,
          305,
          306,
          307,
          308,
          309,
          310,
          311,
          312,
          313,
          314,
          315,
          316,
          317,
          318,
          319,
          320,
          321,
          322,
          323,
          324,
          325,
          326,
          327,
          328,
          329,
          330,
          331,
          332,
          333,
          334,
          335,
          336,
          337,
          338,
          339,
          340,
          341,
          342,
          343,
          344,
          345,
          346,
          347,
          348,
          349,
          350,
          351,
          352,
          353,
          354,
          355,
          356,
          357,
          358,
          359,
          360,
          361,
          362,
          363,
          364,
          365,
          366,
          367,
          368,
          369,
          370,
          371,
          372,
          373,
          374,
          375,
          376,
          377,
          378,
          379,
          380,
          381,
          382,
          383,
          384,
          385,
          386,
          387,
          388,
          389,
          390,
          391,
          392,
          393,
          394,
          395,
          396,
          397,
          398,
          399,
          400,
          401,
          402,
          403,
          404,
          405,
          406,
          407,
          408,
          409,
          410,
          411,
          412,
          413,
          414,
          415,
          416,
          417,
          418,
          419,
          420,
          421,
          422,
          423,
          424,
          425,
          426,
          427,
          428,
          429,
          430,
          431,
          432,
          433,
          434,
          435,
          436,
          437,
          438,
          439,
          440,
          441,
          442,
          443,
          444,
          445,
          446,
          447,
          448,
          449,
          450,
          451,
          452,
          453,
          454,
          455,
          456,
          457,
          458,
          459,
          460,
          461,
          462,
          463,
          464,
          465,
          466,
          467,
          468,
          469,
          470,
          471,
          472,
          473,
          474,
          475,
          476,
          477,
          478,
          479,
          480,
          481,
          482,
          483,
          484,
          485,
          486,
          487,
          488,
          489,
          490,
          491,
          492,
          493,
          494,
          495,
          496,
          497,
          498,
          499,
          500,
          501,
          502,
          503,
          504,
          505,
          506,
          507,
          508,
          509,
          510,
          511,
          512,
          513,
          514,
          515,
          516,
          517,
          518,
          519,
          520,
          521,
          522,
          523,
          524,
          525,
          526,
          527,
          528,
          529,
          530,
          531,
          532,
          533,
          534,
          535,
          536,
          537,
          538,
          539,
          540,
          541,
          542,
          543,
          544,
          545,
          546,
          547,
          548,
          549,
          550,
          551,
          552,
          553,
          554,
          555,
          556,
          557,
          558,
          559,
          560,
          561,
          562,
          563,
          564,
          565,
          566,
          567,
          568,
          569,
          570,
          571,
          572,
          573,
          574,
          575,
          576,
          577,
          578,
          579,
          580,
          581,
          582,
          583,
          584,
          585,
          586,
          587,
          588,
          589,
          590,
          591,
          592,
          593,
          594,
          595,
          596,
          597,
          598,
          599,
          600,
          601,
          602,
          603,
          604,
          605,
          606,
          607,
          608,
          609,
          610,
          611,
          612,
          613,
          614,
          615,
          616,
          617,
          618,
          619,
          620,
          621,
          622,
          623,
          624,
          625,
          626,
          627,
          628,
          629,
          630,
          631,
          632,
          633,
          634,
          635,
          636,
          637,
          638,
          639,
          640,
          641,
          642,
          643,
          644,
          645,
          646,
          647,
          648,
          649,
          650,
          651,
          652,
          653,
          654,
          655,
          656,
          657,
          658,
          659,
          660,
          661,
          662,
          663,
          664,
          665,
          666,
          667,
          668,
          669,
          670,
          671,
          672,
          673,
          674,
          675,
          676,
          677,
          678,
          679,
          680,
          681,
          682,
          683,
          684,
          685,
          686,
          687,
          688,
          689,
          690,
          691,
          692,
          693,
          694,
          695,
          696,
          697,
          698,
          699,
          700,
          701,
          702,
          703,
          704,
          705,
          706,
          707,
          708,
          709,
          710,
          711,
          712,
          713,
          714,
          715,
          716,
          717,
          718,
          719,
          720,
          721,
          722,
          723,
          724,
          725,
          726,
          727,
          728,
          729,
          730,
          731,
          732,
          733,
          734,
          735,
          736,
          737,
          738,
          739,
          740,
          741,
          742,
          743,
          744,
          745,
          746,
          747,
          748,
          749,
          750,
          751,
          752,
          753,
          754,
          755,
          756,
          757,
          758,
          759,
          760,
          761,
          762,
          763,
          764,
          765,
          766,
          767,
          768,
          769,
          770,
          771,
          772,
          773,
          774,
          775,
          776,
          777,
          778,
          779,
          780,
          781,
          782,
          783,
          784,
          785,
          786,
          787,
          788,
          789,
          790,
          791,
          792,
          793,
          794,
          795,
          796,
          797,
          798,
          799,
          800,
          801,
          802,
          803,
          804,
          805,
          806,
          807,
          808,
          809,
          810,
          811,
          812,
          813,
          814,
          815,
          816,
          817,
          818,
          819,
          820,
          821,
          822,
          823,
          824,
          825,
          826,
          827,
          828,
          829,
          830,
          831,
          832,
          833,
          834,
          835,
          836,
          837,
          838,
          839,
          840,
          841,
          842,
          843,
          844,
          845,
          846,
          847,
          848,
          849,
          850,
          851,
          852,
          853,
          854,
          855,
          856,
          857,
          858,
          859,
          860,
          861,
          862,
          863,
          864,
          865,
          866,
          867,
          868,
          869,
          870,
          871,
          872,
          873,
          874,
          875,
          876,
          877,
          878,
          879,
          880,
          881,
          882,
          883,
          884,
          885,
          886,
          887,
          888,
          889,
          890,
          891,
          892,
          893,
          894,
          895,
          896,
          897,
          898,
          899,
          900,
          901,
          902,
          903,
          904,
          905,
          906,
          907,
          908,
          909,
          910,
          911,
          912,
          913,
          914,
          915,
          916,
          917,
          918,
          919,
          920,
          921,
          922,
          923,
          924,
          925,
          926,
          927,
          928,
          929,
          930,
          931,
          932,
          933,
          934,
          935,
          936,
          937,
          938,
          939,
          940,
          941,
          942,
          943,
          944,
          945,
          946,
          947,
          948,
          949,
          950,
          951,
          952,
          953,
          954,
          955,
          956,
          957,
          958,
          959,
          960,
          961,
          962,
          963,
          964,
          965,
          966,
          967,
          968,
          969,
          970,
          971,
          972,
          973,
          974,
          975,
          976,
          977,
          978,
          979,
          980,
          981,
          982,
          983,
          984,
          985,
          986,
          987,
          988,
          989,
          990,
          991,
          992,
          993,
          994,
          995,
          996,
          997,
          998,
          999,
          1000
         ],
         "y": [
          3458.8280808551553,
          3343.2417680876965,
          3231.931234067515,
          3124.737384207401,
          3021.5070795590314,
          2922.0929124730023,
          2826.352990763013,
          2734.150730049767,
          2645.354653972626,
          2559.8382019690544,
          2477.4795443333173,
          2398.1614042770702,
          2321.7708867250344,
          2248.1993135892176,
          2177.3420652749683,
          2109.0984281815995,
          2043.3714479694202,
          1980.0677883737358,
          1919.0975953547957,
          1860.374366380744,
          1803.814824648382,
          1749.3387980540451,
          1696.8691027340506,
          1646.3314310011035,
          1597.6542435096603,
          1550.7686654896577,
          1505.60838689414,
          1462.1095663122135,
          1420.2107385044455,
          1379.852725423282,
          1340.9785505862872,
          1303.533356675072,
          1267.4643262376267,
          1232.7206053764323,
          1199.2532303092148,
          1167.015056693524,
          1135.9606916104606,
          1106.0464281068705,
          1077.2301821991582,
          1049.4714322455627,
          1022.7311605972849,
          996.9717974422693,
          972.157166758721,
          948.2524342986048,
          925.2240575243865,
          903.0397374252213,
          881.6683721415803,
          861.0800123300146,
          841.2458182023538,
          822.1380181761255,
          803.7298690753912,
          785.9956178234991,
          768.9104645714749,
          752.4505272079134,
          736.5928071982818,
          721.3151567035255,
          706.596246929768,
          692.4155376627224,
          678.7532479421961,
          665.590327833752,
          652.9084312562252,
          640.689889825358,
          628.9176876753137,
          617.575437221287,
          606.6473558278155,
          596.1182433487382,
          585.9734605060357,
          576.1989080760243,
          566.781006852573,
          557.7066783581527,
          548.9633262746373,
          540.5388185668304,
          532.4214702727202,
          524.6000269354394,
          517.0636486528575,
          509.80189472164005,
          502.8047088534812,
          496.0624049420614,
          489.5656533600883,
          483.3054677665585,
          477.2731924051257,
          471.46048987518293,
          465.85932935795876,
          460.4619752805935,
          455.2609764018064,
          450.24915530337535,
          445.41959827225236,
          440.76564555870596,
          436.2808819964276,
          431.959127971077,
          427.7944307242406,
          423.78105598027366,
          419.9134798839656,
          416.18638123741965,
          412.59463402497715,
          409.1333002154351,
          405.79762283120726,
          402.5830192744715,
          399.485074900718,
          396.49953683047215,
          393.622307990311,
          390.84944137463134,
          388.17713451993825,
          385.60172418374043,
          383.11968122042975,
          380.72760564681033,
          378.42222189021754,
          376.2003742124282,
          374.0590223028266,
          371.995237034521,
          370.0061963773584,
          368.08918146199846,
          366.2415727894316,
          364.46084658053667,
          362.7445712604733,
          361.09040407290144,
          359.4960878192027,
          357.95944771806745,
          356.47838838097306,
          355.050890899256,
          353.67501003863663,
          352.3488715372074,
          351.070669503051,
          349.83866390779076,
          348.65117817251894,
          347.50659684267777,
          346.4033633485979,
          345.33997784851994,
          344.314995151045,
          343.32702271407237,
          342.3747187173915,
          341.45679020620577,
          340.5719913029576,
          339.71912148493305,
          338.8970239252103,
          338.10458389460985,
          337.3407272223903,
          336.60441881352125,
          335.8946612204382,
          335.2104932672695,
          334.55098872459604,
          333.91525503287835,
          333.30243207275174,
          332.71169098046335,
          332.14223300677986,
          331.5932884177679,
          331.06411543589616,
          330.55399921997775,
          330.06225088251705,
          329.588206543082,
          329.13122641637693,
          328.6906939337345,
          328.2660148967956,
          327.8566166621933,
          327.4619473560978,
          327.0814751175235,
          326.71468736933826,
          326.3610901159575,
          326.0202072667389,
          325.69157998413414,
          325.3747660556857,
          325.06933928899355,
          324.77488892880484,
          324.4910190954163,
          324.21734824360357,
          323.9535086413253,
          323.69914586747416,
          323.453918327976,
          323.21749678956354,
          322.9895639305754,
          322.76981390815536,
          322.5579519412511,
          322.3536939088314,
          322.156765962765,
          321.9669041548219,
          321.78385407728086,
          321.60737051664296,
          321.4372171199723,
          321.27316607339907,
          321.11499779234265,
          320.9625006230215,
          320.81547055483986,
          320.67371094325114,
          320.5370322427154,
          320.4052517493808,
          320.27819335313393,
          320.1556872986754,
          320.0375699552917,
          319.9236835950037,
          319.81387617878835,
          319.70800115057386,
          319.60591723873006,
          319.50748826477417,
          319.41258295903367,
          319.3210747830077,
          319.23284175818566,
          319.14776630108526,
          319.0657350642842,
          318.98663878322515,
          318.9103721285856,
          318.83683356400763,
          318.7659252089925,
          318.6975527067727,
          318.6316250969783,
          318.5680546929253,
          318.50675696335327,
          318.4476504184557,
          318.39065650004187,
          318.33569947568196,
          318.2827063366904,
          318.2316066998067,
          318.1823327124403,
          318.13481896134806,
          318.08900238462127,
          318.04482218686104,
          318.002219757425,
          317.96113859163535,
          317.9215242148399,
          317.883324109221,
          317.8464876432554,
          317.81096600372496,
          317.7767121301893,
          317.7436806518277,
          317.7118278265661,
          317.68111148240644,
          317.6514909608752,
          317.6229270625197,
          317.5953819943719,
          317.56881931931287,
          317.5432039072661,
          317.5185018881546,
          317.4946806065578,
          317.4717085780057,
          317.4495554468517,
          317.42819194566715,
          317.4075898561012,
          317.3877219711536,
          317.3685620588097,
          317.35008482698754,
          317.33226588974975,
          317.31508173473424,
          317.29850969175976,
          317.28252790256414,
          317.26711529163333,
          317.2522515380823,
          317.23791704854995,
          317.22409293107046,
          317.21076096988713,
          317.19790360117275,
          317.1855038896257,
          317.17354550590875,
          317.1620127049,
          317.15089030472853,
          317.14016366656296,
          317.1298186751295,
          317.1198417199303,
          317.110219677138,
          317.1009398921418,
          317.0919901627225,
          317.083358722831,
          317.0750342269524,
          317.067005735031,
          317.059262697938,
          317.05179494346226,
          317.0445926628035,
          317.0376463975527,
          317.0309470271386,
          317.02448575672713,
          317.0182541055545,
          317.01224389568006,
          317.00644724114267,
          317.00085653750745,
          316.995464451787,
          316.9902639127251,
          316.98524810142925,
          316.9804104423396,
          316.97574459452153,
          316.97124444327136,
          316.96690409202324,
          316.96271785454576,
          316.9586802474199,
          316.95478598278544,
          316.9510299613479,
          316.94740726563725,
          316.9439131535071,
          316.9405430518673,
          316.9372925506421,
          316.93415739694376,
          316.9311334894555,
          316.9282168730159,
          316.92540373339716,
          316.9226903922703,
          316.920073302351,
          316.9175490427196,
          316.9151143143076,
          316.9127659355474,
          316.9105008381765,
          316.90831606319244,
          316.90620875695276,
          316.9041761674141,
          316.90221564050626,
          316.9003246166358,
          316.8985006273152,
          316.8967412919117,
          316.8950443145137,
          316.89340748090814,
          316.8918286556666,
          316.8903057793352,
          316.8888368657262,
          316.88741999930403,
          316.8860533326673,
          316.88473508411977,
          316.8834635353272,
          316.88223702905987,
          316.88105396701434,
          316.8799128077133,
          316.8788120644814,
          316.8777503034914,
          316.87672614188244,
          316.8757382459438,
          316.8747853293647,
          316.8738661515451,
          316.8729795159688,
          316.8721242686331,
          316.8712992965347,
          316.87050352621054,
          316.86973592232965,
          316.86899548633613,
          316.8682812551398,
          316.86759229985404,
          316.8669277245785,
          316.8662866652253,
          316.86566828838727,
          316.86507179024596,
          316.8644963955193,
          316.8639413564464,
          316.8634059518084,
          316.8628894859848,
          316.8623912880428,
          316.86191071085955,
          316.86144713027534,
          316.8609999442776,
          316.86056857221274,
          316.8601524540275,
          316.85975104953644,
          316.8593638377159,
          316.8589903160227,
          316.85862999973784,
          316.8582824213325,
          316.85794712985785,
          316.8576236903557,
          316.8573116832902,
          316.85701070400046,
          316.856720362172,
          316.8564402813266,
          316.8561700983322,
          316.85590946292757,
          316.8556580372661,
          316.8554154954747,
          316.85518152322874,
          316.85495581734216,
          316.8547380853719,
          316.8545280452365,
          316.8543254248489,
          316.85412996176075,
          316.85394140282114,
          316.8537595038464,
          316.85358402930194,
          316.8534147519953,
          316.85325145278034,
          316.85309392027153,
          316.85294195056895,
          316.8527953469926,
          316.85265391982625,
          316.85251748607084,
          316.8523858692058,
          316.8522588989597,
          316.85213641108805,
          316.8520182471607,
          316.8519042543545,
          316.8517942852554,
          316.85168819766614,
          316.85158585442167,
          316.85148712321086,
          316.85139187640397,
          316.8512999908875,
          316.85121134790325,
          316.85112583289464,
          316.8510433353579,
          316.85096374869795,
          316.8508869700903,
          316.85081290034736,
          316.85074144378973,
          316.8506725081219,
          316.8506060043119,
          316.85054184647663,
          316.8504799517699,
          316.8504202402744,
          316.8503626348989,
          316.8503070612775,
          316.8502534476732,
          316.8502017248855,
          316.8501518261598,
          316.85010368710095,
          316.8500572455902,
          316.8500124417041,
          316.84996921763724,
          316.84992751762684,
          316.8498872878808,
          316.84984847650804,
          316.8498110334509,
          316.8497749104203,
          316.8497400608335,
          316.8497064397533,
          316.8496740038303,
          316.84964271124653,
          316.8496125216607,
          316.84958339615713,
          316.84955529719446,
          316.8495281885572,
          316.8495020353089,
          316.8494768037471,
          316.8494524613595,
          316.8494289767818,
          316.84940631975735,
          316.8493844610976,
          316.84936337264514,
          316.84934302723605,
          316.849323398666,
          316.8493044616554,
          316.8492861918171,
          316.84926856562504,
          316.84925156038355,
          316.84923515419786,
          316.8492193259462,
          316.84920405525213,
          316.84918932245864,
          316.84917510860197,
          316.849161395388,
          316.84914816516806,
          316.8491354009161,
          316.8491230862069,
          316.849111205195,
          316.8490997425938,
          316.8490886836561,
          316.8490780141548,
          316.8490677203649,
          316.8490577890457,
          316.8490482074231,
          316.84903896317417,
          316.8490300444102,
          316.8490214396619,
          316.8490131378648,
          316.84900512834406,
          316.848997400802,
          316.84898994530363,
          316.8489827522644,
          316.8489758124378,
          316.8489691169035,
          316.84896265705527,
          316.8489564245908,
          316.84895041150037,
          316.8489446100564,
          316.848939012804,
          316.8489336125511,
          316.84892840235904,
          316.8489233755339,
          316.8489185256174,
          316.8489138463795,
          316.8489093318092,
          316.8489049761074,
          316.8489007736799,
          316.8488967191289,
          316.84889280724764,
          316.84888903301226,
          316.8488853915761,
          316.8488818782634,
          316.8488784885632,
          316.8488752181231,
          316.84887206274453,
          316.8488690183768,
          316.8488660811115,
          316.8488632471783,
          316.84886051293984,
          316.8488578748864,
          316.8488553296323,
          316.8488528739111,
          316.84885050457126,
          316.84884821857247,
          316.8488460129811,
          316.8488438849673,
          316.8488418318007,
          316.8488398508471,
          316.8488379395652,
          316.84883609550286,
          316.84883431629487,
          316.8488325996586,
          316.84883094339233,
          316.8488293453718,
          316.8488278035474,
          316.8488263159418,
          316.84882488064716,
          316.848823495823,
          316.8488221596935,
          316.8488208705454,
          316.8488196267259,
          316.84881842664015,
          316.8488172687496,
          316.84881615156985,
          316.8488150736686,
          316.84881403366427,
          316.8488130302236,
          316.8488120620605,
          316.8488111279339,
          316.84881022664695,
          316.8488093570441,
          316.84880851801114,
          316.84880770847275,
          316.84880692739165,
          316.8488061737669,
          316.8488054466328,
          316.8488047450578,
          316.848804068143,
          316.84880341502117,
          316.8488027848555,
          316.8488021768388,
          316.84880159019207,
          316.84880102416395,
          316.8488004780295,
          316.8487999510888,
          316.8487994426674,
          316.8487989521138,
          316.84879847879995,
          316.84879802211964,
          316.848797581488,
          316.8487971563408,
          316.8487967461337,
          316.84879635034133,
          316.8487959684569,
          316.84879559999166,
          316.84879524447365,
          316.8487949014477,
          316.8487945704749,
          316.8487942511313,
          316.8487939430082,
          316.8487936457112,
          316.8487933588598,
          316.8487930820865,
          316.8487928150375,
          316.8487925573708,
          316.8487923087565,
          316.84879206887666,
          316.8487918374242,
          316.8487916141028,
          316.84879139862693,
          316.84879119072053,
          316.8487909901179,
          316.8487907965621,
          316.84879060980575,
          316.8487904296096,
          316.8487902557433,
          316.84879008798436,
          316.8487899261182,
          316.84878976993764,
          316.848789619243,
          316.8487894738414,
          316.848789333547,
          316.8487891981802,
          316.8487890675679,
          316.84878894154315,
          316.8487888199446,
          316.8487887026168,
          316.84878858940965,
          316.8487884801785,
          316.84878837478345,
          316.84878827309,
          316.8487881749678,
          316.84878808029157,
          316.8487879889403,
          316.84878790079705,
          316.84878781574923,
          316.8487877336879,
          316.8487876545083,
          316.8487875781092,
          316.84878750439293,
          316.8487874332651,
          316.84878736463503,
          316.8487872984148,
          316.84878723451976,
          316.8487871728683,
          316.8487871133816,
          316.84878705598373,
          316.84878700060113,
          316.8487869471631,
          316.8487868956014,
          316.84878684585,
          316.8487867978454,
          316.8487867515262,
          316.8487867068333,
          316.8487866637095,
          316.84878662209974,
          316.8487865819507,
          316.8487865432114,
          316.8487865058321,
          316.84878646976506,
          316.84878643496415,
          316.848786401385,
          316.84878636898463,
          316.8487863377218,
          316.84878630755634,
          316.8487862784499,
          316.8487862503652,
          316.8487862232664,
          316.84878619711884,
          316.8487861718892,
          316.848786147545,
          316.84878612405544,
          316.8487861013906,
          316.84878607952106,
          316.8487860584193,
          316.84878603805817,
          316.84878601841183,
          316.84878599945506,
          316.8487859811637,
          316.84878596351416,
          316.8487859464843,
          316.8487859300521,
          316.8487859141967,
          316.8487858988977,
          316.8487858841357,
          316.8487858698918,
          316.8487858561478,
          316.8487858428862,
          316.84878583009004,
          316.8487858177429,
          316.84878580582915,
          316.84878579433354,
          316.84878578324134,
          316.8487857725384,
          316.8487857622111,
          316.8487857522463,
          316.8487857426311,
          316.8487857333534,
          316.8487857244012,
          316.8487857157632,
          316.8487857074283,
          316.848785699386,
          316.84878569162584,
          316.84878568413797,
          316.8487856769128,
          316.8487856699413,
          316.8487856632144,
          316.8487856567235,
          316.8487856504604,
          316.8487856444171,
          316.8487856385859,
          316.84878563295916,
          316.84878562753,
          316.8487856222913,
          316.84878561723633,
          316.8487856123588,
          316.8487856076525,
          316.84878560311114,
          316.84878559872925,
          316.84878559450107,
          316.8487855904213,
          316.84878558648455,
          316.84878558268605,
          316.8487855790207,
          316.84878557548404,
          316.84878557207145,
          316.8487855687786,
          316.8487855656013,
          316.8487855625354,
          316.8487855595771,
          316.8487855567227,
          316.84878555396824,
          316.8487855513105,
          316.84878554874615,
          316.84878554627153,
          316.8487855438839,
          316.84878554157996,
          316.84878553935675,
          316.84878553721177,
          316.8487855351419,
          316.8487855331447,
          316.84878553121746,
          316.84878552935777,
          316.8487855275635,
          316.848785525832,
          316.8487855241615,
          316.84878552254946,
          316.84878552099394,
          316.848785519493,
          316.84878551804474,
          316.84878551664724,
          316.84878551529874,
          316.8487855139976,
          316.8487855127421,
          316.84878551153065,
          316.84878551036167,
          316.8487855092337,
          316.8487855081453,
          316.8487855070951,
          316.84878550608164,
          316.8487855051039,
          316.84878550416033,
          316.84878550324987,
          316.84878550237136,
          316.84878550152365,
          316.8487855007057,
          316.8487854999164,
          316.84878549915487,
          316.84878549841994,
          316.8487854977109,
          316.84878549702665,
          316.8487854963664,
          316.8487854957293,
          316.8487854951146,
          316.84878549452134,
          316.84878549394904,
          316.84878549339675,
          316.84878549286395,
          316.84878549234963,
          316.8487854918534,
          316.84878549137466,
          316.8487854909128,
          316.8487854904669,
          316.84878549003673,
          316.8487854896217,
          316.84878548922114,
          316.8487854888347,
          316.8487854884618,
          316.84878548810195,
          316.8487854877548,
          316.8487854874197,
          316.84878548709645,
          316.8487854867845,
          316.8487854864835,
          316.8487854861931,
          316.84878548591274,
          316.8487854856423,
          316.8487854853814,
          316.84878548512955,
          316.8487854848866,
          316.8487854846521,
          316.84878548442595,
          316.84878548420767,
          316.84878548399706,
          316.8487854837938,
          316.8487854835976,
          316.84878548340845,
          316.84878548322575,
          316.8487854830496,
          316.84878548287963,
          316.8487854827155,
          316.84878548255716,
          316.84878548240437,
          316.84878548225703,
          316.84878548211475,
          316.84878548197753,
          316.84878548184514,
          316.8487854817173,
          316.84878548159395,
          316.84878548147503,
          316.84878548136015,
          316.8487854812494,
          316.8487854811425,
          316.84878548103933,
          316.8487854809398,
          316.84878548084373,
          316.8487854807511,
          316.84878548066166,
          316.8487854805755,
          316.84878548049215,
          316.8487854804118,
          316.8487854803342,
          316.84878548025944,
          316.8487854801872,
          316.8487854801175,
          316.84878548005037,
          316.8487854799854,
          316.848785479923,
          316.84878547986256,
          316.8487854798043,
          316.84878547974813,
          316.8487854796938,
          316.8487854796415,
          316.8487854795909,
          316.8487854795422,
          316.8487854794952,
          316.84878547944976,
          316.84878547940593,
          316.8487854793637,
          316.8487854793229,
          316.84878547928355,
          316.8487854792456,
          316.84878547920897,
          316.8487854791736,
          316.8487854791395,
          316.84878547910654,
          316.8487854790748,
          316.8487854790441,
          316.84878547901457,
          316.8487854789861,
          316.8487854789586,
          316.8487854789319,
          316.8487854789062,
          316.8487854788816,
          316.8487854788576,
          316.84878547883466,
          316.8487854788124,
          316.848785478791,
          316.84878547877025,
          316.8487854787503,
          316.8487854787311,
          316.84878547871244,
          316.8487854786945,
          316.84878547867714,
          316.8487854786605,
          316.8487854786443,
          316.84878547862877,
          316.8487854786138,
          316.8487854785993,
          316.8487854785853,
          316.8487854785718,
          316.8487854785588,
          316.84878547854623,
          316.84878547853407,
          316.8487854785224,
          316.84878547851116,
          316.84878547850025,
          316.8487854784898,
          316.8487854784796,
          316.8487854784698,
          316.8487854784604,
          316.8487854784513,
          316.8487854784425,
          316.84878547843397,
          316.8487854784258,
          316.8487854784179,
          316.8487854784102,
          316.848785478403,
          316.8487854783958,
          316.84878547838906,
          316.84878547838235,
          316.848785478376,
          316.84878547836985,
          316.84878547836394,
          316.8487854783582,
          316.8487854783527,
          316.84878547834734,
          316.84878547834217,
          316.8487854783372,
          316.84878547833245,
          316.8487854783278,
          316.84878547832335,
          316.84878547831903,
          316.8487854783149,
          316.84878547831084,
          316.84878547830704,
          316.84878547830334,
          316.8487854782997,
          316.8487854782962,
          316.8487854782928,
          316.8487854782896,
          316.84878547828646,
          316.84878547828345,
          316.8487854782805,
          316.8487854782777,
          316.8487854782751,
          316.8487854782725,
          316.8487854782699,
          316.8487854782675,
          316.84878547826514,
          316.8487854782629,
          316.84878547826065,
          316.84878547825866,
          316.84878547825656,
          316.8487854782546,
          316.8487854782527,
          316.8487854782509,
          316.84878547824906,
          316.84878547824735,
          316.84878547824576,
          316.84878547824417,
          316.8487854782427,
          316.8487854782412,
          316.8487854782398,
          316.84878547823837,
          316.84878547823706,
          316.8487854782358,
          316.8487854782345,
          316.8487854782333,
          316.8487854782321,
          316.84878547823115,
          316.84878547823,
          316.84878547822893,
          316.84878547822797,
          316.848785478227,
          316.8487854782261,
          316.8487854782251,
          316.8487854782243,
          316.84878547822353,
          316.84878547822274,
          316.84878547822194,
          316.84878547822126,
          316.84878547822046,
          316.8487854782198,
          316.84878547821904,
          316.84878547821853,
          316.84878547821774,
          316.8487854782172,
          316.84878547821666,
          316.84878547821603,
          316.8487854782155,
          316.848785478215,
          316.84878547821444,
          316.848785478214,
          316.8487854782135,
          316.848785478213,
          316.8487854782126,
          316.8487854782122,
          316.84878547821177,
          316.84878547821137,
          316.8487854782111,
          316.8487854782107,
          316.8487854782103,
          316.84878547821,
          316.84878547820966,
          316.8487854782093,
          316.848785478209,
          316.84878547820864,
          316.8487854782084,
          316.84878547820813,
          316.84878547820784,
          316.8487854782077,
          316.84878547820733,
          316.84878547820716,
          316.8487854782069,
          316.84878547820676,
          316.8487854782064,
          316.8487854782063,
          316.8487854782061,
          316.8487854782059,
          316.84878547820574,
          316.8487854782055,
          316.8487854782053,
          316.8487854782052,
          316.848785478205,
          316.84878547820483,
          316.8487854782046,
          316.84878547820455,
          316.8487854782044,
          316.8487854782042,
          316.84878547820415,
          316.84878547820404,
          316.8487854782039,
          316.84878547820375,
          316.8487854782037,
          316.8487854782036,
          316.84878547820347,
          316.84878547820335,
          316.8487854782032,
          316.8487854782031,
          316.848785478203,
          316.84878547820296,
          316.8487854782028,
          316.84878547820273,
          316.8487854782027,
          316.8487854782027,
          316.8487854782026,
          316.8487854782025,
          316.8487854782024,
          316.8487854782024,
          316.8487854782023,
          316.8487854782023,
          316.8487854782022,
          316.8487854782021,
          316.8487854782021,
          316.84878547820205,
          316.84878547820193,
          316.8487854782019,
          316.8487854782018,
          316.8487854782018,
          316.84878547820176,
          316.84878547820176,
          316.8487854782017,
          316.84878547820165,
          316.8487854782016,
          316.8487854782015,
          316.84878547820153,
          316.8487854782014,
          316.8487854782014,
          316.8487854782015,
          316.84878547820136,
          316.84878547820136,
          316.8487854782013,
          316.8487854782013,
          316.8487854782013
         ]
        }
       ],
       "layout": {
        "height": 500,
        "legend": {
         "font": {
          "color": "#ffffff"
         }
        },
        "paper_bgcolor": "#22252B",
        "plot_bgcolor": "#292C34",
        "showlegend": true,
        "template": {
         "data": {
          "bar": [
           {
            "error_x": {
             "color": "#2a3f5f"
            },
            "error_y": {
             "color": "#2a3f5f"
            },
            "marker": {
             "line": {
              "color": "#E5ECF6",
              "width": 0.5
             }
            },
            "type": "bar"
           }
          ],
          "barpolar": [
           {
            "marker": {
             "line": {
              "color": "#E5ECF6",
              "width": 0.5
             }
            },
            "type": "barpolar"
           }
          ],
          "carpet": [
           {
            "aaxis": {
             "endlinecolor": "#2a3f5f",
             "gridcolor": "white",
             "linecolor": "white",
             "minorgridcolor": "white",
             "startlinecolor": "#2a3f5f"
            },
            "baxis": {
             "endlinecolor": "#2a3f5f",
             "gridcolor": "white",
             "linecolor": "white",
             "minorgridcolor": "white",
             "startlinecolor": "#2a3f5f"
            },
            "type": "carpet"
           }
          ],
          "choropleth": [
           {
            "colorbar": {
             "outlinewidth": 0,
             "ticks": ""
            },
            "type": "choropleth"
           }
          ],
          "contour": [
           {
            "colorbar": {
             "outlinewidth": 0,
             "ticks": ""
            },
            "colorscale": [
             [
              0,
              "#0d0887"
             ],
             [
              0.1111111111111111,
              "#46039f"
             ],
             [
              0.2222222222222222,
              "#7201a8"
             ],
             [
              0.3333333333333333,
              "#9c179e"
             ],
             [
              0.4444444444444444,
              "#bd3786"
             ],
             [
              0.5555555555555556,
              "#d8576b"
             ],
             [
              0.6666666666666666,
              "#ed7953"
             ],
             [
              0.7777777777777778,
              "#fb9f3a"
             ],
             [
              0.8888888888888888,
              "#fdca26"
             ],
             [
              1,
              "#f0f921"
             ]
            ],
            "type": "contour"
           }
          ],
          "contourcarpet": [
           {
            "colorbar": {
             "outlinewidth": 0,
             "ticks": ""
            },
            "type": "contourcarpet"
           }
          ],
          "heatmap": [
           {
            "colorbar": {
             "outlinewidth": 0,
             "ticks": ""
            },
            "colorscale": [
             [
              0,
              "#0d0887"
             ],
             [
              0.1111111111111111,
              "#46039f"
             ],
             [
              0.2222222222222222,
              "#7201a8"
             ],
             [
              0.3333333333333333,
              "#9c179e"
             ],
             [
              0.4444444444444444,
              "#bd3786"
             ],
             [
              0.5555555555555556,
              "#d8576b"
             ],
             [
              0.6666666666666666,
              "#ed7953"
             ],
             [
              0.7777777777777778,
              "#fb9f3a"
             ],
             [
              0.8888888888888888,
              "#fdca26"
             ],
             [
              1,
              "#f0f921"
             ]
            ],
            "type": "heatmap"
           }
          ],
          "heatmapgl": [
           {
            "colorbar": {
             "outlinewidth": 0,
             "ticks": ""
            },
            "colorscale": [
             [
              0,
              "#0d0887"
             ],
             [
              0.1111111111111111,
              "#46039f"
             ],
             [
              0.2222222222222222,
              "#7201a8"
             ],
             [
              0.3333333333333333,
              "#9c179e"
             ],
             [
              0.4444444444444444,
              "#bd3786"
             ],
             [
              0.5555555555555556,
              "#d8576b"
             ],
             [
              0.6666666666666666,
              "#ed7953"
             ],
             [
              0.7777777777777778,
              "#fb9f3a"
             ],
             [
              0.8888888888888888,
              "#fdca26"
             ],
             [
              1,
              "#f0f921"
             ]
            ],
            "type": "heatmapgl"
           }
          ],
          "histogram": [
           {
            "marker": {
             "colorbar": {
              "outlinewidth": 0,
              "ticks": ""
             }
            },
            "type": "histogram"
           }
          ],
          "histogram2d": [
           {
            "colorbar": {
             "outlinewidth": 0,
             "ticks": ""
            },
            "colorscale": [
             [
              0,
              "#0d0887"
             ],
             [
              0.1111111111111111,
              "#46039f"
             ],
             [
              0.2222222222222222,
              "#7201a8"
             ],
             [
              0.3333333333333333,
              "#9c179e"
             ],
             [
              0.4444444444444444,
              "#bd3786"
             ],
             [
              0.5555555555555556,
              "#d8576b"
             ],
             [
              0.6666666666666666,
              "#ed7953"
             ],
             [
              0.7777777777777778,
              "#fb9f3a"
             ],
             [
              0.8888888888888888,
              "#fdca26"
             ],
             [
              1,
              "#f0f921"
             ]
            ],
            "type": "histogram2d"
           }
          ],
          "histogram2dcontour": [
           {
            "colorbar": {
             "outlinewidth": 0,
             "ticks": ""
            },
            "colorscale": [
             [
              0,
              "#0d0887"
             ],
             [
              0.1111111111111111,
              "#46039f"
             ],
             [
              0.2222222222222222,
              "#7201a8"
             ],
             [
              0.3333333333333333,
              "#9c179e"
             ],
             [
              0.4444444444444444,
              "#bd3786"
             ],
             [
              0.5555555555555556,
              "#d8576b"
             ],
             [
              0.6666666666666666,
              "#ed7953"
             ],
             [
              0.7777777777777778,
              "#fb9f3a"
             ],
             [
              0.8888888888888888,
              "#fdca26"
             ],
             [
              1,
              "#f0f921"
             ]
            ],
            "type": "histogram2dcontour"
           }
          ],
          "mesh3d": [
           {
            "colorbar": {
             "outlinewidth": 0,
             "ticks": ""
            },
            "type": "mesh3d"
           }
          ],
          "parcoords": [
           {
            "line": {
             "colorbar": {
              "outlinewidth": 0,
              "ticks": ""
             }
            },
            "type": "parcoords"
           }
          ],
          "scatter": [
           {
            "marker": {
             "colorbar": {
              "outlinewidth": 0,
              "ticks": ""
             }
            },
            "type": "scatter"
           }
          ],
          "scatter3d": [
           {
            "line": {
             "colorbar": {
              "outlinewidth": 0,
              "ticks": ""
             }
            },
            "marker": {
             "colorbar": {
              "outlinewidth": 0,
              "ticks": ""
             }
            },
            "type": "scatter3d"
           }
          ],
          "scattercarpet": [
           {
            "marker": {
             "colorbar": {
              "outlinewidth": 0,
              "ticks": ""
             }
            },
            "type": "scattercarpet"
           }
          ],
          "scattergeo": [
           {
            "marker": {
             "colorbar": {
              "outlinewidth": 0,
              "ticks": ""
             }
            },
            "type": "scattergeo"
           }
          ],
          "scattergl": [
           {
            "marker": {
             "colorbar": {
              "outlinewidth": 0,
              "ticks": ""
             }
            },
            "type": "scattergl"
           }
          ],
          "scattermapbox": [
           {
            "marker": {
             "colorbar": {
              "outlinewidth": 0,
              "ticks": ""
             }
            },
            "type": "scattermapbox"
           }
          ],
          "scatterpolar": [
           {
            "marker": {
             "colorbar": {
              "outlinewidth": 0,
              "ticks": ""
             }
            },
            "type": "scatterpolar"
           }
          ],
          "scatterpolargl": [
           {
            "marker": {
             "colorbar": {
              "outlinewidth": 0,
              "ticks": ""
             }
            },
            "type": "scatterpolargl"
           }
          ],
          "scatterternary": [
           {
            "marker": {
             "colorbar": {
              "outlinewidth": 0,
              "ticks": ""
             }
            },
            "type": "scatterternary"
           }
          ],
          "surface": [
           {
            "colorbar": {
             "outlinewidth": 0,
             "ticks": ""
            },
            "colorscale": [
             [
              0,
              "#0d0887"
             ],
             [
              0.1111111111111111,
              "#46039f"
             ],
             [
              0.2222222222222222,
              "#7201a8"
             ],
             [
              0.3333333333333333,
              "#9c179e"
             ],
             [
              0.4444444444444444,
              "#bd3786"
             ],
             [
              0.5555555555555556,
              "#d8576b"
             ],
             [
              0.6666666666666666,
              "#ed7953"
             ],
             [
              0.7777777777777778,
              "#fb9f3a"
             ],
             [
              0.8888888888888888,
              "#fdca26"
             ],
             [
              1,
              "#f0f921"
             ]
            ],
            "type": "surface"
           }
          ],
          "table": [
           {
            "cells": {
             "fill": {
              "color": "#EBF0F8"
             },
             "line": {
              "color": "white"
             }
            },
            "header": {
             "fill": {
              "color": "#C8D4E3"
             },
             "line": {
              "color": "white"
             }
            },
            "type": "table"
           }
          ]
         },
         "layout": {
          "annotationdefaults": {
           "arrowcolor": "#2a3f5f",
           "arrowhead": 0,
           "arrowwidth": 1
          },
          "colorscale": {
           "diverging": [
            [
             0,
             "#8e0152"
            ],
            [
             0.1,
             "#c51b7d"
            ],
            [
             0.2,
             "#de77ae"
            ],
            [
             0.3,
             "#f1b6da"
            ],
            [
             0.4,
             "#fde0ef"
            ],
            [
             0.5,
             "#f7f7f7"
            ],
            [
             0.6,
             "#e6f5d0"
            ],
            [
             0.7,
             "#b8e186"
            ],
            [
             0.8,
             "#7fbc41"
            ],
            [
             0.9,
             "#4d9221"
            ],
            [
             1,
             "#276419"
            ]
           ],
           "sequential": [
            [
             0,
             "#0d0887"
            ],
            [
             0.1111111111111111,
             "#46039f"
            ],
            [
             0.2222222222222222,
             "#7201a8"
            ],
            [
             0.3333333333333333,
             "#9c179e"
            ],
            [
             0.4444444444444444,
             "#bd3786"
            ],
            [
             0.5555555555555556,
             "#d8576b"
            ],
            [
             0.6666666666666666,
             "#ed7953"
            ],
            [
             0.7777777777777778,
             "#fb9f3a"
            ],
            [
             0.8888888888888888,
             "#fdca26"
            ],
            [
             1,
             "#f0f921"
            ]
           ],
           "sequentialminus": [
            [
             0,
             "#0d0887"
            ],
            [
             0.1111111111111111,
             "#46039f"
            ],
            [
             0.2222222222222222,
             "#7201a8"
            ],
            [
             0.3333333333333333,
             "#9c179e"
            ],
            [
             0.4444444444444444,
             "#bd3786"
            ],
            [
             0.5555555555555556,
             "#d8576b"
            ],
            [
             0.6666666666666666,
             "#ed7953"
            ],
            [
             0.7777777777777778,
             "#fb9f3a"
            ],
            [
             0.8888888888888888,
             "#fdca26"
            ],
            [
             1,
             "#f0f921"
            ]
           ]
          },
          "colorway": [
           "#636efa",
           "#EF553B",
           "#00cc96",
           "#ab63fa",
           "#FFA15A",
           "#19d3f3",
           "#FF6692",
           "#B6E880",
           "#FF97FF",
           "#FECB52"
          ],
          "font": {
           "color": "#2a3f5f"
          },
          "geo": {
           "bgcolor": "white",
           "lakecolor": "white",
           "landcolor": "#E5ECF6",
           "showlakes": true,
           "showland": true,
           "subunitcolor": "white"
          },
          "hoverlabel": {
           "align": "left"
          },
          "hovermode": "closest",
          "mapbox": {
           "style": "light"
          },
          "paper_bgcolor": "white",
          "plot_bgcolor": "#E5ECF6",
          "polar": {
           "angularaxis": {
            "gridcolor": "white",
            "linecolor": "white",
            "ticks": ""
           },
           "bgcolor": "#E5ECF6",
           "radialaxis": {
            "gridcolor": "white",
            "linecolor": "white",
            "ticks": ""
           }
          },
          "scene": {
           "xaxis": {
            "backgroundcolor": "#E5ECF6",
            "gridcolor": "white",
            "gridwidth": 2,
            "linecolor": "white",
            "showbackground": true,
            "ticks": "",
            "zerolinecolor": "white"
           },
           "yaxis": {
            "backgroundcolor": "#E5ECF6",
            "gridcolor": "white",
            "gridwidth": 2,
            "linecolor": "white",
            "showbackground": true,
            "ticks": "",
            "zerolinecolor": "white"
           },
           "zaxis": {
            "backgroundcolor": "#E5ECF6",
            "gridcolor": "white",
            "gridwidth": 2,
            "linecolor": "white",
            "showbackground": true,
            "ticks": "",
            "zerolinecolor": "white"
           }
          },
          "shapedefaults": {
           "line": {
            "color": "#2a3f5f"
           }
          },
          "ternary": {
           "aaxis": {
            "gridcolor": "white",
            "linecolor": "white",
            "ticks": ""
           },
           "baxis": {
            "gridcolor": "white",
            "linecolor": "white",
            "ticks": ""
           },
           "bgcolor": "#E5ECF6",
           "caxis": {
            "gridcolor": "white",
            "linecolor": "white",
            "ticks": ""
           }
          },
          "title": {
           "x": 0.05
          },
          "xaxis": {
           "automargin": true,
           "gridcolor": "white",
           "linecolor": "white",
           "ticks": "",
           "zerolinecolor": "white",
           "zerolinewidth": 2
          },
          "yaxis": {
           "automargin": true,
           "gridcolor": "white",
           "linecolor": "white",
           "ticks": "",
           "zerolinecolor": "white",
           "zerolinewidth": 2
          }
         }
        },
        "title": {
         "font": {
          "color": "#9398A4"
         },
         "text": "Cost Function for alpha = 0.02"
        },
        "width": 500,
        "xaxis": {
         "autorange": true,
         "gridcolor": "#3F434F",
         "range": [
          1,
          1000
         ],
         "tickfont": {
          "color": "#ffffff"
         },
         "title": {
          "font": {
           "color": "#ffffff"
          }
         },
         "type": "linear",
         "zeroline": false
        },
        "yaxis": {
         "autorange": true,
         "gridcolor": "#3F434F",
         "range": [
          142.29438017948166,
          3633.382486153875
         ],
         "tickfont": {
          "color": "#ffffff"
         },
         "title": {
          "font": {
           "color": "#ffffff"
          }
         },
         "type": "linear",
         "zeroline": false
        }
       }
      },
      "image/png": "[encoded data removed]",
      "text/html": [
       "<div>\n",
       "        \n",
       "        \n",
       "            <div id=\"b8481688-6e00-4815-8e3d-3cb97bc5ec0e\" class=\"plotly-graph-div\" style=\"height:500px; width:500px;\"></div>\n",
       "            <script type=\"text/javascript\">\n",
       "                require([\"plotly\"], function(Plotly) {\n",
       "                    window.PLOTLYENV=window.PLOTLYENV || {};\n",
       "                    \n",
       "                if (document.getElementById(\"b8481688-6e00-4815-8e3d-3cb97bc5ec0e\")) {\n",
       "                    Plotly.newPlot(\n",
       "                        'b8481688-6e00-4815-8e3d-3cb97bc5ec0e',\n",
       "                        [{\"marker\": {\"color\": \"yellow\", \"size\": 3}, \"mode\": \"lines\", \"name\": \"Cost Function\", \"opacity\": 0.5, \"type\": \"scatter\", \"x\": [1.0, 2.0, 3.0, 4.0, 5.0, 6.0, 7.0, 8.0, 9.0, 10.0, 11.0, 12.0, 13.0, 14.0, 15.0, 16.0, 17.0, 18.0, 19.0, 20.0, 21.0, 22.0, 23.0, 24.0, 25.0, 26.0, 27.0, 28.0, 29.0, 30.0, 31.0, 32.0, 33.0, 34.0, 35.0, 36.0, 37.0, 38.0, 39.0, 40.0, 41.0, 42.0, 43.0, 44.0, 45.0, 46.0, 47.0, 48.0, 49.0, 50.0, 51.0, 52.0, 53.0, 54.0, 55.0, 56.0, 57.0, 58.0, 59.0, 60.0, 61.0, 62.0, 63.0, 64.0, 65.0, 66.0, 67.0, 68.0, 69.0, 70.0, 71.0, 72.0, 73.0, 74.0, 75.0, 76.0, 77.0, 78.0, 79.0, 80.0, 81.0, 82.0, 83.0, 84.0, 85.0, 86.0, 87.0, 88.0, 89.0, 90.0, 91.0, 92.0, 93.0, 94.0, 95.0, 96.0, 97.0, 98.0, 99.0, 100.0, 101.0, 102.0, 103.0, 104.0, 105.0, 106.0, 107.0, 108.0, 109.0, 110.0, 111.0, 112.0, 113.0, 114.0, 115.0, 116.0, 117.0, 118.0, 119.0, 120.0, 121.0, 122.0, 123.0, 124.0, 125.0, 126.0, 127.0, 128.0, 129.0, 130.0, 131.0, 132.0, 133.0, 134.0, 135.0, 136.0, 137.0, 138.0, 139.0, 140.0, 141.0, 142.0, 143.0, 144.0, 145.0, 146.0, 147.0, 148.0, 149.0, 150.0, 151.0, 152.0, 153.0, 154.0, 155.0, 156.0, 157.0, 158.0, 159.0, 160.0, 161.0, 162.0, 163.0, 164.0, 165.0, 166.0, 167.0, 168.0, 169.0, 170.0, 171.0, 172.0, 173.0, 174.0, 175.0, 176.0, 177.0, 178.0, 179.0, 180.0, 181.0, 182.0, 183.0, 184.0, 185.0, 186.0, 187.0, 188.0, 189.0, 190.0, 191.0, 192.0, 193.0, 194.0, 195.0, 196.0, 197.0, 198.0, 199.0, 200.0, 201.0, 202.0, 203.0, 204.0, 205.0, 206.0, 207.0, 208.0, 209.0, 210.0, 211.0, 212.0, 213.0, 214.0, 215.0, 216.0, 217.0, 218.0, 219.0, 220.0, 221.0, 222.0, 223.0, 224.0, 225.0, 226.0, 227.0, 228.0, 229.0, 230.0, 231.0, 232.0, 233.0, 234.0, 235.0, 236.0, 237.0, 238.0, 239.0, 240.0, 241.0, 242.0, 243.0, 244.0, 245.0, 246.0, 247.0, 248.0, 249.0, 250.0, 251.0, 252.0, 253.0, 254.0, 255.0, 256.0, 257.0, 258.0, 259.0, 260.0, 261.0, 262.0, 263.0, 264.0, 265.0, 266.0, 267.0, 268.0, 269.0, 270.0, 271.0, 272.0, 273.0, 274.0, 275.0, 276.0, 277.0, 278.0, 279.0, 280.0, 281.0, 282.0, 283.0, 284.0, 285.0, 286.0, 287.0, 288.0, 289.0, 290.0, 291.0, 292.0, 293.0, 294.0, 295.0, 296.0, 297.0, 298.0, 299.0, 300.0, 301.0, 302.0, 303.0, 304.0, 305.0, 306.0, 307.0, 308.0, 309.0, 310.0, 311.0, 312.0, 313.0, 314.0, 315.0, 316.0, 317.0, 318.0, 319.0, 320.0, 321.0, 322.0, 323.0, 324.0, 325.0, 326.0, 327.0, 328.0, 329.0, 330.0, 331.0, 332.0, 333.0, 334.0, 335.0, 336.0, 337.0, 338.0, 339.0, 340.0, 341.0, 342.0, 343.0, 344.0, 345.0, 346.0, 347.0, 348.0, 349.0, 350.0, 351.0, 352.0, 353.0, 354.0, 355.0, 356.0, 357.0, 358.0, 359.0, 360.0, 361.0, 362.0, 363.0, 364.0, 365.0, 366.0, 367.0, 368.0, 369.0, 370.0, 371.0, 372.0, 373.0, 374.0, 375.0, 376.0, 377.0, 378.0, 379.0, 380.0, 381.0, 382.0, 383.0, 384.0, 385.0, 386.0, 387.0, 388.0, 389.0, 390.0, 391.0, 392.0, 393.0, 394.0, 395.0, 396.0, 397.0, 398.0, 399.0, 400.0, 401.0, 402.0, 403.0, 404.0, 405.0, 406.0, 407.0, 408.0, 409.0, 410.0, 411.0, 412.0, 413.0, 414.0, 415.0, 416.0, 417.0, 418.0, 419.0, 420.0, 421.0, 422.0, 423.0, 424.0, 425.0, 426.0, 427.0, 428.0, 429.0, 430.0, 431.0, 432.0, 433.0, 434.0, 435.0, 436.0, 437.0, 438.0, 439.0, 440.0, 441.0, 442.0, 443.0, 444.0, 445.0, 446.0, 447.0, 448.0, 449.0, 450.0, 451.0, 452.0, 453.0, 454.0, 455.0, 456.0, 457.0, 458.0, 459.0, 460.0, 461.0, 462.0, 463.0, 464.0, 465.0, 466.0, 467.0, 468.0, 469.0, 470.0, 471.0, 472.0, 473.0, 474.0, 475.0, 476.0, 477.0, 478.0, 479.0, 480.0, 481.0, 482.0, 483.0, 484.0, 485.0, 486.0, 487.0, 488.0, 489.0, 490.0, 491.0, 492.0, 493.0, 494.0, 495.0, 496.0, 497.0, 498.0, 499.0, 500.0, 501.0, 502.0, 503.0, 504.0, 505.0, 506.0, 507.0, 508.0, 509.0, 510.0, 511.0, 512.0, 513.0, 514.0, 515.0, 516.0, 517.0, 518.0, 519.0, 520.0, 521.0, 522.0, 523.0, 524.0, 525.0, 526.0, 527.0, 528.0, 529.0, 530.0, 531.0, 532.0, 533.0, 534.0, 535.0, 536.0, 537.0, 538.0, 539.0, 540.0, 541.0, 542.0, 543.0, 544.0, 545.0, 546.0, 547.0, 548.0, 549.0, 550.0, 551.0, 552.0, 553.0, 554.0, 555.0, 556.0, 557.0, 558.0, 559.0, 560.0, 561.0, 562.0, 563.0, 564.0, 565.0, 566.0, 567.0, 568.0, 569.0, 570.0, 571.0, 572.0, 573.0, 574.0, 575.0, 576.0, 577.0, 578.0, 579.0, 580.0, 581.0, 582.0, 583.0, 584.0, 585.0, 586.0, 587.0, 588.0, 589.0, 590.0, 591.0, 592.0, 593.0, 594.0, 595.0, 596.0, 597.0, 598.0, 599.0, 600.0, 601.0, 602.0, 603.0, 604.0, 605.0, 606.0, 607.0, 608.0, 609.0, 610.0, 611.0, 612.0, 613.0, 614.0, 615.0, 616.0, 617.0, 618.0, 619.0, 620.0, 621.0, 622.0, 623.0, 624.0, 625.0, 626.0, 627.0, 628.0, 629.0, 630.0, 631.0, 632.0, 633.0, 634.0, 635.0, 636.0, 637.0, 638.0, 639.0, 640.0, 641.0, 642.0, 643.0, 644.0, 645.0, 646.0, 647.0, 648.0, 649.0, 650.0, 651.0, 652.0, 653.0, 654.0, 655.0, 656.0, 657.0, 658.0, 659.0, 660.0, 661.0, 662.0, 663.0, 664.0, 665.0, 666.0, 667.0, 668.0, 669.0, 670.0, 671.0, 672.0, 673.0, 674.0, 675.0, 676.0, 677.0, 678.0, 679.0, 680.0, 681.0, 682.0, 683.0, 684.0, 685.0, 686.0, 687.0, 688.0, 689.0, 690.0, 691.0, 692.0, 693.0, 694.0, 695.0, 696.0, 697.0, 698.0, 699.0, 700.0, 701.0, 702.0, 703.0, 704.0, 705.0, 706.0, 707.0, 708.0, 709.0, 710.0, 711.0, 712.0, 713.0, 714.0, 715.0, 716.0, 717.0, 718.0, 719.0, 720.0, 721.0, 722.0, 723.0, 724.0, 725.0, 726.0, 727.0, 728.0, 729.0, 730.0, 731.0, 732.0, 733.0, 734.0, 735.0, 736.0, 737.0, 738.0, 739.0, 740.0, 741.0, 742.0, 743.0, 744.0, 745.0, 746.0, 747.0, 748.0, 749.0, 750.0, 751.0, 752.0, 753.0, 754.0, 755.0, 756.0, 757.0, 758.0, 759.0, 760.0, 761.0, 762.0, 763.0, 764.0, 765.0, 766.0, 767.0, 768.0, 769.0, 770.0, 771.0, 772.0, 773.0, 774.0, 775.0, 776.0, 777.0, 778.0, 779.0, 780.0, 781.0, 782.0, 783.0, 784.0, 785.0, 786.0, 787.0, 788.0, 789.0, 790.0, 791.0, 792.0, 793.0, 794.0, 795.0, 796.0, 797.0, 798.0, 799.0, 800.0, 801.0, 802.0, 803.0, 804.0, 805.0, 806.0, 807.0, 808.0, 809.0, 810.0, 811.0, 812.0, 813.0, 814.0, 815.0, 816.0, 817.0, 818.0, 819.0, 820.0, 821.0, 822.0, 823.0, 824.0, 825.0, 826.0, 827.0, 828.0, 829.0, 830.0, 831.0, 832.0, 833.0, 834.0, 835.0, 836.0, 837.0, 838.0, 839.0, 840.0, 841.0, 842.0, 843.0, 844.0, 845.0, 846.0, 847.0, 848.0, 849.0, 850.0, 851.0, 852.0, 853.0, 854.0, 855.0, 856.0, 857.0, 858.0, 859.0, 860.0, 861.0, 862.0, 863.0, 864.0, 865.0, 866.0, 867.0, 868.0, 869.0, 870.0, 871.0, 872.0, 873.0, 874.0, 875.0, 876.0, 877.0, 878.0, 879.0, 880.0, 881.0, 882.0, 883.0, 884.0, 885.0, 886.0, 887.0, 888.0, 889.0, 890.0, 891.0, 892.0, 893.0, 894.0, 895.0, 896.0, 897.0, 898.0, 899.0, 900.0, 901.0, 902.0, 903.0, 904.0, 905.0, 906.0, 907.0, 908.0, 909.0, 910.0, 911.0, 912.0, 913.0, 914.0, 915.0, 916.0, 917.0, 918.0, 919.0, 920.0, 921.0, 922.0, 923.0, 924.0, 925.0, 926.0, 927.0, 928.0, 929.0, 930.0, 931.0, 932.0, 933.0, 934.0, 935.0, 936.0, 937.0, 938.0, 939.0, 940.0, 941.0, 942.0, 943.0, 944.0, 945.0, 946.0, 947.0, 948.0, 949.0, 950.0, 951.0, 952.0, 953.0, 954.0, 955.0, 956.0, 957.0, 958.0, 959.0, 960.0, 961.0, 962.0, 963.0, 964.0, 965.0, 966.0, 967.0, 968.0, 969.0, 970.0, 971.0, 972.0, 973.0, 974.0, 975.0, 976.0, 977.0, 978.0, 979.0, 980.0, 981.0, 982.0, 983.0, 984.0, 985.0, 986.0, 987.0, 988.0, 989.0, 990.0, 991.0, 992.0, 993.0, 994.0, 995.0, 996.0, 997.0, 998.0, 999.0, 1000.0], \"y\": [3458.8280808551553, 3343.2417680876965, 3231.931234067515, 3124.737384207401, 3021.5070795590314, 2922.0929124730023, 2826.352990763013, 2734.150730049767, 2645.354653972626, 2559.8382019690544, 2477.4795443333173, 2398.1614042770702, 2321.7708867250344, 2248.1993135892176, 2177.3420652749683, 2109.0984281815995, 2043.3714479694202, 1980.0677883737358, 1919.0975953547957, 1860.374366380744, 1803.814824648382, 1749.3387980540451, 1696.8691027340506, 1646.3314310011035, 1597.6542435096603, 1550.7686654896577, 1505.60838689414, 1462.1095663122135, 1420.2107385044455, 1379.852725423282, 1340.9785505862872, 1303.533356675072, 1267.4643262376267, 1232.7206053764323, 1199.2532303092148, 1167.015056693524, 1135.9606916104606, 1106.0464281068705, 1077.2301821991582, 1049.4714322455627, 1022.7311605972849, 996.9717974422693, 972.157166758721, 948.2524342986048, 925.2240575243865, 903.0397374252213, 881.6683721415803, 861.0800123300146, 841.2458182023538, 822.1380181761255, 803.7298690753912, 785.9956178234991, 768.9104645714749, 752.4505272079134, 736.5928071982818, 721.3151567035255, 706.596246929768, 692.4155376627224, 678.7532479421961, 665.590327833752, 652.9084312562252, 640.689889825358, 628.9176876753137, 617.575437221287, 606.6473558278155, 596.1182433487382, 585.9734605060357, 576.1989080760243, 566.781006852573, 557.7066783581527, 548.9633262746373, 540.5388185668304, 532.4214702727202, 524.6000269354394, 517.0636486528575, 509.80189472164005, 502.8047088534812, 496.0624049420614, 489.5656533600883, 483.3054677665585, 477.2731924051257, 471.46048987518293, 465.85932935795876, 460.4619752805935, 455.2609764018064, 450.24915530337535, 445.41959827225236, 440.76564555870596, 436.2808819964276, 431.959127971077, 427.7944307242406, 423.78105598027366, 419.9134798839656, 416.18638123741965, 412.59463402497715, 409.1333002154351, 405.79762283120726, 402.5830192744715, 399.485074900718, 396.49953683047215, 393.622307990311, 390.84944137463134, 388.17713451993825, 385.60172418374043, 383.11968122042975, 380.72760564681033, 378.42222189021754, 376.2003742124282, 374.0590223028266, 371.995237034521, 370.0061963773584, 368.08918146199846, 366.2415727894316, 364.46084658053667, 362.7445712604733, 361.09040407290144, 359.4960878192027, 357.95944771806745, 356.47838838097306, 355.050890899256, 353.67501003863663, 352.3488715372074, 351.070669503051, 349.83866390779076, 348.65117817251894, 347.50659684267777, 346.4033633485979, 345.33997784851994, 344.314995151045, 343.32702271407237, 342.3747187173915, 341.45679020620577, 340.5719913029576, 339.71912148493305, 338.8970239252103, 338.10458389460985, 337.3407272223903, 336.60441881352125, 335.8946612204382, 335.2104932672695, 334.55098872459604, 333.91525503287835, 333.30243207275174, 332.71169098046335, 332.14223300677986, 331.5932884177679, 331.06411543589616, 330.55399921997775, 330.06225088251705, 329.588206543082, 329.13122641637693, 328.6906939337345, 328.2660148967956, 327.8566166621933, 327.4619473560978, 327.0814751175235, 326.71468736933826, 326.3610901159575, 326.0202072667389, 325.69157998413414, 325.3747660556857, 325.06933928899355, 324.77488892880484, 324.4910190954163, 324.21734824360357, 323.9535086413253, 323.69914586747416, 323.453918327976, 323.21749678956354, 322.9895639305754, 322.76981390815536, 322.5579519412511, 322.3536939088314, 322.156765962765, 321.9669041548219, 321.78385407728086, 321.60737051664296, 321.4372171199723, 321.27316607339907, 321.11499779234265, 320.9625006230215, 320.81547055483986, 320.67371094325114, 320.5370322427154, 320.4052517493808, 320.27819335313393, 320.1556872986754, 320.0375699552917, 319.9236835950037, 319.81387617878835, 319.70800115057386, 319.60591723873006, 319.50748826477417, 319.41258295903367, 319.3210747830077, 319.23284175818566, 319.14776630108526, 319.0657350642842, 318.98663878322515, 318.9103721285856, 318.83683356400763, 318.7659252089925, 318.6975527067727, 318.6316250969783, 318.5680546929253, 318.50675696335327, 318.4476504184557, 318.39065650004187, 318.33569947568196, 318.2827063366904, 318.2316066998067, 318.1823327124403, 318.13481896134806, 318.08900238462127, 318.04482218686104, 318.002219757425, 317.96113859163535, 317.9215242148399, 317.883324109221, 317.8464876432554, 317.81096600372496, 317.7767121301893, 317.7436806518277, 317.7118278265661, 317.68111148240644, 317.6514909608752, 317.6229270625197, 317.5953819943719, 317.56881931931287, 317.5432039072661, 317.5185018881546, 317.4946806065578, 317.4717085780057, 317.4495554468517, 317.42819194566715, 317.4075898561012, 317.3877219711536, 317.3685620588097, 317.35008482698754, 317.33226588974975, 317.31508173473424, 317.29850969175976, 317.28252790256414, 317.26711529163333, 317.2522515380823, 317.23791704854995, 317.22409293107046, 317.21076096988713, 317.19790360117275, 317.1855038896257, 317.17354550590875, 317.1620127049, 317.15089030472853, 317.14016366656296, 317.1298186751295, 317.1198417199303, 317.110219677138, 317.1009398921418, 317.0919901627225, 317.083358722831, 317.0750342269524, 317.067005735031, 317.059262697938, 317.05179494346226, 317.0445926628035, 317.0376463975527, 317.0309470271386, 317.02448575672713, 317.0182541055545, 317.01224389568006, 317.00644724114267, 317.00085653750745, 316.995464451787, 316.9902639127251, 316.98524810142925, 316.9804104423396, 316.97574459452153, 316.97124444327136, 316.96690409202324, 316.96271785454576, 316.9586802474199, 316.95478598278544, 316.9510299613479, 316.94740726563725, 316.9439131535071, 316.9405430518673, 316.9372925506421, 316.93415739694376, 316.9311334894555, 316.9282168730159, 316.92540373339716, 316.9226903922703, 316.920073302351, 316.9175490427196, 316.9151143143076, 316.9127659355474, 316.9105008381765, 316.90831606319244, 316.90620875695276, 316.9041761674141, 316.90221564050626, 316.9003246166358, 316.8985006273152, 316.8967412919117, 316.8950443145137, 316.89340748090814, 316.8918286556666, 316.8903057793352, 316.8888368657262, 316.88741999930403, 316.8860533326673, 316.88473508411977, 316.8834635353272, 316.88223702905987, 316.88105396701434, 316.8799128077133, 316.8788120644814, 316.8777503034914, 316.87672614188244, 316.8757382459438, 316.8747853293647, 316.8738661515451, 316.8729795159688, 316.8721242686331, 316.8712992965347, 316.87050352621054, 316.86973592232965, 316.86899548633613, 316.8682812551398, 316.86759229985404, 316.8669277245785, 316.8662866652253, 316.86566828838727, 316.86507179024596, 316.8644963955193, 316.8639413564464, 316.8634059518084, 316.8628894859848, 316.8623912880428, 316.86191071085955, 316.86144713027534, 316.8609999442776, 316.86056857221274, 316.8601524540275, 316.85975104953644, 316.8593638377159, 316.8589903160227, 316.85862999973784, 316.8582824213325, 316.85794712985785, 316.8576236903557, 316.8573116832902, 316.85701070400046, 316.856720362172, 316.8564402813266, 316.8561700983322, 316.85590946292757, 316.8556580372661, 316.8554154954747, 316.85518152322874, 316.85495581734216, 316.8547380853719, 316.8545280452365, 316.8543254248489, 316.85412996176075, 316.85394140282114, 316.8537595038464, 316.85358402930194, 316.8534147519953, 316.85325145278034, 316.85309392027153, 316.85294195056895, 316.8527953469926, 316.85265391982625, 316.85251748607084, 316.8523858692058, 316.8522588989597, 316.85213641108805, 316.8520182471607, 316.8519042543545, 316.8517942852554, 316.85168819766614, 316.85158585442167, 316.85148712321086, 316.85139187640397, 316.8512999908875, 316.85121134790325, 316.85112583289464, 316.8510433353579, 316.85096374869795, 316.8508869700903, 316.85081290034736, 316.85074144378973, 316.8506725081219, 316.8506060043119, 316.85054184647663, 316.8504799517699, 316.8504202402744, 316.8503626348989, 316.8503070612775, 316.8502534476732, 316.8502017248855, 316.8501518261598, 316.85010368710095, 316.8500572455902, 316.8500124417041, 316.84996921763724, 316.84992751762684, 316.8498872878808, 316.84984847650804, 316.8498110334509, 316.8497749104203, 316.8497400608335, 316.8497064397533, 316.8496740038303, 316.84964271124653, 316.8496125216607, 316.84958339615713, 316.84955529719446, 316.8495281885572, 316.8495020353089, 316.8494768037471, 316.8494524613595, 316.8494289767818, 316.84940631975735, 316.8493844610976, 316.84936337264514, 316.84934302723605, 316.849323398666, 316.8493044616554, 316.8492861918171, 316.84926856562504, 316.84925156038355, 316.84923515419786, 316.8492193259462, 316.84920405525213, 316.84918932245864, 316.84917510860197, 316.849161395388, 316.84914816516806, 316.8491354009161, 316.8491230862069, 316.849111205195, 316.8490997425938, 316.8490886836561, 316.8490780141548, 316.8490677203649, 316.8490577890457, 316.8490482074231, 316.84903896317417, 316.8490300444102, 316.8490214396619, 316.8490131378648, 316.84900512834406, 316.848997400802, 316.84898994530363, 316.8489827522644, 316.8489758124378, 316.8489691169035, 316.84896265705527, 316.8489564245908, 316.84895041150037, 316.8489446100564, 316.848939012804, 316.8489336125511, 316.84892840235904, 316.8489233755339, 316.8489185256174, 316.8489138463795, 316.8489093318092, 316.8489049761074, 316.8489007736799, 316.8488967191289, 316.84889280724764, 316.84888903301226, 316.8488853915761, 316.8488818782634, 316.8488784885632, 316.8488752181231, 316.84887206274453, 316.8488690183768, 316.8488660811115, 316.8488632471783, 316.84886051293984, 316.8488578748864, 316.8488553296323, 316.8488528739111, 316.84885050457126, 316.84884821857247, 316.8488460129811, 316.8488438849673, 316.8488418318007, 316.8488398508471, 316.8488379395652, 316.84883609550286, 316.84883431629487, 316.8488325996586, 316.84883094339233, 316.8488293453718, 316.8488278035474, 316.8488263159418, 316.84882488064716, 316.848823495823, 316.8488221596935, 316.8488208705454, 316.8488196267259, 316.84881842664015, 316.8488172687496, 316.84881615156985, 316.8488150736686, 316.84881403366427, 316.8488130302236, 316.8488120620605, 316.8488111279339, 316.84881022664695, 316.8488093570441, 316.84880851801114, 316.84880770847275, 316.84880692739165, 316.8488061737669, 316.8488054466328, 316.8488047450578, 316.848804068143, 316.84880341502117, 316.8488027848555, 316.8488021768388, 316.84880159019207, 316.84880102416395, 316.8488004780295, 316.8487999510888, 316.8487994426674, 316.8487989521138, 316.84879847879995, 316.84879802211964, 316.848797581488, 316.8487971563408, 316.8487967461337, 316.84879635034133, 316.8487959684569, 316.84879559999166, 316.84879524447365, 316.8487949014477, 316.8487945704749, 316.8487942511313, 316.8487939430082, 316.8487936457112, 316.8487933588598, 316.8487930820865, 316.8487928150375, 316.8487925573708, 316.8487923087565, 316.84879206887666, 316.8487918374242, 316.8487916141028, 316.84879139862693, 316.84879119072053, 316.8487909901179, 316.8487907965621, 316.84879060980575, 316.8487904296096, 316.8487902557433, 316.84879008798436, 316.8487899261182, 316.84878976993764, 316.848789619243, 316.8487894738414, 316.848789333547, 316.8487891981802, 316.8487890675679, 316.84878894154315, 316.8487888199446, 316.8487887026168, 316.84878858940965, 316.8487884801785, 316.84878837478345, 316.84878827309, 316.8487881749678, 316.84878808029157, 316.8487879889403, 316.84878790079705, 316.84878781574923, 316.8487877336879, 316.8487876545083, 316.8487875781092, 316.84878750439293, 316.8487874332651, 316.84878736463503, 316.8487872984148, 316.84878723451976, 316.8487871728683, 316.8487871133816, 316.84878705598373, 316.84878700060113, 316.8487869471631, 316.8487868956014, 316.84878684585, 316.8487867978454, 316.8487867515262, 316.8487867068333, 316.8487866637095, 316.84878662209974, 316.8487865819507, 316.8487865432114, 316.8487865058321, 316.84878646976506, 316.84878643496415, 316.848786401385, 316.84878636898463, 316.8487863377218, 316.84878630755634, 316.8487862784499, 316.8487862503652, 316.8487862232664, 316.84878619711884, 316.8487861718892, 316.848786147545, 316.84878612405544, 316.8487861013906, 316.84878607952106, 316.8487860584193, 316.84878603805817, 316.84878601841183, 316.84878599945506, 316.8487859811637, 316.84878596351416, 316.8487859464843, 316.8487859300521, 316.8487859141967, 316.8487858988977, 316.8487858841357, 316.8487858698918, 316.8487858561478, 316.8487858428862, 316.84878583009004, 316.8487858177429, 316.84878580582915, 316.84878579433354, 316.84878578324134, 316.8487857725384, 316.8487857622111, 316.8487857522463, 316.8487857426311, 316.8487857333534, 316.8487857244012, 316.8487857157632, 316.8487857074283, 316.848785699386, 316.84878569162584, 316.84878568413797, 316.8487856769128, 316.8487856699413, 316.8487856632144, 316.8487856567235, 316.8487856504604, 316.8487856444171, 316.8487856385859, 316.84878563295916, 316.84878562753, 316.8487856222913, 316.84878561723633, 316.8487856123588, 316.8487856076525, 316.84878560311114, 316.84878559872925, 316.84878559450107, 316.8487855904213, 316.84878558648455, 316.84878558268605, 316.8487855790207, 316.84878557548404, 316.84878557207145, 316.8487855687786, 316.8487855656013, 316.8487855625354, 316.8487855595771, 316.8487855567227, 316.84878555396824, 316.8487855513105, 316.84878554874615, 316.84878554627153, 316.8487855438839, 316.84878554157996, 316.84878553935675, 316.84878553721177, 316.8487855351419, 316.8487855331447, 316.84878553121746, 316.84878552935777, 316.8487855275635, 316.848785525832, 316.8487855241615, 316.84878552254946, 316.84878552099394, 316.848785519493, 316.84878551804474, 316.84878551664724, 316.84878551529874, 316.8487855139976, 316.8487855127421, 316.84878551153065, 316.84878551036167, 316.8487855092337, 316.8487855081453, 316.8487855070951, 316.84878550608164, 316.8487855051039, 316.84878550416033, 316.84878550324987, 316.84878550237136, 316.84878550152365, 316.8487855007057, 316.8487854999164, 316.84878549915487, 316.84878549841994, 316.8487854977109, 316.84878549702665, 316.8487854963664, 316.8487854957293, 316.8487854951146, 316.84878549452134, 316.84878549394904, 316.84878549339675, 316.84878549286395, 316.84878549234963, 316.8487854918534, 316.84878549137466, 316.8487854909128, 316.8487854904669, 316.84878549003673, 316.8487854896217, 316.84878548922114, 316.8487854888347, 316.8487854884618, 316.84878548810195, 316.8487854877548, 316.8487854874197, 316.84878548709645, 316.8487854867845, 316.8487854864835, 316.8487854861931, 316.84878548591274, 316.8487854856423, 316.8487854853814, 316.84878548512955, 316.8487854848866, 316.8487854846521, 316.84878548442595, 316.84878548420767, 316.84878548399706, 316.8487854837938, 316.8487854835976, 316.84878548340845, 316.84878548322575, 316.8487854830496, 316.84878548287963, 316.8487854827155, 316.84878548255716, 316.84878548240437, 316.84878548225703, 316.84878548211475, 316.84878548197753, 316.84878548184514, 316.8487854817173, 316.84878548159395, 316.84878548147503, 316.84878548136015, 316.8487854812494, 316.8487854811425, 316.84878548103933, 316.8487854809398, 316.84878548084373, 316.8487854807511, 316.84878548066166, 316.8487854805755, 316.84878548049215, 316.8487854804118, 316.8487854803342, 316.84878548025944, 316.8487854801872, 316.8487854801175, 316.84878548005037, 316.8487854799854, 316.848785479923, 316.84878547986256, 316.8487854798043, 316.84878547974813, 316.8487854796938, 316.8487854796415, 316.8487854795909, 316.8487854795422, 316.8487854794952, 316.84878547944976, 316.84878547940593, 316.8487854793637, 316.8487854793229, 316.84878547928355, 316.8487854792456, 316.84878547920897, 316.8487854791736, 316.8487854791395, 316.84878547910654, 316.8487854790748, 316.8487854790441, 316.84878547901457, 316.8487854789861, 316.8487854789586, 316.8487854789319, 316.8487854789062, 316.8487854788816, 316.8487854788576, 316.84878547883466, 316.8487854788124, 316.848785478791, 316.84878547877025, 316.8487854787503, 316.8487854787311, 316.84878547871244, 316.8487854786945, 316.84878547867714, 316.8487854786605, 316.8487854786443, 316.84878547862877, 316.8487854786138, 316.8487854785993, 316.8487854785853, 316.8487854785718, 316.8487854785588, 316.84878547854623, 316.84878547853407, 316.8487854785224, 316.84878547851116, 316.84878547850025, 316.8487854784898, 316.8487854784796, 316.8487854784698, 316.8487854784604, 316.8487854784513, 316.8487854784425, 316.84878547843397, 316.8487854784258, 316.8487854784179, 316.8487854784102, 316.848785478403, 316.8487854783958, 316.84878547838906, 316.84878547838235, 316.848785478376, 316.84878547836985, 316.84878547836394, 316.8487854783582, 316.8487854783527, 316.84878547834734, 316.84878547834217, 316.8487854783372, 316.84878547833245, 316.8487854783278, 316.84878547832335, 316.84878547831903, 316.8487854783149, 316.84878547831084, 316.84878547830704, 316.84878547830334, 316.8487854782997, 316.8487854782962, 316.8487854782928, 316.8487854782896, 316.84878547828646, 316.84878547828345, 316.8487854782805, 316.8487854782777, 316.8487854782751, 316.8487854782725, 316.8487854782699, 316.8487854782675, 316.84878547826514, 316.8487854782629, 316.84878547826065, 316.84878547825866, 316.84878547825656, 316.8487854782546, 316.8487854782527, 316.8487854782509, 316.84878547824906, 316.84878547824735, 316.84878547824576, 316.84878547824417, 316.8487854782427, 316.8487854782412, 316.8487854782398, 316.84878547823837, 316.84878547823706, 316.8487854782358, 316.8487854782345, 316.8487854782333, 316.8487854782321, 316.84878547823115, 316.84878547823, 316.84878547822893, 316.84878547822797, 316.848785478227, 316.8487854782261, 316.8487854782251, 316.8487854782243, 316.84878547822353, 316.84878547822274, 316.84878547822194, 316.84878547822126, 316.84878547822046, 316.8487854782198, 316.84878547821904, 316.84878547821853, 316.84878547821774, 316.8487854782172, 316.84878547821666, 316.84878547821603, 316.8487854782155, 316.848785478215, 316.84878547821444, 316.848785478214, 316.8487854782135, 316.848785478213, 316.8487854782126, 316.8487854782122, 316.84878547821177, 316.84878547821137, 316.8487854782111, 316.8487854782107, 316.8487854782103, 316.84878547821, 316.84878547820966, 316.8487854782093, 316.848785478209, 316.84878547820864, 316.8487854782084, 316.84878547820813, 316.84878547820784, 316.8487854782077, 316.84878547820733, 316.84878547820716, 316.8487854782069, 316.84878547820676, 316.8487854782064, 316.8487854782063, 316.8487854782061, 316.8487854782059, 316.84878547820574, 316.8487854782055, 316.8487854782053, 316.8487854782052, 316.848785478205, 316.84878547820483, 316.8487854782046, 316.84878547820455, 316.8487854782044, 316.8487854782042, 316.84878547820415, 316.84878547820404, 316.8487854782039, 316.84878547820375, 316.8487854782037, 316.8487854782036, 316.84878547820347, 316.84878547820335, 316.8487854782032, 316.8487854782031, 316.848785478203, 316.84878547820296, 316.8487854782028, 316.84878547820273, 316.8487854782027, 316.8487854782027, 316.8487854782026, 316.8487854782025, 316.8487854782024, 316.8487854782024, 316.8487854782023, 316.8487854782023, 316.8487854782022, 316.8487854782021, 316.8487854782021, 316.84878547820205, 316.84878547820193, 316.8487854782019, 316.8487854782018, 316.8487854782018, 316.84878547820176, 316.84878547820176, 316.8487854782017, 316.84878547820165, 316.8487854782016, 316.8487854782015, 316.84878547820153, 316.8487854782014, 316.8487854782014, 316.8487854782015, 316.84878547820136, 316.84878547820136, 316.8487854782013, 316.8487854782013, 316.8487854782013]}],\n",
       "                        {\"height\": 500, \"legend\": {\"font\": {\"color\": \"#ffffff\"}}, \"paper_bgcolor\": \"#22252B\", \"plot_bgcolor\": \"#292C34\", \"showlegend\": true, \"template\": {\"data\": {\"bar\": [{\"error_x\": {\"color\": \"#2a3f5f\"}, \"error_y\": {\"color\": \"#2a3f5f\"}, \"marker\": {\"line\": {\"color\": \"#E5ECF6\", \"width\": 0.5}}, \"type\": \"bar\"}], \"barpolar\": [{\"marker\": {\"line\": {\"color\": \"#E5ECF6\", \"width\": 0.5}}, \"type\": \"barpolar\"}], \"carpet\": [{\"aaxis\": {\"endlinecolor\": \"#2a3f5f\", \"gridcolor\": \"white\", \"linecolor\": \"white\", \"minorgridcolor\": \"white\", \"startlinecolor\": \"#2a3f5f\"}, \"baxis\": {\"endlinecolor\": \"#2a3f5f\", \"gridcolor\": \"white\", \"linecolor\": \"white\", \"minorgridcolor\": \"white\", \"startlinecolor\": \"#2a3f5f\"}, \"type\": \"carpet\"}], \"choropleth\": [{\"colorbar\": {\"outlinewidth\": 0, \"ticks\": \"\"}, \"type\": \"choropleth\"}], \"contour\": [{\"colorbar\": {\"outlinewidth\": 0, \"ticks\": \"\"}, \"colorscale\": [[0.0, \"#0d0887\"], [0.1111111111111111, \"#46039f\"], [0.2222222222222222, \"#7201a8\"], [0.3333333333333333, \"#9c179e\"], [0.4444444444444444, \"#bd3786\"], [0.5555555555555556, \"#d8576b\"], [0.6666666666666666, \"#ed7953\"], [0.7777777777777778, \"#fb9f3a\"], [0.8888888888888888, \"#fdca26\"], [1.0, \"#f0f921\"]], \"type\": \"contour\"}], \"contourcarpet\": [{\"colorbar\": {\"outlinewidth\": 0, \"ticks\": \"\"}, \"type\": \"contourcarpet\"}], \"heatmap\": [{\"colorbar\": {\"outlinewidth\": 0, \"ticks\": \"\"}, \"colorscale\": [[0.0, \"#0d0887\"], [0.1111111111111111, \"#46039f\"], [0.2222222222222222, \"#7201a8\"], [0.3333333333333333, \"#9c179e\"], [0.4444444444444444, \"#bd3786\"], [0.5555555555555556, \"#d8576b\"], [0.6666666666666666, \"#ed7953\"], [0.7777777777777778, \"#fb9f3a\"], [0.8888888888888888, \"#fdca26\"], [1.0, \"#f0f921\"]], \"type\": \"heatmap\"}], \"heatmapgl\": [{\"colorbar\": {\"outlinewidth\": 0, \"ticks\": \"\"}, \"colorscale\": [[0.0, \"#0d0887\"], [0.1111111111111111, \"#46039f\"], [0.2222222222222222, \"#7201a8\"], [0.3333333333333333, \"#9c179e\"], [0.4444444444444444, \"#bd3786\"], [0.5555555555555556, \"#d8576b\"], [0.6666666666666666, \"#ed7953\"], [0.7777777777777778, \"#fb9f3a\"], [0.8888888888888888, \"#fdca26\"], [1.0, \"#f0f921\"]], \"type\": \"heatmapgl\"}], \"histogram\": [{\"marker\": {\"colorbar\": {\"outlinewidth\": 0, \"ticks\": \"\"}}, \"type\": \"histogram\"}], \"histogram2d\": [{\"colorbar\": {\"outlinewidth\": 0, \"ticks\": \"\"}, \"colorscale\": [[0.0, \"#0d0887\"], [0.1111111111111111, \"#46039f\"], [0.2222222222222222, \"#7201a8\"], [0.3333333333333333, \"#9c179e\"], [0.4444444444444444, \"#bd3786\"], [0.5555555555555556, \"#d8576b\"], [0.6666666666666666, \"#ed7953\"], [0.7777777777777778, \"#fb9f3a\"], [0.8888888888888888, \"#fdca26\"], [1.0, \"#f0f921\"]], \"type\": \"histogram2d\"}], \"histogram2dcontour\": [{\"colorbar\": {\"outlinewidth\": 0, \"ticks\": \"\"}, \"colorscale\": [[0.0, \"#0d0887\"], [0.1111111111111111, \"#46039f\"], [0.2222222222222222, \"#7201a8\"], [0.3333333333333333, \"#9c179e\"], [0.4444444444444444, \"#bd3786\"], [0.5555555555555556, \"#d8576b\"], [0.6666666666666666, \"#ed7953\"], [0.7777777777777778, \"#fb9f3a\"], [0.8888888888888888, \"#fdca26\"], [1.0, \"#f0f921\"]], \"type\": \"histogram2dcontour\"}], \"mesh3d\": [{\"colorbar\": {\"outlinewidth\": 0, \"ticks\": \"\"}, \"type\": \"mesh3d\"}], \"parcoords\": [{\"line\": {\"colorbar\": {\"outlinewidth\": 0, \"ticks\": \"\"}}, \"type\": \"parcoords\"}], \"scatter\": [{\"marker\": {\"colorbar\": {\"outlinewidth\": 0, \"ticks\": \"\"}}, \"type\": \"scatter\"}], \"scatter3d\": [{\"line\": {\"colorbar\": {\"outlinewidth\": 0, \"ticks\": \"\"}}, \"marker\": {\"colorbar\": {\"outlinewidth\": 0, \"ticks\": \"\"}}, \"type\": \"scatter3d\"}], \"scattercarpet\": [{\"marker\": {\"colorbar\": {\"outlinewidth\": 0, \"ticks\": \"\"}}, \"type\": \"scattercarpet\"}], \"scattergeo\": [{\"marker\": {\"colorbar\": {\"outlinewidth\": 0, \"ticks\": \"\"}}, \"type\": \"scattergeo\"}], \"scattergl\": [{\"marker\": {\"colorbar\": {\"outlinewidth\": 0, \"ticks\": \"\"}}, \"type\": \"scattergl\"}], \"scattermapbox\": [{\"marker\": {\"colorbar\": {\"outlinewidth\": 0, \"ticks\": \"\"}}, \"type\": \"scattermapbox\"}], \"scatterpolar\": [{\"marker\": {\"colorbar\": {\"outlinewidth\": 0, \"ticks\": \"\"}}, \"type\": \"scatterpolar\"}], \"scatterpolargl\": [{\"marker\": {\"colorbar\": {\"outlinewidth\": 0, \"ticks\": \"\"}}, \"type\": \"scatterpolargl\"}], \"scatterternary\": [{\"marker\": {\"colorbar\": {\"outlinewidth\": 0, \"ticks\": \"\"}}, \"type\": \"scatterternary\"}], \"surface\": [{\"colorbar\": {\"outlinewidth\": 0, \"ticks\": \"\"}, \"colorscale\": [[0.0, \"#0d0887\"], [0.1111111111111111, \"#46039f\"], [0.2222222222222222, \"#7201a8\"], [0.3333333333333333, \"#9c179e\"], [0.4444444444444444, \"#bd3786\"], [0.5555555555555556, \"#d8576b\"], [0.6666666666666666, \"#ed7953\"], [0.7777777777777778, \"#fb9f3a\"], [0.8888888888888888, \"#fdca26\"], [1.0, \"#f0f921\"]], \"type\": \"surface\"}], \"table\": [{\"cells\": {\"fill\": {\"color\": \"#EBF0F8\"}, \"line\": {\"color\": \"white\"}}, \"header\": {\"fill\": {\"color\": \"#C8D4E3\"}, \"line\": {\"color\": \"white\"}}, \"type\": \"table\"}]}, \"layout\": {\"annotationdefaults\": {\"arrowcolor\": \"#2a3f5f\", \"arrowhead\": 0, \"arrowwidth\": 1}, \"colorscale\": {\"diverging\": [[0, \"#8e0152\"], [0.1, \"#c51b7d\"], [0.2, \"#de77ae\"], [0.3, \"#f1b6da\"], [0.4, \"#fde0ef\"], [0.5, \"#f7f7f7\"], [0.6, \"#e6f5d0\"], [0.7, \"#b8e186\"], [0.8, \"#7fbc41\"], [0.9, \"#4d9221\"], [1, \"#276419\"]], \"sequential\": [[0.0, \"#0d0887\"], [0.1111111111111111, \"#46039f\"], [0.2222222222222222, \"#7201a8\"], [0.3333333333333333, \"#9c179e\"], [0.4444444444444444, \"#bd3786\"], [0.5555555555555556, \"#d8576b\"], [0.6666666666666666, \"#ed7953\"], [0.7777777777777778, \"#fb9f3a\"], [0.8888888888888888, \"#fdca26\"], [1.0, \"#f0f921\"]], \"sequentialminus\": [[0.0, \"#0d0887\"], [0.1111111111111111, \"#46039f\"], [0.2222222222222222, \"#7201a8\"], [0.3333333333333333, \"#9c179e\"], [0.4444444444444444, \"#bd3786\"], [0.5555555555555556, \"#d8576b\"], [0.6666666666666666, \"#ed7953\"], [0.7777777777777778, \"#fb9f3a\"], [0.8888888888888888, \"#fdca26\"], [1.0, \"#f0f921\"]]}, \"colorway\": [\"#636efa\", \"#EF553B\", \"#00cc96\", \"#ab63fa\", \"#FFA15A\", \"#19d3f3\", \"#FF6692\", \"#B6E880\", \"#FF97FF\", \"#FECB52\"], \"font\": {\"color\": \"#2a3f5f\"}, \"geo\": {\"bgcolor\": \"white\", \"lakecolor\": \"white\", \"landcolor\": \"#E5ECF6\", \"showlakes\": true, \"showland\": true, \"subunitcolor\": \"white\"}, \"hoverlabel\": {\"align\": \"left\"}, \"hovermode\": \"closest\", \"mapbox\": {\"style\": \"light\"}, \"paper_bgcolor\": \"white\", \"plot_bgcolor\": \"#E5ECF6\", \"polar\": {\"angularaxis\": {\"gridcolor\": \"white\", \"linecolor\": \"white\", \"ticks\": \"\"}, \"bgcolor\": \"#E5ECF6\", \"radialaxis\": {\"gridcolor\": \"white\", \"linecolor\": \"white\", \"ticks\": \"\"}}, \"scene\": {\"xaxis\": {\"backgroundcolor\": \"#E5ECF6\", \"gridcolor\": \"white\", \"gridwidth\": 2, \"linecolor\": \"white\", \"showbackground\": true, \"ticks\": \"\", \"zerolinecolor\": \"white\"}, \"yaxis\": {\"backgroundcolor\": \"#E5ECF6\", \"gridcolor\": \"white\", \"gridwidth\": 2, \"linecolor\": \"white\", \"showbackground\": true, \"ticks\": \"\", \"zerolinecolor\": \"white\"}, \"zaxis\": {\"backgroundcolor\": \"#E5ECF6\", \"gridcolor\": \"white\", \"gridwidth\": 2, \"linecolor\": \"white\", \"showbackground\": true, \"ticks\": \"\", \"zerolinecolor\": \"white\"}}, \"shapedefaults\": {\"line\": {\"color\": \"#2a3f5f\"}}, \"ternary\": {\"aaxis\": {\"gridcolor\": \"white\", \"linecolor\": \"white\", \"ticks\": \"\"}, \"baxis\": {\"gridcolor\": \"white\", \"linecolor\": \"white\", \"ticks\": \"\"}, \"bgcolor\": \"#E5ECF6\", \"caxis\": {\"gridcolor\": \"white\", \"linecolor\": \"white\", \"ticks\": \"\"}}, \"title\": {\"x\": 0.05}, \"xaxis\": {\"automargin\": true, \"gridcolor\": \"white\", \"linecolor\": \"white\", \"ticks\": \"\", \"zerolinecolor\": \"white\", \"zerolinewidth\": 2}, \"yaxis\": {\"automargin\": true, \"gridcolor\": \"white\", \"linecolor\": \"white\", \"ticks\": \"\", \"zerolinecolor\": \"white\", \"zerolinewidth\": 2}}}, \"title\": {\"font\": {\"color\": \"#9398A4\"}, \"text\": \"Cost Function for alpha = 0.02\"}, \"width\": 500, \"xaxis\": {\"gridcolor\": \"#3F434F\", \"tickfont\": {\"color\": \"#ffffff\"}, \"title\": {\"font\": {\"color\": \"#ffffff\"}}, \"zeroline\": false}, \"yaxis\": {\"gridcolor\": \"#3F434F\", \"tickfont\": {\"color\": \"#ffffff\"}, \"title\": {\"font\": {\"color\": \"#ffffff\"}}, \"zeroline\": false}},\n",
       "                        {\"responsive\": true}\n",
       "                    ).then(function(){\n",
       "                            \n",
       "var gd = document.getElementById('b8481688-6e00-4815-8e3d-3cb97bc5ec0e');\n",
       "var x = new MutationObserver(function (mutations, observer) {{\n",
       "        var display = window.getComputedStyle(gd).display;\n",
       "        if (!display || display === 'none') {{\n",
       "            console.log([gd, 'removed!']);\n",
       "            Plotly.purge(gd);\n",
       "            observer.disconnect();\n",
       "        }}\n",
       "}});\n",
       "\n",
       "// Listen for the removal of the full notebook cells\n",
       "var notebookContainer = gd.closest('#notebook-container');\n",
       "if (notebookContainer) {{\n",
       "    x.observe(notebookContainer, {childList: true});\n",
       "}}\n",
       "\n",
       "// Listen for the clearing of the current output cell\n",
       "var outputEl = gd.closest('.output');\n",
       "if (outputEl) {{\n",
       "    x.observe(outputEl, {childList: true});\n",
       "}}\n",
       "\n",
       "                        })\n",
       "                };\n",
       "                });\n",
       "            </script>\n",
       "        </div>"
      ]
     },
     "metadata": {},
     "output_type": "display_data"
    }
   ],
   "source": [
    "# set the parameter size\n",
    "m = len(X)\n",
    "\n",
    "# set the learning rate\n",
    "alpha = 0.02\n",
    "\n",
    "# set max iterations\n",
    "iterations = 1000\n",
    "\n",
    "# create the initial theta values\n",
    "thetas = np.ones(2)\n",
    "\n",
    "# add a column of 1's to a new X matrix\n",
    "X = np.ones((m, 2))\n",
    "X[:,1] = x[:,0]\n",
    "\n",
    "cost_function(thetas, X, y, m)\n",
    "\n",
    "thetas_new, j_history = gradient_descent(thetas, X, y, m, alpha, iters=iterations)\n",
    "\n",
    "x_axis = np.linspace(1, iterations, iterations)\n",
    "render(\n",
    "    go.Figure(\n",
    "        data = [ scatter(x_axis, j_history, 'Cost Function')]\n",
    "    ),\n",
    "    title='Cost Function for alpha = {}'.format(alpha)\n",
    ")\n"
   ]
  }
 ],
 "metadata": {
  "kernelspec": {
   "display_name": "Python 3",
   "language": "python",
   "name": "python3"
  },
  "language_info": {
   "codemirror_mode": {
    "name": "ipython",
    "version": 3
   },
   "file_extension": ".py",
   "mimetype": "text/x-python",
   "name": "python",
   "nbconvert_exporter": "python",
   "pygments_lexer": "ipython3",
   "version": "3.7.3"
  }
 },
 "nbformat": 4,
 "nbformat_minor": 4
}
