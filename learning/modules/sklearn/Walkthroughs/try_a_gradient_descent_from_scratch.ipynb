{
 "cells": [
  {
   "cell_type": "code",
   "execution_count": null,
   "metadata": {},
   "outputs": [],
   "source": [
    "import numpy as np\n",
    "\n",
    "import os, sys, plotly.graph_objects as go\n",
    "import plotly.figure_factory as ff\n",
    "module_path = os.path.abspath(os.path.join('../../../../..'))\n",
    "if module_path not in sys.path:\n",
    "    sys.path.append(module_path) \n",
    "\n",
    "from sklearn.naive_bayes import GaussianNB\n",
    "from sklearn import datasets \n",
    "\n",
    "from erudition.learning.helpers.plots.plotly_render import render, scatter"
   ]
  },
  {
   "cell_type": "code",
   "execution_count": null,
   "metadata": {},
   "outputs": [],
   "source": [
    "x,y = datasets.make_regression(n_features=1, n_samples=100, noise=25)\n",
    "\n",
    "render(go.Figure(data=[scatter(x[:,0], y, 'Data', mode='markers')]), title='Random scatter')"
   ]
  },
  {
   "cell_type": "code",
   "execution_count": null,
   "metadata": {},
   "outputs": [],
   "source": [
    "def cost_function(thetas, X, y, m):\n",
    "    dt = np.dot(X, thetas) - y\n",
    "    return np.dot(dt,dt)/(2*m)"
   ]
  },
  {
   "cell_type": "code",
   "execution_count": null,
   "metadata": {},
   "outputs": [],
   "source": [
    "def gradient_descent(thetas, X, y, m, alpha, iters = 10):\n",
    "    \n",
    "    t0 = thetas[0]\n",
    "    t1 = thetas[1]\n",
    "    \n",
    "    thetas_new = thetas.copy()\n",
    "    \n",
    "    j_history = np.zeros(iters)\n",
    "    \n",
    "    for _ in range(iters):\n",
    "        \n",
    "        thetas_new -= alpha * np.dot(X.T, (np.dot(X, thetas_new) - y)) / m\n",
    "        j_history[_] = cost_function(thetas_new, X, y, m)\n",
    "        \n",
    "    return thetas_new, j_history"
   ]
  },
  {
   "cell_type": "code",
   "execution_count": null,
   "metadata": {},
   "outputs": [],
   "source": [
    "# set the parameter size\n",
    "m = len(X)\n",
    "\n",
    "# set the learning rate\n",
    "alpha = 0.02\n",
    "\n",
    "# set max iterations\n",
    "iterations = 1000\n",
    "\n",
    "# create the initial theta values\n",
    "thetas = np.ones(2)\n",
    "\n",
    "# add a column of 1's to a new X matrix\n",
    "X = np.ones((m, 2))\n",
    "X[:,1] = x[:,0]\n",
    "\n",
    "cost_function(thetas, X, y, m)\n",
    "\n",
    "thetas_new, j_history = gradient_descent(thetas, X, y, m, alpha, iters=iterations)\n",
    "\n",
    "x_axis = np.linspace(1, iterations, iterations)\n",
    "render(\n",
    "    go.Figure(\n",
    "        data = [ scatter(x_axis, j_history, 'Cost Function')]\n",
    "    ),\n",
    "    title='Cost Function for alpha = {}'.format(alpha)\n",
    ")\n"
   ]
  }
 ],
 "metadata": {
  "kernelspec": {
   "display_name": "Python 3",
   "language": "python",
   "name": "python3"
  },
  "language_info": {
   "codemirror_mode": {
    "name": "ipython",
    "version": 3
   },
   "file_extension": ".py",
   "mimetype": "text/x-python",
   "name": "python",
   "nbconvert_exporter": "python",
   "pygments_lexer": "ipython3",
   "version": "3.7.3"
  }
 },
 "nbformat": 4,
 "nbformat_minor": 4
}
