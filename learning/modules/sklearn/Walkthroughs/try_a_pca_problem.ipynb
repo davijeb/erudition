{
 "cells": [
  {
   "cell_type": "markdown",
   "metadata": {},
   "source": [
    "# Context\n",
    "\n",
    "This is the halloween data set again but this time we will use **PRINCIPAL COMPONENT ANALYSIS** to reduce the dimension space and plot\n"
   ]
  },
  {
   "cell_type": "code",
   "execution_count": 3,
   "metadata": {},
   "outputs": [],
   "source": [
    "import numpy as np\n",
    "import pandas as pd\n",
    "from sklearn.decomposition import PCA\n",
    "import os, sys, plotly.graph_objects as go\n",
    "module_path = os.path.abspath(os.path.join('../../../../..'))\n",
    "if module_path not in sys.path:\n",
    "    sys.path.append(module_path) \n",
    "from erudition.learning.helpers.plots.plotly_render import render, scatter, bar, shape_rect"
   ]
  },
  {
   "cell_type": "markdown",
   "metadata": {},
   "source": [
    "Load the candy data dataset into a DataFrame"
   ]
  },
  {
   "cell_type": "code",
   "execution_count": 7,
   "metadata": {},
   "outputs": [],
   "source": [
    "df = pd.read_csv('~/notebooks/data/regression/halloween_candy/candy-data.csv')\n",
    "\n",
    "df.fillna('', inplace=True)\n",
    "\n",
    "X = df[[c for c in df.columns if c not in ['competitorname', 'chocolate']]]\n",
    "y = df[['chocolate']]"
   ]
  },
  {
   "cell_type": "markdown",
   "metadata": {},
   "source": [
    "Now fit the independent variable space to the PCA model"
   ]
  },
  {
   "cell_type": "code",
   "execution_count": 19,
   "metadata": {},
   "outputs": [],
   "source": [
    "pca = PCA(n_components=2)\n",
    "X_pca = pca.fit_transform(X)"
   ]
  },
  {
   "cell_type": "code",
   "execution_count": 54,
   "metadata": {},
   "outputs": [
    {
     "data": {
      "application/vnd.plotly.v1+json": {
       "config": {
        "plotlyServerURL": "https://plot.ly"
       },
       "data": [
        {
         "marker": {
          "color": [
           "white",
           "white",
           "orange",
           "orange",
           "orange",
           "white",
           "white",
           "orange",
           "orange",
           "orange",
           "white",
           "orange",
           "orange",
           "orange",
           "orange",
           "orange",
           "orange",
           "orange",
           "orange",
           "orange",
           "orange",
           "orange",
           "white",
           "white",
           "white",
           "white",
           "orange",
           "white",
           "white",
           "orange",
           "orange",
           "orange",
           "white",
           "white",
           "orange",
           "white",
           "white",
           "white",
           "white",
           "white",
           "white",
           "orange",
           "white",
           "white",
           "orange",
           "orange",
           "orange",
           "white",
           "orange",
           "orange",
           "orange",
           "white",
           "white",
           "white",
           "white",
           "orange",
           "white",
           "orange",
           "orange",
           "white",
           "orange",
           "orange",
           "white",
           "orange",
           "white",
           "white",
           "orange",
           "orange",
           "orange",
           "orange",
           "orange",
           "orange",
           "orange",
           "orange",
           "white",
           "white",
           "white",
           "white",
           "orange",
           "white",
           "orange",
           "orange",
           "orange",
           "orange",
           "white"
          ],
          "size": 5
         },
         "mode": "markers",
         "name": "",
         "opacity": 1,
         "type": "scatter",
         "x": [
          16.68201749441587,
          17.302321960484814,
          -18.048548201596404,
          -4.195453275317372,
          2.0182416160958394,
          0.060788474617517824,
          6.635219331238132,
          -26.882816786244135,
          -12.303863681577363,
          -15.796297648481161,
          -11.31529494658175,
          -14.308970199580152,
          -25.8017519984929,
          -8.056768568256501,
          -10.870106286011447,
          -7.246080785669922,
          -11.143104535604357,
          -3.554836346329393,
          6.78407816078905,
          -16.155486952695174,
          1.0788180175326296,
          -8.151523590661212,
          5.049402721339295,
          11.990094874868023,
          6.192090188237609,
          8.936725061722276,
          -22.207235197060555,
          6.89565144510719,
          26.465763671437333,
          -8.935405755211255,
          -11.192042118118753,
          2.5835924624860866,
          21.150346910088786,
          16.25133162542336,
          -3.919247848597325,
          4.747131626737108,
          22.80332960908289,
          10.508045443960802,
          14.059493200934657,
          -2.466450814956695,
          4.2385371866381,
          5.01166851089009,
          20.442172865220392,
          16.173261257048413,
          -27.87561594371464,
          -10.884533206324889,
          -3.9849509200325244,
          19.1687749593976,
          -12.597994659978506,
          -9.069442890135909,
          -12.981871379920047,
          31.55030895979611,
          33.869029302832566,
          23.117734429870076,
          22.581876178628963,
          -15.032157310526987,
          15.400320151349579,
          -20.61873332973731,
          -7.488945382599882,
          -15.596304390491156,
          12.747786452547977,
          4.769208095302043,
          -12.426036649707843,
          -4.347150992519555,
          26.38632325186562,
          9.25055634552154,
          9.523263436232552,
          2.4877402464100373,
          16.695376318466604,
          -15.7589461596028,
          -16.866984632749585,
          -18.070011139207736,
          -23.016294077340856,
          4.5288196728972805,
          -1.350040924136277,
          -7.240636913207039,
          -4.5861850581255075,
          -0.6462798852733833,
          -3.160939782306501,
          31.347427015225815,
          -4.860144965536788,
          -11.32086620210161,
          -5.957255497878229,
          -8.409679641774881,
          -0.7853810607671992
         ],
         "y": [
          0.8586806496937629,
          0.599355430178278,
          0.6943164695106545,
          0.43434617543678317,
          -0.23430419799904625,
          1.016368431639029,
          1.3164765086116925,
          0.5787316877027286,
          0.03567863228780999,
          0.42791378948327635,
          1.2922053932623947,
          -0.38531016546065044,
          -0.13413000300178346,
          -0.5366797810203366,
          -0.14613324997910465,
          -0.6399353631506394,
          -0.0839600453544274,
          -0.7938194689748901,
          -0.9014809811057208,
          0.16109126472961835,
          -0.7633531526259008,
          -0.5398809514548902,
          -0.41915963591433203,
          0.724355490743811,
          0.7499188130558206,
          0.6834695284438772,
          -0.32114711316280636,
          -0.3849072507866975,
          0.2976186600825111,
          -0.03608341944802787,
          -0.11652525811556241,
          -0.2844208425885882,
          -0.5637539193283299,
          -0.5924158913342336,
          -0.6740907124295387,
          -0.07147025674175098,
          0.7556174502321927,
          1.0116199442407305,
          0.8044943316809288,
          0.9499136352251082,
          0.9459264627230602,
          -1.0249459423715674,
          0.5212109404375821,
          0.5956872571306286,
          0.03852240961601824,
          -0.4974277262983519,
          1.312595989769208,
          -0.5129218451671095,
          -0.004852531849526702,
          -0.5832672022751725,
          -0.49100210378576825,
          -0.32839189565783755,
          -0.3219474544278121,
          -0.6062257156604947,
          -0.05197892840645497,
          0.1323983588822077,
          -0.2696237269083422,
          0.05532078069871468,
          -0.7313772764741918,
          0.07724897242283824,
          -1.0985082689085075,
          -0.9053420196630452,
          0.1708080223275844,
          -0.8311149881696098,
          0.8168553607400455,
          1.1475406480374488,
          -1.0295600249635926,
          -0.8592257166186409,
          -1.1843532216469348,
          -0.569622065410402,
          0.49253687792898854,
          0.9924436927357032,
          0.30553772877476826,
          -0.7932187270380697,
          -0.3194798087591912,
          0.5043528922996772,
          -0.20211210842846827,
          0.8018210584662526,
          -0.6989317502065772,
          0.5146959467922543,
          -0.134747969220056,
          -0.11169385020227278,
          -0.6201566803852485,
          0.6154157709883632,
          -0.028100248131825427
         ]
        }
       ],
       "layout": {
        "height": 500,
        "legend": {
         "font": {
          "color": "#ffffff"
         }
        },
        "paper_bgcolor": "#22252B",
        "plot_bgcolor": "#292C34",
        "showlegend": true,
        "template": {
         "data": {
          "bar": [
           {
            "error_x": {
             "color": "#2a3f5f"
            },
            "error_y": {
             "color": "#2a3f5f"
            },
            "marker": {
             "line": {
              "color": "#E5ECF6",
              "width": 0.5
             }
            },
            "type": "bar"
           }
          ],
          "barpolar": [
           {
            "marker": {
             "line": {
              "color": "#E5ECF6",
              "width": 0.5
             }
            },
            "type": "barpolar"
           }
          ],
          "carpet": [
           {
            "aaxis": {
             "endlinecolor": "#2a3f5f",
             "gridcolor": "white",
             "linecolor": "white",
             "minorgridcolor": "white",
             "startlinecolor": "#2a3f5f"
            },
            "baxis": {
             "endlinecolor": "#2a3f5f",
             "gridcolor": "white",
             "linecolor": "white",
             "minorgridcolor": "white",
             "startlinecolor": "#2a3f5f"
            },
            "type": "carpet"
           }
          ],
          "choropleth": [
           {
            "colorbar": {
             "outlinewidth": 0,
             "ticks": ""
            },
            "type": "choropleth"
           }
          ],
          "contour": [
           {
            "colorbar": {
             "outlinewidth": 0,
             "ticks": ""
            },
            "colorscale": [
             [
              0,
              "#0d0887"
             ],
             [
              0.1111111111111111,
              "#46039f"
             ],
             [
              0.2222222222222222,
              "#7201a8"
             ],
             [
              0.3333333333333333,
              "#9c179e"
             ],
             [
              0.4444444444444444,
              "#bd3786"
             ],
             [
              0.5555555555555556,
              "#d8576b"
             ],
             [
              0.6666666666666666,
              "#ed7953"
             ],
             [
              0.7777777777777778,
              "#fb9f3a"
             ],
             [
              0.8888888888888888,
              "#fdca26"
             ],
             [
              1,
              "#f0f921"
             ]
            ],
            "type": "contour"
           }
          ],
          "contourcarpet": [
           {
            "colorbar": {
             "outlinewidth": 0,
             "ticks": ""
            },
            "type": "contourcarpet"
           }
          ],
          "heatmap": [
           {
            "colorbar": {
             "outlinewidth": 0,
             "ticks": ""
            },
            "colorscale": [
             [
              0,
              "#0d0887"
             ],
             [
              0.1111111111111111,
              "#46039f"
             ],
             [
              0.2222222222222222,
              "#7201a8"
             ],
             [
              0.3333333333333333,
              "#9c179e"
             ],
             [
              0.4444444444444444,
              "#bd3786"
             ],
             [
              0.5555555555555556,
              "#d8576b"
             ],
             [
              0.6666666666666666,
              "#ed7953"
             ],
             [
              0.7777777777777778,
              "#fb9f3a"
             ],
             [
              0.8888888888888888,
              "#fdca26"
             ],
             [
              1,
              "#f0f921"
             ]
            ],
            "type": "heatmap"
           }
          ],
          "heatmapgl": [
           {
            "colorbar": {
             "outlinewidth": 0,
             "ticks": ""
            },
            "colorscale": [
             [
              0,
              "#0d0887"
             ],
             [
              0.1111111111111111,
              "#46039f"
             ],
             [
              0.2222222222222222,
              "#7201a8"
             ],
             [
              0.3333333333333333,
              "#9c179e"
             ],
             [
              0.4444444444444444,
              "#bd3786"
             ],
             [
              0.5555555555555556,
              "#d8576b"
             ],
             [
              0.6666666666666666,
              "#ed7953"
             ],
             [
              0.7777777777777778,
              "#fb9f3a"
             ],
             [
              0.8888888888888888,
              "#fdca26"
             ],
             [
              1,
              "#f0f921"
             ]
            ],
            "type": "heatmapgl"
           }
          ],
          "histogram": [
           {
            "marker": {
             "colorbar": {
              "outlinewidth": 0,
              "ticks": ""
             }
            },
            "type": "histogram"
           }
          ],
          "histogram2d": [
           {
            "colorbar": {
             "outlinewidth": 0,
             "ticks": ""
            },
            "colorscale": [
             [
              0,
              "#0d0887"
             ],
             [
              0.1111111111111111,
              "#46039f"
             ],
             [
              0.2222222222222222,
              "#7201a8"
             ],
             [
              0.3333333333333333,
              "#9c179e"
             ],
             [
              0.4444444444444444,
              "#bd3786"
             ],
             [
              0.5555555555555556,
              "#d8576b"
             ],
             [
              0.6666666666666666,
              "#ed7953"
             ],
             [
              0.7777777777777778,
              "#fb9f3a"
             ],
             [
              0.8888888888888888,
              "#fdca26"
             ],
             [
              1,
              "#f0f921"
             ]
            ],
            "type": "histogram2d"
           }
          ],
          "histogram2dcontour": [
           {
            "colorbar": {
             "outlinewidth": 0,
             "ticks": ""
            },
            "colorscale": [
             [
              0,
              "#0d0887"
             ],
             [
              0.1111111111111111,
              "#46039f"
             ],
             [
              0.2222222222222222,
              "#7201a8"
             ],
             [
              0.3333333333333333,
              "#9c179e"
             ],
             [
              0.4444444444444444,
              "#bd3786"
             ],
             [
              0.5555555555555556,
              "#d8576b"
             ],
             [
              0.6666666666666666,
              "#ed7953"
             ],
             [
              0.7777777777777778,
              "#fb9f3a"
             ],
             [
              0.8888888888888888,
              "#fdca26"
             ],
             [
              1,
              "#f0f921"
             ]
            ],
            "type": "histogram2dcontour"
           }
          ],
          "mesh3d": [
           {
            "colorbar": {
             "outlinewidth": 0,
             "ticks": ""
            },
            "type": "mesh3d"
           }
          ],
          "parcoords": [
           {
            "line": {
             "colorbar": {
              "outlinewidth": 0,
              "ticks": ""
             }
            },
            "type": "parcoords"
           }
          ],
          "scatter": [
           {
            "marker": {
             "colorbar": {
              "outlinewidth": 0,
              "ticks": ""
             }
            },
            "type": "scatter"
           }
          ],
          "scatter3d": [
           {
            "line": {
             "colorbar": {
              "outlinewidth": 0,
              "ticks": ""
             }
            },
            "marker": {
             "colorbar": {
              "outlinewidth": 0,
              "ticks": ""
             }
            },
            "type": "scatter3d"
           }
          ],
          "scattercarpet": [
           {
            "marker": {
             "colorbar": {
              "outlinewidth": 0,
              "ticks": ""
             }
            },
            "type": "scattercarpet"
           }
          ],
          "scattergeo": [
           {
            "marker": {
             "colorbar": {
              "outlinewidth": 0,
              "ticks": ""
             }
            },
            "type": "scattergeo"
           }
          ],
          "scattergl": [
           {
            "marker": {
             "colorbar": {
              "outlinewidth": 0,
              "ticks": ""
             }
            },
            "type": "scattergl"
           }
          ],
          "scattermapbox": [
           {
            "marker": {
             "colorbar": {
              "outlinewidth": 0,
              "ticks": ""
             }
            },
            "type": "scattermapbox"
           }
          ],
          "scatterpolar": [
           {
            "marker": {
             "colorbar": {
              "outlinewidth": 0,
              "ticks": ""
             }
            },
            "type": "scatterpolar"
           }
          ],
          "scatterpolargl": [
           {
            "marker": {
             "colorbar": {
              "outlinewidth": 0,
              "ticks": ""
             }
            },
            "type": "scatterpolargl"
           }
          ],
          "scatterternary": [
           {
            "marker": {
             "colorbar": {
              "outlinewidth": 0,
              "ticks": ""
             }
            },
            "type": "scatterternary"
           }
          ],
          "surface": [
           {
            "colorbar": {
             "outlinewidth": 0,
             "ticks": ""
            },
            "colorscale": [
             [
              0,
              "#0d0887"
             ],
             [
              0.1111111111111111,
              "#46039f"
             ],
             [
              0.2222222222222222,
              "#7201a8"
             ],
             [
              0.3333333333333333,
              "#9c179e"
             ],
             [
              0.4444444444444444,
              "#bd3786"
             ],
             [
              0.5555555555555556,
              "#d8576b"
             ],
             [
              0.6666666666666666,
              "#ed7953"
             ],
             [
              0.7777777777777778,
              "#fb9f3a"
             ],
             [
              0.8888888888888888,
              "#fdca26"
             ],
             [
              1,
              "#f0f921"
             ]
            ],
            "type": "surface"
           }
          ],
          "table": [
           {
            "cells": {
             "fill": {
              "color": "#EBF0F8"
             },
             "line": {
              "color": "white"
             }
            },
            "header": {
             "fill": {
              "color": "#C8D4E3"
             },
             "line": {
              "color": "white"
             }
            },
            "type": "table"
           }
          ]
         },
         "layout": {
          "annotationdefaults": {
           "arrowcolor": "#2a3f5f",
           "arrowhead": 0,
           "arrowwidth": 1
          },
          "colorscale": {
           "diverging": [
            [
             0,
             "#8e0152"
            ],
            [
             0.1,
             "#c51b7d"
            ],
            [
             0.2,
             "#de77ae"
            ],
            [
             0.3,
             "#f1b6da"
            ],
            [
             0.4,
             "#fde0ef"
            ],
            [
             0.5,
             "#f7f7f7"
            ],
            [
             0.6,
             "#e6f5d0"
            ],
            [
             0.7,
             "#b8e186"
            ],
            [
             0.8,
             "#7fbc41"
            ],
            [
             0.9,
             "#4d9221"
            ],
            [
             1,
             "#276419"
            ]
           ],
           "sequential": [
            [
             0,
             "#0d0887"
            ],
            [
             0.1111111111111111,
             "#46039f"
            ],
            [
             0.2222222222222222,
             "#7201a8"
            ],
            [
             0.3333333333333333,
             "#9c179e"
            ],
            [
             0.4444444444444444,
             "#bd3786"
            ],
            [
             0.5555555555555556,
             "#d8576b"
            ],
            [
             0.6666666666666666,
             "#ed7953"
            ],
            [
             0.7777777777777778,
             "#fb9f3a"
            ],
            [
             0.8888888888888888,
             "#fdca26"
            ],
            [
             1,
             "#f0f921"
            ]
           ],
           "sequentialminus": [
            [
             0,
             "#0d0887"
            ],
            [
             0.1111111111111111,
             "#46039f"
            ],
            [
             0.2222222222222222,
             "#7201a8"
            ],
            [
             0.3333333333333333,
             "#9c179e"
            ],
            [
             0.4444444444444444,
             "#bd3786"
            ],
            [
             0.5555555555555556,
             "#d8576b"
            ],
            [
             0.6666666666666666,
             "#ed7953"
            ],
            [
             0.7777777777777778,
             "#fb9f3a"
            ],
            [
             0.8888888888888888,
             "#fdca26"
            ],
            [
             1,
             "#f0f921"
            ]
           ]
          },
          "colorway": [
           "#636efa",
           "#EF553B",
           "#00cc96",
           "#ab63fa",
           "#FFA15A",
           "#19d3f3",
           "#FF6692",
           "#B6E880",
           "#FF97FF",
           "#FECB52"
          ],
          "font": {
           "color": "#2a3f5f"
          },
          "geo": {
           "bgcolor": "white",
           "lakecolor": "white",
           "landcolor": "#E5ECF6",
           "showlakes": true,
           "showland": true,
           "subunitcolor": "white"
          },
          "hoverlabel": {
           "align": "left"
          },
          "hovermode": "closest",
          "mapbox": {
           "style": "light"
          },
          "paper_bgcolor": "white",
          "plot_bgcolor": "#E5ECF6",
          "polar": {
           "angularaxis": {
            "gridcolor": "white",
            "linecolor": "white",
            "ticks": ""
           },
           "bgcolor": "#E5ECF6",
           "radialaxis": {
            "gridcolor": "white",
            "linecolor": "white",
            "ticks": ""
           }
          },
          "scene": {
           "xaxis": {
            "backgroundcolor": "#E5ECF6",
            "gridcolor": "white",
            "gridwidth": 2,
            "linecolor": "white",
            "showbackground": true,
            "ticks": "",
            "zerolinecolor": "white"
           },
           "yaxis": {
            "backgroundcolor": "#E5ECF6",
            "gridcolor": "white",
            "gridwidth": 2,
            "linecolor": "white",
            "showbackground": true,
            "ticks": "",
            "zerolinecolor": "white"
           },
           "zaxis": {
            "backgroundcolor": "#E5ECF6",
            "gridcolor": "white",
            "gridwidth": 2,
            "linecolor": "white",
            "showbackground": true,
            "ticks": "",
            "zerolinecolor": "white"
           }
          },
          "shapedefaults": {
           "line": {
            "color": "#2a3f5f"
           }
          },
          "ternary": {
           "aaxis": {
            "gridcolor": "white",
            "linecolor": "white",
            "ticks": ""
           },
           "baxis": {
            "gridcolor": "white",
            "linecolor": "white",
            "ticks": ""
           },
           "bgcolor": "#E5ECF6",
           "caxis": {
            "gridcolor": "white",
            "linecolor": "white",
            "ticks": ""
           }
          },
          "title": {
           "x": 0.05
          },
          "xaxis": {
           "automargin": true,
           "gridcolor": "white",
           "linecolor": "white",
           "ticks": "",
           "zerolinecolor": "white",
           "zerolinewidth": 2
          },
          "yaxis": {
           "automargin": true,
           "gridcolor": "white",
           "linecolor": "white",
           "ticks": "",
           "zerolinecolor": "white",
           "zerolinewidth": 2
          }
         }
        },
        "title": {
         "font": {
          "color": "#9398A4"
         },
         "text": "PCA on Halloweed Dataset"
        },
        "width": 500,
        "xaxis": {
         "autorange": true,
         "gridcolor": "#3F434F",
         "range": [
          -32.021107138332695,
          38.014520497450626
         ],
         "tickfont": {
          "color": "#ffffff"
         },
         "title": {
          "font": {
           "color": "#ffffff"
          },
          "text": "Principal Componeent 1"
         },
         "type": "linear",
         "zeroline": false
        },
        "yaxis": {
         "autorange": true,
         "gridcolor": "#3F434F",
         "range": [
          -1.3541078572856082,
          1.486231144250366
         ],
         "tickfont": {
          "color": "#ffffff"
         },
         "title": {
          "font": {
           "color": "#ffffff"
          },
          "text": "Principal Component 2"
         },
         "type": "linear",
         "zeroline": false
        }
       }
      },
      "image/png": "[encoded data removed]",
      "text/html": [
       "<div>\n",
       "        \n",
       "        \n",
       "            <div id=\"619dc92c-93e3-433e-bd80-42dd776ba23f\" class=\"plotly-graph-div\" style=\"height:500px; width:500px;\"></div>\n",
       "            <script type=\"text/javascript\">\n",
       "                require([\"plotly\"], function(Plotly) {\n",
       "                    window.PLOTLYENV=window.PLOTLYENV || {};\n",
       "                    \n",
       "                if (document.getElementById(\"619dc92c-93e3-433e-bd80-42dd776ba23f\")) {\n",
       "                    Plotly.newPlot(\n",
       "                        '619dc92c-93e3-433e-bd80-42dd776ba23f',\n",
       "                        [{\"marker\": {\"color\": [\"white\", \"white\", \"orange\", \"orange\", \"orange\", \"white\", \"white\", \"orange\", \"orange\", \"orange\", \"white\", \"orange\", \"orange\", \"orange\", \"orange\", \"orange\", \"orange\", \"orange\", \"orange\", \"orange\", \"orange\", \"orange\", \"white\", \"white\", \"white\", \"white\", \"orange\", \"white\", \"white\", \"orange\", \"orange\", \"orange\", \"white\", \"white\", \"orange\", \"white\", \"white\", \"white\", \"white\", \"white\", \"white\", \"orange\", \"white\", \"white\", \"orange\", \"orange\", \"orange\", \"white\", \"orange\", \"orange\", \"orange\", \"white\", \"white\", \"white\", \"white\", \"orange\", \"white\", \"orange\", \"orange\", \"white\", \"orange\", \"orange\", \"white\", \"orange\", \"white\", \"white\", \"orange\", \"orange\", \"orange\", \"orange\", \"orange\", \"orange\", \"orange\", \"orange\", \"white\", \"white\", \"white\", \"white\", \"orange\", \"white\", \"orange\", \"orange\", \"orange\", \"orange\", \"white\"], \"size\": 5}, \"mode\": \"markers\", \"name\": \"\", \"opacity\": 1, \"type\": \"scatter\", \"x\": [16.68201749441587, 17.302321960484814, -18.048548201596404, -4.195453275317372, 2.0182416160958394, 0.060788474617517824, 6.635219331238132, -26.882816786244135, -12.303863681577363, -15.796297648481161, -11.31529494658175, -14.308970199580152, -25.8017519984929, -8.056768568256501, -10.870106286011447, -7.246080785669922, -11.143104535604357, -3.554836346329393, 6.78407816078905, -16.155486952695174, 1.0788180175326296, -8.151523590661212, 5.049402721339295, 11.990094874868023, 6.192090188237609, 8.936725061722276, -22.207235197060555, 6.89565144510719, 26.465763671437333, -8.935405755211255, -11.192042118118753, 2.5835924624860866, 21.150346910088786, 16.25133162542336, -3.919247848597325, 4.747131626737108, 22.80332960908289, 10.508045443960802, 14.059493200934657, -2.466450814956695, 4.2385371866381, 5.01166851089009, 20.442172865220392, 16.173261257048413, -27.87561594371464, -10.884533206324889, -3.9849509200325244, 19.1687749593976, -12.597994659978506, -9.069442890135909, -12.981871379920047, 31.55030895979611, 33.869029302832566, 23.117734429870076, 22.581876178628963, -15.032157310526987, 15.400320151349579, -20.61873332973731, -7.488945382599882, -15.596304390491156, 12.747786452547977, 4.769208095302043, -12.426036649707843, -4.347150992519555, 26.38632325186562, 9.25055634552154, 9.523263436232552, 2.4877402464100373, 16.695376318466604, -15.7589461596028, -16.866984632749585, -18.070011139207736, -23.016294077340856, 4.5288196728972805, -1.350040924136277, -7.240636913207039, -4.5861850581255075, -0.6462798852733833, -3.160939782306501, 31.347427015225815, -4.860144965536788, -11.32086620210161, -5.957255497878229, -8.409679641774881, -0.7853810607671992], \"y\": [0.8586806496937629, 0.599355430178278, 0.6943164695106545, 0.43434617543678317, -0.23430419799904625, 1.016368431639029, 1.3164765086116925, 0.5787316877027286, 0.03567863228780999, 0.42791378948327635, 1.2922053932623947, -0.38531016546065044, -0.13413000300178346, -0.5366797810203366, -0.14613324997910465, -0.6399353631506394, -0.0839600453544274, -0.7938194689748901, -0.9014809811057208, 0.16109126472961835, -0.7633531526259008, -0.5398809514548902, -0.41915963591433203, 0.724355490743811, 0.7499188130558206, 0.6834695284438772, -0.32114711316280636, -0.3849072507866975, 0.2976186600825111, -0.03608341944802787, -0.11652525811556241, -0.2844208425885882, -0.5637539193283299, -0.5924158913342336, -0.6740907124295387, -0.07147025674175098, 0.7556174502321927, 1.0116199442407305, 0.8044943316809288, 0.9499136352251082, 0.9459264627230602, -1.0249459423715674, 0.5212109404375821, 0.5956872571306286, 0.03852240961601824, -0.4974277262983519, 1.312595989769208, -0.5129218451671095, -0.004852531849526702, -0.5832672022751725, -0.49100210378576825, -0.32839189565783755, -0.3219474544278121, -0.6062257156604947, -0.05197892840645497, 0.1323983588822077, -0.2696237269083422, 0.05532078069871468, -0.7313772764741918, 0.07724897242283824, -1.0985082689085075, -0.9053420196630452, 0.1708080223275844, -0.8311149881696098, 0.8168553607400455, 1.1475406480374488, -1.0295600249635926, -0.8592257166186409, -1.1843532216469348, -0.569622065410402, 0.49253687792898854, 0.9924436927357032, 0.30553772877476826, -0.7932187270380697, -0.3194798087591912, 0.5043528922996772, -0.20211210842846827, 0.8018210584662526, -0.6989317502065772, 0.5146959467922543, -0.134747969220056, -0.11169385020227278, -0.6201566803852485, 0.6154157709883632, -0.028100248131825427]}],\n",
       "                        {\"height\": 500, \"legend\": {\"font\": {\"color\": \"#ffffff\"}}, \"paper_bgcolor\": \"#22252B\", \"plot_bgcolor\": \"#292C34\", \"showlegend\": true, \"template\": {\"data\": {\"bar\": [{\"error_x\": {\"color\": \"#2a3f5f\"}, \"error_y\": {\"color\": \"#2a3f5f\"}, \"marker\": {\"line\": {\"color\": \"#E5ECF6\", \"width\": 0.5}}, \"type\": \"bar\"}], \"barpolar\": [{\"marker\": {\"line\": {\"color\": \"#E5ECF6\", \"width\": 0.5}}, \"type\": \"barpolar\"}], \"carpet\": [{\"aaxis\": {\"endlinecolor\": \"#2a3f5f\", \"gridcolor\": \"white\", \"linecolor\": \"white\", \"minorgridcolor\": \"white\", \"startlinecolor\": \"#2a3f5f\"}, \"baxis\": {\"endlinecolor\": \"#2a3f5f\", \"gridcolor\": \"white\", \"linecolor\": \"white\", \"minorgridcolor\": \"white\", \"startlinecolor\": \"#2a3f5f\"}, \"type\": \"carpet\"}], \"choropleth\": [{\"colorbar\": {\"outlinewidth\": 0, \"ticks\": \"\"}, \"type\": \"choropleth\"}], \"contour\": [{\"colorbar\": {\"outlinewidth\": 0, \"ticks\": \"\"}, \"colorscale\": [[0.0, \"#0d0887\"], [0.1111111111111111, \"#46039f\"], [0.2222222222222222, \"#7201a8\"], [0.3333333333333333, \"#9c179e\"], [0.4444444444444444, \"#bd3786\"], [0.5555555555555556, \"#d8576b\"], [0.6666666666666666, \"#ed7953\"], [0.7777777777777778, \"#fb9f3a\"], [0.8888888888888888, \"#fdca26\"], [1.0, \"#f0f921\"]], \"type\": \"contour\"}], \"contourcarpet\": [{\"colorbar\": {\"outlinewidth\": 0, \"ticks\": \"\"}, \"type\": \"contourcarpet\"}], \"heatmap\": [{\"colorbar\": {\"outlinewidth\": 0, \"ticks\": \"\"}, \"colorscale\": [[0.0, \"#0d0887\"], [0.1111111111111111, \"#46039f\"], [0.2222222222222222, \"#7201a8\"], [0.3333333333333333, \"#9c179e\"], [0.4444444444444444, \"#bd3786\"], [0.5555555555555556, \"#d8576b\"], [0.6666666666666666, \"#ed7953\"], [0.7777777777777778, \"#fb9f3a\"], [0.8888888888888888, \"#fdca26\"], [1.0, \"#f0f921\"]], \"type\": \"heatmap\"}], \"heatmapgl\": [{\"colorbar\": {\"outlinewidth\": 0, \"ticks\": \"\"}, \"colorscale\": [[0.0, \"#0d0887\"], [0.1111111111111111, \"#46039f\"], [0.2222222222222222, \"#7201a8\"], [0.3333333333333333, \"#9c179e\"], [0.4444444444444444, \"#bd3786\"], [0.5555555555555556, \"#d8576b\"], [0.6666666666666666, \"#ed7953\"], [0.7777777777777778, \"#fb9f3a\"], [0.8888888888888888, \"#fdca26\"], [1.0, \"#f0f921\"]], \"type\": \"heatmapgl\"}], \"histogram\": [{\"marker\": {\"colorbar\": {\"outlinewidth\": 0, \"ticks\": \"\"}}, \"type\": \"histogram\"}], \"histogram2d\": [{\"colorbar\": {\"outlinewidth\": 0, \"ticks\": \"\"}, \"colorscale\": [[0.0, \"#0d0887\"], [0.1111111111111111, \"#46039f\"], [0.2222222222222222, \"#7201a8\"], [0.3333333333333333, \"#9c179e\"], [0.4444444444444444, \"#bd3786\"], [0.5555555555555556, \"#d8576b\"], [0.6666666666666666, \"#ed7953\"], [0.7777777777777778, \"#fb9f3a\"], [0.8888888888888888, \"#fdca26\"], [1.0, \"#f0f921\"]], \"type\": \"histogram2d\"}], \"histogram2dcontour\": [{\"colorbar\": {\"outlinewidth\": 0, \"ticks\": \"\"}, \"colorscale\": [[0.0, \"#0d0887\"], [0.1111111111111111, \"#46039f\"], [0.2222222222222222, \"#7201a8\"], [0.3333333333333333, \"#9c179e\"], [0.4444444444444444, \"#bd3786\"], [0.5555555555555556, \"#d8576b\"], [0.6666666666666666, \"#ed7953\"], [0.7777777777777778, \"#fb9f3a\"], [0.8888888888888888, \"#fdca26\"], [1.0, \"#f0f921\"]], \"type\": \"histogram2dcontour\"}], \"mesh3d\": [{\"colorbar\": {\"outlinewidth\": 0, \"ticks\": \"\"}, \"type\": \"mesh3d\"}], \"parcoords\": [{\"line\": {\"colorbar\": {\"outlinewidth\": 0, \"ticks\": \"\"}}, \"type\": \"parcoords\"}], \"scatter\": [{\"marker\": {\"colorbar\": {\"outlinewidth\": 0, \"ticks\": \"\"}}, \"type\": \"scatter\"}], \"scatter3d\": [{\"line\": {\"colorbar\": {\"outlinewidth\": 0, \"ticks\": \"\"}}, \"marker\": {\"colorbar\": {\"outlinewidth\": 0, \"ticks\": \"\"}}, \"type\": \"scatter3d\"}], \"scattercarpet\": [{\"marker\": {\"colorbar\": {\"outlinewidth\": 0, \"ticks\": \"\"}}, \"type\": \"scattercarpet\"}], \"scattergeo\": [{\"marker\": {\"colorbar\": {\"outlinewidth\": 0, \"ticks\": \"\"}}, \"type\": \"scattergeo\"}], \"scattergl\": [{\"marker\": {\"colorbar\": {\"outlinewidth\": 0, \"ticks\": \"\"}}, \"type\": \"scattergl\"}], \"scattermapbox\": [{\"marker\": {\"colorbar\": {\"outlinewidth\": 0, \"ticks\": \"\"}}, \"type\": \"scattermapbox\"}], \"scatterpolar\": [{\"marker\": {\"colorbar\": {\"outlinewidth\": 0, \"ticks\": \"\"}}, \"type\": \"scatterpolar\"}], \"scatterpolargl\": [{\"marker\": {\"colorbar\": {\"outlinewidth\": 0, \"ticks\": \"\"}}, \"type\": \"scatterpolargl\"}], \"scatterternary\": [{\"marker\": {\"colorbar\": {\"outlinewidth\": 0, \"ticks\": \"\"}}, \"type\": \"scatterternary\"}], \"surface\": [{\"colorbar\": {\"outlinewidth\": 0, \"ticks\": \"\"}, \"colorscale\": [[0.0, \"#0d0887\"], [0.1111111111111111, \"#46039f\"], [0.2222222222222222, \"#7201a8\"], [0.3333333333333333, \"#9c179e\"], [0.4444444444444444, \"#bd3786\"], [0.5555555555555556, \"#d8576b\"], [0.6666666666666666, \"#ed7953\"], [0.7777777777777778, \"#fb9f3a\"], [0.8888888888888888, \"#fdca26\"], [1.0, \"#f0f921\"]], \"type\": \"surface\"}], \"table\": [{\"cells\": {\"fill\": {\"color\": \"#EBF0F8\"}, \"line\": {\"color\": \"white\"}}, \"header\": {\"fill\": {\"color\": \"#C8D4E3\"}, \"line\": {\"color\": \"white\"}}, \"type\": \"table\"}]}, \"layout\": {\"annotationdefaults\": {\"arrowcolor\": \"#2a3f5f\", \"arrowhead\": 0, \"arrowwidth\": 1}, \"colorscale\": {\"diverging\": [[0, \"#8e0152\"], [0.1, \"#c51b7d\"], [0.2, \"#de77ae\"], [0.3, \"#f1b6da\"], [0.4, \"#fde0ef\"], [0.5, \"#f7f7f7\"], [0.6, \"#e6f5d0\"], [0.7, \"#b8e186\"], [0.8, \"#7fbc41\"], [0.9, \"#4d9221\"], [1, \"#276419\"]], \"sequential\": [[0.0, \"#0d0887\"], [0.1111111111111111, \"#46039f\"], [0.2222222222222222, \"#7201a8\"], [0.3333333333333333, \"#9c179e\"], [0.4444444444444444, \"#bd3786\"], [0.5555555555555556, \"#d8576b\"], [0.6666666666666666, \"#ed7953\"], [0.7777777777777778, \"#fb9f3a\"], [0.8888888888888888, \"#fdca26\"], [1.0, \"#f0f921\"]], \"sequentialminus\": [[0.0, \"#0d0887\"], [0.1111111111111111, \"#46039f\"], [0.2222222222222222, \"#7201a8\"], [0.3333333333333333, \"#9c179e\"], [0.4444444444444444, \"#bd3786\"], [0.5555555555555556, \"#d8576b\"], [0.6666666666666666, \"#ed7953\"], [0.7777777777777778, \"#fb9f3a\"], [0.8888888888888888, \"#fdca26\"], [1.0, \"#f0f921\"]]}, \"colorway\": [\"#636efa\", \"#EF553B\", \"#00cc96\", \"#ab63fa\", \"#FFA15A\", \"#19d3f3\", \"#FF6692\", \"#B6E880\", \"#FF97FF\", \"#FECB52\"], \"font\": {\"color\": \"#2a3f5f\"}, \"geo\": {\"bgcolor\": \"white\", \"lakecolor\": \"white\", \"landcolor\": \"#E5ECF6\", \"showlakes\": true, \"showland\": true, \"subunitcolor\": \"white\"}, \"hoverlabel\": {\"align\": \"left\"}, \"hovermode\": \"closest\", \"mapbox\": {\"style\": \"light\"}, \"paper_bgcolor\": \"white\", \"plot_bgcolor\": \"#E5ECF6\", \"polar\": {\"angularaxis\": {\"gridcolor\": \"white\", \"linecolor\": \"white\", \"ticks\": \"\"}, \"bgcolor\": \"#E5ECF6\", \"radialaxis\": {\"gridcolor\": \"white\", \"linecolor\": \"white\", \"ticks\": \"\"}}, \"scene\": {\"xaxis\": {\"backgroundcolor\": \"#E5ECF6\", \"gridcolor\": \"white\", \"gridwidth\": 2, \"linecolor\": \"white\", \"showbackground\": true, \"ticks\": \"\", \"zerolinecolor\": \"white\"}, \"yaxis\": {\"backgroundcolor\": \"#E5ECF6\", \"gridcolor\": \"white\", \"gridwidth\": 2, \"linecolor\": \"white\", \"showbackground\": true, \"ticks\": \"\", \"zerolinecolor\": \"white\"}, \"zaxis\": {\"backgroundcolor\": \"#E5ECF6\", \"gridcolor\": \"white\", \"gridwidth\": 2, \"linecolor\": \"white\", \"showbackground\": true, \"ticks\": \"\", \"zerolinecolor\": \"white\"}}, \"shapedefaults\": {\"line\": {\"color\": \"#2a3f5f\"}}, \"ternary\": {\"aaxis\": {\"gridcolor\": \"white\", \"linecolor\": \"white\", \"ticks\": \"\"}, \"baxis\": {\"gridcolor\": \"white\", \"linecolor\": \"white\", \"ticks\": \"\"}, \"bgcolor\": \"#E5ECF6\", \"caxis\": {\"gridcolor\": \"white\", \"linecolor\": \"white\", \"ticks\": \"\"}}, \"title\": {\"x\": 0.05}, \"xaxis\": {\"automargin\": true, \"gridcolor\": \"white\", \"linecolor\": \"white\", \"ticks\": \"\", \"zerolinecolor\": \"white\", \"zerolinewidth\": 2}, \"yaxis\": {\"automargin\": true, \"gridcolor\": \"white\", \"linecolor\": \"white\", \"ticks\": \"\", \"zerolinecolor\": \"white\", \"zerolinewidth\": 2}}}, \"title\": {\"font\": {\"color\": \"#9398A4\"}, \"text\": \"PCA on Halloweed Dataset\"}, \"width\": 500, \"xaxis\": {\"gridcolor\": \"#3F434F\", \"tickfont\": {\"color\": \"#ffffff\"}, \"title\": {\"font\": {\"color\": \"#ffffff\"}, \"text\": \"Principal Componeent 1\"}, \"zeroline\": false}, \"yaxis\": {\"gridcolor\": \"#3F434F\", \"tickfont\": {\"color\": \"#ffffff\"}, \"title\": {\"font\": {\"color\": \"#ffffff\"}, \"text\": \"Principal Component 2\"}, \"zeroline\": false}},\n",
       "                        {\"responsive\": true}\n",
       "                    ).then(function(){\n",
       "                            \n",
       "var gd = document.getElementById('619dc92c-93e3-433e-bd80-42dd776ba23f');\n",
       "var x = new MutationObserver(function (mutations, observer) {{\n",
       "        var display = window.getComputedStyle(gd).display;\n",
       "        if (!display || display === 'none') {{\n",
       "            console.log([gd, 'removed!']);\n",
       "            Plotly.purge(gd);\n",
       "            observer.disconnect();\n",
       "        }}\n",
       "}});\n",
       "\n",
       "// Listen for the removal of the full notebook cells\n",
       "var notebookContainer = gd.closest('#notebook-container');\n",
       "if (notebookContainer) {{\n",
       "    x.observe(notebookContainer, {childList: true});\n",
       "}}\n",
       "\n",
       "// Listen for the clearing of the current output cell\n",
       "var outputEl = gd.closest('.output');\n",
       "if (outputEl) {{\n",
       "    x.observe(outputEl, {childList: true});\n",
       "}}\n",
       "\n",
       "                        })\n",
       "                };\n",
       "                });\n",
       "            </script>\n",
       "        </div>"
      ]
     },
     "metadata": {},
     "output_type": "display_data"
    }
   ],
   "source": [
    "fig = go.Figure(\n",
    "    data=[\n",
    "        scatter(X_pca[:,0],X_pca[:,1], '', mode='markers', color = [['orange', 'white'][a] for a in y.to_numpy().reshape(len(y))], size=5, opacity=1)\n",
    "    ]\n",
    ")\n",
    "render(fig, title='PCA on Halloweed Dataset', x_axis_title='Principal Componeent 1', y_axis_title='Principal Component 2')"
   ]
  },
  {
   "cell_type": "code",
   "execution_count": 57,
   "metadata": {},
   "outputs": [
    {
     "data": {
      "text/plain": [
       "array([0.99414648, 0.00195817])"
      ]
     },
     "execution_count": 57,
     "metadata": {},
     "output_type": "execute_result"
    }
   ],
   "source": [
    "pca.explained_variance_ratio_"
   ]
  },
  {
   "cell_type": "markdown",
   "metadata": {},
   "source": [
    "# Feature Scaling\n",
    "\n",
    "PCA requires the features to be scaled"
   ]
  },
  {
   "cell_type": "code",
   "execution_count": 61,
   "metadata": {},
   "outputs": [
    {
     "data": {
      "application/vnd.plotly.v1+json": {
       "config": {
        "plotlyServerURL": "https://plot.ly"
       },
       "data": [
        {
         "marker": {
          "color": [
           "white",
           "white",
           "orange",
           "orange",
           "orange",
           "white",
           "white",
           "orange",
           "orange",
           "orange",
           "white",
           "orange",
           "orange",
           "orange",
           "orange",
           "orange",
           "orange",
           "orange",
           "orange",
           "orange",
           "orange",
           "orange",
           "white",
           "white",
           "white",
           "white",
           "orange",
           "white",
           "white",
           "orange",
           "orange",
           "orange",
           "white",
           "white",
           "orange",
           "white",
           "white",
           "white",
           "white",
           "white",
           "white",
           "orange",
           "white",
           "white",
           "orange",
           "orange",
           "orange",
           "white",
           "orange",
           "orange",
           "orange",
           "white",
           "white",
           "white",
           "white",
           "orange",
           "white",
           "orange",
           "orange",
           "white",
           "orange",
           "orange",
           "white",
           "orange",
           "white",
           "white",
           "orange",
           "orange",
           "orange",
           "orange",
           "orange",
           "orange",
           "orange",
           "orange",
           "white",
           "white",
           "white",
           "white",
           "orange",
           "white",
           "orange",
           "orange",
           "orange",
           "orange",
           "white"
          ],
          "size": 5
         },
         "mode": "markers",
         "name": "",
         "opacity": 1,
         "type": "scatter",
         "x": [
          3.7240250943386335,
          2.6085841116363615,
          -0.9600186437369602,
          -0.1482253134161339,
          -0.3515834735529278,
          2.190786197593784,
          4.104561562631698,
          -0.4309855163273217,
          -0.7465526983765223,
          -0.4098408799132909,
          1.9375231626700127,
          -1.4073572227468067,
          -2.2231742268613908,
          -1.2607479375128228,
          -1.9131562994367117,
          -2.1093650383901212,
          -1.5608182615265833,
          -1.7371743406929603,
          -1.0928388288289759,
          -0.8680810505962482,
          -1.2266227598343609,
          -1.443067120627681,
          -0.9856385075624892,
          2.817599387538183,
          1.8023566843580159,
          1.8667162461184488,
          -2.478770787119961,
          -0.3946931762984781,
          2.6012307350658292,
          -1.4124096958340686,
          -2.1514333638945904,
          -0.9196343743580357,
          1.1045562180825277,
          0.2874988589936281,
          -1.3283252757470767,
          0.3317907539109156,
          3.638509232014151,
          3.1504629759157248,
          2.8909217375089176,
          1.473749792831139,
          2.4046571498004967,
          -1.720896277791986,
          2.7329502343854952,
          2.6754718450215944,
          -1.3994814653935315,
          -1.792966000259816,
          3.0629492558521507,
          0.9508752228405668,
          -1.5014635634917666,
          -1.532663132410439,
          -1.9329687383061527,
          1.1167879514044472,
          1.9467778712873764,
          0.9570565440971613,
          1.80595427732818,
          -0.8630328872977602,
          1.2697106044289168,
          -1.9284361301528354,
          -2.059642783848746,
          -1.441579443441508,
          -1.0350512402670267,
          -1.2221427224544807,
          -0.2421787387987539,
          -2.466503636769368,
          4.397903249882812,
          3.935137913877429,
          -1.6418524276207487,
          -1.8068299966324866,
          -1.3075677407729127,
          -2.6660388393384538,
          0.44694242137948514,
          0.21355854214290526,
          -1.7693992867712716,
          -0.7239796650723038,
          -1.3903314351347194,
          -0.08006859431130933,
          -1.2909535201990923,
          0.927136931831017,
          -1.6551701771342522,
          4.038669003280846,
          -1.3168479870556902,
          -2.1179405874120207,
          -1.6492402533597055,
          -0.32953311814817565,
          1.0318634127909674
         ],
         "y": [
          -0.2670059293632402,
          1.8521515259707295,
          0.48030651086930226,
          -0.07543630556766064,
          0.08524044145104862,
          -0.4756810100112672,
          2.08865908692003,
          -1.0984645124913137,
          -0.6580645540393778,
          1.3887470449931547,
          2.388190025227834,
          -0.44993851680825586,
          -0.07398073494773875,
          -0.567048924372625,
          1.8012564506567024,
          -0.20579219350591463,
          1.5881129487076602,
          0.49822342257224683,
          -0.8022887186487878,
          -0.6773064504793554,
          -0.6954231087346594,
          -0.5225289617707709,
          -0.7850514125883279,
          -1.0342900198693943,
          -0.1104152843338612,
          -0.16182522400036578,
          0.8292038856681065,
          -1.1353050931168376,
          -0.9965623285930065,
          0.607854723848611,
          1.7759661670516824,
          0.2683864442811206,
          -2.1189890633044106,
          -1.434940771667363,
          -0.5093672933620358,
          -0.27731095076221407,
          2.4651004525258022,
          2.8489571657158783,
          0.5901944691867624,
          0.09888235137473105,
          -0.6624951207347546,
          0.43555759868390836,
          -0.8617379052332771,
          -0.9957790167944335,
          -0.5280631949498463,
          -0.35876865331803043,
          1.4708859306271065,
          -2.074708781113734,
          -0.40094533286285255,
          0.32283324650537176,
          -0.17387458897487848,
          -1.163981632278708,
          -1.5076039828775618,
          -2.142903118319994,
          -1.3044584358009486,
          1.1809435458092068,
          -0.7558440605047035,
          0.8065299768342404,
          0.7034675024740538,
          -0.3922065024768214,
          -0.7449365613182585,
          -0.5954892756581013,
          -1.1243119100260868,
          0.7855525259129963,
          1.8074934808025145,
          -0.5593839982060513,
          -0.5796110598200139,
          -0.44782820367206677,
          -0.7944867743212072,
          1.033484360155492,
          -0.08493278550006174,
          1.1323788716223282,
          0.8733956175397815,
          -0.9818441749727101,
          1.4086305982693381,
          -0.027721439933531485,
          -0.5445157722654048,
          0.4613583880782677,
          -0.4538096135342,
          -0.5704628104488219,
          0.5315207410130589,
          1.7679276975348512,
          -0.44493303609047485,
          2.113564739113846,
          -2.0803028336514426
         ]
        }
       ],
       "layout": {
        "height": 500,
        "legend": {
         "font": {
          "color": "#ffffff"
         }
        },
        "paper_bgcolor": "#22252B",
        "plot_bgcolor": "#292C34",
        "showlegend": true,
        "template": {
         "data": {
          "bar": [
           {
            "error_x": {
             "color": "#2a3f5f"
            },
            "error_y": {
             "color": "#2a3f5f"
            },
            "marker": {
             "line": {
              "color": "#E5ECF6",
              "width": 0.5
             }
            },
            "type": "bar"
           }
          ],
          "barpolar": [
           {
            "marker": {
             "line": {
              "color": "#E5ECF6",
              "width": 0.5
             }
            },
            "type": "barpolar"
           }
          ],
          "carpet": [
           {
            "aaxis": {
             "endlinecolor": "#2a3f5f",
             "gridcolor": "white",
             "linecolor": "white",
             "minorgridcolor": "white",
             "startlinecolor": "#2a3f5f"
            },
            "baxis": {
             "endlinecolor": "#2a3f5f",
             "gridcolor": "white",
             "linecolor": "white",
             "minorgridcolor": "white",
             "startlinecolor": "#2a3f5f"
            },
            "type": "carpet"
           }
          ],
          "choropleth": [
           {
            "colorbar": {
             "outlinewidth": 0,
             "ticks": ""
            },
            "type": "choropleth"
           }
          ],
          "contour": [
           {
            "colorbar": {
             "outlinewidth": 0,
             "ticks": ""
            },
            "colorscale": [
             [
              0,
              "#0d0887"
             ],
             [
              0.1111111111111111,
              "#46039f"
             ],
             [
              0.2222222222222222,
              "#7201a8"
             ],
             [
              0.3333333333333333,
              "#9c179e"
             ],
             [
              0.4444444444444444,
              "#bd3786"
             ],
             [
              0.5555555555555556,
              "#d8576b"
             ],
             [
              0.6666666666666666,
              "#ed7953"
             ],
             [
              0.7777777777777778,
              "#fb9f3a"
             ],
             [
              0.8888888888888888,
              "#fdca26"
             ],
             [
              1,
              "#f0f921"
             ]
            ],
            "type": "contour"
           }
          ],
          "contourcarpet": [
           {
            "colorbar": {
             "outlinewidth": 0,
             "ticks": ""
            },
            "type": "contourcarpet"
           }
          ],
          "heatmap": [
           {
            "colorbar": {
             "outlinewidth": 0,
             "ticks": ""
            },
            "colorscale": [
             [
              0,
              "#0d0887"
             ],
             [
              0.1111111111111111,
              "#46039f"
             ],
             [
              0.2222222222222222,
              "#7201a8"
             ],
             [
              0.3333333333333333,
              "#9c179e"
             ],
             [
              0.4444444444444444,
              "#bd3786"
             ],
             [
              0.5555555555555556,
              "#d8576b"
             ],
             [
              0.6666666666666666,
              "#ed7953"
             ],
             [
              0.7777777777777778,
              "#fb9f3a"
             ],
             [
              0.8888888888888888,
              "#fdca26"
             ],
             [
              1,
              "#f0f921"
             ]
            ],
            "type": "heatmap"
           }
          ],
          "heatmapgl": [
           {
            "colorbar": {
             "outlinewidth": 0,
             "ticks": ""
            },
            "colorscale": [
             [
              0,
              "#0d0887"
             ],
             [
              0.1111111111111111,
              "#46039f"
             ],
             [
              0.2222222222222222,
              "#7201a8"
             ],
             [
              0.3333333333333333,
              "#9c179e"
             ],
             [
              0.4444444444444444,
              "#bd3786"
             ],
             [
              0.5555555555555556,
              "#d8576b"
             ],
             [
              0.6666666666666666,
              "#ed7953"
             ],
             [
              0.7777777777777778,
              "#fb9f3a"
             ],
             [
              0.8888888888888888,
              "#fdca26"
             ],
             [
              1,
              "#f0f921"
             ]
            ],
            "type": "heatmapgl"
           }
          ],
          "histogram": [
           {
            "marker": {
             "colorbar": {
              "outlinewidth": 0,
              "ticks": ""
             }
            },
            "type": "histogram"
           }
          ],
          "histogram2d": [
           {
            "colorbar": {
             "outlinewidth": 0,
             "ticks": ""
            },
            "colorscale": [
             [
              0,
              "#0d0887"
             ],
             [
              0.1111111111111111,
              "#46039f"
             ],
             [
              0.2222222222222222,
              "#7201a8"
             ],
             [
              0.3333333333333333,
              "#9c179e"
             ],
             [
              0.4444444444444444,
              "#bd3786"
             ],
             [
              0.5555555555555556,
              "#d8576b"
             ],
             [
              0.6666666666666666,
              "#ed7953"
             ],
             [
              0.7777777777777778,
              "#fb9f3a"
             ],
             [
              0.8888888888888888,
              "#fdca26"
             ],
             [
              1,
              "#f0f921"
             ]
            ],
            "type": "histogram2d"
           }
          ],
          "histogram2dcontour": [
           {
            "colorbar": {
             "outlinewidth": 0,
             "ticks": ""
            },
            "colorscale": [
             [
              0,
              "#0d0887"
             ],
             [
              0.1111111111111111,
              "#46039f"
             ],
             [
              0.2222222222222222,
              "#7201a8"
             ],
             [
              0.3333333333333333,
              "#9c179e"
             ],
             [
              0.4444444444444444,
              "#bd3786"
             ],
             [
              0.5555555555555556,
              "#d8576b"
             ],
             [
              0.6666666666666666,
              "#ed7953"
             ],
             [
              0.7777777777777778,
              "#fb9f3a"
             ],
             [
              0.8888888888888888,
              "#fdca26"
             ],
             [
              1,
              "#f0f921"
             ]
            ],
            "type": "histogram2dcontour"
           }
          ],
          "mesh3d": [
           {
            "colorbar": {
             "outlinewidth": 0,
             "ticks": ""
            },
            "type": "mesh3d"
           }
          ],
          "parcoords": [
           {
            "line": {
             "colorbar": {
              "outlinewidth": 0,
              "ticks": ""
             }
            },
            "type": "parcoords"
           }
          ],
          "scatter": [
           {
            "marker": {
             "colorbar": {
              "outlinewidth": 0,
              "ticks": ""
             }
            },
            "type": "scatter"
           }
          ],
          "scatter3d": [
           {
            "line": {
             "colorbar": {
              "outlinewidth": 0,
              "ticks": ""
             }
            },
            "marker": {
             "colorbar": {
              "outlinewidth": 0,
              "ticks": ""
             }
            },
            "type": "scatter3d"
           }
          ],
          "scattercarpet": [
           {
            "marker": {
             "colorbar": {
              "outlinewidth": 0,
              "ticks": ""
             }
            },
            "type": "scattercarpet"
           }
          ],
          "scattergeo": [
           {
            "marker": {
             "colorbar": {
              "outlinewidth": 0,
              "ticks": ""
             }
            },
            "type": "scattergeo"
           }
          ],
          "scattergl": [
           {
            "marker": {
             "colorbar": {
              "outlinewidth": 0,
              "ticks": ""
             }
            },
            "type": "scattergl"
           }
          ],
          "scattermapbox": [
           {
            "marker": {
             "colorbar": {
              "outlinewidth": 0,
              "ticks": ""
             }
            },
            "type": "scattermapbox"
           }
          ],
          "scatterpolar": [
           {
            "marker": {
             "colorbar": {
              "outlinewidth": 0,
              "ticks": ""
             }
            },
            "type": "scatterpolar"
           }
          ],
          "scatterpolargl": [
           {
            "marker": {
             "colorbar": {
              "outlinewidth": 0,
              "ticks": ""
             }
            },
            "type": "scatterpolargl"
           }
          ],
          "scatterternary": [
           {
            "marker": {
             "colorbar": {
              "outlinewidth": 0,
              "ticks": ""
             }
            },
            "type": "scatterternary"
           }
          ],
          "surface": [
           {
            "colorbar": {
             "outlinewidth": 0,
             "ticks": ""
            },
            "colorscale": [
             [
              0,
              "#0d0887"
             ],
             [
              0.1111111111111111,
              "#46039f"
             ],
             [
              0.2222222222222222,
              "#7201a8"
             ],
             [
              0.3333333333333333,
              "#9c179e"
             ],
             [
              0.4444444444444444,
              "#bd3786"
             ],
             [
              0.5555555555555556,
              "#d8576b"
             ],
             [
              0.6666666666666666,
              "#ed7953"
             ],
             [
              0.7777777777777778,
              "#fb9f3a"
             ],
             [
              0.8888888888888888,
              "#fdca26"
             ],
             [
              1,
              "#f0f921"
             ]
            ],
            "type": "surface"
           }
          ],
          "table": [
           {
            "cells": {
             "fill": {
              "color": "#EBF0F8"
             },
             "line": {
              "color": "white"
             }
            },
            "header": {
             "fill": {
              "color": "#C8D4E3"
             },
             "line": {
              "color": "white"
             }
            },
            "type": "table"
           }
          ]
         },
         "layout": {
          "annotationdefaults": {
           "arrowcolor": "#2a3f5f",
           "arrowhead": 0,
           "arrowwidth": 1
          },
          "colorscale": {
           "diverging": [
            [
             0,
             "#8e0152"
            ],
            [
             0.1,
             "#c51b7d"
            ],
            [
             0.2,
             "#de77ae"
            ],
            [
             0.3,
             "#f1b6da"
            ],
            [
             0.4,
             "#fde0ef"
            ],
            [
             0.5,
             "#f7f7f7"
            ],
            [
             0.6,
             "#e6f5d0"
            ],
            [
             0.7,
             "#b8e186"
            ],
            [
             0.8,
             "#7fbc41"
            ],
            [
             0.9,
             "#4d9221"
            ],
            [
             1,
             "#276419"
            ]
           ],
           "sequential": [
            [
             0,
             "#0d0887"
            ],
            [
             0.1111111111111111,
             "#46039f"
            ],
            [
             0.2222222222222222,
             "#7201a8"
            ],
            [
             0.3333333333333333,
             "#9c179e"
            ],
            [
             0.4444444444444444,
             "#bd3786"
            ],
            [
             0.5555555555555556,
             "#d8576b"
            ],
            [
             0.6666666666666666,
             "#ed7953"
            ],
            [
             0.7777777777777778,
             "#fb9f3a"
            ],
            [
             0.8888888888888888,
             "#fdca26"
            ],
            [
             1,
             "#f0f921"
            ]
           ],
           "sequentialminus": [
            [
             0,
             "#0d0887"
            ],
            [
             0.1111111111111111,
             "#46039f"
            ],
            [
             0.2222222222222222,
             "#7201a8"
            ],
            [
             0.3333333333333333,
             "#9c179e"
            ],
            [
             0.4444444444444444,
             "#bd3786"
            ],
            [
             0.5555555555555556,
             "#d8576b"
            ],
            [
             0.6666666666666666,
             "#ed7953"
            ],
            [
             0.7777777777777778,
             "#fb9f3a"
            ],
            [
             0.8888888888888888,
             "#fdca26"
            ],
            [
             1,
             "#f0f921"
            ]
           ]
          },
          "colorway": [
           "#636efa",
           "#EF553B",
           "#00cc96",
           "#ab63fa",
           "#FFA15A",
           "#19d3f3",
           "#FF6692",
           "#B6E880",
           "#FF97FF",
           "#FECB52"
          ],
          "font": {
           "color": "#2a3f5f"
          },
          "geo": {
           "bgcolor": "white",
           "lakecolor": "white",
           "landcolor": "#E5ECF6",
           "showlakes": true,
           "showland": true,
           "subunitcolor": "white"
          },
          "hoverlabel": {
           "align": "left"
          },
          "hovermode": "closest",
          "mapbox": {
           "style": "light"
          },
          "paper_bgcolor": "white",
          "plot_bgcolor": "#E5ECF6",
          "polar": {
           "angularaxis": {
            "gridcolor": "white",
            "linecolor": "white",
            "ticks": ""
           },
           "bgcolor": "#E5ECF6",
           "radialaxis": {
            "gridcolor": "white",
            "linecolor": "white",
            "ticks": ""
           }
          },
          "scene": {
           "xaxis": {
            "backgroundcolor": "#E5ECF6",
            "gridcolor": "white",
            "gridwidth": 2,
            "linecolor": "white",
            "showbackground": true,
            "ticks": "",
            "zerolinecolor": "white"
           },
           "yaxis": {
            "backgroundcolor": "#E5ECF6",
            "gridcolor": "white",
            "gridwidth": 2,
            "linecolor": "white",
            "showbackground": true,
            "ticks": "",
            "zerolinecolor": "white"
           },
           "zaxis": {
            "backgroundcolor": "#E5ECF6",
            "gridcolor": "white",
            "gridwidth": 2,
            "linecolor": "white",
            "showbackground": true,
            "ticks": "",
            "zerolinecolor": "white"
           }
          },
          "shapedefaults": {
           "line": {
            "color": "#2a3f5f"
           }
          },
          "ternary": {
           "aaxis": {
            "gridcolor": "white",
            "linecolor": "white",
            "ticks": ""
           },
           "baxis": {
            "gridcolor": "white",
            "linecolor": "white",
            "ticks": ""
           },
           "bgcolor": "#E5ECF6",
           "caxis": {
            "gridcolor": "white",
            "linecolor": "white",
            "ticks": ""
           }
          },
          "title": {
           "x": 0.05
          },
          "xaxis": {
           "automargin": true,
           "gridcolor": "white",
           "linecolor": "white",
           "ticks": "",
           "zerolinecolor": "white",
           "zerolinewidth": 2
          },
          "yaxis": {
           "automargin": true,
           "gridcolor": "white",
           "linecolor": "white",
           "ticks": "",
           "zerolinecolor": "white",
           "zerolinewidth": 2
          }
         }
        },
        "title": {
         "font": {
          "color": "#9398A4"
         },
         "text": "PCA on scaled Halloweed Dataset"
        },
        "width": 500,
        "xaxis": {
         "autorange": true,
         "gridcolor": "#3F434F",
         "range": [
          -3.140306844494677,
          4.872171255039035
         ],
         "tickfont": {
          "color": "#ffffff"
         },
         "title": {
          "font": {
           "color": "#ffffff"
          },
          "text": "Principal Componeent 1"
         },
         "type": "linear",
         "zeroline": false
        },
        "yaxis": {
         "autorange": true,
         "gridcolor": "#3F434F",
         "range": [
          -2.4817472281059247,
          3.1878012755018093
         ],
         "tickfont": {
          "color": "#ffffff"
         },
         "title": {
          "font": {
           "color": "#ffffff"
          },
          "text": "Principal Component 2"
         },
         "type": "linear",
         "zeroline": false
        }
       }
      },
      "image/png": "[encoded data removed]",
      "text/html": [
       "<div>\n",
       "        \n",
       "        \n",
       "            <div id=\"5fac1847-74ee-43a3-8e10-98800268dcbe\" class=\"plotly-graph-div\" style=\"height:500px; width:500px;\"></div>\n",
       "            <script type=\"text/javascript\">\n",
       "                require([\"plotly\"], function(Plotly) {\n",
       "                    window.PLOTLYENV=window.PLOTLYENV || {};\n",
       "                    \n",
       "                if (document.getElementById(\"5fac1847-74ee-43a3-8e10-98800268dcbe\")) {\n",
       "                    Plotly.newPlot(\n",
       "                        '5fac1847-74ee-43a3-8e10-98800268dcbe',\n",
       "                        [{\"marker\": {\"color\": [\"white\", \"white\", \"orange\", \"orange\", \"orange\", \"white\", \"white\", \"orange\", \"orange\", \"orange\", \"white\", \"orange\", \"orange\", \"orange\", \"orange\", \"orange\", \"orange\", \"orange\", \"orange\", \"orange\", \"orange\", \"orange\", \"white\", \"white\", \"white\", \"white\", \"orange\", \"white\", \"white\", \"orange\", \"orange\", \"orange\", \"white\", \"white\", \"orange\", \"white\", \"white\", \"white\", \"white\", \"white\", \"white\", \"orange\", \"white\", \"white\", \"orange\", \"orange\", \"orange\", \"white\", \"orange\", \"orange\", \"orange\", \"white\", \"white\", \"white\", \"white\", \"orange\", \"white\", \"orange\", \"orange\", \"white\", \"orange\", \"orange\", \"white\", \"orange\", \"white\", \"white\", \"orange\", \"orange\", \"orange\", \"orange\", \"orange\", \"orange\", \"orange\", \"orange\", \"white\", \"white\", \"white\", \"white\", \"orange\", \"white\", \"orange\", \"orange\", \"orange\", \"orange\", \"white\"], \"size\": 5}, \"mode\": \"markers\", \"name\": \"\", \"opacity\": 1, \"type\": \"scatter\", \"x\": [3.7240250943386335, 2.6085841116363615, -0.9600186437369602, -0.1482253134161339, -0.3515834735529278, 2.190786197593784, 4.104561562631698, -0.4309855163273217, -0.7465526983765223, -0.4098408799132909, 1.9375231626700127, -1.4073572227468067, -2.2231742268613908, -1.2607479375128228, -1.9131562994367117, -2.1093650383901212, -1.5608182615265833, -1.7371743406929603, -1.0928388288289759, -0.8680810505962482, -1.2266227598343609, -1.443067120627681, -0.9856385075624892, 2.817599387538183, 1.8023566843580159, 1.8667162461184488, -2.478770787119961, -0.3946931762984781, 2.6012307350658292, -1.4124096958340686, -2.1514333638945904, -0.9196343743580357, 1.1045562180825277, 0.2874988589936281, -1.3283252757470767, 0.3317907539109156, 3.638509232014151, 3.1504629759157248, 2.8909217375089176, 1.473749792831139, 2.4046571498004967, -1.720896277791986, 2.7329502343854952, 2.6754718450215944, -1.3994814653935315, -1.792966000259816, 3.0629492558521507, 0.9508752228405668, -1.5014635634917666, -1.532663132410439, -1.9329687383061527, 1.1167879514044472, 1.9467778712873764, 0.9570565440971613, 1.80595427732818, -0.8630328872977602, 1.2697106044289168, -1.9284361301528354, -2.059642783848746, -1.441579443441508, -1.0350512402670267, -1.2221427224544807, -0.2421787387987539, -2.466503636769368, 4.397903249882812, 3.935137913877429, -1.6418524276207487, -1.8068299966324866, -1.3075677407729127, -2.6660388393384538, 0.44694242137948514, 0.21355854214290526, -1.7693992867712716, -0.7239796650723038, -1.3903314351347194, -0.08006859431130933, -1.2909535201990923, 0.927136931831017, -1.6551701771342522, 4.038669003280846, -1.3168479870556902, -2.1179405874120207, -1.6492402533597055, -0.32953311814817565, 1.0318634127909674], \"y\": [-0.2670059293632402, 1.8521515259707295, 0.48030651086930226, -0.07543630556766064, 0.08524044145104862, -0.4756810100112672, 2.08865908692003, -1.0984645124913137, -0.6580645540393778, 1.3887470449931547, 2.388190025227834, -0.44993851680825586, -0.07398073494773875, -0.567048924372625, 1.8012564506567024, -0.20579219350591463, 1.5881129487076602, 0.49822342257224683, -0.8022887186487878, -0.6773064504793554, -0.6954231087346594, -0.5225289617707709, -0.7850514125883279, -1.0342900198693943, -0.1104152843338612, -0.16182522400036578, 0.8292038856681065, -1.1353050931168376, -0.9965623285930065, 0.607854723848611, 1.7759661670516824, 0.2683864442811206, -2.1189890633044106, -1.434940771667363, -0.5093672933620358, -0.27731095076221407, 2.4651004525258022, 2.8489571657158783, 0.5901944691867624, 0.09888235137473105, -0.6624951207347546, 0.43555759868390836, -0.8617379052332771, -0.9957790167944335, -0.5280631949498463, -0.35876865331803043, 1.4708859306271065, -2.074708781113734, -0.40094533286285255, 0.32283324650537176, -0.17387458897487848, -1.163981632278708, -1.5076039828775618, -2.142903118319994, -1.3044584358009486, 1.1809435458092068, -0.7558440605047035, 0.8065299768342404, 0.7034675024740538, -0.3922065024768214, -0.7449365613182585, -0.5954892756581013, -1.1243119100260868, 0.7855525259129963, 1.8074934808025145, -0.5593839982060513, -0.5796110598200139, -0.44782820367206677, -0.7944867743212072, 1.033484360155492, -0.08493278550006174, 1.1323788716223282, 0.8733956175397815, -0.9818441749727101, 1.4086305982693381, -0.027721439933531485, -0.5445157722654048, 0.4613583880782677, -0.4538096135342, -0.5704628104488219, 0.5315207410130589, 1.7679276975348512, -0.44493303609047485, 2.113564739113846, -2.0803028336514426]}],\n",
       "                        {\"height\": 500, \"legend\": {\"font\": {\"color\": \"#ffffff\"}}, \"paper_bgcolor\": \"#22252B\", \"plot_bgcolor\": \"#292C34\", \"showlegend\": true, \"template\": {\"data\": {\"bar\": [{\"error_x\": {\"color\": \"#2a3f5f\"}, \"error_y\": {\"color\": \"#2a3f5f\"}, \"marker\": {\"line\": {\"color\": \"#E5ECF6\", \"width\": 0.5}}, \"type\": \"bar\"}], \"barpolar\": [{\"marker\": {\"line\": {\"color\": \"#E5ECF6\", \"width\": 0.5}}, \"type\": \"barpolar\"}], \"carpet\": [{\"aaxis\": {\"endlinecolor\": \"#2a3f5f\", \"gridcolor\": \"white\", \"linecolor\": \"white\", \"minorgridcolor\": \"white\", \"startlinecolor\": \"#2a3f5f\"}, \"baxis\": {\"endlinecolor\": \"#2a3f5f\", \"gridcolor\": \"white\", \"linecolor\": \"white\", \"minorgridcolor\": \"white\", \"startlinecolor\": \"#2a3f5f\"}, \"type\": \"carpet\"}], \"choropleth\": [{\"colorbar\": {\"outlinewidth\": 0, \"ticks\": \"\"}, \"type\": \"choropleth\"}], \"contour\": [{\"colorbar\": {\"outlinewidth\": 0, \"ticks\": \"\"}, \"colorscale\": [[0.0, \"#0d0887\"], [0.1111111111111111, \"#46039f\"], [0.2222222222222222, \"#7201a8\"], [0.3333333333333333, \"#9c179e\"], [0.4444444444444444, \"#bd3786\"], [0.5555555555555556, \"#d8576b\"], [0.6666666666666666, \"#ed7953\"], [0.7777777777777778, \"#fb9f3a\"], [0.8888888888888888, \"#fdca26\"], [1.0, \"#f0f921\"]], \"type\": \"contour\"}], \"contourcarpet\": [{\"colorbar\": {\"outlinewidth\": 0, \"ticks\": \"\"}, \"type\": \"contourcarpet\"}], \"heatmap\": [{\"colorbar\": {\"outlinewidth\": 0, \"ticks\": \"\"}, \"colorscale\": [[0.0, \"#0d0887\"], [0.1111111111111111, \"#46039f\"], [0.2222222222222222, \"#7201a8\"], [0.3333333333333333, \"#9c179e\"], [0.4444444444444444, \"#bd3786\"], [0.5555555555555556, \"#d8576b\"], [0.6666666666666666, \"#ed7953\"], [0.7777777777777778, \"#fb9f3a\"], [0.8888888888888888, \"#fdca26\"], [1.0, \"#f0f921\"]], \"type\": \"heatmap\"}], \"heatmapgl\": [{\"colorbar\": {\"outlinewidth\": 0, \"ticks\": \"\"}, \"colorscale\": [[0.0, \"#0d0887\"], [0.1111111111111111, \"#46039f\"], [0.2222222222222222, \"#7201a8\"], [0.3333333333333333, \"#9c179e\"], [0.4444444444444444, \"#bd3786\"], [0.5555555555555556, \"#d8576b\"], [0.6666666666666666, \"#ed7953\"], [0.7777777777777778, \"#fb9f3a\"], [0.8888888888888888, \"#fdca26\"], [1.0, \"#f0f921\"]], \"type\": \"heatmapgl\"}], \"histogram\": [{\"marker\": {\"colorbar\": {\"outlinewidth\": 0, \"ticks\": \"\"}}, \"type\": \"histogram\"}], \"histogram2d\": [{\"colorbar\": {\"outlinewidth\": 0, \"ticks\": \"\"}, \"colorscale\": [[0.0, \"#0d0887\"], [0.1111111111111111, \"#46039f\"], [0.2222222222222222, \"#7201a8\"], [0.3333333333333333, \"#9c179e\"], [0.4444444444444444, \"#bd3786\"], [0.5555555555555556, \"#d8576b\"], [0.6666666666666666, \"#ed7953\"], [0.7777777777777778, \"#fb9f3a\"], [0.8888888888888888, \"#fdca26\"], [1.0, \"#f0f921\"]], \"type\": \"histogram2d\"}], \"histogram2dcontour\": [{\"colorbar\": {\"outlinewidth\": 0, \"ticks\": \"\"}, \"colorscale\": [[0.0, \"#0d0887\"], [0.1111111111111111, \"#46039f\"], [0.2222222222222222, \"#7201a8\"], [0.3333333333333333, \"#9c179e\"], [0.4444444444444444, \"#bd3786\"], [0.5555555555555556, \"#d8576b\"], [0.6666666666666666, \"#ed7953\"], [0.7777777777777778, \"#fb9f3a\"], [0.8888888888888888, \"#fdca26\"], [1.0, \"#f0f921\"]], \"type\": \"histogram2dcontour\"}], \"mesh3d\": [{\"colorbar\": {\"outlinewidth\": 0, \"ticks\": \"\"}, \"type\": \"mesh3d\"}], \"parcoords\": [{\"line\": {\"colorbar\": {\"outlinewidth\": 0, \"ticks\": \"\"}}, \"type\": \"parcoords\"}], \"scatter\": [{\"marker\": {\"colorbar\": {\"outlinewidth\": 0, \"ticks\": \"\"}}, \"type\": \"scatter\"}], \"scatter3d\": [{\"line\": {\"colorbar\": {\"outlinewidth\": 0, \"ticks\": \"\"}}, \"marker\": {\"colorbar\": {\"outlinewidth\": 0, \"ticks\": \"\"}}, \"type\": \"scatter3d\"}], \"scattercarpet\": [{\"marker\": {\"colorbar\": {\"outlinewidth\": 0, \"ticks\": \"\"}}, \"type\": \"scattercarpet\"}], \"scattergeo\": [{\"marker\": {\"colorbar\": {\"outlinewidth\": 0, \"ticks\": \"\"}}, \"type\": \"scattergeo\"}], \"scattergl\": [{\"marker\": {\"colorbar\": {\"outlinewidth\": 0, \"ticks\": \"\"}}, \"type\": \"scattergl\"}], \"scattermapbox\": [{\"marker\": {\"colorbar\": {\"outlinewidth\": 0, \"ticks\": \"\"}}, \"type\": \"scattermapbox\"}], \"scatterpolar\": [{\"marker\": {\"colorbar\": {\"outlinewidth\": 0, \"ticks\": \"\"}}, \"type\": \"scatterpolar\"}], \"scatterpolargl\": [{\"marker\": {\"colorbar\": {\"outlinewidth\": 0, \"ticks\": \"\"}}, \"type\": \"scatterpolargl\"}], \"scatterternary\": [{\"marker\": {\"colorbar\": {\"outlinewidth\": 0, \"ticks\": \"\"}}, \"type\": \"scatterternary\"}], \"surface\": [{\"colorbar\": {\"outlinewidth\": 0, \"ticks\": \"\"}, \"colorscale\": [[0.0, \"#0d0887\"], [0.1111111111111111, \"#46039f\"], [0.2222222222222222, \"#7201a8\"], [0.3333333333333333, \"#9c179e\"], [0.4444444444444444, \"#bd3786\"], [0.5555555555555556, \"#d8576b\"], [0.6666666666666666, \"#ed7953\"], [0.7777777777777778, \"#fb9f3a\"], [0.8888888888888888, \"#fdca26\"], [1.0, \"#f0f921\"]], \"type\": \"surface\"}], \"table\": [{\"cells\": {\"fill\": {\"color\": \"#EBF0F8\"}, \"line\": {\"color\": \"white\"}}, \"header\": {\"fill\": {\"color\": \"#C8D4E3\"}, \"line\": {\"color\": \"white\"}}, \"type\": \"table\"}]}, \"layout\": {\"annotationdefaults\": {\"arrowcolor\": \"#2a3f5f\", \"arrowhead\": 0, \"arrowwidth\": 1}, \"colorscale\": {\"diverging\": [[0, \"#8e0152\"], [0.1, \"#c51b7d\"], [0.2, \"#de77ae\"], [0.3, \"#f1b6da\"], [0.4, \"#fde0ef\"], [0.5, \"#f7f7f7\"], [0.6, \"#e6f5d0\"], [0.7, \"#b8e186\"], [0.8, \"#7fbc41\"], [0.9, \"#4d9221\"], [1, \"#276419\"]], \"sequential\": [[0.0, \"#0d0887\"], [0.1111111111111111, \"#46039f\"], [0.2222222222222222, \"#7201a8\"], [0.3333333333333333, \"#9c179e\"], [0.4444444444444444, \"#bd3786\"], [0.5555555555555556, \"#d8576b\"], [0.6666666666666666, \"#ed7953\"], [0.7777777777777778, \"#fb9f3a\"], [0.8888888888888888, \"#fdca26\"], [1.0, \"#f0f921\"]], \"sequentialminus\": [[0.0, \"#0d0887\"], [0.1111111111111111, \"#46039f\"], [0.2222222222222222, \"#7201a8\"], [0.3333333333333333, \"#9c179e\"], [0.4444444444444444, \"#bd3786\"], [0.5555555555555556, \"#d8576b\"], [0.6666666666666666, \"#ed7953\"], [0.7777777777777778, \"#fb9f3a\"], [0.8888888888888888, \"#fdca26\"], [1.0, \"#f0f921\"]]}, \"colorway\": [\"#636efa\", \"#EF553B\", \"#00cc96\", \"#ab63fa\", \"#FFA15A\", \"#19d3f3\", \"#FF6692\", \"#B6E880\", \"#FF97FF\", \"#FECB52\"], \"font\": {\"color\": \"#2a3f5f\"}, \"geo\": {\"bgcolor\": \"white\", \"lakecolor\": \"white\", \"landcolor\": \"#E5ECF6\", \"showlakes\": true, \"showland\": true, \"subunitcolor\": \"white\"}, \"hoverlabel\": {\"align\": \"left\"}, \"hovermode\": \"closest\", \"mapbox\": {\"style\": \"light\"}, \"paper_bgcolor\": \"white\", \"plot_bgcolor\": \"#E5ECF6\", \"polar\": {\"angularaxis\": {\"gridcolor\": \"white\", \"linecolor\": \"white\", \"ticks\": \"\"}, \"bgcolor\": \"#E5ECF6\", \"radialaxis\": {\"gridcolor\": \"white\", \"linecolor\": \"white\", \"ticks\": \"\"}}, \"scene\": {\"xaxis\": {\"backgroundcolor\": \"#E5ECF6\", \"gridcolor\": \"white\", \"gridwidth\": 2, \"linecolor\": \"white\", \"showbackground\": true, \"ticks\": \"\", \"zerolinecolor\": \"white\"}, \"yaxis\": {\"backgroundcolor\": \"#E5ECF6\", \"gridcolor\": \"white\", \"gridwidth\": 2, \"linecolor\": \"white\", \"showbackground\": true, \"ticks\": \"\", \"zerolinecolor\": \"white\"}, \"zaxis\": {\"backgroundcolor\": \"#E5ECF6\", \"gridcolor\": \"white\", \"gridwidth\": 2, \"linecolor\": \"white\", \"showbackground\": true, \"ticks\": \"\", \"zerolinecolor\": \"white\"}}, \"shapedefaults\": {\"line\": {\"color\": \"#2a3f5f\"}}, \"ternary\": {\"aaxis\": {\"gridcolor\": \"white\", \"linecolor\": \"white\", \"ticks\": \"\"}, \"baxis\": {\"gridcolor\": \"white\", \"linecolor\": \"white\", \"ticks\": \"\"}, \"bgcolor\": \"#E5ECF6\", \"caxis\": {\"gridcolor\": \"white\", \"linecolor\": \"white\", \"ticks\": \"\"}}, \"title\": {\"x\": 0.05}, \"xaxis\": {\"automargin\": true, \"gridcolor\": \"white\", \"linecolor\": \"white\", \"ticks\": \"\", \"zerolinecolor\": \"white\", \"zerolinewidth\": 2}, \"yaxis\": {\"automargin\": true, \"gridcolor\": \"white\", \"linecolor\": \"white\", \"ticks\": \"\", \"zerolinecolor\": \"white\", \"zerolinewidth\": 2}}}, \"title\": {\"font\": {\"color\": \"#9398A4\"}, \"text\": \"PCA on scaled Halloweed Dataset\"}, \"width\": 500, \"xaxis\": {\"gridcolor\": \"#3F434F\", \"tickfont\": {\"color\": \"#ffffff\"}, \"title\": {\"font\": {\"color\": \"#ffffff\"}, \"text\": \"Principal Componeent 1\"}, \"zeroline\": false}, \"yaxis\": {\"gridcolor\": \"#3F434F\", \"tickfont\": {\"color\": \"#ffffff\"}, \"title\": {\"font\": {\"color\": \"#ffffff\"}, \"text\": \"Principal Component 2\"}, \"zeroline\": false}},\n",
       "                        {\"responsive\": true}\n",
       "                    ).then(function(){\n",
       "                            \n",
       "var gd = document.getElementById('5fac1847-74ee-43a3-8e10-98800268dcbe');\n",
       "var x = new MutationObserver(function (mutations, observer) {{\n",
       "        var display = window.getComputedStyle(gd).display;\n",
       "        if (!display || display === 'none') {{\n",
       "            console.log([gd, 'removed!']);\n",
       "            Plotly.purge(gd);\n",
       "            observer.disconnect();\n",
       "        }}\n",
       "}});\n",
       "\n",
       "// Listen for the removal of the full notebook cells\n",
       "var notebookContainer = gd.closest('#notebook-container');\n",
       "if (notebookContainer) {{\n",
       "    x.observe(notebookContainer, {childList: true});\n",
       "}}\n",
       "\n",
       "// Listen for the clearing of the current output cell\n",
       "var outputEl = gd.closest('.output');\n",
       "if (outputEl) {{\n",
       "    x.observe(outputEl, {childList: true});\n",
       "}}\n",
       "\n",
       "                        })\n",
       "                };\n",
       "                });\n",
       "            </script>\n",
       "        </div>"
      ]
     },
     "metadata": {},
     "output_type": "display_data"
    }
   ],
   "source": [
    "from sklearn.preprocessing import StandardScaler\n",
    "\n",
    "X = StandardScaler().fit_transform(X)\n",
    "\n",
    "pca = PCA(n_components=2)\n",
    "X_pca = pca.fit_transform(X)\n",
    "\n",
    "fig = go.Figure(\n",
    "    data=[\n",
    "        scatter(X_pca[:,0],X_pca[:,1], '', mode='markers', color = [['orange', 'white'][a] for a in y.to_numpy().reshape(len(y))], size=5, opacity=1)\n",
    "    ]\n",
    ")\n",
    "render(fig, title='PCA on scaled Halloweed Dataset', x_axis_title='Principal Componeent 1', y_axis_title='Principal Component 2')\n"
   ]
  },
  {
   "cell_type": "code",
   "execution_count": 59,
   "metadata": {},
   "outputs": [
    {
     "data": {
      "text/plain": [
       "array([0.33511805, 0.11288507])"
      ]
     },
     "execution_count": 59,
     "metadata": {},
     "output_type": "execute_result"
    }
   ],
   "source": [
    "pca.explained_variance_ratio_"
   ]
  },
  {
   "cell_type": "markdown",
   "metadata": {},
   "source": [
    "As the combined explained ratio is below 85% its not suitable for 2 component PCA dimensionality reduction.\n",
    "\n",
    "Let's try the iris data set"
   ]
  },
  {
   "cell_type": "code",
   "execution_count": 79,
   "metadata": {},
   "outputs": [
    {
     "name": "stdout",
     "output_type": "stream",
     "text": [
      "(150, 4)\n"
     ]
    }
   ],
   "source": [
    "from sklearn.datasets import load_iris\n",
    "\n",
    "data = load_iris()\n",
    "\n",
    "X = data.data\n",
    "y = data.target\n",
    "\n",
    "print(X.shape)\n",
    "\n",
    "# scale\n",
    "\n",
    "X = StandardScaler().fit_transform(X)"
   ]
  },
  {
   "cell_type": "code",
   "execution_count": 72,
   "metadata": {},
   "outputs": [],
   "source": [
    "pca = PCA(n_components=2)\n",
    "\n",
    "X_pca = pca.fit_transform(X,y)"
   ]
  },
  {
   "cell_type": "code",
   "execution_count": 83,
   "metadata": {},
   "outputs": [
    {
     "data": {
      "application/vnd.plotly.v1+json": {
       "config": {
        "plotlyServerURL": "https://plot.ly"
       },
       "data": [
        {
         "marker": {
          "color": [
           "orange",
           "orange",
           "orange",
           "orange",
           "orange",
           "orange",
           "orange",
           "orange",
           "orange",
           "orange",
           "orange",
           "orange",
           "orange",
           "orange",
           "orange",
           "orange",
           "orange",
           "orange",
           "orange",
           "orange",
           "orange",
           "orange",
           "orange",
           "orange",
           "orange",
           "orange",
           "orange",
           "orange",
           "orange",
           "orange",
           "orange",
           "orange",
           "orange",
           "orange",
           "orange",
           "orange",
           "orange",
           "orange",
           "orange",
           "orange",
           "orange",
           "orange",
           "orange",
           "orange",
           "orange",
           "orange",
           "orange",
           "orange",
           "orange",
           "orange",
           "pink",
           "pink",
           "pink",
           "pink",
           "pink",
           "pink",
           "pink",
           "pink",
           "pink",
           "pink",
           "pink",
           "pink",
           "pink",
           "pink",
           "pink",
           "pink",
           "pink",
           "pink",
           "pink",
           "pink",
           "pink",
           "pink",
           "pink",
           "pink",
           "pink",
           "pink",
           "pink",
           "pink",
           "pink",
           "pink",
           "pink",
           "pink",
           "pink",
           "pink",
           "pink",
           "pink",
           "pink",
           "pink",
           "pink",
           "pink",
           "pink",
           "pink",
           "pink",
           "pink",
           "pink",
           "pink",
           "pink",
           "pink",
           "pink",
           "pink",
           "yellow",
           "yellow",
           "yellow",
           "yellow",
           "yellow",
           "yellow",
           "yellow",
           "yellow",
           "yellow",
           "yellow",
           "yellow",
           "yellow",
           "yellow",
           "yellow",
           "yellow",
           "yellow",
           "yellow",
           "yellow",
           "yellow",
           "yellow",
           "yellow",
           "yellow",
           "yellow",
           "yellow",
           "yellow",
           "yellow",
           "yellow",
           "yellow",
           "yellow",
           "yellow",
           "yellow",
           "yellow",
           "yellow",
           "yellow",
           "yellow",
           "yellow",
           "yellow",
           "yellow",
           "yellow",
           "yellow",
           "yellow",
           "yellow",
           "yellow",
           "yellow",
           "yellow",
           "yellow",
           "yellow",
           "yellow",
           "yellow",
           "yellow"
          ],
          "size": 5
         },
         "mode": "markers",
         "name": "",
         "opacity": 1,
         "type": "scatter",
         "x": [
          -2.2647028088075905,
          -2.080961151965768,
          -2.3642290538903,
          -2.299384217042708,
          -2.3898421663138443,
          -2.075630948176512,
          -2.4440288351341524,
          -2.2328471588720142,
          -2.334640477907621,
          -2.184328174933942,
          -2.166310100701322,
          -2.3261308664426985,
          -2.2184508988224088,
          -2.6331006957652274,
          -2.19874060326669,
          -2.2622145316010207,
          -2.207587695824592,
          -2.190349509192298,
          -1.8985719958028417,
          -2.343369053074993,
          -1.9143229960825674,
          -2.207012843194798,
          -2.774344702927332,
          -1.8186695286958487,
          -2.2271633057066387,
          -1.951846330900375,
          -2.051151372729415,
          -2.168577174654216,
          -2.1395634513013313,
          -2.2652614931542403,
          -2.140122135647984,
          -1.8315947706760278,
          -2.6149479358589343,
          -2.4461773916965144,
          -2.109974875318652,
          -2.207808899078265,
          -2.0451462067542012,
          -2.5273319131704857,
          -2.429632575084546,
          -2.169710711630663,
          -2.28647514334567,
          -1.8581224563735708,
          -2.5536383956143553,
          -1.9644476837637403,
          -2.137059005811623,
          -2.069744299591829,
          -2.3847331657782624,
          -2.3943763142196324,
          -2.229446547942674,
          -2.2038334355191296,
          1.1017811830529483,
          0.7313374253960877,
          1.2409793195158316,
          0.4074830588173857,
          1.0754747006090788,
          0.3886873365356651,
          0.746529741329161,
          -0.48732274212563925,
          0.9279016383549458,
          0.01142618873698068,
          -0.1101962800006281,
          0.44069344898307866,
          0.5621083064431797,
          0.7195618886754966,
          -0.03335470317877192,
          0.8754071908577383,
          0.35025166799508295,
          0.15881004754797165,
          1.2250936335624325,
          0.16491789938632787,
          0.7376826487712582,
          0.4762871909409718,
          1.2341780976571495,
          0.632858199709822,
          0.7026611831361826,
          0.8742736538812909,
          1.256509116541884,
          1.3584051214406323,
          0.6648003672253952,
          -0.04025861090059507,
          0.1307951754978613,
          0.023452688970551427,
          0.24153827295451133,
          1.0610946088426143,
          0.22397877351237988,
          0.42913911551616074,
          1.0487280512090882,
          1.0445313843962798,
          0.06958832111642321,
          0.2834772382875758,
          0.27907777605546125,
          0.6245697914985717,
          0.33653037013143644,
          -0.3621833846193824,
          0.2885862388231577,
          0.09136065565450546,
          0.22771686553470033,
          0.576388288653479,
          -0.44766701902861106,
          0.25673058888758504,
          1.8445688677230294,
          1.15788161320578,
          2.2052667910753785,
          1.4401506638275396,
          1.867812220330538,
          2.7518733356662777,
          0.36701768786072475,
          2.302439444625198,
          2.0066864676766065,
          2.2597773490125004,
          1.3641754921860083,
          1.602678670477931,
          1.883900701703243,
          1.260115099197508,
          1.4676452010173244,
          1.590077317614566,
          1.4714314611333188,
          2.4263289873157006,
          3.3106955839338883,
          1.263766673639829,
          2.037716301469405,
          0.9779807342494219,
          2.8976514907341695,
          1.3332321759732093,
          1.7007338974912178,
          1.9543267058530711,
          1.1751036315549332,
          1.0209505506957912,
          1.7883499201796667,
          1.8636475533282617,
          2.4359537279227044,
          2.3049277218317648,
          1.8627032197949562,
          1.114147740686475,
          1.2024733016783915,
          2.7987704475781086,
          1.5762559101947546,
          1.3462921036270623,
          0.9248249165424195,
          1.8520450517676708,
          2.0148104299548764,
          1.9017840902621899,
          1.15788161320578,
          2.040558228052093,
          1.9981470959523773,
          1.8705032929564116,
          1.5645804830303287,
          1.5211704996278383,
          1.3727877895140734,
          0.960656030037128
         ],
         "y": [
          0.4800265965209892,
          -0.6741335566053533,
          -0.3419080238846762,
          -0.5973945076746757,
          0.6468353829020274,
          1.489177523321167,
          0.04764419763001433,
          0.22314807268959194,
          -1.1153276754616666,
          -0.4690135614023759,
          1.0436906530538599,
          0.13307833523923182,
          -0.728676165316571,
          -0.9615067291701631,
          1.8600571132939316,
          2.6862844851105927,
          1.4836093631555727,
          0.48883831648632764,
          1.4050187944665498,
          1.1278493819084767,
          0.40885570775590613,
          0.9241214267468987,
          0.4583436677529156,
          0.08555852628736621,
          0.1372544553634275,
          -0.6256185877766767,
          0.24216355266166725,
          0.5271495253082674,
          0.313217810139952,
          -0.3377319037604805,
          -0.5045406901415184,
          0.4236950676037857,
          1.793575856104429,
          2.1507278773929244,
          -0.46020184143703746,
          -0.20610739768843697,
          0.6615581114631082,
          0.5922927741908097,
          -0.9041800403761482,
          0.268878961435471,
          0.44171538769905017,
          -2.3374151575533486,
          -0.4791006901223141,
          0.472326667719261,
          1.1422292620394094,
          -0.7110527253858943,
          1.1204297019845368,
          -0.38624687258915713,
          0.9979597643079806,
          0.00921635752127629,
          0.8629724182621591,
          0.5946147256694247,
          0.6162976544374986,
          -1.7544039893234111,
          -0.2084210460509655,
          -0.5932836359900752,
          0.7730193120985966,
          -1.8524290868575746,
          0.0322260778911538,
          -1.0340182751294407,
          -2.6540728185365654,
          -0.06329518843800139,
          -1.7647243806169455,
          -0.18622460583150577,
          -0.43900320998162473,
          0.5090639567734087,
          -0.19631173455144393,
          -0.7920957424327214,
          -1.6222438030915025,
          -1.302609230295773,
          0.3965715619602391,
          -0.4173202812135511,
          -0.9333257287992788,
          -0.4163877208890995,
          -0.06341181972480023,
          0.2507933929006121,
          -0.07725601969586898,
          0.3313116817908982,
          -0.22592785469484367,
          -1.0587185465539088,
          -1.5622718342099682,
          -1.5724755942167052,
          -0.7772563825848418,
          -0.6338432447349468,
          -0.2877735120432022,
          0.845582240905079,
          0.5220517968629428,
          -1.3829887191907821,
          -0.21950333464771496,
          -1.3293246390695768,
          -1.120028523742404,
          0.02492302925401271,
          -0.9884040176703606,
          -2.0192378732386125,
          -0.8557303199870665,
          -0.1811921258257752,
          -0.38492008098735375,
          -0.15487359721655886,
          -1.5437920343977565,
          -0.5988517961556695,
          0.8704213123248236,
          -0.6988698623306904,
          0.5620104770083557,
          -0.046987588105806416,
          0.29504482445701996,
          0.8004092010275422,
          -1.561502891476506,
          0.4200655796427766,
          -0.7114386535471587,
          1.9210103764598874,
          0.6927564544903873,
          -0.4217004497726174,
          0.41924965060512354,
          -1.1622604214064638,
          -0.44227158737708244,
          0.6762448057233202,
          0.2556218244714707,
          2.556661250795493,
          0.017780949320626703,
          -1.7067453803762678,
          0.910467409618311,
          -0.5717643248129917,
          0.4136410595956477,
          -0.4818112186494296,
          1.0139218673227919,
          1.0077775961534527,
          -0.3163944723097912,
          0.06434602923956194,
          -0.18736121459082877,
          0.5622907258861447,
          0.25928443314428024,
          2.6263234682323793,
          -0.1785494946254904,
          -0.29292262333573144,
          -0.8113152708396688,
          0.8568033294971052,
          1.068581107320808,
          0.42243061085250855,
          0.01722310045228423,
          0.6761281744365217,
          0.6138856369235752,
          0.6895754942430027,
          -0.6988698623306904,
          0.8675206009552286,
          1.0491687471841453,
          0.3869660816657256,
          -0.8966868088965269,
          0.26906914427795176,
          1.0112544185267935,
          -0.024331668169399173
         ]
        }
       ],
       "layout": {
        "height": 500,
        "legend": {
         "font": {
          "color": "#ffffff"
         }
        },
        "paper_bgcolor": "#22252B",
        "plot_bgcolor": "#292C34",
        "showlegend": true,
        "template": {
         "data": {
          "bar": [
           {
            "error_x": {
             "color": "#2a3f5f"
            },
            "error_y": {
             "color": "#2a3f5f"
            },
            "marker": {
             "line": {
              "color": "#E5ECF6",
              "width": 0.5
             }
            },
            "type": "bar"
           }
          ],
          "barpolar": [
           {
            "marker": {
             "line": {
              "color": "#E5ECF6",
              "width": 0.5
             }
            },
            "type": "barpolar"
           }
          ],
          "carpet": [
           {
            "aaxis": {
             "endlinecolor": "#2a3f5f",
             "gridcolor": "white",
             "linecolor": "white",
             "minorgridcolor": "white",
             "startlinecolor": "#2a3f5f"
            },
            "baxis": {
             "endlinecolor": "#2a3f5f",
             "gridcolor": "white",
             "linecolor": "white",
             "minorgridcolor": "white",
             "startlinecolor": "#2a3f5f"
            },
            "type": "carpet"
           }
          ],
          "choropleth": [
           {
            "colorbar": {
             "outlinewidth": 0,
             "ticks": ""
            },
            "type": "choropleth"
           }
          ],
          "contour": [
           {
            "colorbar": {
             "outlinewidth": 0,
             "ticks": ""
            },
            "colorscale": [
             [
              0,
              "#0d0887"
             ],
             [
              0.1111111111111111,
              "#46039f"
             ],
             [
              0.2222222222222222,
              "#7201a8"
             ],
             [
              0.3333333333333333,
              "#9c179e"
             ],
             [
              0.4444444444444444,
              "#bd3786"
             ],
             [
              0.5555555555555556,
              "#d8576b"
             ],
             [
              0.6666666666666666,
              "#ed7953"
             ],
             [
              0.7777777777777778,
              "#fb9f3a"
             ],
             [
              0.8888888888888888,
              "#fdca26"
             ],
             [
              1,
              "#f0f921"
             ]
            ],
            "type": "contour"
           }
          ],
          "contourcarpet": [
           {
            "colorbar": {
             "outlinewidth": 0,
             "ticks": ""
            },
            "type": "contourcarpet"
           }
          ],
          "heatmap": [
           {
            "colorbar": {
             "outlinewidth": 0,
             "ticks": ""
            },
            "colorscale": [
             [
              0,
              "#0d0887"
             ],
             [
              0.1111111111111111,
              "#46039f"
             ],
             [
              0.2222222222222222,
              "#7201a8"
             ],
             [
              0.3333333333333333,
              "#9c179e"
             ],
             [
              0.4444444444444444,
              "#bd3786"
             ],
             [
              0.5555555555555556,
              "#d8576b"
             ],
             [
              0.6666666666666666,
              "#ed7953"
             ],
             [
              0.7777777777777778,
              "#fb9f3a"
             ],
             [
              0.8888888888888888,
              "#fdca26"
             ],
             [
              1,
              "#f0f921"
             ]
            ],
            "type": "heatmap"
           }
          ],
          "heatmapgl": [
           {
            "colorbar": {
             "outlinewidth": 0,
             "ticks": ""
            },
            "colorscale": [
             [
              0,
              "#0d0887"
             ],
             [
              0.1111111111111111,
              "#46039f"
             ],
             [
              0.2222222222222222,
              "#7201a8"
             ],
             [
              0.3333333333333333,
              "#9c179e"
             ],
             [
              0.4444444444444444,
              "#bd3786"
             ],
             [
              0.5555555555555556,
              "#d8576b"
             ],
             [
              0.6666666666666666,
              "#ed7953"
             ],
             [
              0.7777777777777778,
              "#fb9f3a"
             ],
             [
              0.8888888888888888,
              "#fdca26"
             ],
             [
              1,
              "#f0f921"
             ]
            ],
            "type": "heatmapgl"
           }
          ],
          "histogram": [
           {
            "marker": {
             "colorbar": {
              "outlinewidth": 0,
              "ticks": ""
             }
            },
            "type": "histogram"
           }
          ],
          "histogram2d": [
           {
            "colorbar": {
             "outlinewidth": 0,
             "ticks": ""
            },
            "colorscale": [
             [
              0,
              "#0d0887"
             ],
             [
              0.1111111111111111,
              "#46039f"
             ],
             [
              0.2222222222222222,
              "#7201a8"
             ],
             [
              0.3333333333333333,
              "#9c179e"
             ],
             [
              0.4444444444444444,
              "#bd3786"
             ],
             [
              0.5555555555555556,
              "#d8576b"
             ],
             [
              0.6666666666666666,
              "#ed7953"
             ],
             [
              0.7777777777777778,
              "#fb9f3a"
             ],
             [
              0.8888888888888888,
              "#fdca26"
             ],
             [
              1,
              "#f0f921"
             ]
            ],
            "type": "histogram2d"
           }
          ],
          "histogram2dcontour": [
           {
            "colorbar": {
             "outlinewidth": 0,
             "ticks": ""
            },
            "colorscale": [
             [
              0,
              "#0d0887"
             ],
             [
              0.1111111111111111,
              "#46039f"
             ],
             [
              0.2222222222222222,
              "#7201a8"
             ],
             [
              0.3333333333333333,
              "#9c179e"
             ],
             [
              0.4444444444444444,
              "#bd3786"
             ],
             [
              0.5555555555555556,
              "#d8576b"
             ],
             [
              0.6666666666666666,
              "#ed7953"
             ],
             [
              0.7777777777777778,
              "#fb9f3a"
             ],
             [
              0.8888888888888888,
              "#fdca26"
             ],
             [
              1,
              "#f0f921"
             ]
            ],
            "type": "histogram2dcontour"
           }
          ],
          "mesh3d": [
           {
            "colorbar": {
             "outlinewidth": 0,
             "ticks": ""
            },
            "type": "mesh3d"
           }
          ],
          "parcoords": [
           {
            "line": {
             "colorbar": {
              "outlinewidth": 0,
              "ticks": ""
             }
            },
            "type": "parcoords"
           }
          ],
          "scatter": [
           {
            "marker": {
             "colorbar": {
              "outlinewidth": 0,
              "ticks": ""
             }
            },
            "type": "scatter"
           }
          ],
          "scatter3d": [
           {
            "line": {
             "colorbar": {
              "outlinewidth": 0,
              "ticks": ""
             }
            },
            "marker": {
             "colorbar": {
              "outlinewidth": 0,
              "ticks": ""
             }
            },
            "type": "scatter3d"
           }
          ],
          "scattercarpet": [
           {
            "marker": {
             "colorbar": {
              "outlinewidth": 0,
              "ticks": ""
             }
            },
            "type": "scattercarpet"
           }
          ],
          "scattergeo": [
           {
            "marker": {
             "colorbar": {
              "outlinewidth": 0,
              "ticks": ""
             }
            },
            "type": "scattergeo"
           }
          ],
          "scattergl": [
           {
            "marker": {
             "colorbar": {
              "outlinewidth": 0,
              "ticks": ""
             }
            },
            "type": "scattergl"
           }
          ],
          "scattermapbox": [
           {
            "marker": {
             "colorbar": {
              "outlinewidth": 0,
              "ticks": ""
             }
            },
            "type": "scattermapbox"
           }
          ],
          "scatterpolar": [
           {
            "marker": {
             "colorbar": {
              "outlinewidth": 0,
              "ticks": ""
             }
            },
            "type": "scatterpolar"
           }
          ],
          "scatterpolargl": [
           {
            "marker": {
             "colorbar": {
              "outlinewidth": 0,
              "ticks": ""
             }
            },
            "type": "scatterpolargl"
           }
          ],
          "scatterternary": [
           {
            "marker": {
             "colorbar": {
              "outlinewidth": 0,
              "ticks": ""
             }
            },
            "type": "scatterternary"
           }
          ],
          "surface": [
           {
            "colorbar": {
             "outlinewidth": 0,
             "ticks": ""
            },
            "colorscale": [
             [
              0,
              "#0d0887"
             ],
             [
              0.1111111111111111,
              "#46039f"
             ],
             [
              0.2222222222222222,
              "#7201a8"
             ],
             [
              0.3333333333333333,
              "#9c179e"
             ],
             [
              0.4444444444444444,
              "#bd3786"
             ],
             [
              0.5555555555555556,
              "#d8576b"
             ],
             [
              0.6666666666666666,
              "#ed7953"
             ],
             [
              0.7777777777777778,
              "#fb9f3a"
             ],
             [
              0.8888888888888888,
              "#fdca26"
             ],
             [
              1,
              "#f0f921"
             ]
            ],
            "type": "surface"
           }
          ],
          "table": [
           {
            "cells": {
             "fill": {
              "color": "#EBF0F8"
             },
             "line": {
              "color": "white"
             }
            },
            "header": {
             "fill": {
              "color": "#C8D4E3"
             },
             "line": {
              "color": "white"
             }
            },
            "type": "table"
           }
          ]
         },
         "layout": {
          "annotationdefaults": {
           "arrowcolor": "#2a3f5f",
           "arrowhead": 0,
           "arrowwidth": 1
          },
          "colorscale": {
           "diverging": [
            [
             0,
             "#8e0152"
            ],
            [
             0.1,
             "#c51b7d"
            ],
            [
             0.2,
             "#de77ae"
            ],
            [
             0.3,
             "#f1b6da"
            ],
            [
             0.4,
             "#fde0ef"
            ],
            [
             0.5,
             "#f7f7f7"
            ],
            [
             0.6,
             "#e6f5d0"
            ],
            [
             0.7,
             "#b8e186"
            ],
            [
             0.8,
             "#7fbc41"
            ],
            [
             0.9,
             "#4d9221"
            ],
            [
             1,
             "#276419"
            ]
           ],
           "sequential": [
            [
             0,
             "#0d0887"
            ],
            [
             0.1111111111111111,
             "#46039f"
            ],
            [
             0.2222222222222222,
             "#7201a8"
            ],
            [
             0.3333333333333333,
             "#9c179e"
            ],
            [
             0.4444444444444444,
             "#bd3786"
            ],
            [
             0.5555555555555556,
             "#d8576b"
            ],
            [
             0.6666666666666666,
             "#ed7953"
            ],
            [
             0.7777777777777778,
             "#fb9f3a"
            ],
            [
             0.8888888888888888,
             "#fdca26"
            ],
            [
             1,
             "#f0f921"
            ]
           ],
           "sequentialminus": [
            [
             0,
             "#0d0887"
            ],
            [
             0.1111111111111111,
             "#46039f"
            ],
            [
             0.2222222222222222,
             "#7201a8"
            ],
            [
             0.3333333333333333,
             "#9c179e"
            ],
            [
             0.4444444444444444,
             "#bd3786"
            ],
            [
             0.5555555555555556,
             "#d8576b"
            ],
            [
             0.6666666666666666,
             "#ed7953"
            ],
            [
             0.7777777777777778,
             "#fb9f3a"
            ],
            [
             0.8888888888888888,
             "#fdca26"
            ],
            [
             1,
             "#f0f921"
            ]
           ]
          },
          "colorway": [
           "#636efa",
           "#EF553B",
           "#00cc96",
           "#ab63fa",
           "#FFA15A",
           "#19d3f3",
           "#FF6692",
           "#B6E880",
           "#FF97FF",
           "#FECB52"
          ],
          "font": {
           "color": "#2a3f5f"
          },
          "geo": {
           "bgcolor": "white",
           "lakecolor": "white",
           "landcolor": "#E5ECF6",
           "showlakes": true,
           "showland": true,
           "subunitcolor": "white"
          },
          "hoverlabel": {
           "align": "left"
          },
          "hovermode": "closest",
          "mapbox": {
           "style": "light"
          },
          "paper_bgcolor": "white",
          "plot_bgcolor": "#E5ECF6",
          "polar": {
           "angularaxis": {
            "gridcolor": "white",
            "linecolor": "white",
            "ticks": ""
           },
           "bgcolor": "#E5ECF6",
           "radialaxis": {
            "gridcolor": "white",
            "linecolor": "white",
            "ticks": ""
           }
          },
          "scene": {
           "xaxis": {
            "backgroundcolor": "#E5ECF6",
            "gridcolor": "white",
            "gridwidth": 2,
            "linecolor": "white",
            "showbackground": true,
            "ticks": "",
            "zerolinecolor": "white"
           },
           "yaxis": {
            "backgroundcolor": "#E5ECF6",
            "gridcolor": "white",
            "gridwidth": 2,
            "linecolor": "white",
            "showbackground": true,
            "ticks": "",
            "zerolinecolor": "white"
           },
           "zaxis": {
            "backgroundcolor": "#E5ECF6",
            "gridcolor": "white",
            "gridwidth": 2,
            "linecolor": "white",
            "showbackground": true,
            "ticks": "",
            "zerolinecolor": "white"
           }
          },
          "shapedefaults": {
           "line": {
            "color": "#2a3f5f"
           }
          },
          "ternary": {
           "aaxis": {
            "gridcolor": "white",
            "linecolor": "white",
            "ticks": ""
           },
           "baxis": {
            "gridcolor": "white",
            "linecolor": "white",
            "ticks": ""
           },
           "bgcolor": "#E5ECF6",
           "caxis": {
            "gridcolor": "white",
            "linecolor": "white",
            "ticks": ""
           }
          },
          "title": {
           "x": 0.05
          },
          "xaxis": {
           "automargin": true,
           "gridcolor": "white",
           "linecolor": "white",
           "ticks": "",
           "zerolinecolor": "white",
           "zerolinewidth": 2
          },
          "yaxis": {
           "automargin": true,
           "gridcolor": "white",
           "linecolor": "white",
           "ticks": "",
           "zerolinecolor": "white",
           "zerolinewidth": 2
          }
         }
        },
        "title": {
         "font": {
          "color": "#9398A4"
         },
         "text": "PCA on scaled IRIS Dataset"
        },
        "width": 500,
        "xaxis": {
         "autorange": true,
         "gridcolor": "#3F434F",
         "range": [
          -3.1828899432045032,
          3.7192408242110595
         ],
         "tickfont": {
          "color": "#ffffff"
         },
         "title": {
          "font": {
           "color": "#ffffff"
          },
          "text": "Principal Componeent 1"
         },
         "type": "linear",
         "zeroline": false
        },
        "yaxis": {
         "autorange": true,
         "gridcolor": "#3F434F",
         "range": [
          -3.0165726710024106,
          3.048784337576438
         ],
         "tickfont": {
          "color": "#ffffff"
         },
         "title": {
          "font": {
           "color": "#ffffff"
          },
          "text": "Principal Component 2"
         },
         "type": "linear",
         "zeroline": false
        }
       }
      },
      "image/png": "[encoded data removed]",
      "text/html": [
       "<div>\n",
       "        \n",
       "        \n",
       "            <div id=\"a6c2fa70-fb11-421e-865a-47f8abe18406\" class=\"plotly-graph-div\" style=\"height:500px; width:500px;\"></div>\n",
       "            <script type=\"text/javascript\">\n",
       "                require([\"plotly\"], function(Plotly) {\n",
       "                    window.PLOTLYENV=window.PLOTLYENV || {};\n",
       "                    \n",
       "                if (document.getElementById(\"a6c2fa70-fb11-421e-865a-47f8abe18406\")) {\n",
       "                    Plotly.newPlot(\n",
       "                        'a6c2fa70-fb11-421e-865a-47f8abe18406',\n",
       "                        [{\"marker\": {\"color\": [\"orange\", \"orange\", \"orange\", \"orange\", \"orange\", \"orange\", \"orange\", \"orange\", \"orange\", \"orange\", \"orange\", \"orange\", \"orange\", \"orange\", \"orange\", \"orange\", \"orange\", \"orange\", \"orange\", \"orange\", \"orange\", \"orange\", \"orange\", \"orange\", \"orange\", \"orange\", \"orange\", \"orange\", \"orange\", \"orange\", \"orange\", \"orange\", \"orange\", \"orange\", \"orange\", \"orange\", \"orange\", \"orange\", \"orange\", \"orange\", \"orange\", \"orange\", \"orange\", \"orange\", \"orange\", \"orange\", \"orange\", \"orange\", \"orange\", \"orange\", \"pink\", \"pink\", \"pink\", \"pink\", \"pink\", \"pink\", \"pink\", \"pink\", \"pink\", \"pink\", \"pink\", \"pink\", \"pink\", \"pink\", \"pink\", \"pink\", \"pink\", \"pink\", \"pink\", \"pink\", \"pink\", \"pink\", \"pink\", \"pink\", \"pink\", \"pink\", \"pink\", \"pink\", \"pink\", \"pink\", \"pink\", \"pink\", \"pink\", \"pink\", \"pink\", \"pink\", \"pink\", \"pink\", \"pink\", \"pink\", \"pink\", \"pink\", \"pink\", \"pink\", \"pink\", \"pink\", \"pink\", \"pink\", \"pink\", \"pink\", \"yellow\", \"yellow\", \"yellow\", \"yellow\", \"yellow\", \"yellow\", \"yellow\", \"yellow\", \"yellow\", \"yellow\", \"yellow\", \"yellow\", \"yellow\", \"yellow\", \"yellow\", \"yellow\", \"yellow\", \"yellow\", \"yellow\", \"yellow\", \"yellow\", \"yellow\", \"yellow\", \"yellow\", \"yellow\", \"yellow\", \"yellow\", \"yellow\", \"yellow\", \"yellow\", \"yellow\", \"yellow\", \"yellow\", \"yellow\", \"yellow\", \"yellow\", \"yellow\", \"yellow\", \"yellow\", \"yellow\", \"yellow\", \"yellow\", \"yellow\", \"yellow\", \"yellow\", \"yellow\", \"yellow\", \"yellow\", \"yellow\", \"yellow\"], \"size\": 5}, \"mode\": \"markers\", \"name\": \"\", \"opacity\": 1, \"type\": \"scatter\", \"x\": [-2.2647028088075905, -2.080961151965768, -2.3642290538903, -2.299384217042708, -2.3898421663138443, -2.075630948176512, -2.4440288351341524, -2.2328471588720142, -2.334640477907621, -2.184328174933942, -2.166310100701322, -2.3261308664426985, -2.2184508988224088, -2.6331006957652274, -2.19874060326669, -2.2622145316010207, -2.207587695824592, -2.190349509192298, -1.8985719958028417, -2.343369053074993, -1.9143229960825674, -2.207012843194798, -2.774344702927332, -1.8186695286958487, -2.2271633057066387, -1.951846330900375, -2.051151372729415, -2.168577174654216, -2.1395634513013313, -2.2652614931542403, -2.140122135647984, -1.8315947706760278, -2.6149479358589343, -2.4461773916965144, -2.109974875318652, -2.207808899078265, -2.0451462067542012, -2.5273319131704857, -2.429632575084546, -2.169710711630663, -2.28647514334567, -1.8581224563735708, -2.5536383956143553, -1.9644476837637403, -2.137059005811623, -2.069744299591829, -2.3847331657782624, -2.3943763142196324, -2.229446547942674, -2.2038334355191296, 1.1017811830529483, 0.7313374253960877, 1.2409793195158316, 0.4074830588173857, 1.0754747006090788, 0.3886873365356651, 0.746529741329161, -0.48732274212563925, 0.9279016383549458, 0.01142618873698068, -0.1101962800006281, 0.44069344898307866, 0.5621083064431797, 0.7195618886754966, -0.03335470317877192, 0.8754071908577383, 0.35025166799508295, 0.15881004754797165, 1.2250936335624325, 0.16491789938632787, 0.7376826487712582, 0.4762871909409718, 1.2341780976571495, 0.632858199709822, 0.7026611831361826, 0.8742736538812909, 1.256509116541884, 1.3584051214406323, 0.6648003672253952, -0.04025861090059507, 0.1307951754978613, 0.023452688970551427, 0.24153827295451133, 1.0610946088426143, 0.22397877351237988, 0.42913911551616074, 1.0487280512090882, 1.0445313843962798, 0.06958832111642321, 0.2834772382875758, 0.27907777605546125, 0.6245697914985717, 0.33653037013143644, -0.3621833846193824, 0.2885862388231577, 0.09136065565450546, 0.22771686553470033, 0.576388288653479, -0.44766701902861106, 0.25673058888758504, 1.8445688677230294, 1.15788161320578, 2.2052667910753785, 1.4401506638275396, 1.867812220330538, 2.7518733356662777, 0.36701768786072475, 2.302439444625198, 2.0066864676766065, 2.2597773490125004, 1.3641754921860083, 1.602678670477931, 1.883900701703243, 1.260115099197508, 1.4676452010173244, 1.590077317614566, 1.4714314611333188, 2.4263289873157006, 3.3106955839338883, 1.263766673639829, 2.037716301469405, 0.9779807342494219, 2.8976514907341695, 1.3332321759732093, 1.7007338974912178, 1.9543267058530711, 1.1751036315549332, 1.0209505506957912, 1.7883499201796667, 1.8636475533282617, 2.4359537279227044, 2.3049277218317648, 1.8627032197949562, 1.114147740686475, 1.2024733016783915, 2.7987704475781086, 1.5762559101947546, 1.3462921036270623, 0.9248249165424195, 1.8520450517676708, 2.0148104299548764, 1.9017840902621899, 1.15788161320578, 2.040558228052093, 1.9981470959523773, 1.8705032929564116, 1.5645804830303287, 1.5211704996278383, 1.3727877895140734, 0.960656030037128], \"y\": [0.4800265965209892, -0.6741335566053533, -0.3419080238846762, -0.5973945076746757, 0.6468353829020274, 1.489177523321167, 0.04764419763001433, 0.22314807268959194, -1.1153276754616666, -0.4690135614023759, 1.0436906530538599, 0.13307833523923182, -0.728676165316571, -0.9615067291701631, 1.8600571132939316, 2.6862844851105927, 1.4836093631555727, 0.48883831648632764, 1.4050187944665498, 1.1278493819084767, 0.40885570775590613, 0.9241214267468987, 0.4583436677529156, 0.08555852628736621, 0.1372544553634275, -0.6256185877766767, 0.24216355266166725, 0.5271495253082674, 0.313217810139952, -0.3377319037604805, -0.5045406901415184, 0.4236950676037857, 1.793575856104429, 2.1507278773929244, -0.46020184143703746, -0.20610739768843697, 0.6615581114631082, 0.5922927741908097, -0.9041800403761482, 0.268878961435471, 0.44171538769905017, -2.3374151575533486, -0.4791006901223141, 0.472326667719261, 1.1422292620394094, -0.7110527253858943, 1.1204297019845368, -0.38624687258915713, 0.9979597643079806, 0.00921635752127629, 0.8629724182621591, 0.5946147256694247, 0.6162976544374986, -1.7544039893234111, -0.2084210460509655, -0.5932836359900752, 0.7730193120985966, -1.8524290868575746, 0.0322260778911538, -1.0340182751294407, -2.6540728185365654, -0.06329518843800139, -1.7647243806169455, -0.18622460583150577, -0.43900320998162473, 0.5090639567734087, -0.19631173455144393, -0.7920957424327214, -1.6222438030915025, -1.302609230295773, 0.3965715619602391, -0.4173202812135511, -0.9333257287992788, -0.4163877208890995, -0.06341181972480023, 0.2507933929006121, -0.07725601969586898, 0.3313116817908982, -0.22592785469484367, -1.0587185465539088, -1.5622718342099682, -1.5724755942167052, -0.7772563825848418, -0.6338432447349468, -0.2877735120432022, 0.845582240905079, 0.5220517968629428, -1.3829887191907821, -0.21950333464771496, -1.3293246390695768, -1.120028523742404, 0.02492302925401271, -0.9884040176703606, -2.0192378732386125, -0.8557303199870665, -0.1811921258257752, -0.38492008098735375, -0.15487359721655886, -1.5437920343977565, -0.5988517961556695, 0.8704213123248236, -0.6988698623306904, 0.5620104770083557, -0.046987588105806416, 0.29504482445701996, 0.8004092010275422, -1.561502891476506, 0.4200655796427766, -0.7114386535471587, 1.9210103764598874, 0.6927564544903873, -0.4217004497726174, 0.41924965060512354, -1.1622604214064638, -0.44227158737708244, 0.6762448057233202, 0.2556218244714707, 2.556661250795493, 0.017780949320626703, -1.7067453803762678, 0.910467409618311, -0.5717643248129917, 0.4136410595956477, -0.4818112186494296, 1.0139218673227919, 1.0077775961534527, -0.3163944723097912, 0.06434602923956194, -0.18736121459082877, 0.5622907258861447, 0.25928443314428024, 2.6263234682323793, -0.1785494946254904, -0.29292262333573144, -0.8113152708396688, 0.8568033294971052, 1.068581107320808, 0.42243061085250855, 0.01722310045228423, 0.6761281744365217, 0.6138856369235752, 0.6895754942430027, -0.6988698623306904, 0.8675206009552286, 1.0491687471841453, 0.3869660816657256, -0.8966868088965269, 0.26906914427795176, 1.0112544185267935, -0.024331668169399173]}],\n",
       "                        {\"height\": 500, \"legend\": {\"font\": {\"color\": \"#ffffff\"}}, \"paper_bgcolor\": \"#22252B\", \"plot_bgcolor\": \"#292C34\", \"showlegend\": true, \"template\": {\"data\": {\"bar\": [{\"error_x\": {\"color\": \"#2a3f5f\"}, \"error_y\": {\"color\": \"#2a3f5f\"}, \"marker\": {\"line\": {\"color\": \"#E5ECF6\", \"width\": 0.5}}, \"type\": \"bar\"}], \"barpolar\": [{\"marker\": {\"line\": {\"color\": \"#E5ECF6\", \"width\": 0.5}}, \"type\": \"barpolar\"}], \"carpet\": [{\"aaxis\": {\"endlinecolor\": \"#2a3f5f\", \"gridcolor\": \"white\", \"linecolor\": \"white\", \"minorgridcolor\": \"white\", \"startlinecolor\": \"#2a3f5f\"}, \"baxis\": {\"endlinecolor\": \"#2a3f5f\", \"gridcolor\": \"white\", \"linecolor\": \"white\", \"minorgridcolor\": \"white\", \"startlinecolor\": \"#2a3f5f\"}, \"type\": \"carpet\"}], \"choropleth\": [{\"colorbar\": {\"outlinewidth\": 0, \"ticks\": \"\"}, \"type\": \"choropleth\"}], \"contour\": [{\"colorbar\": {\"outlinewidth\": 0, \"ticks\": \"\"}, \"colorscale\": [[0.0, \"#0d0887\"], [0.1111111111111111, \"#46039f\"], [0.2222222222222222, \"#7201a8\"], [0.3333333333333333, \"#9c179e\"], [0.4444444444444444, \"#bd3786\"], [0.5555555555555556, \"#d8576b\"], [0.6666666666666666, \"#ed7953\"], [0.7777777777777778, \"#fb9f3a\"], [0.8888888888888888, \"#fdca26\"], [1.0, \"#f0f921\"]], \"type\": \"contour\"}], \"contourcarpet\": [{\"colorbar\": {\"outlinewidth\": 0, \"ticks\": \"\"}, \"type\": \"contourcarpet\"}], \"heatmap\": [{\"colorbar\": {\"outlinewidth\": 0, \"ticks\": \"\"}, \"colorscale\": [[0.0, \"#0d0887\"], [0.1111111111111111, \"#46039f\"], [0.2222222222222222, \"#7201a8\"], [0.3333333333333333, \"#9c179e\"], [0.4444444444444444, \"#bd3786\"], [0.5555555555555556, \"#d8576b\"], [0.6666666666666666, \"#ed7953\"], [0.7777777777777778, \"#fb9f3a\"], [0.8888888888888888, \"#fdca26\"], [1.0, \"#f0f921\"]], \"type\": \"heatmap\"}], \"heatmapgl\": [{\"colorbar\": {\"outlinewidth\": 0, \"ticks\": \"\"}, \"colorscale\": [[0.0, \"#0d0887\"], [0.1111111111111111, \"#46039f\"], [0.2222222222222222, \"#7201a8\"], [0.3333333333333333, \"#9c179e\"], [0.4444444444444444, \"#bd3786\"], [0.5555555555555556, \"#d8576b\"], [0.6666666666666666, \"#ed7953\"], [0.7777777777777778, \"#fb9f3a\"], [0.8888888888888888, \"#fdca26\"], [1.0, \"#f0f921\"]], \"type\": \"heatmapgl\"}], \"histogram\": [{\"marker\": {\"colorbar\": {\"outlinewidth\": 0, \"ticks\": \"\"}}, \"type\": \"histogram\"}], \"histogram2d\": [{\"colorbar\": {\"outlinewidth\": 0, \"ticks\": \"\"}, \"colorscale\": [[0.0, \"#0d0887\"], [0.1111111111111111, \"#46039f\"], [0.2222222222222222, \"#7201a8\"], [0.3333333333333333, \"#9c179e\"], [0.4444444444444444, \"#bd3786\"], [0.5555555555555556, \"#d8576b\"], [0.6666666666666666, \"#ed7953\"], [0.7777777777777778, \"#fb9f3a\"], [0.8888888888888888, \"#fdca26\"], [1.0, \"#f0f921\"]], \"type\": \"histogram2d\"}], \"histogram2dcontour\": [{\"colorbar\": {\"outlinewidth\": 0, \"ticks\": \"\"}, \"colorscale\": [[0.0, \"#0d0887\"], [0.1111111111111111, \"#46039f\"], [0.2222222222222222, \"#7201a8\"], [0.3333333333333333, \"#9c179e\"], [0.4444444444444444, \"#bd3786\"], [0.5555555555555556, \"#d8576b\"], [0.6666666666666666, \"#ed7953\"], [0.7777777777777778, \"#fb9f3a\"], [0.8888888888888888, \"#fdca26\"], [1.0, \"#f0f921\"]], \"type\": \"histogram2dcontour\"}], \"mesh3d\": [{\"colorbar\": {\"outlinewidth\": 0, \"ticks\": \"\"}, \"type\": \"mesh3d\"}], \"parcoords\": [{\"line\": {\"colorbar\": {\"outlinewidth\": 0, \"ticks\": \"\"}}, \"type\": \"parcoords\"}], \"scatter\": [{\"marker\": {\"colorbar\": {\"outlinewidth\": 0, \"ticks\": \"\"}}, \"type\": \"scatter\"}], \"scatter3d\": [{\"line\": {\"colorbar\": {\"outlinewidth\": 0, \"ticks\": \"\"}}, \"marker\": {\"colorbar\": {\"outlinewidth\": 0, \"ticks\": \"\"}}, \"type\": \"scatter3d\"}], \"scattercarpet\": [{\"marker\": {\"colorbar\": {\"outlinewidth\": 0, \"ticks\": \"\"}}, \"type\": \"scattercarpet\"}], \"scattergeo\": [{\"marker\": {\"colorbar\": {\"outlinewidth\": 0, \"ticks\": \"\"}}, \"type\": \"scattergeo\"}], \"scattergl\": [{\"marker\": {\"colorbar\": {\"outlinewidth\": 0, \"ticks\": \"\"}}, \"type\": \"scattergl\"}], \"scattermapbox\": [{\"marker\": {\"colorbar\": {\"outlinewidth\": 0, \"ticks\": \"\"}}, \"type\": \"scattermapbox\"}], \"scatterpolar\": [{\"marker\": {\"colorbar\": {\"outlinewidth\": 0, \"ticks\": \"\"}}, \"type\": \"scatterpolar\"}], \"scatterpolargl\": [{\"marker\": {\"colorbar\": {\"outlinewidth\": 0, \"ticks\": \"\"}}, \"type\": \"scatterpolargl\"}], \"scatterternary\": [{\"marker\": {\"colorbar\": {\"outlinewidth\": 0, \"ticks\": \"\"}}, \"type\": \"scatterternary\"}], \"surface\": [{\"colorbar\": {\"outlinewidth\": 0, \"ticks\": \"\"}, \"colorscale\": [[0.0, \"#0d0887\"], [0.1111111111111111, \"#46039f\"], [0.2222222222222222, \"#7201a8\"], [0.3333333333333333, \"#9c179e\"], [0.4444444444444444, \"#bd3786\"], [0.5555555555555556, \"#d8576b\"], [0.6666666666666666, \"#ed7953\"], [0.7777777777777778, \"#fb9f3a\"], [0.8888888888888888, \"#fdca26\"], [1.0, \"#f0f921\"]], \"type\": \"surface\"}], \"table\": [{\"cells\": {\"fill\": {\"color\": \"#EBF0F8\"}, \"line\": {\"color\": \"white\"}}, \"header\": {\"fill\": {\"color\": \"#C8D4E3\"}, \"line\": {\"color\": \"white\"}}, \"type\": \"table\"}]}, \"layout\": {\"annotationdefaults\": {\"arrowcolor\": \"#2a3f5f\", \"arrowhead\": 0, \"arrowwidth\": 1}, \"colorscale\": {\"diverging\": [[0, \"#8e0152\"], [0.1, \"#c51b7d\"], [0.2, \"#de77ae\"], [0.3, \"#f1b6da\"], [0.4, \"#fde0ef\"], [0.5, \"#f7f7f7\"], [0.6, \"#e6f5d0\"], [0.7, \"#b8e186\"], [0.8, \"#7fbc41\"], [0.9, \"#4d9221\"], [1, \"#276419\"]], \"sequential\": [[0.0, \"#0d0887\"], [0.1111111111111111, \"#46039f\"], [0.2222222222222222, \"#7201a8\"], [0.3333333333333333, \"#9c179e\"], [0.4444444444444444, \"#bd3786\"], [0.5555555555555556, \"#d8576b\"], [0.6666666666666666, \"#ed7953\"], [0.7777777777777778, \"#fb9f3a\"], [0.8888888888888888, \"#fdca26\"], [1.0, \"#f0f921\"]], \"sequentialminus\": [[0.0, \"#0d0887\"], [0.1111111111111111, \"#46039f\"], [0.2222222222222222, \"#7201a8\"], [0.3333333333333333, \"#9c179e\"], [0.4444444444444444, \"#bd3786\"], [0.5555555555555556, \"#d8576b\"], [0.6666666666666666, \"#ed7953\"], [0.7777777777777778, \"#fb9f3a\"], [0.8888888888888888, \"#fdca26\"], [1.0, \"#f0f921\"]]}, \"colorway\": [\"#636efa\", \"#EF553B\", \"#00cc96\", \"#ab63fa\", \"#FFA15A\", \"#19d3f3\", \"#FF6692\", \"#B6E880\", \"#FF97FF\", \"#FECB52\"], \"font\": {\"color\": \"#2a3f5f\"}, \"geo\": {\"bgcolor\": \"white\", \"lakecolor\": \"white\", \"landcolor\": \"#E5ECF6\", \"showlakes\": true, \"showland\": true, \"subunitcolor\": \"white\"}, \"hoverlabel\": {\"align\": \"left\"}, \"hovermode\": \"closest\", \"mapbox\": {\"style\": \"light\"}, \"paper_bgcolor\": \"white\", \"plot_bgcolor\": \"#E5ECF6\", \"polar\": {\"angularaxis\": {\"gridcolor\": \"white\", \"linecolor\": \"white\", \"ticks\": \"\"}, \"bgcolor\": \"#E5ECF6\", \"radialaxis\": {\"gridcolor\": \"white\", \"linecolor\": \"white\", \"ticks\": \"\"}}, \"scene\": {\"xaxis\": {\"backgroundcolor\": \"#E5ECF6\", \"gridcolor\": \"white\", \"gridwidth\": 2, \"linecolor\": \"white\", \"showbackground\": true, \"ticks\": \"\", \"zerolinecolor\": \"white\"}, \"yaxis\": {\"backgroundcolor\": \"#E5ECF6\", \"gridcolor\": \"white\", \"gridwidth\": 2, \"linecolor\": \"white\", \"showbackground\": true, \"ticks\": \"\", \"zerolinecolor\": \"white\"}, \"zaxis\": {\"backgroundcolor\": \"#E5ECF6\", \"gridcolor\": \"white\", \"gridwidth\": 2, \"linecolor\": \"white\", \"showbackground\": true, \"ticks\": \"\", \"zerolinecolor\": \"white\"}}, \"shapedefaults\": {\"line\": {\"color\": \"#2a3f5f\"}}, \"ternary\": {\"aaxis\": {\"gridcolor\": \"white\", \"linecolor\": \"white\", \"ticks\": \"\"}, \"baxis\": {\"gridcolor\": \"white\", \"linecolor\": \"white\", \"ticks\": \"\"}, \"bgcolor\": \"#E5ECF6\", \"caxis\": {\"gridcolor\": \"white\", \"linecolor\": \"white\", \"ticks\": \"\"}}, \"title\": {\"x\": 0.05}, \"xaxis\": {\"automargin\": true, \"gridcolor\": \"white\", \"linecolor\": \"white\", \"ticks\": \"\", \"zerolinecolor\": \"white\", \"zerolinewidth\": 2}, \"yaxis\": {\"automargin\": true, \"gridcolor\": \"white\", \"linecolor\": \"white\", \"ticks\": \"\", \"zerolinecolor\": \"white\", \"zerolinewidth\": 2}}}, \"title\": {\"font\": {\"color\": \"#9398A4\"}, \"text\": \"PCA on scaled IRIS Dataset\"}, \"width\": 500, \"xaxis\": {\"gridcolor\": \"#3F434F\", \"tickfont\": {\"color\": \"#ffffff\"}, \"title\": {\"font\": {\"color\": \"#ffffff\"}, \"text\": \"Principal Componeent 1\"}, \"zeroline\": false}, \"yaxis\": {\"gridcolor\": \"#3F434F\", \"tickfont\": {\"color\": \"#ffffff\"}, \"title\": {\"font\": {\"color\": \"#ffffff\"}, \"text\": \"Principal Component 2\"}, \"zeroline\": false}},\n",
       "                        {\"responsive\": true}\n",
       "                    ).then(function(){\n",
       "                            \n",
       "var gd = document.getElementById('a6c2fa70-fb11-421e-865a-47f8abe18406');\n",
       "var x = new MutationObserver(function (mutations, observer) {{\n",
       "        var display = window.getComputedStyle(gd).display;\n",
       "        if (!display || display === 'none') {{\n",
       "            console.log([gd, 'removed!']);\n",
       "            Plotly.purge(gd);\n",
       "            observer.disconnect();\n",
       "        }}\n",
       "}});\n",
       "\n",
       "// Listen for the removal of the full notebook cells\n",
       "var notebookContainer = gd.closest('#notebook-container');\n",
       "if (notebookContainer) {{\n",
       "    x.observe(notebookContainer, {childList: true});\n",
       "}}\n",
       "\n",
       "// Listen for the clearing of the current output cell\n",
       "var outputEl = gd.closest('.output');\n",
       "if (outputEl) {{\n",
       "    x.observe(outputEl, {childList: true});\n",
       "}}\n",
       "\n",
       "                        })\n",
       "                };\n",
       "                });\n",
       "            </script>\n",
       "        </div>"
      ]
     },
     "metadata": {},
     "output_type": "display_data"
    }
   ],
   "source": [
    "fig = go.Figure(\n",
    "    data=[\n",
    "        scatter(X_pca[:,0],X_pca[:,1], '', mode='markers', color = [['orange', 'pink', 'yellow'][a] for a in y], size=5, opacity=1)\n",
    "    ]\n",
    ")\n",
    "render(fig, title='PCA on scaled IRIS Dataset', x_axis_title='Principal Componeent 1', y_axis_title='Principal Component 2')"
   ]
  },
  {
   "cell_type": "code",
   "execution_count": 78,
   "metadata": {},
   "outputs": [
    {
     "data": {
      "text/plain": [
       "0.9581320720000164"
      ]
     },
     "execution_count": 78,
     "metadata": {},
     "output_type": "execute_result"
    }
   ],
   "source": [
    "sum(pca.explained_variance_ratio_)"
   ]
  },
  {
   "cell_type": "markdown",
   "metadata": {},
   "source": [
    "Here we see the explained ratio after principal component analysis is 95% which means we have captured much of the variance in the original 4 dimensions."
   ]
  }
 ],
 "metadata": {
  "kernelspec": {
   "display_name": "Python 3",
   "language": "python",
   "name": "python3"
  },
  "language_info": {
   "codemirror_mode": {
    "name": "ipython",
    "version": 3
   },
   "file_extension": ".py",
   "mimetype": "text/x-python",
   "name": "python",
   "nbconvert_exporter": "python",
   "pygments_lexer": "ipython3",
   "version": "3.7.3"
  }
 },
 "nbformat": 4,
 "nbformat_minor": 4
}
