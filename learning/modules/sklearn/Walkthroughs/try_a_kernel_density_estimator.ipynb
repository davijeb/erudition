{
 "cells": [
  {
   "cell_type": "markdown",
   "metadata": {},
   "source": [
    "Kernel density estimates are closely related to histograms, but can be endowed with properties such as smoothness or continuity by using a suitable kernel."
   ]
  },
  {
   "cell_type": "code",
   "execution_count": 24,
   "metadata": {},
   "outputs": [],
   "source": [
    "import numpy as np\n",
    "import pandas as pd\n",
    "import matplotlib\n",
    "import matplotlib.pyplot as plt\n",
    "from distutils.version import LooseVersion\n",
    "from scipy.stats import norm\n",
    "from sklearn.neighbors import KernelDensity\n",
    "\n",
    "import os, sys, plotly.graph_objects as go\n",
    "import plotly.figure_factory as ff\n",
    "module_path = os.path.abspath(os.path.join('../../../../..'))\n",
    "if module_path not in sys.path:\n",
    "    sys.path.append(module_path) \n",
    "\n",
    "from sklearn.naive_bayes import GaussianNB\n",
    "from sklearn import datasets \n",
    "from erudition.learning.modules.sklearn.GeneralizedLinearModels.helper import helper\n",
    "from erudition.learning.helpers.plots.plotly_render import render, scatter\n",
    "\n",
    "# `normed` is being deprecated in favor of `density` in histograms\n",
    "if LooseVersion(matplotlib.__version__) >= '2.1':\n",
    "    density_param = {'density': True}\n",
    "else:\n",
    "    density_param = {'normed': True}\n"
   ]
  },
  {
   "cell_type": "markdown",
   "metadata": {},
   "source": [
    " To see this, we compare the construction of histogram and kernel density estimators, using these 6 data points:"
   ]
  },
  {
   "cell_type": "code",
   "execution_count": 17,
   "metadata": {},
   "outputs": [],
   "source": [
    "data = [-2.1, -1.3, -0.4, 1.9, 5.1, 6.2]"
   ]
  },
  {
   "cell_type": "code",
   "execution_count": 82,
   "metadata": {},
   "outputs": [
    {
     "data": {
      "application/vnd.plotly.v1+json": {
       "config": {
        "plotlyServerURL": "https://plot.ly"
       },
       "data": [
        {
         "name": "Points",
         "opacity": 0.5,
         "type": "histogram",
         "x": [
          -2.1,
          -1.3,
          -0.4,
          1.9,
          5.1,
          6.2
         ],
         "xbins": {
          "end": 10,
          "size": 2,
          "start": -20
         }
        }
       ],
       "layout": {
        "height": 500,
        "legend": {
         "font": {
          "color": "#ffffff"
         }
        },
        "paper_bgcolor": "#22252B",
        "plot_bgcolor": "#292C34",
        "showlegend": true,
        "template": {
         "data": {
          "bar": [
           {
            "error_x": {
             "color": "#2a3f5f"
            },
            "error_y": {
             "color": "#2a3f5f"
            },
            "marker": {
             "line": {
              "color": "#E5ECF6",
              "width": 0.5
             }
            },
            "type": "bar"
           }
          ],
          "barpolar": [
           {
            "marker": {
             "line": {
              "color": "#E5ECF6",
              "width": 0.5
             }
            },
            "type": "barpolar"
           }
          ],
          "carpet": [
           {
            "aaxis": {
             "endlinecolor": "#2a3f5f",
             "gridcolor": "white",
             "linecolor": "white",
             "minorgridcolor": "white",
             "startlinecolor": "#2a3f5f"
            },
            "baxis": {
             "endlinecolor": "#2a3f5f",
             "gridcolor": "white",
             "linecolor": "white",
             "minorgridcolor": "white",
             "startlinecolor": "#2a3f5f"
            },
            "type": "carpet"
           }
          ],
          "choropleth": [
           {
            "colorbar": {
             "outlinewidth": 0,
             "ticks": ""
            },
            "type": "choropleth"
           }
          ],
          "contour": [
           {
            "colorbar": {
             "outlinewidth": 0,
             "ticks": ""
            },
            "colorscale": [
             [
              0,
              "#0d0887"
             ],
             [
              0.1111111111111111,
              "#46039f"
             ],
             [
              0.2222222222222222,
              "#7201a8"
             ],
             [
              0.3333333333333333,
              "#9c179e"
             ],
             [
              0.4444444444444444,
              "#bd3786"
             ],
             [
              0.5555555555555556,
              "#d8576b"
             ],
             [
              0.6666666666666666,
              "#ed7953"
             ],
             [
              0.7777777777777778,
              "#fb9f3a"
             ],
             [
              0.8888888888888888,
              "#fdca26"
             ],
             [
              1,
              "#f0f921"
             ]
            ],
            "type": "contour"
           }
          ],
          "contourcarpet": [
           {
            "colorbar": {
             "outlinewidth": 0,
             "ticks": ""
            },
            "type": "contourcarpet"
           }
          ],
          "heatmap": [
           {
            "colorbar": {
             "outlinewidth": 0,
             "ticks": ""
            },
            "colorscale": [
             [
              0,
              "#0d0887"
             ],
             [
              0.1111111111111111,
              "#46039f"
             ],
             [
              0.2222222222222222,
              "#7201a8"
             ],
             [
              0.3333333333333333,
              "#9c179e"
             ],
             [
              0.4444444444444444,
              "#bd3786"
             ],
             [
              0.5555555555555556,
              "#d8576b"
             ],
             [
              0.6666666666666666,
              "#ed7953"
             ],
             [
              0.7777777777777778,
              "#fb9f3a"
             ],
             [
              0.8888888888888888,
              "#fdca26"
             ],
             [
              1,
              "#f0f921"
             ]
            ],
            "type": "heatmap"
           }
          ],
          "heatmapgl": [
           {
            "colorbar": {
             "outlinewidth": 0,
             "ticks": ""
            },
            "colorscale": [
             [
              0,
              "#0d0887"
             ],
             [
              0.1111111111111111,
              "#46039f"
             ],
             [
              0.2222222222222222,
              "#7201a8"
             ],
             [
              0.3333333333333333,
              "#9c179e"
             ],
             [
              0.4444444444444444,
              "#bd3786"
             ],
             [
              0.5555555555555556,
              "#d8576b"
             ],
             [
              0.6666666666666666,
              "#ed7953"
             ],
             [
              0.7777777777777778,
              "#fb9f3a"
             ],
             [
              0.8888888888888888,
              "#fdca26"
             ],
             [
              1,
              "#f0f921"
             ]
            ],
            "type": "heatmapgl"
           }
          ],
          "histogram": [
           {
            "marker": {
             "colorbar": {
              "outlinewidth": 0,
              "ticks": ""
             }
            },
            "type": "histogram"
           }
          ],
          "histogram2d": [
           {
            "colorbar": {
             "outlinewidth": 0,
             "ticks": ""
            },
            "colorscale": [
             [
              0,
              "#0d0887"
             ],
             [
              0.1111111111111111,
              "#46039f"
             ],
             [
              0.2222222222222222,
              "#7201a8"
             ],
             [
              0.3333333333333333,
              "#9c179e"
             ],
             [
              0.4444444444444444,
              "#bd3786"
             ],
             [
              0.5555555555555556,
              "#d8576b"
             ],
             [
              0.6666666666666666,
              "#ed7953"
             ],
             [
              0.7777777777777778,
              "#fb9f3a"
             ],
             [
              0.8888888888888888,
              "#fdca26"
             ],
             [
              1,
              "#f0f921"
             ]
            ],
            "type": "histogram2d"
           }
          ],
          "histogram2dcontour": [
           {
            "colorbar": {
             "outlinewidth": 0,
             "ticks": ""
            },
            "colorscale": [
             [
              0,
              "#0d0887"
             ],
             [
              0.1111111111111111,
              "#46039f"
             ],
             [
              0.2222222222222222,
              "#7201a8"
             ],
             [
              0.3333333333333333,
              "#9c179e"
             ],
             [
              0.4444444444444444,
              "#bd3786"
             ],
             [
              0.5555555555555556,
              "#d8576b"
             ],
             [
              0.6666666666666666,
              "#ed7953"
             ],
             [
              0.7777777777777778,
              "#fb9f3a"
             ],
             [
              0.8888888888888888,
              "#fdca26"
             ],
             [
              1,
              "#f0f921"
             ]
            ],
            "type": "histogram2dcontour"
           }
          ],
          "mesh3d": [
           {
            "colorbar": {
             "outlinewidth": 0,
             "ticks": ""
            },
            "type": "mesh3d"
           }
          ],
          "parcoords": [
           {
            "line": {
             "colorbar": {
              "outlinewidth": 0,
              "ticks": ""
             }
            },
            "type": "parcoords"
           }
          ],
          "scatter": [
           {
            "marker": {
             "colorbar": {
              "outlinewidth": 0,
              "ticks": ""
             }
            },
            "type": "scatter"
           }
          ],
          "scatter3d": [
           {
            "line": {
             "colorbar": {
              "outlinewidth": 0,
              "ticks": ""
             }
            },
            "marker": {
             "colorbar": {
              "outlinewidth": 0,
              "ticks": ""
             }
            },
            "type": "scatter3d"
           }
          ],
          "scattercarpet": [
           {
            "marker": {
             "colorbar": {
              "outlinewidth": 0,
              "ticks": ""
             }
            },
            "type": "scattercarpet"
           }
          ],
          "scattergeo": [
           {
            "marker": {
             "colorbar": {
              "outlinewidth": 0,
              "ticks": ""
             }
            },
            "type": "scattergeo"
           }
          ],
          "scattergl": [
           {
            "marker": {
             "colorbar": {
              "outlinewidth": 0,
              "ticks": ""
             }
            },
            "type": "scattergl"
           }
          ],
          "scattermapbox": [
           {
            "marker": {
             "colorbar": {
              "outlinewidth": 0,
              "ticks": ""
             }
            },
            "type": "scattermapbox"
           }
          ],
          "scatterpolar": [
           {
            "marker": {
             "colorbar": {
              "outlinewidth": 0,
              "ticks": ""
             }
            },
            "type": "scatterpolar"
           }
          ],
          "scatterpolargl": [
           {
            "marker": {
             "colorbar": {
              "outlinewidth": 0,
              "ticks": ""
             }
            },
            "type": "scatterpolargl"
           }
          ],
          "scatterternary": [
           {
            "marker": {
             "colorbar": {
              "outlinewidth": 0,
              "ticks": ""
             }
            },
            "type": "scatterternary"
           }
          ],
          "surface": [
           {
            "colorbar": {
             "outlinewidth": 0,
             "ticks": ""
            },
            "colorscale": [
             [
              0,
              "#0d0887"
             ],
             [
              0.1111111111111111,
              "#46039f"
             ],
             [
              0.2222222222222222,
              "#7201a8"
             ],
             [
              0.3333333333333333,
              "#9c179e"
             ],
             [
              0.4444444444444444,
              "#bd3786"
             ],
             [
              0.5555555555555556,
              "#d8576b"
             ],
             [
              0.6666666666666666,
              "#ed7953"
             ],
             [
              0.7777777777777778,
              "#fb9f3a"
             ],
             [
              0.8888888888888888,
              "#fdca26"
             ],
             [
              1,
              "#f0f921"
             ]
            ],
            "type": "surface"
           }
          ],
          "table": [
           {
            "cells": {
             "fill": {
              "color": "#EBF0F8"
             },
             "line": {
              "color": "white"
             }
            },
            "header": {
             "fill": {
              "color": "#C8D4E3"
             },
             "line": {
              "color": "white"
             }
            },
            "type": "table"
           }
          ]
         },
         "layout": {
          "annotationdefaults": {
           "arrowcolor": "#2a3f5f",
           "arrowhead": 0,
           "arrowwidth": 1
          },
          "colorscale": {
           "diverging": [
            [
             0,
             "#8e0152"
            ],
            [
             0.1,
             "#c51b7d"
            ],
            [
             0.2,
             "#de77ae"
            ],
            [
             0.3,
             "#f1b6da"
            ],
            [
             0.4,
             "#fde0ef"
            ],
            [
             0.5,
             "#f7f7f7"
            ],
            [
             0.6,
             "#e6f5d0"
            ],
            [
             0.7,
             "#b8e186"
            ],
            [
             0.8,
             "#7fbc41"
            ],
            [
             0.9,
             "#4d9221"
            ],
            [
             1,
             "#276419"
            ]
           ],
           "sequential": [
            [
             0,
             "#0d0887"
            ],
            [
             0.1111111111111111,
             "#46039f"
            ],
            [
             0.2222222222222222,
             "#7201a8"
            ],
            [
             0.3333333333333333,
             "#9c179e"
            ],
            [
             0.4444444444444444,
             "#bd3786"
            ],
            [
             0.5555555555555556,
             "#d8576b"
            ],
            [
             0.6666666666666666,
             "#ed7953"
            ],
            [
             0.7777777777777778,
             "#fb9f3a"
            ],
            [
             0.8888888888888888,
             "#fdca26"
            ],
            [
             1,
             "#f0f921"
            ]
           ],
           "sequentialminus": [
            [
             0,
             "#0d0887"
            ],
            [
             0.1111111111111111,
             "#46039f"
            ],
            [
             0.2222222222222222,
             "#7201a8"
            ],
            [
             0.3333333333333333,
             "#9c179e"
            ],
            [
             0.4444444444444444,
             "#bd3786"
            ],
            [
             0.5555555555555556,
             "#d8576b"
            ],
            [
             0.6666666666666666,
             "#ed7953"
            ],
            [
             0.7777777777777778,
             "#fb9f3a"
            ],
            [
             0.8888888888888888,
             "#fdca26"
            ],
            [
             1,
             "#f0f921"
            ]
           ]
          },
          "colorway": [
           "#636efa",
           "#EF553B",
           "#00cc96",
           "#ab63fa",
           "#FFA15A",
           "#19d3f3",
           "#FF6692",
           "#B6E880",
           "#FF97FF",
           "#FECB52"
          ],
          "font": {
           "color": "#2a3f5f"
          },
          "geo": {
           "bgcolor": "white",
           "lakecolor": "white",
           "landcolor": "#E5ECF6",
           "showlakes": true,
           "showland": true,
           "subunitcolor": "white"
          },
          "hoverlabel": {
           "align": "left"
          },
          "hovermode": "closest",
          "mapbox": {
           "style": "light"
          },
          "paper_bgcolor": "white",
          "plot_bgcolor": "#E5ECF6",
          "polar": {
           "angularaxis": {
            "gridcolor": "white",
            "linecolor": "white",
            "ticks": ""
           },
           "bgcolor": "#E5ECF6",
           "radialaxis": {
            "gridcolor": "white",
            "linecolor": "white",
            "ticks": ""
           }
          },
          "scene": {
           "xaxis": {
            "backgroundcolor": "#E5ECF6",
            "gridcolor": "white",
            "gridwidth": 2,
            "linecolor": "white",
            "showbackground": true,
            "ticks": "",
            "zerolinecolor": "white"
           },
           "yaxis": {
            "backgroundcolor": "#E5ECF6",
            "gridcolor": "white",
            "gridwidth": 2,
            "linecolor": "white",
            "showbackground": true,
            "ticks": "",
            "zerolinecolor": "white"
           },
           "zaxis": {
            "backgroundcolor": "#E5ECF6",
            "gridcolor": "white",
            "gridwidth": 2,
            "linecolor": "white",
            "showbackground": true,
            "ticks": "",
            "zerolinecolor": "white"
           }
          },
          "shapedefaults": {
           "line": {
            "color": "#2a3f5f"
           }
          },
          "ternary": {
           "aaxis": {
            "gridcolor": "white",
            "linecolor": "white",
            "ticks": ""
           },
           "baxis": {
            "gridcolor": "white",
            "linecolor": "white",
            "ticks": ""
           },
           "bgcolor": "#E5ECF6",
           "caxis": {
            "gridcolor": "white",
            "linecolor": "white",
            "ticks": ""
           }
          },
          "title": {
           "x": 0.05
          },
          "xaxis": {
           "automargin": true,
           "gridcolor": "white",
           "linecolor": "white",
           "ticks": "",
           "zerolinecolor": "white",
           "zerolinewidth": 2
          },
          "yaxis": {
           "automargin": true,
           "gridcolor": "white",
           "linecolor": "white",
           "ticks": "",
           "zerolinecolor": "white",
           "zerolinewidth": 2
          }
         }
        },
        "title": {
         "font": {
          "color": "#9398A4"
         },
         "text": "Basic Histogram"
        },
        "width": 500,
        "xaxis": {
         "autorange": true,
         "gridcolor": "#3F434F",
         "range": [
          -4,
          8
         ],
         "tickfont": {
          "color": "#ffffff"
         },
         "title": {
          "font": {
           "color": "#ffffff"
          }
         },
         "type": "linear",
         "zeroline": false
        },
        "yaxis": {
         "autorange": true,
         "gridcolor": "#3F434F",
         "range": [
          0,
          2.1052631578947367
         ],
         "tickfont": {
          "color": "#ffffff"
         },
         "title": {
          "font": {
           "color": "#ffffff"
          }
         },
         "zeroline": false
        }
       }
      },
      "image/png": "[encoded data removed]",
      "text/html": [
       "<div>\n",
       "        \n",
       "        \n",
       "            <div id=\"873fb325-fe2c-475d-a20a-5f0af8435ffe\" class=\"plotly-graph-div\" style=\"height:500px; width:500px;\"></div>\n",
       "            <script type=\"text/javascript\">\n",
       "                require([\"plotly\"], function(Plotly) {\n",
       "                    window.PLOTLYENV=window.PLOTLYENV || {};\n",
       "                    \n",
       "                if (document.getElementById(\"873fb325-fe2c-475d-a20a-5f0af8435ffe\")) {\n",
       "                    Plotly.newPlot(\n",
       "                        '873fb325-fe2c-475d-a20a-5f0af8435ffe',\n",
       "                        [{\"autobinx\": false, \"name\": \"Points\", \"opacity\": 0.5, \"type\": \"histogram\", \"x\": [-2.1, -1.3, -0.4, 1.9, 5.1, 6.2], \"xbins\": {\"end\": 10, \"size\": 2, \"start\": -20}}],\n",
       "                        {\"height\": 500, \"legend\": {\"font\": {\"color\": \"#ffffff\"}}, \"paper_bgcolor\": \"#22252B\", \"plot_bgcolor\": \"#292C34\", \"showlegend\": true, \"template\": {\"data\": {\"bar\": [{\"error_x\": {\"color\": \"#2a3f5f\"}, \"error_y\": {\"color\": \"#2a3f5f\"}, \"marker\": {\"line\": {\"color\": \"#E5ECF6\", \"width\": 0.5}}, \"type\": \"bar\"}], \"barpolar\": [{\"marker\": {\"line\": {\"color\": \"#E5ECF6\", \"width\": 0.5}}, \"type\": \"barpolar\"}], \"carpet\": [{\"aaxis\": {\"endlinecolor\": \"#2a3f5f\", \"gridcolor\": \"white\", \"linecolor\": \"white\", \"minorgridcolor\": \"white\", \"startlinecolor\": \"#2a3f5f\"}, \"baxis\": {\"endlinecolor\": \"#2a3f5f\", \"gridcolor\": \"white\", \"linecolor\": \"white\", \"minorgridcolor\": \"white\", \"startlinecolor\": \"#2a3f5f\"}, \"type\": \"carpet\"}], \"choropleth\": [{\"colorbar\": {\"outlinewidth\": 0, \"ticks\": \"\"}, \"type\": \"choropleth\"}], \"contour\": [{\"colorbar\": {\"outlinewidth\": 0, \"ticks\": \"\"}, \"colorscale\": [[0.0, \"#0d0887\"], [0.1111111111111111, \"#46039f\"], [0.2222222222222222, \"#7201a8\"], [0.3333333333333333, \"#9c179e\"], [0.4444444444444444, \"#bd3786\"], [0.5555555555555556, \"#d8576b\"], [0.6666666666666666, \"#ed7953\"], [0.7777777777777778, \"#fb9f3a\"], [0.8888888888888888, \"#fdca26\"], [1.0, \"#f0f921\"]], \"type\": \"contour\"}], \"contourcarpet\": [{\"colorbar\": {\"outlinewidth\": 0, \"ticks\": \"\"}, \"type\": \"contourcarpet\"}], \"heatmap\": [{\"colorbar\": {\"outlinewidth\": 0, \"ticks\": \"\"}, \"colorscale\": [[0.0, \"#0d0887\"], [0.1111111111111111, \"#46039f\"], [0.2222222222222222, \"#7201a8\"], [0.3333333333333333, \"#9c179e\"], [0.4444444444444444, \"#bd3786\"], [0.5555555555555556, \"#d8576b\"], [0.6666666666666666, \"#ed7953\"], [0.7777777777777778, \"#fb9f3a\"], [0.8888888888888888, \"#fdca26\"], [1.0, \"#f0f921\"]], \"type\": \"heatmap\"}], \"heatmapgl\": [{\"colorbar\": {\"outlinewidth\": 0, \"ticks\": \"\"}, \"colorscale\": [[0.0, \"#0d0887\"], [0.1111111111111111, \"#46039f\"], [0.2222222222222222, \"#7201a8\"], [0.3333333333333333, \"#9c179e\"], [0.4444444444444444, \"#bd3786\"], [0.5555555555555556, \"#d8576b\"], [0.6666666666666666, \"#ed7953\"], [0.7777777777777778, \"#fb9f3a\"], [0.8888888888888888, \"#fdca26\"], [1.0, \"#f0f921\"]], \"type\": \"heatmapgl\"}], \"histogram\": [{\"marker\": {\"colorbar\": {\"outlinewidth\": 0, \"ticks\": \"\"}}, \"type\": \"histogram\"}], \"histogram2d\": [{\"colorbar\": {\"outlinewidth\": 0, \"ticks\": \"\"}, \"colorscale\": [[0.0, \"#0d0887\"], [0.1111111111111111, \"#46039f\"], [0.2222222222222222, \"#7201a8\"], [0.3333333333333333, \"#9c179e\"], [0.4444444444444444, \"#bd3786\"], [0.5555555555555556, \"#d8576b\"], [0.6666666666666666, \"#ed7953\"], [0.7777777777777778, \"#fb9f3a\"], [0.8888888888888888, \"#fdca26\"], [1.0, \"#f0f921\"]], \"type\": \"histogram2d\"}], \"histogram2dcontour\": [{\"colorbar\": {\"outlinewidth\": 0, \"ticks\": \"\"}, \"colorscale\": [[0.0, \"#0d0887\"], [0.1111111111111111, \"#46039f\"], [0.2222222222222222, \"#7201a8\"], [0.3333333333333333, \"#9c179e\"], [0.4444444444444444, \"#bd3786\"], [0.5555555555555556, \"#d8576b\"], [0.6666666666666666, \"#ed7953\"], [0.7777777777777778, \"#fb9f3a\"], [0.8888888888888888, \"#fdca26\"], [1.0, \"#f0f921\"]], \"type\": \"histogram2dcontour\"}], \"mesh3d\": [{\"colorbar\": {\"outlinewidth\": 0, \"ticks\": \"\"}, \"type\": \"mesh3d\"}], \"parcoords\": [{\"line\": {\"colorbar\": {\"outlinewidth\": 0, \"ticks\": \"\"}}, \"type\": \"parcoords\"}], \"scatter\": [{\"marker\": {\"colorbar\": {\"outlinewidth\": 0, \"ticks\": \"\"}}, \"type\": \"scatter\"}], \"scatter3d\": [{\"line\": {\"colorbar\": {\"outlinewidth\": 0, \"ticks\": \"\"}}, \"marker\": {\"colorbar\": {\"outlinewidth\": 0, \"ticks\": \"\"}}, \"type\": \"scatter3d\"}], \"scattercarpet\": [{\"marker\": {\"colorbar\": {\"outlinewidth\": 0, \"ticks\": \"\"}}, \"type\": \"scattercarpet\"}], \"scattergeo\": [{\"marker\": {\"colorbar\": {\"outlinewidth\": 0, \"ticks\": \"\"}}, \"type\": \"scattergeo\"}], \"scattergl\": [{\"marker\": {\"colorbar\": {\"outlinewidth\": 0, \"ticks\": \"\"}}, \"type\": \"scattergl\"}], \"scattermapbox\": [{\"marker\": {\"colorbar\": {\"outlinewidth\": 0, \"ticks\": \"\"}}, \"type\": \"scattermapbox\"}], \"scatterpolar\": [{\"marker\": {\"colorbar\": {\"outlinewidth\": 0, \"ticks\": \"\"}}, \"type\": \"scatterpolar\"}], \"scatterpolargl\": [{\"marker\": {\"colorbar\": {\"outlinewidth\": 0, \"ticks\": \"\"}}, \"type\": \"scatterpolargl\"}], \"scatterternary\": [{\"marker\": {\"colorbar\": {\"outlinewidth\": 0, \"ticks\": \"\"}}, \"type\": \"scatterternary\"}], \"surface\": [{\"colorbar\": {\"outlinewidth\": 0, \"ticks\": \"\"}, \"colorscale\": [[0.0, \"#0d0887\"], [0.1111111111111111, \"#46039f\"], [0.2222222222222222, \"#7201a8\"], [0.3333333333333333, \"#9c179e\"], [0.4444444444444444, \"#bd3786\"], [0.5555555555555556, \"#d8576b\"], [0.6666666666666666, \"#ed7953\"], [0.7777777777777778, \"#fb9f3a\"], [0.8888888888888888, \"#fdca26\"], [1.0, \"#f0f921\"]], \"type\": \"surface\"}], \"table\": [{\"cells\": {\"fill\": {\"color\": \"#EBF0F8\"}, \"line\": {\"color\": \"white\"}}, \"header\": {\"fill\": {\"color\": \"#C8D4E3\"}, \"line\": {\"color\": \"white\"}}, \"type\": \"table\"}]}, \"layout\": {\"annotationdefaults\": {\"arrowcolor\": \"#2a3f5f\", \"arrowhead\": 0, \"arrowwidth\": 1}, \"colorscale\": {\"diverging\": [[0, \"#8e0152\"], [0.1, \"#c51b7d\"], [0.2, \"#de77ae\"], [0.3, \"#f1b6da\"], [0.4, \"#fde0ef\"], [0.5, \"#f7f7f7\"], [0.6, \"#e6f5d0\"], [0.7, \"#b8e186\"], [0.8, \"#7fbc41\"], [0.9, \"#4d9221\"], [1, \"#276419\"]], \"sequential\": [[0.0, \"#0d0887\"], [0.1111111111111111, \"#46039f\"], [0.2222222222222222, \"#7201a8\"], [0.3333333333333333, \"#9c179e\"], [0.4444444444444444, \"#bd3786\"], [0.5555555555555556, \"#d8576b\"], [0.6666666666666666, \"#ed7953\"], [0.7777777777777778, \"#fb9f3a\"], [0.8888888888888888, \"#fdca26\"], [1.0, \"#f0f921\"]], \"sequentialminus\": [[0.0, \"#0d0887\"], [0.1111111111111111, \"#46039f\"], [0.2222222222222222, \"#7201a8\"], [0.3333333333333333, \"#9c179e\"], [0.4444444444444444, \"#bd3786\"], [0.5555555555555556, \"#d8576b\"], [0.6666666666666666, \"#ed7953\"], [0.7777777777777778, \"#fb9f3a\"], [0.8888888888888888, \"#fdca26\"], [1.0, \"#f0f921\"]]}, \"colorway\": [\"#636efa\", \"#EF553B\", \"#00cc96\", \"#ab63fa\", \"#FFA15A\", \"#19d3f3\", \"#FF6692\", \"#B6E880\", \"#FF97FF\", \"#FECB52\"], \"font\": {\"color\": \"#2a3f5f\"}, \"geo\": {\"bgcolor\": \"white\", \"lakecolor\": \"white\", \"landcolor\": \"#E5ECF6\", \"showlakes\": true, \"showland\": true, \"subunitcolor\": \"white\"}, \"hoverlabel\": {\"align\": \"left\"}, \"hovermode\": \"closest\", \"mapbox\": {\"style\": \"light\"}, \"paper_bgcolor\": \"white\", \"plot_bgcolor\": \"#E5ECF6\", \"polar\": {\"angularaxis\": {\"gridcolor\": \"white\", \"linecolor\": \"white\", \"ticks\": \"\"}, \"bgcolor\": \"#E5ECF6\", \"radialaxis\": {\"gridcolor\": \"white\", \"linecolor\": \"white\", \"ticks\": \"\"}}, \"scene\": {\"xaxis\": {\"backgroundcolor\": \"#E5ECF6\", \"gridcolor\": \"white\", \"gridwidth\": 2, \"linecolor\": \"white\", \"showbackground\": true, \"ticks\": \"\", \"zerolinecolor\": \"white\"}, \"yaxis\": {\"backgroundcolor\": \"#E5ECF6\", \"gridcolor\": \"white\", \"gridwidth\": 2, \"linecolor\": \"white\", \"showbackground\": true, \"ticks\": \"\", \"zerolinecolor\": \"white\"}, \"zaxis\": {\"backgroundcolor\": \"#E5ECF6\", \"gridcolor\": \"white\", \"gridwidth\": 2, \"linecolor\": \"white\", \"showbackground\": true, \"ticks\": \"\", \"zerolinecolor\": \"white\"}}, \"shapedefaults\": {\"line\": {\"color\": \"#2a3f5f\"}}, \"ternary\": {\"aaxis\": {\"gridcolor\": \"white\", \"linecolor\": \"white\", \"ticks\": \"\"}, \"baxis\": {\"gridcolor\": \"white\", \"linecolor\": \"white\", \"ticks\": \"\"}, \"bgcolor\": \"#E5ECF6\", \"caxis\": {\"gridcolor\": \"white\", \"linecolor\": \"white\", \"ticks\": \"\"}}, \"title\": {\"x\": 0.05}, \"xaxis\": {\"automargin\": true, \"gridcolor\": \"white\", \"linecolor\": \"white\", \"ticks\": \"\", \"zerolinecolor\": \"white\", \"zerolinewidth\": 2}, \"yaxis\": {\"automargin\": true, \"gridcolor\": \"white\", \"linecolor\": \"white\", \"ticks\": \"\", \"zerolinecolor\": \"white\", \"zerolinewidth\": 2}}}, \"title\": {\"font\": {\"color\": \"#9398A4\"}, \"text\": \"Basic Histogram\"}, \"width\": 500, \"xaxis\": {\"gridcolor\": \"#3F434F\", \"tickfont\": {\"color\": \"#ffffff\"}, \"title\": {\"font\": {\"color\": \"#ffffff\"}}, \"zeroline\": false}, \"yaxis\": {\"gridcolor\": \"#3F434F\", \"tickfont\": {\"color\": \"#ffffff\"}, \"title\": {\"font\": {\"color\": \"#ffffff\"}}, \"zeroline\": false}},\n",
       "                        {\"responsive\": true}\n",
       "                    ).then(function(){\n",
       "                            \n",
       "var gd = document.getElementById('873fb325-fe2c-475d-a20a-5f0af8435ffe');\n",
       "var x = new MutationObserver(function (mutations, observer) {{\n",
       "        var display = window.getComputedStyle(gd).display;\n",
       "        if (!display || display === 'none') {{\n",
       "            console.log([gd, 'removed!']);\n",
       "            Plotly.purge(gd);\n",
       "            observer.disconnect();\n",
       "        }}\n",
       "}});\n",
       "\n",
       "// Listen for the removal of the full notebook cells\n",
       "var notebookContainer = gd.closest('#notebook-container');\n",
       "if (notebookContainer) {{\n",
       "    x.observe(notebookContainer, {childList: true});\n",
       "}}\n",
       "\n",
       "// Listen for the clearing of the current output cell\n",
       "var outputEl = gd.closest('.output');\n",
       "if (outputEl) {{\n",
       "    x.observe(outputEl, {childList: true});\n",
       "}}\n",
       "\n",
       "                        })\n",
       "                };\n",
       "                });\n",
       "            </script>\n",
       "        </div>"
      ]
     },
     "metadata": {},
     "output_type": "display_data"
    }
   ],
   "source": [
    "import plotly.graph_objects as go\n",
    "\n",
    "import numpy as np\n",
    "np.random.seed(1)\n",
    "\n",
    "x = data\n",
    "\n",
    "fig = go.Figure(data=[go.Histogram(x=x, opacity=0.5,  name='Points', xbins=dict(\n",
    "                      start=-20,\n",
    "                      end=10,\n",
    "                      size= 2), autobinx = False)])\n",
    "render(fig, title='Basic Histogram')"
   ]
  },
  {
   "cell_type": "code",
   "execution_count": 128,
   "metadata": {},
   "outputs": [],
   "source": [
    "# Changing the bandwidth changes the shape of the kernel: a lower bandwidth means only points very \n",
    "# close to the current position are given any weight, which leads to the estimate \n",
    "# looking squiggly; a higher bandwidth means a shallow kernel where distant points can contribute.\n",
    "\n",
    "kde = KernelDensity(kernel='gaussian', bandwidth=1.5).fit(np.array(data)[:, np.newaxis])"
   ]
  },
  {
   "cell_type": "code",
   "execution_count": 129,
   "metadata": {},
   "outputs": [],
   "source": [
    "X_plot = np.linspace(-10, 10, 1000)[:, np.newaxis]\n",
    "log_dens = kde.score_samples(X_plot)"
   ]
  },
  {
   "cell_type": "code",
   "execution_count": 130,
   "metadata": {},
   "outputs": [
    {
     "data": {
      "application/vnd.plotly.v1+json": {
       "config": {
        "plotlyServerURL": "https://plot.ly"
       },
       "data": [
        {
         "marker": {
          "size": 3
         },
         "mode": "lines",
         "name": "Points",
         "opacity": 0.5,
         "type": "scatter",
         "x": [
          -10,
          -9.97997997997998,
          -9.95995995995996,
          -9.93993993993994,
          -9.91991991991992,
          -9.8998998998999,
          -9.87987987987988,
          -9.85985985985986,
          -9.83983983983984,
          -9.81981981981982,
          -9.7997997997998,
          -9.77977977977978,
          -9.75975975975976,
          -9.73973973973974,
          -9.71971971971972,
          -9.6996996996997,
          -9.67967967967968,
          -9.65965965965966,
          -9.63963963963964,
          -9.61961961961962,
          -9.5995995995996,
          -9.57957957957958,
          -9.55955955955956,
          -9.53953953953954,
          -9.51951951951952,
          -9.4994994994995,
          -9.47947947947948,
          -9.45945945945946,
          -9.43943943943944,
          -9.41941941941942,
          -9.3993993993994,
          -9.37937937937938,
          -9.35935935935936,
          -9.33933933933934,
          -9.31931931931932,
          -9.2992992992993,
          -9.27927927927928,
          -9.25925925925926,
          -9.23923923923924,
          -9.21921921921922,
          -9.1991991991992,
          -9.17917917917918,
          -9.15915915915916,
          -9.13913913913914,
          -9.11911911911912,
          -9.0990990990991,
          -9.07907907907908,
          -9.05905905905906,
          -9.03903903903904,
          -9.01901901901902,
          -8.998998998999,
          -8.97897897897898,
          -8.95895895895896,
          -8.93893893893894,
          -8.91891891891892,
          -8.8988988988989,
          -8.87887887887888,
          -8.85885885885886,
          -8.83883883883884,
          -8.81881881881882,
          -8.7987987987988,
          -8.77877877877878,
          -8.75875875875876,
          -8.73873873873874,
          -8.71871871871872,
          -8.6986986986987,
          -8.67867867867868,
          -8.65865865865866,
          -8.63863863863864,
          -8.618618618618619,
          -8.598598598598599,
          -8.578578578578579,
          -8.558558558558559,
          -8.538538538538539,
          -8.518518518518519,
          -8.498498498498499,
          -8.478478478478479,
          -8.458458458458459,
          -8.438438438438439,
          -8.418418418418419,
          -8.398398398398399,
          -8.378378378378379,
          -8.358358358358359,
          -8.338338338338339,
          -8.318318318318319,
          -8.298298298298299,
          -8.278278278278279,
          -8.258258258258259,
          -8.238238238238239,
          -8.218218218218219,
          -8.198198198198199,
          -8.178178178178179,
          -8.158158158158159,
          -8.138138138138139,
          -8.118118118118119,
          -8.098098098098099,
          -8.078078078078079,
          -8.058058058058059,
          -8.038038038038039,
          -8.018018018018019,
          -7.997997997997998,
          -7.977977977977978,
          -7.957957957957958,
          -7.937937937937938,
          -7.917917917917918,
          -7.897897897897898,
          -7.877877877877878,
          -7.857857857857858,
          -7.837837837837838,
          -7.817817817817818,
          -7.797797797797798,
          -7.777777777777778,
          -7.757757757757758,
          -7.737737737737738,
          -7.717717717717718,
          -7.697697697697698,
          -7.677677677677678,
          -7.657657657657658,
          -7.637637637637638,
          -7.617617617617618,
          -7.597597597597598,
          -7.5775775775775776,
          -7.5575575575575575,
          -7.5375375375375375,
          -7.5175175175175175,
          -7.4974974974974975,
          -7.4774774774774775,
          -7.4574574574574575,
          -7.4374374374374375,
          -7.4174174174174174,
          -7.397397397397397,
          -7.377377377377377,
          -7.357357357357357,
          -7.337337337337337,
          -7.317317317317317,
          -7.297297297297297,
          -7.277277277277277,
          -7.257257257257257,
          -7.237237237237237,
          -7.217217217217217,
          -7.197197197197197,
          -7.177177177177177,
          -7.157157157157157,
          -7.137137137137137,
          -7.117117117117117,
          -7.097097097097097,
          -7.077077077077077,
          -7.057057057057057,
          -7.037037037037037,
          -7.017017017017017,
          -6.996996996996997,
          -6.976976976976977,
          -6.956956956956957,
          -6.936936936936937,
          -6.916916916916917,
          -6.896896896896897,
          -6.876876876876877,
          -6.856856856856857,
          -6.836836836836837,
          -6.816816816816817,
          -6.796796796796797,
          -6.776776776776776,
          -6.756756756756756,
          -6.736736736736736,
          -6.716716716716716,
          -6.696696696696696,
          -6.676676676676676,
          -6.656656656656656,
          -6.636636636636636,
          -6.616616616616616,
          -6.596596596596596,
          -6.576576576576576,
          -6.556556556556556,
          -6.536536536536536,
          -6.516516516516516,
          -6.496496496496496,
          -6.476476476476476,
          -6.456456456456456,
          -6.436436436436436,
          -6.416416416416416,
          -6.396396396396396,
          -6.376376376376376,
          -6.356356356356356,
          -6.336336336336336,
          -6.316316316316316,
          -6.296296296296296,
          -6.276276276276276,
          -6.256256256256256,
          -6.236236236236236,
          -6.216216216216216,
          -6.196196196196196,
          -6.176176176176176,
          -6.156156156156156,
          -6.136136136136136,
          -6.116116116116116,
          -6.096096096096096,
          -6.076076076076076,
          -6.056056056056056,
          -6.036036036036036,
          -6.016016016016016,
          -5.995995995995996,
          -5.975975975975976,
          -5.955955955955956,
          -5.935935935935936,
          -5.915915915915916,
          -5.895895895895896,
          -5.875875875875876,
          -5.8558558558558556,
          -5.8358358358358355,
          -5.8158158158158155,
          -5.7957957957957955,
          -5.7757757757757755,
          -5.7557557557557555,
          -5.7357357357357355,
          -5.7157157157157155,
          -5.6956956956956954,
          -5.675675675675675,
          -5.655655655655655,
          -5.635635635635635,
          -5.615615615615615,
          -5.595595595595595,
          -5.575575575575575,
          -5.555555555555555,
          -5.535535535535535,
          -5.515515515515515,
          -5.495495495495495,
          -5.475475475475475,
          -5.455455455455455,
          -5.435435435435435,
          -5.415415415415415,
          -5.395395395395395,
          -5.375375375375375,
          -5.355355355355355,
          -5.335335335335335,
          -5.315315315315315,
          -5.295295295295295,
          -5.275275275275275,
          -5.255255255255255,
          -5.235235235235235,
          -5.215215215215215,
          -5.195195195195195,
          -5.175175175175175,
          -5.155155155155155,
          -5.135135135135135,
          -5.115115115115115,
          -5.095095095095095,
          -5.075075075075075,
          -5.055055055055055,
          -5.035035035035035,
          -5.015015015015015,
          -4.994994994994995,
          -4.974974974974975,
          -4.954954954954955,
          -4.934934934934935,
          -4.914914914914915,
          -4.894894894894895,
          -4.874874874874875,
          -4.854854854854855,
          -4.834834834834835,
          -4.814814814814815,
          -4.794794794794795,
          -4.774774774774775,
          -4.754754754754755,
          -4.734734734734735,
          -4.714714714714715,
          -4.694694694694695,
          -4.674674674674675,
          -4.654654654654655,
          -4.634634634634635,
          -4.614614614614615,
          -4.594594594594595,
          -4.574574574574575,
          -4.554554554554555,
          -4.534534534534535,
          -4.514514514514515,
          -4.494494494494495,
          -4.474474474474475,
          -4.454454454454455,
          -4.434434434434435,
          -4.414414414414415,
          -4.394394394394395,
          -4.374374374374375,
          -4.354354354354355,
          -4.334334334334335,
          -4.314314314314315,
          -4.2942942942942945,
          -4.2742742742742745,
          -4.2542542542542545,
          -4.2342342342342345,
          -4.2142142142142145,
          -4.1941941941941945,
          -4.1741741741741745,
          -4.1541541541541545,
          -4.134134134134134,
          -4.114114114114114,
          -4.094094094094094,
          -4.074074074074074,
          -4.054054054054054,
          -4.034034034034034,
          -4.014014014014014,
          -3.9939939939939944,
          -3.9739739739739743,
          -3.9539539539539543,
          -3.9339339339339343,
          -3.9139139139139143,
          -3.8938938938938943,
          -3.8738738738738743,
          -3.8538538538538543,
          -3.8338338338338342,
          -3.8138138138138142,
          -3.7937937937937942,
          -3.773773773773774,
          -3.753753753753754,
          -3.733733733733734,
          -3.713713713713714,
          -3.693693693693694,
          -3.673673673673674,
          -3.653653653653654,
          -3.633633633633634,
          -3.613613613613614,
          -3.593593593593594,
          -3.573573573573573,
          -3.553553553553553,
          -3.533533533533533,
          -3.513513513513513,
          -3.493493493493493,
          -3.473473473473473,
          -3.453453453453453,
          -3.433433433433433,
          -3.413413413413413,
          -3.393393393393393,
          -3.373373373373373,
          -3.353353353353353,
          -3.333333333333333,
          -3.313313313313313,
          -3.293293293293293,
          -3.273273273273273,
          -3.253253253253253,
          -3.233233233233233,
          -3.213213213213213,
          -3.193193193193193,
          -3.173173173173173,
          -3.153153153153153,
          -3.133133133133133,
          -3.113113113113113,
          -3.093093093093093,
          -3.073073073073073,
          -3.053053053053053,
          -3.033033033033033,
          -3.013013013013013,
          -2.992992992992993,
          -2.972972972972973,
          -2.952952952952953,
          -2.932932932932933,
          -2.9129129129129128,
          -2.8928928928928928,
          -2.8728728728728727,
          -2.8528528528528527,
          -2.8328328328328327,
          -2.8128128128128127,
          -2.7927927927927927,
          -2.7727727727727727,
          -2.7527527527527527,
          -2.7327327327327327,
          -2.7127127127127126,
          -2.6926926926926926,
          -2.6726726726726726,
          -2.6526526526526526,
          -2.6326326326326326,
          -2.6126126126126126,
          -2.5925925925925926,
          -2.5725725725725725,
          -2.5525525525525525,
          -2.5325325325325325,
          -2.5125125125125125,
          -2.4924924924924925,
          -2.4724724724724725,
          -2.4524524524524525,
          -2.4324324324324325,
          -2.4124124124124124,
          -2.3923923923923924,
          -2.3723723723723724,
          -2.3523523523523524,
          -2.3323323323323324,
          -2.3123123123123124,
          -2.2922922922922924,
          -2.2722722722722724,
          -2.2522522522522523,
          -2.2322322322322323,
          -2.2122122122122123,
          -2.1921921921921923,
          -2.1721721721721723,
          -2.1521521521521523,
          -2.1321321321321323,
          -2.1121121121121122,
          -2.0920920920920922,
          -2.0720720720720722,
          -2.052052052052052,
          -2.032032032032032,
          -2.012012012012012,
          -1.9919919919919913,
          -1.9719719719719713,
          -1.9519519519519513,
          -1.9319319319319312,
          -1.9119119119119112,
          -1.8918918918918912,
          -1.8718718718718712,
          -1.8518518518518512,
          -1.8318318318318312,
          -1.8118118118118112,
          -1.7917917917917912,
          -1.7717717717717711,
          -1.7517517517517511,
          -1.7317317317317311,
          -1.711711711711711,
          -1.691691691691691,
          -1.671671671671671,
          -1.651651651651651,
          -1.631631631631631,
          -1.611611611611611,
          -1.591591591591591,
          -1.571571571571571,
          -1.551551551551551,
          -1.531531531531531,
          -1.511511511511511,
          -1.491491491491491,
          -1.471471471471471,
          -1.451451451451451,
          -1.431431431431431,
          -1.411411411411411,
          -1.391391391391391,
          -1.3713713713713709,
          -1.3513513513513509,
          -1.3313313313313309,
          -1.3113113113113108,
          -1.2912912912912908,
          -1.2712712712712708,
          -1.2512512512512508,
          -1.2312312312312308,
          -1.2112112112112108,
          -1.1911911911911908,
          -1.1711711711711708,
          -1.1511511511511507,
          -1.1311311311311307,
          -1.1111111111111107,
          -1.0910910910910907,
          -1.0710710710710707,
          -1.0510510510510507,
          -1.0310310310310307,
          -1.0110110110110107,
          -0.9909909909909906,
          -0.9709709709709706,
          -0.9509509509509506,
          -0.9309309309309306,
          -0.9109109109109106,
          -0.8908908908908906,
          -0.8708708708708706,
          -0.8508508508508505,
          -0.8308308308308305,
          -0.8108108108108105,
          -0.7907907907907905,
          -0.7707707707707705,
          -0.7507507507507505,
          -0.7307307307307305,
          -0.7107107107107105,
          -0.6906906906906904,
          -0.6706706706706704,
          -0.6506506506506504,
          -0.6306306306306304,
          -0.6106106106106104,
          -0.5905905905905904,
          -0.5705705705705704,
          -0.5505505505505504,
          -0.5305305305305303,
          -0.5105105105105103,
          -0.4904904904904903,
          -0.4704704704704703,
          -0.4504504504504503,
          -0.4304304304304303,
          -0.41041041041041026,
          -0.39039039039039025,
          -0.37037037037037024,
          -0.3503503503503502,
          -0.3303303303303302,
          -0.3103103103103102,
          -0.2902902902902902,
          -0.2702702702702702,
          -0.25025025025025016,
          -0.23023023023023015,
          -0.21021021021021014,
          -0.19019019019019012,
          -0.1701701701701701,
          -0.1501501501501501,
          -0.13013013013013008,
          -0.11011011011011007,
          -0.09009009009009006,
          -0.07007007007007005,
          -0.05005005005005003,
          -0.03003003003003002,
          -0.010010010010010006,
          0.010010010010010006,
          0.03003003003003002,
          0.05005005005005003,
          0.07007007007007005,
          0.09009009009009006,
          0.11011011011011007,
          0.13013013013013008,
          0.1501501501501501,
          0.1701701701701701,
          0.19019019019019012,
          0.21021021021021014,
          0.23023023023023015,
          0.25025025025025016,
          0.2702702702702702,
          0.2902902902902902,
          0.3103103103103102,
          0.3303303303303302,
          0.3503503503503502,
          0.37037037037037024,
          0.39039039039039025,
          0.41041041041041026,
          0.4304304304304303,
          0.4504504504504503,
          0.4704704704704703,
          0.4904904904904903,
          0.5105105105105103,
          0.5305305305305303,
          0.5505505505505504,
          0.5705705705705704,
          0.5905905905905904,
          0.6106106106106104,
          0.6306306306306304,
          0.6506506506506504,
          0.6706706706706704,
          0.6906906906906904,
          0.7107107107107105,
          0.7307307307307305,
          0.7507507507507505,
          0.7707707707707705,
          0.7907907907907905,
          0.8108108108108105,
          0.8308308308308305,
          0.8508508508508505,
          0.8708708708708706,
          0.8908908908908906,
          0.9109109109109106,
          0.9309309309309306,
          0.9509509509509506,
          0.9709709709709706,
          0.9909909909909906,
          1.0110110110110107,
          1.0310310310310307,
          1.0510510510510507,
          1.0710710710710707,
          1.0910910910910907,
          1.1111111111111107,
          1.1311311311311307,
          1.1511511511511507,
          1.1711711711711708,
          1.1911911911911908,
          1.2112112112112108,
          1.2312312312312308,
          1.2512512512512508,
          1.2712712712712708,
          1.2912912912912908,
          1.3113113113113108,
          1.3313313313313309,
          1.3513513513513509,
          1.3713713713713709,
          1.391391391391391,
          1.411411411411411,
          1.431431431431431,
          1.451451451451451,
          1.471471471471471,
          1.491491491491491,
          1.511511511511511,
          1.531531531531531,
          1.551551551551551,
          1.571571571571571,
          1.591591591591591,
          1.611611611611611,
          1.631631631631631,
          1.651651651651651,
          1.671671671671671,
          1.691691691691691,
          1.711711711711711,
          1.7317317317317311,
          1.7517517517517511,
          1.7717717717717711,
          1.7917917917917912,
          1.8118118118118112,
          1.8318318318318312,
          1.8518518518518512,
          1.8718718718718712,
          1.8918918918918912,
          1.9119119119119112,
          1.9319319319319312,
          1.9519519519519513,
          1.9719719719719713,
          1.9919919919919913,
          2.0120120120120113,
          2.0320320320320313,
          2.0520520520520513,
          2.0720720720720713,
          2.0920920920920913,
          2.1121121121121114,
          2.1321321321321314,
          2.1521521521521514,
          2.1721721721721714,
          2.1921921921921914,
          2.2122122122122114,
          2.2322322322322314,
          2.2522522522522515,
          2.2722722722722715,
          2.2922922922922915,
          2.3123123123123115,
          2.3323323323323315,
          2.3523523523523515,
          2.3723723723723715,
          2.3923923923923915,
          2.4124124124124116,
          2.4324324324324316,
          2.4524524524524516,
          2.4724724724724716,
          2.4924924924924916,
          2.5125125125125116,
          2.5325325325325316,
          2.5525525525525516,
          2.5725725725725717,
          2.5925925925925917,
          2.6126126126126117,
          2.6326326326326317,
          2.6526526526526517,
          2.6726726726726717,
          2.6926926926926917,
          2.7127127127127117,
          2.7327327327327318,
          2.7527527527527518,
          2.772772772772772,
          2.792792792792792,
          2.812812812812812,
          2.8328328328328336,
          2.8528528528528536,
          2.8728728728728736,
          2.8928928928928936,
          2.9129129129129137,
          2.9329329329329337,
          2.9529529529529537,
          2.9729729729729737,
          2.9929929929929937,
          3.0130130130130137,
          3.0330330330330337,
          3.0530530530530537,
          3.0730730730730738,
          3.0930930930930938,
          3.113113113113114,
          3.133133133133134,
          3.153153153153154,
          3.173173173173174,
          3.193193193193194,
          3.213213213213214,
          3.233233233233234,
          3.253253253253254,
          3.273273273273274,
          3.293293293293294,
          3.313313313313314,
          3.333333333333334,
          3.353353353353354,
          3.373373373373374,
          3.393393393393394,
          3.413413413413414,
          3.433433433433434,
          3.453453453453454,
          3.473473473473474,
          3.493493493493494,
          3.513513513513514,
          3.533533533533534,
          3.553553553553554,
          3.573573573573574,
          3.593593593593594,
          3.613613613613614,
          3.633633633633634,
          3.653653653653654,
          3.673673673673674,
          3.693693693693694,
          3.713713713713714,
          3.733733733733734,
          3.753753753753754,
          3.773773773773774,
          3.7937937937937942,
          3.8138138138138142,
          3.8338338338338342,
          3.8538538538538543,
          3.8738738738738743,
          3.8938938938938943,
          3.9139139139139143,
          3.9339339339339343,
          3.9539539539539543,
          3.9739739739739743,
          3.9939939939939944,
          4.014014014014014,
          4.034034034034034,
          4.054054054054054,
          4.074074074074074,
          4.094094094094094,
          4.114114114114114,
          4.134134134134134,
          4.1541541541541545,
          4.1741741741741745,
          4.1941941941941945,
          4.2142142142142145,
          4.2342342342342345,
          4.2542542542542545,
          4.2742742742742745,
          4.2942942942942945,
          4.314314314314315,
          4.334334334334335,
          4.354354354354355,
          4.374374374374375,
          4.394394394394395,
          4.414414414414415,
          4.434434434434435,
          4.454454454454455,
          4.474474474474475,
          4.494494494494495,
          4.514514514514515,
          4.534534534534535,
          4.554554554554555,
          4.574574574574575,
          4.594594594594595,
          4.614614614614615,
          4.634634634634635,
          4.654654654654655,
          4.674674674674675,
          4.694694694694695,
          4.714714714714715,
          4.734734734734735,
          4.754754754754755,
          4.774774774774775,
          4.794794794794795,
          4.814814814814815,
          4.834834834834835,
          4.854854854854855,
          4.874874874874875,
          4.894894894894895,
          4.914914914914915,
          4.934934934934935,
          4.954954954954955,
          4.974974974974975,
          4.994994994994995,
          5.015015015015015,
          5.035035035035035,
          5.055055055055055,
          5.075075075075075,
          5.095095095095095,
          5.115115115115115,
          5.135135135135135,
          5.155155155155155,
          5.175175175175175,
          5.195195195195195,
          5.215215215215215,
          5.235235235235235,
          5.255255255255255,
          5.275275275275275,
          5.295295295295295,
          5.315315315315315,
          5.335335335335335,
          5.355355355355355,
          5.375375375375375,
          5.395395395395395,
          5.415415415415415,
          5.435435435435435,
          5.455455455455455,
          5.475475475475475,
          5.495495495495495,
          5.515515515515515,
          5.535535535535535,
          5.555555555555555,
          5.575575575575575,
          5.595595595595595,
          5.615615615615615,
          5.635635635635635,
          5.655655655655655,
          5.675675675675675,
          5.6956956956956954,
          5.7157157157157155,
          5.7357357357357355,
          5.7557557557557555,
          5.7757757757757755,
          5.7957957957957955,
          5.8158158158158155,
          5.8358358358358355,
          5.8558558558558556,
          5.875875875875876,
          5.895895895895896,
          5.915915915915916,
          5.935935935935936,
          5.955955955955956,
          5.975975975975976,
          5.995995995995996,
          6.016016016016017,
          6.0360360360360374,
          6.0560560560560575,
          6.0760760760760775,
          6.0960960960960975,
          6.1161161161161175,
          6.1361361361361375,
          6.1561561561561575,
          6.1761761761761775,
          6.1961961961961975,
          6.216216216216218,
          6.236236236236238,
          6.256256256256258,
          6.276276276276278,
          6.296296296296298,
          6.316316316316318,
          6.336336336336338,
          6.356356356356358,
          6.376376376376378,
          6.396396396396398,
          6.416416416416418,
          6.436436436436438,
          6.456456456456458,
          6.476476476476478,
          6.496496496496498,
          6.516516516516518,
          6.536536536536538,
          6.556556556556558,
          6.576576576576578,
          6.596596596596598,
          6.616616616616618,
          6.636636636636638,
          6.656656656656658,
          6.676676676676678,
          6.696696696696698,
          6.716716716716718,
          6.736736736736738,
          6.756756756756758,
          6.776776776776778,
          6.796796796796798,
          6.816816816816818,
          6.836836836836838,
          6.856856856856858,
          6.876876876876878,
          6.896896896896898,
          6.916916916916918,
          6.936936936936938,
          6.956956956956958,
          6.976976976976978,
          6.996996996996998,
          7.017017017017018,
          7.037037037037038,
          7.057057057057058,
          7.077077077077078,
          7.097097097097098,
          7.117117117117118,
          7.137137137137138,
          7.157157157157158,
          7.177177177177178,
          7.197197197197198,
          7.217217217217218,
          7.237237237237238,
          7.257257257257258,
          7.277277277277278,
          7.297297297297298,
          7.317317317317318,
          7.337337337337338,
          7.357357357357358,
          7.377377377377378,
          7.397397397397398,
          7.417417417417418,
          7.437437437437438,
          7.457457457457458,
          7.477477477477478,
          7.497497497497498,
          7.517517517517518,
          7.537537537537538,
          7.557557557557558,
          7.577577577577578,
          7.5975975975975985,
          7.6176176176176185,
          7.6376376376376385,
          7.6576576576576585,
          7.6776776776776785,
          7.6976976976976985,
          7.7177177177177185,
          7.7377377377377385,
          7.7577577577577586,
          7.777777777777779,
          7.797797797797799,
          7.817817817817819,
          7.837837837837839,
          7.857857857857859,
          7.877877877877879,
          7.897897897897899,
          7.917917917917919,
          7.937937937937939,
          7.957957957957959,
          7.977977977977979,
          7.997997997997999,
          8.018018018018019,
          8.038038038038039,
          8.058058058058059,
          8.078078078078079,
          8.098098098098099,
          8.118118118118119,
          8.138138138138139,
          8.158158158158159,
          8.178178178178179,
          8.198198198198199,
          8.218218218218219,
          8.238238238238239,
          8.258258258258259,
          8.278278278278279,
          8.298298298298299,
          8.318318318318319,
          8.338338338338339,
          8.358358358358359,
          8.378378378378379,
          8.398398398398399,
          8.418418418418419,
          8.438438438438439,
          8.458458458458459,
          8.478478478478479,
          8.498498498498499,
          8.518518518518519,
          8.538538538538539,
          8.558558558558559,
          8.578578578578579,
          8.598598598598599,
          8.618618618618619,
          8.63863863863864,
          8.65865865865866,
          8.67867867867868,
          8.6986986986987,
          8.71871871871872,
          8.73873873873874,
          8.75875875875876,
          8.77877877877878,
          8.7987987987988,
          8.81881881881882,
          8.83883883883884,
          8.85885885885886,
          8.87887887887888,
          8.8988988988989,
          8.91891891891892,
          8.93893893893894,
          8.95895895895896,
          8.97897897897898,
          8.998998998999,
          9.01901901901902,
          9.03903903903904,
          9.05905905905906,
          9.07907907907908,
          9.0990990990991,
          9.11911911911912,
          9.13913913913914,
          9.15915915915916,
          9.17917917917918,
          9.1991991991992,
          9.21921921921922,
          9.23923923923924,
          9.25925925925926,
          9.27927927927928,
          9.2992992992993,
          9.31931931931932,
          9.33933933933934,
          9.35935935935936,
          9.37937937937938,
          9.3993993993994,
          9.41941941941942,
          9.43943943943944,
          9.45945945945946,
          9.47947947947948,
          9.4994994994995,
          9.51951951951952,
          9.53953953953954,
          9.55955955955956,
          9.57957957957958,
          9.5995995995996,
          9.61961961961962,
          9.63963963963964,
          9.65965965965966,
          9.67967967967968,
          9.6996996996997,
          9.71971971971972,
          9.73973973973974,
          9.75975975975976,
          9.77977977977978,
          9.7997997997998,
          9.81981981981982,
          9.83983983983984,
          9.85985985985986,
          9.87987987987988,
          9.8998998998999,
          9.91991991991992,
          9.93993993993994,
          9.95995995995996,
          9.97997997997998,
          10
         ],
         "y": [
          4.4276421098304656e-08,
          4.751424641771556e-08,
          5.097990085745778e-08,
          5.468874285784432e-08,
          5.8657117244014596e-08,
          6.29024151357384e-08,
          6.744313726318841e-08,
          7.2298960867176e-08,
          7.749081037077476e-08,
          8.304093201799515e-08,
          8.897297268428355e-08,
          9.531206307308104e-08,
          1.0208490552251114e-07,
          1.0931986665648614e-07,
          1.1704707512513094e-07,
          1.2529852469044105e-07,
          1.3410818292452502e-07,
          1.4351210579963447e-07,
          1.5354855846148738e-07,
          1.6425814249013509e-07,
          1.756839299658243e-07,
          1.8787160467099417e-07,
          2.0086961077369023e-07,
          2.1472930935235281e-07,
          2.2950514313708173e-07,
          2.452548098581468e-07,
          2.6203944460873683e-07,
          2.7992381164564514e-07,
          2.9897650606890806e-07,
          3.1927016583919513e-07,
          3.4088169461024025e-07,
          3.638924958724884e-07,
          3.883887189237734e-07,
          4.144615172029609e-07,
          4.42207319543261e-07,
          4.717281149232887e-07,
          5.031317513159258e-07,
          5.365322492576583e-07,
          5.720501307842682e-07,
          6.098127644026958e-07,
          6.499547267932957e-07,
          6.926181819619527e-07,
          7.379532785872629e-07,
          7.861185663344242e-07,
          8.372814319346289e-07,
          8.916185558563471e-07,
          9.493163904234424e-07,
          1.0105716602639448e-06,
          1.0755918860030226e-06,
          1.1445959321439597e-06,
          1.2178145801119093e-06,
          1.2954911274666777e-06,
          1.3778820143229865e-06,
          1.465257478049354e-06,
          1.5579022373501409e-06,
          1.65611620686914e-06,
          1.7602152434875403e-06,
          1.8705319255241768e-06,
          1.9874163660813665e-06,
          2.1112370618156833e-06,
          2.242381778449545e-06,
          2.3812584743761837e-06,
          2.528296263748203e-06,
          2.6839464204772587e-06,
          2.8486834246107594e-06,
          3.0230060525894977e-06,
          3.2074385129290998e-06,
          3.402531628906487e-06,
          3.6088640698722664e-06,
          3.827043632848212e-06,
          4.057708576108989e-06,
          4.301529006485986e-06,
          4.559208322170591e-06,
          4.831484712833054e-06,
          5.119132718912207e-06,
          5.422964851969946e-06,
          5.743833278042782e-06,
          6.08263156596027e-06,
          6.440296502638781e-06,
          6.817809977394461e-06,
          7.216200937357313e-06,
          7.636547416102146e-06,
          8.079978637648577e-06,
          8.547677198015136e-06,
          9.040881326545082e-06,
          9.560887229254922e-06,
          1.0109051516484888e-05,
          1.0686793717161288e-05,
          1.1295598882007709e-05,
          1.1937020278068395e-05,
          1.2612682176930576e-05,
          1.3324282739056505e-05,
          1.4073596996654449e-05,
          1.4862479937538456e-05,
          1.5692869692439936e-05,
          1.656679082825105e-05,
          1.748635774968791e-05,
          1.8453778211871545e-05,
          1.9471356946329516e-05,
          2.054149940292367e-05,
          2.166671561020819e-05,
          2.2849624156717793e-05,
          2.4092956295679426e-05,
          2.5399560175626712e-05,
          2.677240519938332e-05,
          2.8214586513860595e-05,
          2.9729329633091167e-05,
          3.1319995196891926e-05,
          3.299008386751665e-05,
          3.4743241366620805e-05,
          3.658326365481806e-05,
          3.851410225606052e-05,
          4.053986972901945e-05,
          4.2664845287586586e-05,
          4.489348057254869e-05,
          4.723040557641846e-05,
          4.968043472332797e-05,
          5.224857310580544e-05,
          5.494002288016798e-05,
          5.7760189822164e-05,
          6.0714690044398644e-05,
          6.380935687695785e-05,
          6.70502479125361e-05,
          7.04436522172418e-05,
          7.399609770812105e-05,
          7.77143586983013e-05,
          8.160546361050478e-05,
          8.567670285952438e-05,
          8.993563690408896e-05,
          9.439010446837091e-05,
          9.904823093320214e-05,
          0.00010391843689687887,
          0.00010900944690522855,
          0.00011433029835040457,
          0.00011989035053765864,
          0.00012569929391910445,
          0.0001317671594932571,
          0.00013810432836888311,
          0.00014472154149143288,
          0.00015162990953007343,
          0.0001588409229230538,
          0.0001663664620788546,
          0.00017421880773027827,
          0.00018241065143833474,
          0.0001909551062424562,
          0.00019986571745326203,
          0.00020915647358375305,
          0.00021884181741447923,
          0.00022893665718786669,
          0.00023945637792654177,
          0.0002504168528701066,
          0.0002618344550244468,
          0.000273726068817278,
          0.0002861091018532248,
          0.0002990014967613262,
          0.00031242174312746745,
          0.000326388889503793,
          0.0003409225554867517,
          0.0003560429438549735,
          0.0003717708527577595,
          0.0003881276879444895,
          0.00040513547502483163,
          0.00042281687174916126,
          0.0004411951802981351,
          0.000460294359569901,
          0.00048013903745295966,
          0.0005007545230722104,
          0.0005221668189952366,
          0.0005444026333853923,
          0.0005674893920878266,
          0.0005914552506339981,
          0.0006163291061498468,
          0.0006421406091522622,
          0.0006689201752179848,
          0.0006966989965086411,
          0.0007255090531351042,
          0.0007553831243439071,
          0.000786354799507959,
          0.0008184584889033546,
          0.000851729434253604,
          0.000886203719022148,
          0.0009219182784336049,
          0.0009589109092037185,
          0.0009972202789575702,
          0.0010368859353152215,
          0.0010779483146235026,
          0.001120448750312298,
          0.0011644294808532897,
          0.0012099336572987899,
          0.0012570053503778657,
          0.001305689557126715,
          0.0013560322070298677,
          0.0014080801676485588,
          0.0014618812497122682,
          0.0015174842116492263,
          0.00157493876353144,
          0.001634295570409547,
          0.001695606255012708,
          0.001758923399788485,
          0.0018243005482575703,
          0.001891792205658192,
          0.0019614538388548104,
          0.0020333418754857765,
          0.0021075137023246248,
          0.0021840276628295584,
          0.002262943053855957,
          0.0023443201215065557,
          0.0024282200560943297,
          0.002514704986193086,
          0.002603837971751056,
          0.002695682996242978,
          0.002790304957836445,
          0.002887769659548627,
          0.00298814379836976,
          0.003091494953330296,
          0.0031978915724889543,
          0.0033074029588194176,
          0.003420099254973987,
          0.0035360514269030105,
          0.0036553312463095348,
          0.0037780112719193776,
          0.0039041648295472997,
          0.004033865990940993,
          0.004167189551385133,
          0.004304211006048798,
          0.004445006525060264,
          0.004589652927294231,
          0.00473822765285761,
          0.004890808734260688,
          0.005047474766261967,
          0.005208304874375873,
          0.005373378682033682,
          0.005542776276389378,
          0.005716578172763204,
          0.005894865277717203,
          0.006077718850758179,
          0.006265220464665054,
          0.006457451964438939,
          0.006654495424875769,
          0.0068564331067627595,
          0.007063347411701762,
          0.007275320835563703,
          0.0074924359205805514,
          0.0077147752060823,
          0.007942421177888718,
          0.008175456216366749,
          0.008413962543166868,
          0.008658022166652981,
          0.008907716826042364,
          0.009163127934274344,
          0.009424336519627782,
          0.00969142316610963,
          0.009964467952638709,
          0.010243550391050701,
          0.010528749362952275,
          0.010820143055454395,
          0.01111780889581669,
          0.011421823485036545,
          0.011732262530419124,
          0.012049200777165902,
          0.012372711939021492,
          0.01270286862802084,
          0.013039742283380165,
          0.013383403099577681,
          0.013733919953671653,
          0.014091360331905386,
          0.014455790255650747,
          0.014827274206743459,
          0.015205875052265944,
          0.015591653968834168,
          0.015984670366448028,
          0.016384981811965914,
          0.016792643952265623,
          0.01720771043715631,
          0.017630232842106967,
          0.018060260590859054,
          0.01849784087799247,
          0.018943018591515065,
          0.01939583623554822,
          0.019856333853181456,
          0.020324548949571204,
          0.02080051641535952,
          0.021284268450490213,
          0.021775834488500626,
          0.022275241121368552,
          0.022782512024994876,
          0.023297667885403016,
          0.02382072632573763,
          0.024351701834145326,
          0.024890605692620926,
          0.02543744590690364,
          0.025992227137507446,
          0.02655495063197098,
          0.027125614158411925,
          0.027704211940471613,
          0.02829073459373515,
          0.028885169063712805,
          0.029487498565467892,
          0.03009770252497642,
          0.030715756522303465,
          0.031341632236680274,
          0.03197529739356652,
          0.03261671571378061,
          0.033265846864780284,
          0.03392264641417562,
          0.0345870657855544,
          0.03525905221669983,
          0.03593854872027849,
          0.03662549404707554,
          0.03731982265185292,
          0.03802146466190397,
          0.038730345848377264,
          0.03944638760043979,
          0.040169506902348336,
          0.04089961631349547,
          0.041636623951494894,
          0.04238043347836814,
          0.043130944089893104,
          0.04388805050817165,
          0.04465164297747114,
          0.045421607263393185,
          0.04619782465541849,
          0.04698017197287489,
          0.04776852157437346,
          0.0485627413707523,
          0.04936269484156745,
          0.05016824105516443,
          0.05097923469236304,
          0.05179552607378301,
          0.05261696119083569,
          0.053443381740402744,
          0.05427462516322035,
          0.05511052468598261,
          0.05595090936717498,
          0.056795604146644404,
          0.05764442989890991,
          0.05849720349021207,
          0.05935373783929737,
          0.06021384198192911,
          0.06107732113911198,
          0.061943976789014636,
          0.06281360674256921,
          0.06368600522272443,
          0.06456096294732298,
          0.06543826721557174,
          0.06631770199806765,
          0.06719904803033969,
          0.06808208290986156,
          0.06896658119648771,
          0.06985231451625919,
          0.07073905166852389,
          0.07162655873630966,
          0.07251459919988752,
          0.07340293405345491,
          0.07429132192486866,
          0.07517951919835042,
          0.07606728014008593,
          0.07695435702663422,
          0.07784050027605972,
          0.07872545858169748,
          0.07960897904845607,
          0.08049080733156226,
          0.08137068777764525,
          0.08224836356805723,
          0.08312357686432227,
          0.08399606895560373,
          0.08486558040807646,
          0.08573185121608735,
          0.0865946209549855,
          0.08745362893549999,
          0.08830861435954068,
          0.08915931647729616,
          0.09000547474549837,
          0.09084682898672353,
          0.09168311954959574,
          0.09251408746975788,
          0.09333947463147199,
          0.09415902392971198,
          0.0949724794326055,
          0.09577958654408643,
          0.09658009216661227,
          0.0973737448638031,
          0.09816029502285815,
          0.09893949501660206,
          0.0997110993650157,
          0.10047486489610373,
          0.101230550905952,
          0.10197791931782652,
          0.10271673484016709,
          0.10344676512332722,
          0.10416778091491398,
          0.10487955621358025,
          0.10558186842112369,
          0.10627449849274682,
          0.10695723108533368,
          0.1076298547036001,
          0.10829216184397472,
          0.10894394913607074,
          0.10958501748160916,
          0.11021517219065549,
          0.11083422311503591,
          0.11144198477879703,
          0.1120382765055809,
          0.11262292254278394,
          0.11319575218237489,
          0.11375659987824713,
          0.11430530535998554,
          0.11484171374292848,
          0.11536567563441197,
          0.11587704723608218,
          0.11637569044217021,
          0.11686147293362227,
          0.11733426826798689,
          0.11779395596495851,
          0.11824042158748704,
          0.11867355681836243,
          0.11909325953218883,
          0.11949943386266879,
          0.11989199026511917,
          0.12027084557414734,
          0.12063592305642078,
          0.12098715245846586,
          0.12132447004943832,
          0.12164781865881219,
          0.1219571477089389,
          0.12225241324243272,
          0.12253357794434454,
          0.12280061115909134,
          0.12305348890211246,
          0.1232921938662313,
          0.12351671542270413,
          0.12372704961694463,
          0.12392319915891804,
          0.12410517340820298,
          0.12427298835372647,
          0.12442666658818148,
          0.12456623727714264,
          0.12469173612290212,
          0.12480320532305038,
          0.1249006935238362,
          0.12498425576834214,
          0.12505395343951972,
          0.1251098541981322,
          0.12515203191566046,
          0.12518056660223054,
          0.12519554432962848,
          0.12519705714947366,
          0.12518520300662545,
          0.1251600856479052,
          0.1251218145262193,
          0.12507050470017556,
          0.12500627672928882,
          0.12492925656487788,
          0.12483957543675975,
          0.12473736973585299,
          0.12462278089280573,
          0.12449595525276913,
          0.12435704394644134,
          0.12420620275751135,
          0.12404359198663575,
          0.12386937631208764,
          0.1236837246472176,
          0.12348680999487388,
          0.12327880929892926,
          0.12305990329306939,
          0.12283027634699667,
          0.1225901163102102,
          0.12233961435352365,
          0.12207896480848626,
          0.12180836500487494,
          0.1215280151064272,
          0.12123811794498844,
          0.12093887885324708,
          0.12063050549623558,
          0.12031320770177428,
          0.11998719729003857,
          0.11965268790243064,
          0.11930989482993734,
          0.11895903484115784,
          0.11860032601018428,
          0.11823398754451998,
          0.1178602396132189,
          0.11747930317543158,
          0.11709139980954052,
          0.11669675154306956,
          0.11629558068354984,
          0.1158881096505234,
          0.1154745608088676,
          0.11505515630361661,
          0.11463011789646058,
          0.11419966680409663,
          0.1137640235386073,
          0.11332340775003538,
          0.11287803807132762,
          0.11242813196581056,
          0.1119739055773643,
          0.11151557358345197,
          0.11105334905116444,
          0.11058744329643092,
          0.11011806574654621,
          0.1096454238061594,
          0.10916972272686526,
          0.10869116548053455,
          0.10820995263651599,
          0.10772628224283595,
          0.10724034971151869,
          0.10675234770814442,
          0.10626246604575577,
          0.10577089158321994,
          0.10527780812814543,
          0.10478339634444962,
          0.10428783366466501,
          0.10379129420706525,
          0.10329394869769047,
          0.10279596439733779,
          0.10229750503358384,
          0.10179873073789385,
          0.10129979798786803,
          0.10080085955466928,
          0.1003020644556678,
          0.09980355791233218,
          0.09930548131339023,
          0.09880797218327478,
          0.0983111641558623,
          0.09781518695350691,
          0.09732016637136275,
          0.09682622426698309,
          0.09633347855517493,
          0.09584204320808286,
          0.09535202826046764,
          0.09486353982013798,
          0.09437668008348746,
          0.09389154735608136,
          0.09340823607823055,
          0.09292683685548404,
          0.09244743649396432,
          0.09197011804046211,
          0.09149496082720289,
          0.09102204052118815,
          0.09055142917801083,
          0.09008319530003617,
          0.0896174038988339,
          0.08915411656174226,
          0.0886933915224377,
          0.08823528373537923,
          0.08777984495399051,
          0.08732712381243833,
          0.08687716591086019,
          0.08643001390388945,
          0.08598570759232205,
          0.08554428401776423,
          0.0851057775600963,
          0.08467022003758413,
          0.08423764080946652,
          0.08380806688084168,
          0.08338152300967576,
          0.08295803181575045,
          0.08253761389136559,
          0.0821202879136112,
          0.08170607075801893,
          0.08129497761340321,
          0.08088702209769999,
          0.0804822163746098,
          0.08008057127085086,
          0.0796820963938276,
          0.0792868002495191,
          0.07889469036039234,
          0.07850577338314524,
          0.07812005522608477,
          0.07773754116594615,
          0.07735823596396092,
          0.07698214398098209,
          0.07660926929147688,
          0.07623961579619924,
          0.07587318733335677,
          0.07550998778808876,
          0.07515002120007565,
          0.07479329186910176,
          0.07443980445839872,
          0.07408956409559826,
          0.07374257647112842,
          0.07339884793389069,
          0.0730583855840604,
          0.0727211973628563,
          0.07238729213913102,
          0.07205667979263945,
          0.07172937129384527,
          0.07140537878013414,
          0.07108471562830526,
          0.07076739652322075,
          0.07045343752249679,
          0.0701428561171275,
          0.06983567128793927,
          0.06953190355777825,
          0.06923157503934231,
          0.06893470947857422,
          0.06864133229353964,
          0.06835147060872199,
          0.06806515328467157,
          0.06778241094295451,
          0.06750327598635476,
          0.0672277826142883,
          0.06695596683339773,
          0.0666878664633022,
          0.06642352113748433,
          0.06616297229930485,
          0.06590626319314224,
          0.06565343885066177,
          0.0654045460722272,
          0.06515963340347453,
          0.0649187511070753,
          0.06468195112972432,
          0.06444928706439365,
          0.06422081410790274,
          0.06399658901386059,
          0.063776670041044,
          0.06356111689728243,
          0.06334999067892688,
          0.06314335380598705,
          0.06294126995302779,
          0.06274380397592187,
          0.06255102183456301,
          0.06236299051164878,
          0.06217977792764918,
          0.06200145285208271,
          0.061828084811226675,
          0.06165974399239514,
          0.06149650114492152,
          0.06133842747798937,
          0.06118559455545866,
          0.061038074187840206,
          0.06089593832157428,
          0.0607592589257745,
          0.06062810787660163,
          0.06050255683943519,
          0.06038267714901461,
          0.060268539687724505,
          0.06016021476220186,
          0.06005777197844494,
          0.05996128011560633,
          0.059870806998655254,
          0.05978641937009468,
          0.059708182760921547,
          0.05963616136101906,
          0.05957041788917134,
          0.059511013462890616,
          0.05945800746824918,
          0.05941145742990633,
          0.05937141888152269,
          0.059337945236751684,
          0.05931108766099951,
          0.05929089494414218,
          0.059277413374388,
          0.05927068661347224,
          0.05927075557336912,
          0.05927765829470385,
          0.059291429827046056,
          0.05931210211126239,
          0.059339703864104684,
          0.0593742604652061,
          0.059415793846654845,
          0.05946432238531204,
          0.05951986079803608,
          0.05958242003997247,
          0.05965200720606388,
          0.05972862543593143,
          0.059812273822272305,
          0.05990294732291678,
          0.06000063667668014,
          0.06010532832314196,
          0.060217004326479494,
          0.06033564230347619,
          0.06046121535582201,
          0.060593692006815164,
          0.060733036142570716,
          0.060879206957834914,
          0.06103215890649787,
          0.061191841656891864,
          0.061358200051956115,
          0.06153117407434262,
          0.061710698816531316,
          0.06189670445601653,
          0.06208911623562034,
          0.062287854448981904,
          0.06249283443126489,
          0.06270396655511966,
          0.06292115623192882,
          0.0631443039183594,
          0.06337330512823786,
          0.06360805044975673,
          0.0638484255680169,
          0.0640943112929012,
          0.06434558359226894,
          0.06460211363045552,
          0.06486376781205291,
          0.06513040783094202,
          0.06540189072454104,
          0.0656780689332267,
          0.06595879036488085,
          0.06624389846450708,
          0.06653323228885714,
          0.06682662658599979,
          0.06712391187976038,
          0.06742491455895255,
          0.06772945697131773,
          0.06803735752208388,
          0.06834843077704807,
          0.06866248757008327,
          0.06897933511496392,
          0.0692987771214007,
          0.06962061391516924,
          0.06994464256221361,
          0.07027065699660037,
          0.07059844815219528,
          0.07092780409792995,
          0.07125851017652218,
          0.07159034914650994,
          0.07192310132745525,
          0.07225654474817039,
          0.0725904552978167,
          0.07292460687972199,
          0.07325877156776046,
          0.07359271976513633,
          0.07392622036540919,
          0.07425904091559847,
          0.07459094778120012,
          0.07492170631294881,
          0.07525108101515594,
          0.07557883571545307,
          0.07590473373576846,
          0.0762285380643645,
          0.07655001152876112,
          0.07686891696937198,
          0.07718501741367752,
          0.07749807625076036,
          0.07780785740602779,
          0.07811412551594644,
          0.07841664610261416,
          0.07871518574799596,
          0.07900951226764966,
          0.0792993948837697,
          0.07958460439737783,
          0.07986491335949061,
          0.08014009624109561,
          0.08040992960176964,
          0.08067419225677427,
          0.0809326654424661,
          0.081185132979861,
          0.08143138143619491,
          0.08167120028432462,
          0.08190438205981725,
          0.08213072251557733,
          0.0823500207738649,
          0.08256207947556177,
          0.08276670492654427,
          0.08296370724102699,
          0.08315290048174308,
          0.08333410279683266,
          0.08350713655331256,
          0.08367182846700681,
          0.08382800972881939,
          0.08397551612723644,
          0.08411418816694854,
          0.08424387118348838,
          0.08436441545378394,
          0.08447567630253108,
          0.08457751420429528,
          0.08466979488125552,
          0.08475238939650977,
          0.08482517424286513,
          0.08488803142704118,
          0.08494084854921961,
          0.08498351887787985,
          0.08501594141986256,
          0.08503802098561102,
          0.08504966824954348,
          0.08505079980551629,
          0.08504133821734064,
          0.08502121206432399,
          0.08499035598180947,
          0.08494871069669378,
          0.08489622305790814,
          0.08483284606185322,
          0.0847585388727824,
          0.08467326683813473,
          0.08457700149882323,
          0.08446972059448853,
          0.08435140806373438,
          0.0842220540393659,
          0.08408165483865548,
          0.08393021294866808,
          0.08376773700668057,
          0.08359424177573603,
          0.08340974811537753,
          0.08321428294761135,
          0.08300787921815352,
          0.0827905758530186,
          0.08256241771051372,
          0.08232345552870461,
          0.08207374586842606,
          0.08181335105191152,
          0.08154233909712215,
          0.08126078364785767,
          0.08096876389973756,
          0.08066636452214239,
          0.08035367557620975,
          0.08003079242898307,
          0.07969781566381369,
          0.07935485098712057,
          0.07900200913161483,
          0.0786394057560989,
          0.0782671613419533,
          0.0778854010864262,
          0.07749425479284328,
          0.0770938567578587,
          0.07668434565586839,
          0.07626586442071094,
          0.07583856012478131,
          0.0754025838556859,
          0.07495809059056775,
          0.07450523906823295,
          0.07404419165921058,
          0.07357511423387857,
          0.07309817602879051,
          0.07261354951133726,
          0.07212141024288,
          0.07162193674048972,
          0.07111531033743031,
          0.07060171504252134,
          0.0700813373985171,
          0.06955436633963849,
          0.06902099304839424,
          0.06848141081182645,
          0.06793581487731636,
          0.06738440230808486,
          0.06682737183852064,
          0.06626492372946957,
          0.0656972596236164,
          0.06512458240108888,
          0.06454709603541374,
          0.06396500544995105,
          0.06337851637493376,
          0.06278783520523519,
          0.06219316885898706,
          0.06159472463716814,
          0.060992710084281074,
          0.06038733285023289,
          0.059778800553532775,
          0.059167320645917586,
          0.05855310027851341,
          0.057936346169638504,
          0.05731726447435083,
          0.05669606065583942,
          0.05607293935875719,
          0.05544810428458901,
          0.05482175806914563,
          0.05419410216227146,
          0.05356533670985091,
          0.05293566043819389,
          0.05230527054087907,
          0.05167436256812875,
          0.05104313031878683,
          0.05041176573496716,
          0.0497804587994363,
          0.04914939743579127,
          0.04851876741148901,
          0.04788875224378061,
          0.047259533108600565,
          0.046631288752455896,
          0.046004195407358506,
          0.045378426708838716,
          0.044754153617075,
          0.0441315443411713,
          0.0435107642666095,
          0.04289197588590093,
          0.04227533873245724,
          0.04166100931769724,
          0.04104914107140317,
          0.04043988428533552,
          0.03983338606011267,
          0.03922979025535808,
          0.03862923744311363,
          0.038031864864515486,
          0.037437806389724305,
          0.03684719248109925,
          0.036260150159601434,
          0.0356768029744097,
          0.035097270975728026,
          0.03452167069076132,
          0.03395011510283305,
          0.03338271363361544,
          0.032819572128439896,
          0.032260792844653,
          0.031706474442980234,
          0.031156711981857467,
          0.030611596914687476,
          0.030071217089976388,
          0.029535656754302666,
          0.029004996558069193,
          0.028479313563986444,
          0.02795868125823312,
          0.02744316956423848,
          0.026932844859028734,
          0.026427769992078284,
          0.02592800430660469,
          0.0254336036632448,
          0.024944620466048305,
          0.02446110369072298,
          0.023983098915065403,
          0.02351064835150909,
          0.02304379088172141,
          0.02258256209317945,
          0.02212699431765437,
          0.0216771166715325,
          0.021232955097901806,
          0.02079453241033041,
          0.02036186833826473,
          0.01993497957397357,
          0.019513879820964492,
          0.019098579843798733,
          0.018689087519230728,
          0.01828540788859823,
          0.01788754321138942,
          0.01749549301991306,
          0.01710925417499871,
          0.016728820922653733,
          0.01635418495160458,
          0.015985335451650387,
          0.01562225917275732,
          0.015264940484822938,
          0.014913361438040462,
          0.014567501823793825,
          0.014227339236014958,
          0.013892849132936081,
          0.013564004899170368,
          0.013240777908055928,
          0.012923137584198566,
          0.01261105146615051,
          0.012304485269163166,
          0.012003402947953355,
          0.011707766759424027,
          0.01141753732528127,
          0.011132673694491545,
          0.010853133405523905,
          0.01057887254832388,
          0.010309845825966911,
          0.010046006615941128,
          0.009787307031010365,
          0.009533697979610345,
          0.009285129225732363,
          0.009041549448250455,
          0.008802906299649768,
          0.008569146464115412,
          0.008340215714942825,
          0.008116058971232487,
          0.007896620353833182,
          0.007681843240500011,
          0.007471670320235074,
          0.007266043646780005,
          0.007064904691231964,
          0.006868194393755588,
          0.006675853214365675,
          0.0064878211827568465,
          0.0063040379471578705,
          0.006124442822190385,
          0.005948974835713148,
          0.00577757277463435,
          0.005610175229676665,
          0.005446720639080704,
          0.005287147331234479,
          0.005131393566217632,
          0.004979397576251272,
          0.004831097605044889,
          0.004686431946034052,
          0.004545338979503501,
          0.004407757208591792,
          0.004273625294174964,
          0.00414288208862801,
          0.004015466668464228,
          0.003891318365853678,
          0.0037703767990232956,
          0.0036525819015422577,
          0.003537873950497415,
          0.0034261935935645895,
          0.003317481874982744,
          0.003211680260438781,
          0.003108730660872081,
          0.0030085754552083583,
          0.0029111575120337103,
          0.0028164202102203884,
          0.0027243074585165633,
          0.0026347637141133948,
          0.0025477340002031195,
          0.002463163922542838,
          0.002380999685039156,
          0.0023011881043695608,
          0.002223676623656874,
          0.0021484133252138164,
          0.002075346942375064,
          0.002004426870434712
         ]
        }
       ],
       "layout": {
        "height": 500,
        "legend": {
         "font": {
          "color": "#ffffff"
         }
        },
        "paper_bgcolor": "#22252B",
        "plot_bgcolor": "#292C34",
        "showlegend": true,
        "template": {
         "data": {
          "bar": [
           {
            "error_x": {
             "color": "#2a3f5f"
            },
            "error_y": {
             "color": "#2a3f5f"
            },
            "marker": {
             "line": {
              "color": "#E5ECF6",
              "width": 0.5
             }
            },
            "type": "bar"
           }
          ],
          "barpolar": [
           {
            "marker": {
             "line": {
              "color": "#E5ECF6",
              "width": 0.5
             }
            },
            "type": "barpolar"
           }
          ],
          "carpet": [
           {
            "aaxis": {
             "endlinecolor": "#2a3f5f",
             "gridcolor": "white",
             "linecolor": "white",
             "minorgridcolor": "white",
             "startlinecolor": "#2a3f5f"
            },
            "baxis": {
             "endlinecolor": "#2a3f5f",
             "gridcolor": "white",
             "linecolor": "white",
             "minorgridcolor": "white",
             "startlinecolor": "#2a3f5f"
            },
            "type": "carpet"
           }
          ],
          "choropleth": [
           {
            "colorbar": {
             "outlinewidth": 0,
             "ticks": ""
            },
            "type": "choropleth"
           }
          ],
          "contour": [
           {
            "colorbar": {
             "outlinewidth": 0,
             "ticks": ""
            },
            "colorscale": [
             [
              0,
              "#0d0887"
             ],
             [
              0.1111111111111111,
              "#46039f"
             ],
             [
              0.2222222222222222,
              "#7201a8"
             ],
             [
              0.3333333333333333,
              "#9c179e"
             ],
             [
              0.4444444444444444,
              "#bd3786"
             ],
             [
              0.5555555555555556,
              "#d8576b"
             ],
             [
              0.6666666666666666,
              "#ed7953"
             ],
             [
              0.7777777777777778,
              "#fb9f3a"
             ],
             [
              0.8888888888888888,
              "#fdca26"
             ],
             [
              1,
              "#f0f921"
             ]
            ],
            "type": "contour"
           }
          ],
          "contourcarpet": [
           {
            "colorbar": {
             "outlinewidth": 0,
             "ticks": ""
            },
            "type": "contourcarpet"
           }
          ],
          "heatmap": [
           {
            "colorbar": {
             "outlinewidth": 0,
             "ticks": ""
            },
            "colorscale": [
             [
              0,
              "#0d0887"
             ],
             [
              0.1111111111111111,
              "#46039f"
             ],
             [
              0.2222222222222222,
              "#7201a8"
             ],
             [
              0.3333333333333333,
              "#9c179e"
             ],
             [
              0.4444444444444444,
              "#bd3786"
             ],
             [
              0.5555555555555556,
              "#d8576b"
             ],
             [
              0.6666666666666666,
              "#ed7953"
             ],
             [
              0.7777777777777778,
              "#fb9f3a"
             ],
             [
              0.8888888888888888,
              "#fdca26"
             ],
             [
              1,
              "#f0f921"
             ]
            ],
            "type": "heatmap"
           }
          ],
          "heatmapgl": [
           {
            "colorbar": {
             "outlinewidth": 0,
             "ticks": ""
            },
            "colorscale": [
             [
              0,
              "#0d0887"
             ],
             [
              0.1111111111111111,
              "#46039f"
             ],
             [
              0.2222222222222222,
              "#7201a8"
             ],
             [
              0.3333333333333333,
              "#9c179e"
             ],
             [
              0.4444444444444444,
              "#bd3786"
             ],
             [
              0.5555555555555556,
              "#d8576b"
             ],
             [
              0.6666666666666666,
              "#ed7953"
             ],
             [
              0.7777777777777778,
              "#fb9f3a"
             ],
             [
              0.8888888888888888,
              "#fdca26"
             ],
             [
              1,
              "#f0f921"
             ]
            ],
            "type": "heatmapgl"
           }
          ],
          "histogram": [
           {
            "marker": {
             "colorbar": {
              "outlinewidth": 0,
              "ticks": ""
             }
            },
            "type": "histogram"
           }
          ],
          "histogram2d": [
           {
            "colorbar": {
             "outlinewidth": 0,
             "ticks": ""
            },
            "colorscale": [
             [
              0,
              "#0d0887"
             ],
             [
              0.1111111111111111,
              "#46039f"
             ],
             [
              0.2222222222222222,
              "#7201a8"
             ],
             [
              0.3333333333333333,
              "#9c179e"
             ],
             [
              0.4444444444444444,
              "#bd3786"
             ],
             [
              0.5555555555555556,
              "#d8576b"
             ],
             [
              0.6666666666666666,
              "#ed7953"
             ],
             [
              0.7777777777777778,
              "#fb9f3a"
             ],
             [
              0.8888888888888888,
              "#fdca26"
             ],
             [
              1,
              "#f0f921"
             ]
            ],
            "type": "histogram2d"
           }
          ],
          "histogram2dcontour": [
           {
            "colorbar": {
             "outlinewidth": 0,
             "ticks": ""
            },
            "colorscale": [
             [
              0,
              "#0d0887"
             ],
             [
              0.1111111111111111,
              "#46039f"
             ],
             [
              0.2222222222222222,
              "#7201a8"
             ],
             [
              0.3333333333333333,
              "#9c179e"
             ],
             [
              0.4444444444444444,
              "#bd3786"
             ],
             [
              0.5555555555555556,
              "#d8576b"
             ],
             [
              0.6666666666666666,
              "#ed7953"
             ],
             [
              0.7777777777777778,
              "#fb9f3a"
             ],
             [
              0.8888888888888888,
              "#fdca26"
             ],
             [
              1,
              "#f0f921"
             ]
            ],
            "type": "histogram2dcontour"
           }
          ],
          "mesh3d": [
           {
            "colorbar": {
             "outlinewidth": 0,
             "ticks": ""
            },
            "type": "mesh3d"
           }
          ],
          "parcoords": [
           {
            "line": {
             "colorbar": {
              "outlinewidth": 0,
              "ticks": ""
             }
            },
            "type": "parcoords"
           }
          ],
          "scatter": [
           {
            "marker": {
             "colorbar": {
              "outlinewidth": 0,
              "ticks": ""
             }
            },
            "type": "scatter"
           }
          ],
          "scatter3d": [
           {
            "line": {
             "colorbar": {
              "outlinewidth": 0,
              "ticks": ""
             }
            },
            "marker": {
             "colorbar": {
              "outlinewidth": 0,
              "ticks": ""
             }
            },
            "type": "scatter3d"
           }
          ],
          "scattercarpet": [
           {
            "marker": {
             "colorbar": {
              "outlinewidth": 0,
              "ticks": ""
             }
            },
            "type": "scattercarpet"
           }
          ],
          "scattergeo": [
           {
            "marker": {
             "colorbar": {
              "outlinewidth": 0,
              "ticks": ""
             }
            },
            "type": "scattergeo"
           }
          ],
          "scattergl": [
           {
            "marker": {
             "colorbar": {
              "outlinewidth": 0,
              "ticks": ""
             }
            },
            "type": "scattergl"
           }
          ],
          "scattermapbox": [
           {
            "marker": {
             "colorbar": {
              "outlinewidth": 0,
              "ticks": ""
             }
            },
            "type": "scattermapbox"
           }
          ],
          "scatterpolar": [
           {
            "marker": {
             "colorbar": {
              "outlinewidth": 0,
              "ticks": ""
             }
            },
            "type": "scatterpolar"
           }
          ],
          "scatterpolargl": [
           {
            "marker": {
             "colorbar": {
              "outlinewidth": 0,
              "ticks": ""
             }
            },
            "type": "scatterpolargl"
           }
          ],
          "scatterternary": [
           {
            "marker": {
             "colorbar": {
              "outlinewidth": 0,
              "ticks": ""
             }
            },
            "type": "scatterternary"
           }
          ],
          "surface": [
           {
            "colorbar": {
             "outlinewidth": 0,
             "ticks": ""
            },
            "colorscale": [
             [
              0,
              "#0d0887"
             ],
             [
              0.1111111111111111,
              "#46039f"
             ],
             [
              0.2222222222222222,
              "#7201a8"
             ],
             [
              0.3333333333333333,
              "#9c179e"
             ],
             [
              0.4444444444444444,
              "#bd3786"
             ],
             [
              0.5555555555555556,
              "#d8576b"
             ],
             [
              0.6666666666666666,
              "#ed7953"
             ],
             [
              0.7777777777777778,
              "#fb9f3a"
             ],
             [
              0.8888888888888888,
              "#fdca26"
             ],
             [
              1,
              "#f0f921"
             ]
            ],
            "type": "surface"
           }
          ],
          "table": [
           {
            "cells": {
             "fill": {
              "color": "#EBF0F8"
             },
             "line": {
              "color": "white"
             }
            },
            "header": {
             "fill": {
              "color": "#C8D4E3"
             },
             "line": {
              "color": "white"
             }
            },
            "type": "table"
           }
          ]
         },
         "layout": {
          "annotationdefaults": {
           "arrowcolor": "#2a3f5f",
           "arrowhead": 0,
           "arrowwidth": 1
          },
          "colorscale": {
           "diverging": [
            [
             0,
             "#8e0152"
            ],
            [
             0.1,
             "#c51b7d"
            ],
            [
             0.2,
             "#de77ae"
            ],
            [
             0.3,
             "#f1b6da"
            ],
            [
             0.4,
             "#fde0ef"
            ],
            [
             0.5,
             "#f7f7f7"
            ],
            [
             0.6,
             "#e6f5d0"
            ],
            [
             0.7,
             "#b8e186"
            ],
            [
             0.8,
             "#7fbc41"
            ],
            [
             0.9,
             "#4d9221"
            ],
            [
             1,
             "#276419"
            ]
           ],
           "sequential": [
            [
             0,
             "#0d0887"
            ],
            [
             0.1111111111111111,
             "#46039f"
            ],
            [
             0.2222222222222222,
             "#7201a8"
            ],
            [
             0.3333333333333333,
             "#9c179e"
            ],
            [
             0.4444444444444444,
             "#bd3786"
            ],
            [
             0.5555555555555556,
             "#d8576b"
            ],
            [
             0.6666666666666666,
             "#ed7953"
            ],
            [
             0.7777777777777778,
             "#fb9f3a"
            ],
            [
             0.8888888888888888,
             "#fdca26"
            ],
            [
             1,
             "#f0f921"
            ]
           ],
           "sequentialminus": [
            [
             0,
             "#0d0887"
            ],
            [
             0.1111111111111111,
             "#46039f"
            ],
            [
             0.2222222222222222,
             "#7201a8"
            ],
            [
             0.3333333333333333,
             "#9c179e"
            ],
            [
             0.4444444444444444,
             "#bd3786"
            ],
            [
             0.5555555555555556,
             "#d8576b"
            ],
            [
             0.6666666666666666,
             "#ed7953"
            ],
            [
             0.7777777777777778,
             "#fb9f3a"
            ],
            [
             0.8888888888888888,
             "#fdca26"
            ],
            [
             1,
             "#f0f921"
            ]
           ]
          },
          "colorway": [
           "#636efa",
           "#EF553B",
           "#00cc96",
           "#ab63fa",
           "#FFA15A",
           "#19d3f3",
           "#FF6692",
           "#B6E880",
           "#FF97FF",
           "#FECB52"
          ],
          "font": {
           "color": "#2a3f5f"
          },
          "geo": {
           "bgcolor": "white",
           "lakecolor": "white",
           "landcolor": "#E5ECF6",
           "showlakes": true,
           "showland": true,
           "subunitcolor": "white"
          },
          "hoverlabel": {
           "align": "left"
          },
          "hovermode": "closest",
          "mapbox": {
           "style": "light"
          },
          "paper_bgcolor": "white",
          "plot_bgcolor": "#E5ECF6",
          "polar": {
           "angularaxis": {
            "gridcolor": "white",
            "linecolor": "white",
            "ticks": ""
           },
           "bgcolor": "#E5ECF6",
           "radialaxis": {
            "gridcolor": "white",
            "linecolor": "white",
            "ticks": ""
           }
          },
          "scene": {
           "xaxis": {
            "backgroundcolor": "#E5ECF6",
            "gridcolor": "white",
            "gridwidth": 2,
            "linecolor": "white",
            "showbackground": true,
            "ticks": "",
            "zerolinecolor": "white"
           },
           "yaxis": {
            "backgroundcolor": "#E5ECF6",
            "gridcolor": "white",
            "gridwidth": 2,
            "linecolor": "white",
            "showbackground": true,
            "ticks": "",
            "zerolinecolor": "white"
           },
           "zaxis": {
            "backgroundcolor": "#E5ECF6",
            "gridcolor": "white",
            "gridwidth": 2,
            "linecolor": "white",
            "showbackground": true,
            "ticks": "",
            "zerolinecolor": "white"
           }
          },
          "shapedefaults": {
           "line": {
            "color": "#2a3f5f"
           }
          },
          "ternary": {
           "aaxis": {
            "gridcolor": "white",
            "linecolor": "white",
            "ticks": ""
           },
           "baxis": {
            "gridcolor": "white",
            "linecolor": "white",
            "ticks": ""
           },
           "bgcolor": "#E5ECF6",
           "caxis": {
            "gridcolor": "white",
            "linecolor": "white",
            "ticks": ""
           }
          },
          "title": {
           "x": 0.05
          },
          "xaxis": {
           "automargin": true,
           "gridcolor": "white",
           "linecolor": "white",
           "ticks": "",
           "zerolinecolor": "white",
           "zerolinewidth": 2
          },
          "yaxis": {
           "automargin": true,
           "gridcolor": "white",
           "linecolor": "white",
           "ticks": "",
           "zerolinecolor": "white",
           "zerolinewidth": 2
          }
         }
        },
        "title": {
         "font": {
          "color": "#9398A4"
         },
         "text": "Gaussian"
        },
        "width": 500,
        "xaxis": {
         "autorange": true,
         "gridcolor": "#3F434F",
         "range": [
          -10,
          10
         ],
         "tickfont": {
          "color": "#ffffff"
         },
         "title": {
          "font": {
           "color": "#ffffff"
          }
         },
         "type": "linear",
         "zeroline": false
        },
        "yaxis": {
         "autorange": true,
         "gridcolor": "#3F434F",
         "range": [
          -0.006955345327637378,
          0.13215244675353213
         ],
         "tickfont": {
          "color": "#ffffff"
         },
         "title": {
          "font": {
           "color": "#ffffff"
          }
         },
         "type": "linear",
         "zeroline": false
        }
       }
      },
      "image/png": "[encoded data removed]",
      "text/html": [
       "<div>\n",
       "        \n",
       "        \n",
       "            <div id=\"17d12598-d2a0-49d2-ac82-50e17b9d0aca\" class=\"plotly-graph-div\" style=\"height:500px; width:500px;\"></div>\n",
       "            <script type=\"text/javascript\">\n",
       "                require([\"plotly\"], function(Plotly) {\n",
       "                    window.PLOTLYENV=window.PLOTLYENV || {};\n",
       "                    \n",
       "                if (document.getElementById(\"17d12598-d2a0-49d2-ac82-50e17b9d0aca\")) {\n",
       "                    Plotly.newPlot(\n",
       "                        '17d12598-d2a0-49d2-ac82-50e17b9d0aca',\n",
       "                        [{\"marker\": {\"size\": 3}, \"mode\": \"lines\", \"name\": \"Points\", \"opacity\": 0.5, \"type\": \"scatter\", \"x\": [-10.0, -9.97997997997998, -9.95995995995996, -9.93993993993994, -9.91991991991992, -9.8998998998999, -9.87987987987988, -9.85985985985986, -9.83983983983984, -9.81981981981982, -9.7997997997998, -9.77977977977978, -9.75975975975976, -9.73973973973974, -9.71971971971972, -9.6996996996997, -9.67967967967968, -9.65965965965966, -9.63963963963964, -9.61961961961962, -9.5995995995996, -9.57957957957958, -9.55955955955956, -9.53953953953954, -9.51951951951952, -9.4994994994995, -9.47947947947948, -9.45945945945946, -9.43943943943944, -9.41941941941942, -9.3993993993994, -9.37937937937938, -9.35935935935936, -9.33933933933934, -9.31931931931932, -9.2992992992993, -9.27927927927928, -9.25925925925926, -9.23923923923924, -9.21921921921922, -9.1991991991992, -9.17917917917918, -9.15915915915916, -9.13913913913914, -9.11911911911912, -9.0990990990991, -9.07907907907908, -9.05905905905906, -9.03903903903904, -9.01901901901902, -8.998998998999, -8.97897897897898, -8.95895895895896, -8.93893893893894, -8.91891891891892, -8.8988988988989, -8.87887887887888, -8.85885885885886, -8.83883883883884, -8.81881881881882, -8.7987987987988, -8.77877877877878, -8.75875875875876, -8.73873873873874, -8.71871871871872, -8.6986986986987, -8.67867867867868, -8.65865865865866, -8.63863863863864, -8.618618618618619, -8.598598598598599, -8.578578578578579, -8.558558558558559, -8.538538538538539, -8.518518518518519, -8.498498498498499, -8.478478478478479, -8.458458458458459, -8.438438438438439, -8.418418418418419, -8.398398398398399, -8.378378378378379, -8.358358358358359, -8.338338338338339, -8.318318318318319, -8.298298298298299, -8.278278278278279, -8.258258258258259, -8.238238238238239, -8.218218218218219, -8.198198198198199, -8.178178178178179, -8.158158158158159, -8.138138138138139, -8.118118118118119, -8.098098098098099, -8.078078078078079, -8.058058058058059, -8.038038038038039, -8.018018018018019, -7.997997997997998, -7.977977977977978, -7.957957957957958, -7.937937937937938, -7.917917917917918, -7.897897897897898, -7.877877877877878, -7.857857857857858, -7.837837837837838, -7.817817817817818, -7.797797797797798, -7.777777777777778, -7.757757757757758, -7.737737737737738, -7.717717717717718, -7.697697697697698, -7.677677677677678, -7.657657657657658, -7.637637637637638, -7.617617617617618, -7.597597597597598, -7.5775775775775776, -7.5575575575575575, -7.5375375375375375, -7.5175175175175175, -7.4974974974974975, -7.4774774774774775, -7.4574574574574575, -7.4374374374374375, -7.4174174174174174, -7.397397397397397, -7.377377377377377, -7.357357357357357, -7.337337337337337, -7.317317317317317, -7.297297297297297, -7.277277277277277, -7.257257257257257, -7.237237237237237, -7.217217217217217, -7.197197197197197, -7.177177177177177, -7.157157157157157, -7.137137137137137, -7.117117117117117, -7.097097097097097, -7.077077077077077, -7.057057057057057, -7.037037037037037, -7.017017017017017, -6.996996996996997, -6.976976976976977, -6.956956956956957, -6.936936936936937, -6.916916916916917, -6.896896896896897, -6.876876876876877, -6.856856856856857, -6.836836836836837, -6.816816816816817, -6.796796796796797, -6.776776776776776, -6.756756756756756, -6.736736736736736, -6.716716716716716, -6.696696696696696, -6.676676676676676, -6.656656656656656, -6.636636636636636, -6.616616616616616, -6.596596596596596, -6.576576576576576, -6.556556556556556, -6.536536536536536, -6.516516516516516, -6.496496496496496, -6.476476476476476, -6.456456456456456, -6.436436436436436, -6.416416416416416, -6.396396396396396, -6.376376376376376, -6.356356356356356, -6.336336336336336, -6.316316316316316, -6.296296296296296, -6.276276276276276, -6.256256256256256, -6.236236236236236, -6.216216216216216, -6.196196196196196, -6.176176176176176, -6.156156156156156, -6.136136136136136, -6.116116116116116, -6.096096096096096, -6.076076076076076, -6.056056056056056, -6.036036036036036, -6.016016016016016, -5.995995995995996, -5.975975975975976, -5.955955955955956, -5.935935935935936, -5.915915915915916, -5.895895895895896, -5.875875875875876, -5.8558558558558556, -5.8358358358358355, -5.8158158158158155, -5.7957957957957955, -5.7757757757757755, -5.7557557557557555, -5.7357357357357355, -5.7157157157157155, -5.6956956956956954, -5.675675675675675, -5.655655655655655, -5.635635635635635, -5.615615615615615, -5.595595595595595, -5.575575575575575, -5.555555555555555, -5.535535535535535, -5.515515515515515, -5.495495495495495, -5.475475475475475, -5.455455455455455, -5.435435435435435, -5.415415415415415, -5.395395395395395, -5.375375375375375, -5.355355355355355, -5.335335335335335, -5.315315315315315, -5.295295295295295, -5.275275275275275, -5.255255255255255, -5.235235235235235, -5.215215215215215, -5.195195195195195, -5.175175175175175, -5.155155155155155, -5.135135135135135, -5.115115115115115, -5.095095095095095, -5.075075075075075, -5.055055055055055, -5.035035035035035, -5.015015015015015, -4.994994994994995, -4.974974974974975, -4.954954954954955, -4.934934934934935, -4.914914914914915, -4.894894894894895, -4.874874874874875, -4.854854854854855, -4.834834834834835, -4.814814814814815, -4.794794794794795, -4.774774774774775, -4.754754754754755, -4.734734734734735, -4.714714714714715, -4.694694694694695, -4.674674674674675, -4.654654654654655, -4.634634634634635, -4.614614614614615, -4.594594594594595, -4.574574574574575, -4.554554554554555, -4.534534534534535, -4.514514514514515, -4.494494494494495, -4.474474474474475, -4.454454454454455, -4.434434434434435, -4.414414414414415, -4.394394394394395, -4.374374374374375, -4.354354354354355, -4.334334334334335, -4.314314314314315, -4.2942942942942945, -4.2742742742742745, -4.2542542542542545, -4.2342342342342345, -4.2142142142142145, -4.1941941941941945, -4.1741741741741745, -4.1541541541541545, -4.134134134134134, -4.114114114114114, -4.094094094094094, -4.074074074074074, -4.054054054054054, -4.034034034034034, -4.014014014014014, -3.9939939939939944, -3.9739739739739743, -3.9539539539539543, -3.9339339339339343, -3.9139139139139143, -3.8938938938938943, -3.8738738738738743, -3.8538538538538543, -3.8338338338338342, -3.8138138138138142, -3.7937937937937942, -3.773773773773774, -3.753753753753754, -3.733733733733734, -3.713713713713714, -3.693693693693694, -3.673673673673674, -3.653653653653654, -3.633633633633634, -3.613613613613614, -3.593593593593594, -3.573573573573573, -3.553553553553553, -3.533533533533533, -3.513513513513513, -3.493493493493493, -3.473473473473473, -3.453453453453453, -3.433433433433433, -3.413413413413413, -3.393393393393393, -3.373373373373373, -3.353353353353353, -3.333333333333333, -3.313313313313313, -3.293293293293293, -3.273273273273273, -3.253253253253253, -3.233233233233233, -3.213213213213213, -3.193193193193193, -3.173173173173173, -3.153153153153153, -3.133133133133133, -3.113113113113113, -3.093093093093093, -3.073073073073073, -3.053053053053053, -3.033033033033033, -3.013013013013013, -2.992992992992993, -2.972972972972973, -2.952952952952953, -2.932932932932933, -2.9129129129129128, -2.8928928928928928, -2.8728728728728727, -2.8528528528528527, -2.8328328328328327, -2.8128128128128127, -2.7927927927927927, -2.7727727727727727, -2.7527527527527527, -2.7327327327327327, -2.7127127127127126, -2.6926926926926926, -2.6726726726726726, -2.6526526526526526, -2.6326326326326326, -2.6126126126126126, -2.5925925925925926, -2.5725725725725725, -2.5525525525525525, -2.5325325325325325, -2.5125125125125125, -2.4924924924924925, -2.4724724724724725, -2.4524524524524525, -2.4324324324324325, -2.4124124124124124, -2.3923923923923924, -2.3723723723723724, -2.3523523523523524, -2.3323323323323324, -2.3123123123123124, -2.2922922922922924, -2.2722722722722724, -2.2522522522522523, -2.2322322322322323, -2.2122122122122123, -2.1921921921921923, -2.1721721721721723, -2.1521521521521523, -2.1321321321321323, -2.1121121121121122, -2.0920920920920922, -2.0720720720720722, -2.052052052052052, -2.032032032032032, -2.012012012012012, -1.9919919919919913, -1.9719719719719713, -1.9519519519519513, -1.9319319319319312, -1.9119119119119112, -1.8918918918918912, -1.8718718718718712, -1.8518518518518512, -1.8318318318318312, -1.8118118118118112, -1.7917917917917912, -1.7717717717717711, -1.7517517517517511, -1.7317317317317311, -1.711711711711711, -1.691691691691691, -1.671671671671671, -1.651651651651651, -1.631631631631631, -1.611611611611611, -1.591591591591591, -1.571571571571571, -1.551551551551551, -1.531531531531531, -1.511511511511511, -1.491491491491491, -1.471471471471471, -1.451451451451451, -1.431431431431431, -1.411411411411411, -1.391391391391391, -1.3713713713713709, -1.3513513513513509, -1.3313313313313309, -1.3113113113113108, -1.2912912912912908, -1.2712712712712708, -1.2512512512512508, -1.2312312312312308, -1.2112112112112108, -1.1911911911911908, -1.1711711711711708, -1.1511511511511507, -1.1311311311311307, -1.1111111111111107, -1.0910910910910907, -1.0710710710710707, -1.0510510510510507, -1.0310310310310307, -1.0110110110110107, -0.9909909909909906, -0.9709709709709706, -0.9509509509509506, -0.9309309309309306, -0.9109109109109106, -0.8908908908908906, -0.8708708708708706, -0.8508508508508505, -0.8308308308308305, -0.8108108108108105, -0.7907907907907905, -0.7707707707707705, -0.7507507507507505, -0.7307307307307305, -0.7107107107107105, -0.6906906906906904, -0.6706706706706704, -0.6506506506506504, -0.6306306306306304, -0.6106106106106104, -0.5905905905905904, -0.5705705705705704, -0.5505505505505504, -0.5305305305305303, -0.5105105105105103, -0.4904904904904903, -0.4704704704704703, -0.4504504504504503, -0.4304304304304303, -0.41041041041041026, -0.39039039039039025, -0.37037037037037024, -0.3503503503503502, -0.3303303303303302, -0.3103103103103102, -0.2902902902902902, -0.2702702702702702, -0.25025025025025016, -0.23023023023023015, -0.21021021021021014, -0.19019019019019012, -0.1701701701701701, -0.1501501501501501, -0.13013013013013008, -0.11011011011011007, -0.09009009009009006, -0.07007007007007005, -0.05005005005005003, -0.03003003003003002, -0.010010010010010006, 0.010010010010010006, 0.03003003003003002, 0.05005005005005003, 0.07007007007007005, 0.09009009009009006, 0.11011011011011007, 0.13013013013013008, 0.1501501501501501, 0.1701701701701701, 0.19019019019019012, 0.21021021021021014, 0.23023023023023015, 0.25025025025025016, 0.2702702702702702, 0.2902902902902902, 0.3103103103103102, 0.3303303303303302, 0.3503503503503502, 0.37037037037037024, 0.39039039039039025, 0.41041041041041026, 0.4304304304304303, 0.4504504504504503, 0.4704704704704703, 0.4904904904904903, 0.5105105105105103, 0.5305305305305303, 0.5505505505505504, 0.5705705705705704, 0.5905905905905904, 0.6106106106106104, 0.6306306306306304, 0.6506506506506504, 0.6706706706706704, 0.6906906906906904, 0.7107107107107105, 0.7307307307307305, 0.7507507507507505, 0.7707707707707705, 0.7907907907907905, 0.8108108108108105, 0.8308308308308305, 0.8508508508508505, 0.8708708708708706, 0.8908908908908906, 0.9109109109109106, 0.9309309309309306, 0.9509509509509506, 0.9709709709709706, 0.9909909909909906, 1.0110110110110107, 1.0310310310310307, 1.0510510510510507, 1.0710710710710707, 1.0910910910910907, 1.1111111111111107, 1.1311311311311307, 1.1511511511511507, 1.1711711711711708, 1.1911911911911908, 1.2112112112112108, 1.2312312312312308, 1.2512512512512508, 1.2712712712712708, 1.2912912912912908, 1.3113113113113108, 1.3313313313313309, 1.3513513513513509, 1.3713713713713709, 1.391391391391391, 1.411411411411411, 1.431431431431431, 1.451451451451451, 1.471471471471471, 1.491491491491491, 1.511511511511511, 1.531531531531531, 1.551551551551551, 1.571571571571571, 1.591591591591591, 1.611611611611611, 1.631631631631631, 1.651651651651651, 1.671671671671671, 1.691691691691691, 1.711711711711711, 1.7317317317317311, 1.7517517517517511, 1.7717717717717711, 1.7917917917917912, 1.8118118118118112, 1.8318318318318312, 1.8518518518518512, 1.8718718718718712, 1.8918918918918912, 1.9119119119119112, 1.9319319319319312, 1.9519519519519513, 1.9719719719719713, 1.9919919919919913, 2.0120120120120113, 2.0320320320320313, 2.0520520520520513, 2.0720720720720713, 2.0920920920920913, 2.1121121121121114, 2.1321321321321314, 2.1521521521521514, 2.1721721721721714, 2.1921921921921914, 2.2122122122122114, 2.2322322322322314, 2.2522522522522515, 2.2722722722722715, 2.2922922922922915, 2.3123123123123115, 2.3323323323323315, 2.3523523523523515, 2.3723723723723715, 2.3923923923923915, 2.4124124124124116, 2.4324324324324316, 2.4524524524524516, 2.4724724724724716, 2.4924924924924916, 2.5125125125125116, 2.5325325325325316, 2.5525525525525516, 2.5725725725725717, 2.5925925925925917, 2.6126126126126117, 2.6326326326326317, 2.6526526526526517, 2.6726726726726717, 2.6926926926926917, 2.7127127127127117, 2.7327327327327318, 2.7527527527527518, 2.772772772772772, 2.792792792792792, 2.812812812812812, 2.8328328328328336, 2.8528528528528536, 2.8728728728728736, 2.8928928928928936, 2.9129129129129137, 2.9329329329329337, 2.9529529529529537, 2.9729729729729737, 2.9929929929929937, 3.0130130130130137, 3.0330330330330337, 3.0530530530530537, 3.0730730730730738, 3.0930930930930938, 3.113113113113114, 3.133133133133134, 3.153153153153154, 3.173173173173174, 3.193193193193194, 3.213213213213214, 3.233233233233234, 3.253253253253254, 3.273273273273274, 3.293293293293294, 3.313313313313314, 3.333333333333334, 3.353353353353354, 3.373373373373374, 3.393393393393394, 3.413413413413414, 3.433433433433434, 3.453453453453454, 3.473473473473474, 3.493493493493494, 3.513513513513514, 3.533533533533534, 3.553553553553554, 3.573573573573574, 3.593593593593594, 3.613613613613614, 3.633633633633634, 3.653653653653654, 3.673673673673674, 3.693693693693694, 3.713713713713714, 3.733733733733734, 3.753753753753754, 3.773773773773774, 3.7937937937937942, 3.8138138138138142, 3.8338338338338342, 3.8538538538538543, 3.8738738738738743, 3.8938938938938943, 3.9139139139139143, 3.9339339339339343, 3.9539539539539543, 3.9739739739739743, 3.9939939939939944, 4.014014014014014, 4.034034034034034, 4.054054054054054, 4.074074074074074, 4.094094094094094, 4.114114114114114, 4.134134134134134, 4.1541541541541545, 4.1741741741741745, 4.1941941941941945, 4.2142142142142145, 4.2342342342342345, 4.2542542542542545, 4.2742742742742745, 4.2942942942942945, 4.314314314314315, 4.334334334334335, 4.354354354354355, 4.374374374374375, 4.394394394394395, 4.414414414414415, 4.434434434434435, 4.454454454454455, 4.474474474474475, 4.494494494494495, 4.514514514514515, 4.534534534534535, 4.554554554554555, 4.574574574574575, 4.594594594594595, 4.614614614614615, 4.634634634634635, 4.654654654654655, 4.674674674674675, 4.694694694694695, 4.714714714714715, 4.734734734734735, 4.754754754754755, 4.774774774774775, 4.794794794794795, 4.814814814814815, 4.834834834834835, 4.854854854854855, 4.874874874874875, 4.894894894894895, 4.914914914914915, 4.934934934934935, 4.954954954954955, 4.974974974974975, 4.994994994994995, 5.015015015015015, 5.035035035035035, 5.055055055055055, 5.075075075075075, 5.095095095095095, 5.115115115115115, 5.135135135135135, 5.155155155155155, 5.175175175175175, 5.195195195195195, 5.215215215215215, 5.235235235235235, 5.255255255255255, 5.275275275275275, 5.295295295295295, 5.315315315315315, 5.335335335335335, 5.355355355355355, 5.375375375375375, 5.395395395395395, 5.415415415415415, 5.435435435435435, 5.455455455455455, 5.475475475475475, 5.495495495495495, 5.515515515515515, 5.535535535535535, 5.555555555555555, 5.575575575575575, 5.595595595595595, 5.615615615615615, 5.635635635635635, 5.655655655655655, 5.675675675675675, 5.6956956956956954, 5.7157157157157155, 5.7357357357357355, 5.7557557557557555, 5.7757757757757755, 5.7957957957957955, 5.8158158158158155, 5.8358358358358355, 5.8558558558558556, 5.875875875875876, 5.895895895895896, 5.915915915915916, 5.935935935935936, 5.955955955955956, 5.975975975975976, 5.995995995995996, 6.016016016016017, 6.0360360360360374, 6.0560560560560575, 6.0760760760760775, 6.0960960960960975, 6.1161161161161175, 6.1361361361361375, 6.1561561561561575, 6.1761761761761775, 6.1961961961961975, 6.216216216216218, 6.236236236236238, 6.256256256256258, 6.276276276276278, 6.296296296296298, 6.316316316316318, 6.336336336336338, 6.356356356356358, 6.376376376376378, 6.396396396396398, 6.416416416416418, 6.436436436436438, 6.456456456456458, 6.476476476476478, 6.496496496496498, 6.516516516516518, 6.536536536536538, 6.556556556556558, 6.576576576576578, 6.596596596596598, 6.616616616616618, 6.636636636636638, 6.656656656656658, 6.676676676676678, 6.696696696696698, 6.716716716716718, 6.736736736736738, 6.756756756756758, 6.776776776776778, 6.796796796796798, 6.816816816816818, 6.836836836836838, 6.856856856856858, 6.876876876876878, 6.896896896896898, 6.916916916916918, 6.936936936936938, 6.956956956956958, 6.976976976976978, 6.996996996996998, 7.017017017017018, 7.037037037037038, 7.057057057057058, 7.077077077077078, 7.097097097097098, 7.117117117117118, 7.137137137137138, 7.157157157157158, 7.177177177177178, 7.197197197197198, 7.217217217217218, 7.237237237237238, 7.257257257257258, 7.277277277277278, 7.297297297297298, 7.317317317317318, 7.337337337337338, 7.357357357357358, 7.377377377377378, 7.397397397397398, 7.417417417417418, 7.437437437437438, 7.457457457457458, 7.477477477477478, 7.497497497497498, 7.517517517517518, 7.537537537537538, 7.557557557557558, 7.577577577577578, 7.5975975975975985, 7.6176176176176185, 7.6376376376376385, 7.6576576576576585, 7.6776776776776785, 7.6976976976976985, 7.7177177177177185, 7.7377377377377385, 7.7577577577577586, 7.777777777777779, 7.797797797797799, 7.817817817817819, 7.837837837837839, 7.857857857857859, 7.877877877877879, 7.897897897897899, 7.917917917917919, 7.937937937937939, 7.957957957957959, 7.977977977977979, 7.997997997997999, 8.018018018018019, 8.038038038038039, 8.058058058058059, 8.078078078078079, 8.098098098098099, 8.118118118118119, 8.138138138138139, 8.158158158158159, 8.178178178178179, 8.198198198198199, 8.218218218218219, 8.238238238238239, 8.258258258258259, 8.278278278278279, 8.298298298298299, 8.318318318318319, 8.338338338338339, 8.358358358358359, 8.378378378378379, 8.398398398398399, 8.418418418418419, 8.438438438438439, 8.458458458458459, 8.478478478478479, 8.498498498498499, 8.518518518518519, 8.538538538538539, 8.558558558558559, 8.578578578578579, 8.598598598598599, 8.618618618618619, 8.63863863863864, 8.65865865865866, 8.67867867867868, 8.6986986986987, 8.71871871871872, 8.73873873873874, 8.75875875875876, 8.77877877877878, 8.7987987987988, 8.81881881881882, 8.83883883883884, 8.85885885885886, 8.87887887887888, 8.8988988988989, 8.91891891891892, 8.93893893893894, 8.95895895895896, 8.97897897897898, 8.998998998999, 9.01901901901902, 9.03903903903904, 9.05905905905906, 9.07907907907908, 9.0990990990991, 9.11911911911912, 9.13913913913914, 9.15915915915916, 9.17917917917918, 9.1991991991992, 9.21921921921922, 9.23923923923924, 9.25925925925926, 9.27927927927928, 9.2992992992993, 9.31931931931932, 9.33933933933934, 9.35935935935936, 9.37937937937938, 9.3993993993994, 9.41941941941942, 9.43943943943944, 9.45945945945946, 9.47947947947948, 9.4994994994995, 9.51951951951952, 9.53953953953954, 9.55955955955956, 9.57957957957958, 9.5995995995996, 9.61961961961962, 9.63963963963964, 9.65965965965966, 9.67967967967968, 9.6996996996997, 9.71971971971972, 9.73973973973974, 9.75975975975976, 9.77977977977978, 9.7997997997998, 9.81981981981982, 9.83983983983984, 9.85985985985986, 9.87987987987988, 9.8998998998999, 9.91991991991992, 9.93993993993994, 9.95995995995996, 9.97997997997998, 10.0], \"y\": [4.4276421098304656e-08, 4.751424641771556e-08, 5.097990085745778e-08, 5.468874285784432e-08, 5.8657117244014596e-08, 6.29024151357384e-08, 6.744313726318841e-08, 7.2298960867176e-08, 7.749081037077476e-08, 8.304093201799515e-08, 8.897297268428355e-08, 9.531206307308104e-08, 1.0208490552251114e-07, 1.0931986665648614e-07, 1.1704707512513094e-07, 1.2529852469044105e-07, 1.3410818292452502e-07, 1.4351210579963447e-07, 1.5354855846148738e-07, 1.6425814249013509e-07, 1.756839299658243e-07, 1.8787160467099417e-07, 2.0086961077369023e-07, 2.1472930935235281e-07, 2.2950514313708173e-07, 2.452548098581468e-07, 2.6203944460873683e-07, 2.7992381164564514e-07, 2.9897650606890806e-07, 3.1927016583919513e-07, 3.4088169461024025e-07, 3.638924958724884e-07, 3.883887189237734e-07, 4.144615172029609e-07, 4.42207319543261e-07, 4.717281149232887e-07, 5.031317513159258e-07, 5.365322492576583e-07, 5.720501307842682e-07, 6.098127644026958e-07, 6.499547267932957e-07, 6.926181819619527e-07, 7.379532785872629e-07, 7.861185663344242e-07, 8.372814319346289e-07, 8.916185558563471e-07, 9.493163904234424e-07, 1.0105716602639448e-06, 1.0755918860030226e-06, 1.1445959321439597e-06, 1.2178145801119093e-06, 1.2954911274666777e-06, 1.3778820143229865e-06, 1.465257478049354e-06, 1.5579022373501409e-06, 1.65611620686914e-06, 1.7602152434875403e-06, 1.8705319255241768e-06, 1.9874163660813665e-06, 2.1112370618156833e-06, 2.242381778449545e-06, 2.3812584743761837e-06, 2.528296263748203e-06, 2.6839464204772587e-06, 2.8486834246107594e-06, 3.0230060525894977e-06, 3.2074385129290998e-06, 3.402531628906487e-06, 3.6088640698722664e-06, 3.827043632848212e-06, 4.057708576108989e-06, 4.301529006485986e-06, 4.559208322170591e-06, 4.831484712833054e-06, 5.119132718912207e-06, 5.422964851969946e-06, 5.743833278042782e-06, 6.08263156596027e-06, 6.440296502638781e-06, 6.817809977394461e-06, 7.216200937357313e-06, 7.636547416102146e-06, 8.079978637648577e-06, 8.547677198015136e-06, 9.040881326545082e-06, 9.560887229254922e-06, 1.0109051516484888e-05, 1.0686793717161288e-05, 1.1295598882007709e-05, 1.1937020278068395e-05, 1.2612682176930576e-05, 1.3324282739056505e-05, 1.4073596996654449e-05, 1.4862479937538456e-05, 1.5692869692439936e-05, 1.656679082825105e-05, 1.748635774968791e-05, 1.8453778211871545e-05, 1.9471356946329516e-05, 2.054149940292367e-05, 2.166671561020819e-05, 2.2849624156717793e-05, 2.4092956295679426e-05, 2.5399560175626712e-05, 2.677240519938332e-05, 2.8214586513860595e-05, 2.9729329633091167e-05, 3.1319995196891926e-05, 3.299008386751665e-05, 3.4743241366620805e-05, 3.658326365481806e-05, 3.851410225606052e-05, 4.053986972901945e-05, 4.2664845287586586e-05, 4.489348057254869e-05, 4.723040557641846e-05, 4.968043472332797e-05, 5.224857310580544e-05, 5.494002288016798e-05, 5.7760189822164e-05, 6.0714690044398644e-05, 6.380935687695785e-05, 6.70502479125361e-05, 7.04436522172418e-05, 7.399609770812105e-05, 7.77143586983013e-05, 8.160546361050478e-05, 8.567670285952438e-05, 8.993563690408896e-05, 9.439010446837091e-05, 9.904823093320214e-05, 0.00010391843689687887, 0.00010900944690522855, 0.00011433029835040457, 0.00011989035053765864, 0.00012569929391910445, 0.0001317671594932571, 0.00013810432836888311, 0.00014472154149143288, 0.00015162990953007343, 0.0001588409229230538, 0.0001663664620788546, 0.00017421880773027827, 0.00018241065143833474, 0.0001909551062424562, 0.00019986571745326203, 0.00020915647358375305, 0.00021884181741447923, 0.00022893665718786669, 0.00023945637792654177, 0.0002504168528701066, 0.0002618344550244468, 0.000273726068817278, 0.0002861091018532248, 0.0002990014967613262, 0.00031242174312746745, 0.000326388889503793, 0.0003409225554867517, 0.0003560429438549735, 0.0003717708527577595, 0.0003881276879444895, 0.00040513547502483163, 0.00042281687174916126, 0.0004411951802981351, 0.000460294359569901, 0.00048013903745295966, 0.0005007545230722104, 0.0005221668189952366, 0.0005444026333853923, 0.0005674893920878266, 0.0005914552506339981, 0.0006163291061498468, 0.0006421406091522622, 0.0006689201752179848, 0.0006966989965086411, 0.0007255090531351042, 0.0007553831243439071, 0.000786354799507959, 0.0008184584889033546, 0.000851729434253604, 0.000886203719022148, 0.0009219182784336049, 0.0009589109092037185, 0.0009972202789575702, 0.0010368859353152215, 0.0010779483146235026, 0.001120448750312298, 0.0011644294808532897, 0.0012099336572987899, 0.0012570053503778657, 0.001305689557126715, 0.0013560322070298677, 0.0014080801676485588, 0.0014618812497122682, 0.0015174842116492263, 0.00157493876353144, 0.001634295570409547, 0.001695606255012708, 0.001758923399788485, 0.0018243005482575703, 0.001891792205658192, 0.0019614538388548104, 0.0020333418754857765, 0.0021075137023246248, 0.0021840276628295584, 0.002262943053855957, 0.0023443201215065557, 0.0024282200560943297, 0.002514704986193086, 0.002603837971751056, 0.002695682996242978, 0.002790304957836445, 0.002887769659548627, 0.00298814379836976, 0.003091494953330296, 0.0031978915724889543, 0.0033074029588194176, 0.003420099254973987, 0.0035360514269030105, 0.0036553312463095348, 0.0037780112719193776, 0.0039041648295472997, 0.004033865990940993, 0.004167189551385133, 0.004304211006048798, 0.004445006525060264, 0.004589652927294231, 0.00473822765285761, 0.004890808734260688, 0.005047474766261967, 0.005208304874375873, 0.005373378682033682, 0.005542776276389378, 0.005716578172763204, 0.005894865277717203, 0.006077718850758179, 0.006265220464665054, 0.006457451964438939, 0.006654495424875769, 0.0068564331067627595, 0.007063347411701762, 0.007275320835563703, 0.0074924359205805514, 0.0077147752060823, 0.007942421177888718, 0.008175456216366749, 0.008413962543166868, 0.008658022166652981, 0.008907716826042364, 0.009163127934274344, 0.009424336519627782, 0.00969142316610963, 0.009964467952638709, 0.010243550391050701, 0.010528749362952275, 0.010820143055454395, 0.01111780889581669, 0.011421823485036545, 0.011732262530419124, 0.012049200777165902, 0.012372711939021492, 0.01270286862802084, 0.013039742283380165, 0.013383403099577681, 0.013733919953671653, 0.014091360331905386, 0.014455790255650747, 0.014827274206743459, 0.015205875052265944, 0.015591653968834168, 0.015984670366448028, 0.016384981811965914, 0.016792643952265623, 0.01720771043715631, 0.017630232842106967, 0.018060260590859054, 0.01849784087799247, 0.018943018591515065, 0.01939583623554822, 0.019856333853181456, 0.020324548949571204, 0.02080051641535952, 0.021284268450490213, 0.021775834488500626, 0.022275241121368552, 0.022782512024994876, 0.023297667885403016, 0.02382072632573763, 0.024351701834145326, 0.024890605692620926, 0.02543744590690364, 0.025992227137507446, 0.02655495063197098, 0.027125614158411925, 0.027704211940471613, 0.02829073459373515, 0.028885169063712805, 0.029487498565467892, 0.03009770252497642, 0.030715756522303465, 0.031341632236680274, 0.03197529739356652, 0.03261671571378061, 0.033265846864780284, 0.03392264641417562, 0.0345870657855544, 0.03525905221669983, 0.03593854872027849, 0.03662549404707554, 0.03731982265185292, 0.03802146466190397, 0.038730345848377264, 0.03944638760043979, 0.040169506902348336, 0.04089961631349547, 0.041636623951494894, 0.04238043347836814, 0.043130944089893104, 0.04388805050817165, 0.04465164297747114, 0.045421607263393185, 0.04619782465541849, 0.04698017197287489, 0.04776852157437346, 0.0485627413707523, 0.04936269484156745, 0.05016824105516443, 0.05097923469236304, 0.05179552607378301, 0.05261696119083569, 0.053443381740402744, 0.05427462516322035, 0.05511052468598261, 0.05595090936717498, 0.056795604146644404, 0.05764442989890991, 0.05849720349021207, 0.05935373783929737, 0.06021384198192911, 0.06107732113911198, 0.061943976789014636, 0.06281360674256921, 0.06368600522272443, 0.06456096294732298, 0.06543826721557174, 0.06631770199806765, 0.06719904803033969, 0.06808208290986156, 0.06896658119648771, 0.06985231451625919, 0.07073905166852389, 0.07162655873630966, 0.07251459919988752, 0.07340293405345491, 0.07429132192486866, 0.07517951919835042, 0.07606728014008593, 0.07695435702663422, 0.07784050027605972, 0.07872545858169748, 0.07960897904845607, 0.08049080733156226, 0.08137068777764525, 0.08224836356805723, 0.08312357686432227, 0.08399606895560373, 0.08486558040807646, 0.08573185121608735, 0.0865946209549855, 0.08745362893549999, 0.08830861435954068, 0.08915931647729616, 0.09000547474549837, 0.09084682898672353, 0.09168311954959574, 0.09251408746975788, 0.09333947463147199, 0.09415902392971198, 0.0949724794326055, 0.09577958654408643, 0.09658009216661227, 0.0973737448638031, 0.09816029502285815, 0.09893949501660206, 0.0997110993650157, 0.10047486489610373, 0.101230550905952, 0.10197791931782652, 0.10271673484016709, 0.10344676512332722, 0.10416778091491398, 0.10487955621358025, 0.10558186842112369, 0.10627449849274682, 0.10695723108533368, 0.1076298547036001, 0.10829216184397472, 0.10894394913607074, 0.10958501748160916, 0.11021517219065549, 0.11083422311503591, 0.11144198477879703, 0.1120382765055809, 0.11262292254278394, 0.11319575218237489, 0.11375659987824713, 0.11430530535998554, 0.11484171374292848, 0.11536567563441197, 0.11587704723608218, 0.11637569044217021, 0.11686147293362227, 0.11733426826798689, 0.11779395596495851, 0.11824042158748704, 0.11867355681836243, 0.11909325953218883, 0.11949943386266879, 0.11989199026511917, 0.12027084557414734, 0.12063592305642078, 0.12098715245846586, 0.12132447004943832, 0.12164781865881219, 0.1219571477089389, 0.12225241324243272, 0.12253357794434454, 0.12280061115909134, 0.12305348890211246, 0.1232921938662313, 0.12351671542270413, 0.12372704961694463, 0.12392319915891804, 0.12410517340820298, 0.12427298835372647, 0.12442666658818148, 0.12456623727714264, 0.12469173612290212, 0.12480320532305038, 0.1249006935238362, 0.12498425576834214, 0.12505395343951972, 0.1251098541981322, 0.12515203191566046, 0.12518056660223054, 0.12519554432962848, 0.12519705714947366, 0.12518520300662545, 0.1251600856479052, 0.1251218145262193, 0.12507050470017556, 0.12500627672928882, 0.12492925656487788, 0.12483957543675975, 0.12473736973585299, 0.12462278089280573, 0.12449595525276913, 0.12435704394644134, 0.12420620275751135, 0.12404359198663575, 0.12386937631208764, 0.1236837246472176, 0.12348680999487388, 0.12327880929892926, 0.12305990329306939, 0.12283027634699667, 0.1225901163102102, 0.12233961435352365, 0.12207896480848626, 0.12180836500487494, 0.1215280151064272, 0.12123811794498844, 0.12093887885324708, 0.12063050549623558, 0.12031320770177428, 0.11998719729003857, 0.11965268790243064, 0.11930989482993734, 0.11895903484115784, 0.11860032601018428, 0.11823398754451998, 0.1178602396132189, 0.11747930317543158, 0.11709139980954052, 0.11669675154306956, 0.11629558068354984, 0.1158881096505234, 0.1154745608088676, 0.11505515630361661, 0.11463011789646058, 0.11419966680409663, 0.1137640235386073, 0.11332340775003538, 0.11287803807132762, 0.11242813196581056, 0.1119739055773643, 0.11151557358345197, 0.11105334905116444, 0.11058744329643092, 0.11011806574654621, 0.1096454238061594, 0.10916972272686526, 0.10869116548053455, 0.10820995263651599, 0.10772628224283595, 0.10724034971151869, 0.10675234770814442, 0.10626246604575577, 0.10577089158321994, 0.10527780812814543, 0.10478339634444962, 0.10428783366466501, 0.10379129420706525, 0.10329394869769047, 0.10279596439733779, 0.10229750503358384, 0.10179873073789385, 0.10129979798786803, 0.10080085955466928, 0.1003020644556678, 0.09980355791233218, 0.09930548131339023, 0.09880797218327478, 0.0983111641558623, 0.09781518695350691, 0.09732016637136275, 0.09682622426698309, 0.09633347855517493, 0.09584204320808286, 0.09535202826046764, 0.09486353982013798, 0.09437668008348746, 0.09389154735608136, 0.09340823607823055, 0.09292683685548404, 0.09244743649396432, 0.09197011804046211, 0.09149496082720289, 0.09102204052118815, 0.09055142917801083, 0.09008319530003617, 0.0896174038988339, 0.08915411656174226, 0.0886933915224377, 0.08823528373537923, 0.08777984495399051, 0.08732712381243833, 0.08687716591086019, 0.08643001390388945, 0.08598570759232205, 0.08554428401776423, 0.0851057775600963, 0.08467022003758413, 0.08423764080946652, 0.08380806688084168, 0.08338152300967576, 0.08295803181575045, 0.08253761389136559, 0.0821202879136112, 0.08170607075801893, 0.08129497761340321, 0.08088702209769999, 0.0804822163746098, 0.08008057127085086, 0.0796820963938276, 0.0792868002495191, 0.07889469036039234, 0.07850577338314524, 0.07812005522608477, 0.07773754116594615, 0.07735823596396092, 0.07698214398098209, 0.07660926929147688, 0.07623961579619924, 0.07587318733335677, 0.07550998778808876, 0.07515002120007565, 0.07479329186910176, 0.07443980445839872, 0.07408956409559826, 0.07374257647112842, 0.07339884793389069, 0.0730583855840604, 0.0727211973628563, 0.07238729213913102, 0.07205667979263945, 0.07172937129384527, 0.07140537878013414, 0.07108471562830526, 0.07076739652322075, 0.07045343752249679, 0.0701428561171275, 0.06983567128793927, 0.06953190355777825, 0.06923157503934231, 0.06893470947857422, 0.06864133229353964, 0.06835147060872199, 0.06806515328467157, 0.06778241094295451, 0.06750327598635476, 0.0672277826142883, 0.06695596683339773, 0.0666878664633022, 0.06642352113748433, 0.06616297229930485, 0.06590626319314224, 0.06565343885066177, 0.0654045460722272, 0.06515963340347453, 0.0649187511070753, 0.06468195112972432, 0.06444928706439365, 0.06422081410790274, 0.06399658901386059, 0.063776670041044, 0.06356111689728243, 0.06334999067892688, 0.06314335380598705, 0.06294126995302779, 0.06274380397592187, 0.06255102183456301, 0.06236299051164878, 0.06217977792764918, 0.06200145285208271, 0.061828084811226675, 0.06165974399239514, 0.06149650114492152, 0.06133842747798937, 0.06118559455545866, 0.061038074187840206, 0.06089593832157428, 0.0607592589257745, 0.06062810787660163, 0.06050255683943519, 0.06038267714901461, 0.060268539687724505, 0.06016021476220186, 0.06005777197844494, 0.05996128011560633, 0.059870806998655254, 0.05978641937009468, 0.059708182760921547, 0.05963616136101906, 0.05957041788917134, 0.059511013462890616, 0.05945800746824918, 0.05941145742990633, 0.05937141888152269, 0.059337945236751684, 0.05931108766099951, 0.05929089494414218, 0.059277413374388, 0.05927068661347224, 0.05927075557336912, 0.05927765829470385, 0.059291429827046056, 0.05931210211126239, 0.059339703864104684, 0.0593742604652061, 0.059415793846654845, 0.05946432238531204, 0.05951986079803608, 0.05958242003997247, 0.05965200720606388, 0.05972862543593143, 0.059812273822272305, 0.05990294732291678, 0.06000063667668014, 0.06010532832314196, 0.060217004326479494, 0.06033564230347619, 0.06046121535582201, 0.060593692006815164, 0.060733036142570716, 0.060879206957834914, 0.06103215890649787, 0.061191841656891864, 0.061358200051956115, 0.06153117407434262, 0.061710698816531316, 0.06189670445601653, 0.06208911623562034, 0.062287854448981904, 0.06249283443126489, 0.06270396655511966, 0.06292115623192882, 0.0631443039183594, 0.06337330512823786, 0.06360805044975673, 0.0638484255680169, 0.0640943112929012, 0.06434558359226894, 0.06460211363045552, 0.06486376781205291, 0.06513040783094202, 0.06540189072454104, 0.0656780689332267, 0.06595879036488085, 0.06624389846450708, 0.06653323228885714, 0.06682662658599979, 0.06712391187976038, 0.06742491455895255, 0.06772945697131773, 0.06803735752208388, 0.06834843077704807, 0.06866248757008327, 0.06897933511496392, 0.0692987771214007, 0.06962061391516924, 0.06994464256221361, 0.07027065699660037, 0.07059844815219528, 0.07092780409792995, 0.07125851017652218, 0.07159034914650994, 0.07192310132745525, 0.07225654474817039, 0.0725904552978167, 0.07292460687972199, 0.07325877156776046, 0.07359271976513633, 0.07392622036540919, 0.07425904091559847, 0.07459094778120012, 0.07492170631294881, 0.07525108101515594, 0.07557883571545307, 0.07590473373576846, 0.0762285380643645, 0.07655001152876112, 0.07686891696937198, 0.07718501741367752, 0.07749807625076036, 0.07780785740602779, 0.07811412551594644, 0.07841664610261416, 0.07871518574799596, 0.07900951226764966, 0.0792993948837697, 0.07958460439737783, 0.07986491335949061, 0.08014009624109561, 0.08040992960176964, 0.08067419225677427, 0.0809326654424661, 0.081185132979861, 0.08143138143619491, 0.08167120028432462, 0.08190438205981725, 0.08213072251557733, 0.0823500207738649, 0.08256207947556177, 0.08276670492654427, 0.08296370724102699, 0.08315290048174308, 0.08333410279683266, 0.08350713655331256, 0.08367182846700681, 0.08382800972881939, 0.08397551612723644, 0.08411418816694854, 0.08424387118348838, 0.08436441545378394, 0.08447567630253108, 0.08457751420429528, 0.08466979488125552, 0.08475238939650977, 0.08482517424286513, 0.08488803142704118, 0.08494084854921961, 0.08498351887787985, 0.08501594141986256, 0.08503802098561102, 0.08504966824954348, 0.08505079980551629, 0.08504133821734064, 0.08502121206432399, 0.08499035598180947, 0.08494871069669378, 0.08489622305790814, 0.08483284606185322, 0.0847585388727824, 0.08467326683813473, 0.08457700149882323, 0.08446972059448853, 0.08435140806373438, 0.0842220540393659, 0.08408165483865548, 0.08393021294866808, 0.08376773700668057, 0.08359424177573603, 0.08340974811537753, 0.08321428294761135, 0.08300787921815352, 0.0827905758530186, 0.08256241771051372, 0.08232345552870461, 0.08207374586842606, 0.08181335105191152, 0.08154233909712215, 0.08126078364785767, 0.08096876389973756, 0.08066636452214239, 0.08035367557620975, 0.08003079242898307, 0.07969781566381369, 0.07935485098712057, 0.07900200913161483, 0.0786394057560989, 0.0782671613419533, 0.0778854010864262, 0.07749425479284328, 0.0770938567578587, 0.07668434565586839, 0.07626586442071094, 0.07583856012478131, 0.0754025838556859, 0.07495809059056775, 0.07450523906823295, 0.07404419165921058, 0.07357511423387857, 0.07309817602879051, 0.07261354951133726, 0.07212141024288, 0.07162193674048972, 0.07111531033743031, 0.07060171504252134, 0.0700813373985171, 0.06955436633963849, 0.06902099304839424, 0.06848141081182645, 0.06793581487731636, 0.06738440230808486, 0.06682737183852064, 0.06626492372946957, 0.0656972596236164, 0.06512458240108888, 0.06454709603541374, 0.06396500544995105, 0.06337851637493376, 0.06278783520523519, 0.06219316885898706, 0.06159472463716814, 0.060992710084281074, 0.06038733285023289, 0.059778800553532775, 0.059167320645917586, 0.05855310027851341, 0.057936346169638504, 0.05731726447435083, 0.05669606065583942, 0.05607293935875719, 0.05544810428458901, 0.05482175806914563, 0.05419410216227146, 0.05356533670985091, 0.05293566043819389, 0.05230527054087907, 0.05167436256812875, 0.05104313031878683, 0.05041176573496716, 0.0497804587994363, 0.04914939743579127, 0.04851876741148901, 0.04788875224378061, 0.047259533108600565, 0.046631288752455896, 0.046004195407358506, 0.045378426708838716, 0.044754153617075, 0.0441315443411713, 0.0435107642666095, 0.04289197588590093, 0.04227533873245724, 0.04166100931769724, 0.04104914107140317, 0.04043988428533552, 0.03983338606011267, 0.03922979025535808, 0.03862923744311363, 0.038031864864515486, 0.037437806389724305, 0.03684719248109925, 0.036260150159601434, 0.0356768029744097, 0.035097270975728026, 0.03452167069076132, 0.03395011510283305, 0.03338271363361544, 0.032819572128439896, 0.032260792844653, 0.031706474442980234, 0.031156711981857467, 0.030611596914687476, 0.030071217089976388, 0.029535656754302666, 0.029004996558069193, 0.028479313563986444, 0.02795868125823312, 0.02744316956423848, 0.026932844859028734, 0.026427769992078284, 0.02592800430660469, 0.0254336036632448, 0.024944620466048305, 0.02446110369072298, 0.023983098915065403, 0.02351064835150909, 0.02304379088172141, 0.02258256209317945, 0.02212699431765437, 0.0216771166715325, 0.021232955097901806, 0.02079453241033041, 0.02036186833826473, 0.01993497957397357, 0.019513879820964492, 0.019098579843798733, 0.018689087519230728, 0.01828540788859823, 0.01788754321138942, 0.01749549301991306, 0.01710925417499871, 0.016728820922653733, 0.01635418495160458, 0.015985335451650387, 0.01562225917275732, 0.015264940484822938, 0.014913361438040462, 0.014567501823793825, 0.014227339236014958, 0.013892849132936081, 0.013564004899170368, 0.013240777908055928, 0.012923137584198566, 0.01261105146615051, 0.012304485269163166, 0.012003402947953355, 0.011707766759424027, 0.01141753732528127, 0.011132673694491545, 0.010853133405523905, 0.01057887254832388, 0.010309845825966911, 0.010046006615941128, 0.009787307031010365, 0.009533697979610345, 0.009285129225732363, 0.009041549448250455, 0.008802906299649768, 0.008569146464115412, 0.008340215714942825, 0.008116058971232487, 0.007896620353833182, 0.007681843240500011, 0.007471670320235074, 0.007266043646780005, 0.007064904691231964, 0.006868194393755588, 0.006675853214365675, 0.0064878211827568465, 0.0063040379471578705, 0.006124442822190385, 0.005948974835713148, 0.00577757277463435, 0.005610175229676665, 0.005446720639080704, 0.005287147331234479, 0.005131393566217632, 0.004979397576251272, 0.004831097605044889, 0.004686431946034052, 0.004545338979503501, 0.004407757208591792, 0.004273625294174964, 0.00414288208862801, 0.004015466668464228, 0.003891318365853678, 0.0037703767990232956, 0.0036525819015422577, 0.003537873950497415, 0.0034261935935645895, 0.003317481874982744, 0.003211680260438781, 0.003108730660872081, 0.0030085754552083583, 0.0029111575120337103, 0.0028164202102203884, 0.0027243074585165633, 0.0026347637141133948, 0.0025477340002031195, 0.002463163922542838, 0.002380999685039156, 0.0023011881043695608, 0.002223676623656874, 0.0021484133252138164, 0.002075346942375064, 0.002004426870434712]}],\n",
       "                        {\"height\": 500, \"legend\": {\"font\": {\"color\": \"#ffffff\"}}, \"paper_bgcolor\": \"#22252B\", \"plot_bgcolor\": \"#292C34\", \"showlegend\": true, \"template\": {\"data\": {\"bar\": [{\"error_x\": {\"color\": \"#2a3f5f\"}, \"error_y\": {\"color\": \"#2a3f5f\"}, \"marker\": {\"line\": {\"color\": \"#E5ECF6\", \"width\": 0.5}}, \"type\": \"bar\"}], \"barpolar\": [{\"marker\": {\"line\": {\"color\": \"#E5ECF6\", \"width\": 0.5}}, \"type\": \"barpolar\"}], \"carpet\": [{\"aaxis\": {\"endlinecolor\": \"#2a3f5f\", \"gridcolor\": \"white\", \"linecolor\": \"white\", \"minorgridcolor\": \"white\", \"startlinecolor\": \"#2a3f5f\"}, \"baxis\": {\"endlinecolor\": \"#2a3f5f\", \"gridcolor\": \"white\", \"linecolor\": \"white\", \"minorgridcolor\": \"white\", \"startlinecolor\": \"#2a3f5f\"}, \"type\": \"carpet\"}], \"choropleth\": [{\"colorbar\": {\"outlinewidth\": 0, \"ticks\": \"\"}, \"type\": \"choropleth\"}], \"contour\": [{\"colorbar\": {\"outlinewidth\": 0, \"ticks\": \"\"}, \"colorscale\": [[0.0, \"#0d0887\"], [0.1111111111111111, \"#46039f\"], [0.2222222222222222, \"#7201a8\"], [0.3333333333333333, \"#9c179e\"], [0.4444444444444444, \"#bd3786\"], [0.5555555555555556, \"#d8576b\"], [0.6666666666666666, \"#ed7953\"], [0.7777777777777778, \"#fb9f3a\"], [0.8888888888888888, \"#fdca26\"], [1.0, \"#f0f921\"]], \"type\": \"contour\"}], \"contourcarpet\": [{\"colorbar\": {\"outlinewidth\": 0, \"ticks\": \"\"}, \"type\": \"contourcarpet\"}], \"heatmap\": [{\"colorbar\": {\"outlinewidth\": 0, \"ticks\": \"\"}, \"colorscale\": [[0.0, \"#0d0887\"], [0.1111111111111111, \"#46039f\"], [0.2222222222222222, \"#7201a8\"], [0.3333333333333333, \"#9c179e\"], [0.4444444444444444, \"#bd3786\"], [0.5555555555555556, \"#d8576b\"], [0.6666666666666666, \"#ed7953\"], [0.7777777777777778, \"#fb9f3a\"], [0.8888888888888888, \"#fdca26\"], [1.0, \"#f0f921\"]], \"type\": \"heatmap\"}], \"heatmapgl\": [{\"colorbar\": {\"outlinewidth\": 0, \"ticks\": \"\"}, \"colorscale\": [[0.0, \"#0d0887\"], [0.1111111111111111, \"#46039f\"], [0.2222222222222222, \"#7201a8\"], [0.3333333333333333, \"#9c179e\"], [0.4444444444444444, \"#bd3786\"], [0.5555555555555556, \"#d8576b\"], [0.6666666666666666, \"#ed7953\"], [0.7777777777777778, \"#fb9f3a\"], [0.8888888888888888, \"#fdca26\"], [1.0, \"#f0f921\"]], \"type\": \"heatmapgl\"}], \"histogram\": [{\"marker\": {\"colorbar\": {\"outlinewidth\": 0, \"ticks\": \"\"}}, \"type\": \"histogram\"}], \"histogram2d\": [{\"colorbar\": {\"outlinewidth\": 0, \"ticks\": \"\"}, \"colorscale\": [[0.0, \"#0d0887\"], [0.1111111111111111, \"#46039f\"], [0.2222222222222222, \"#7201a8\"], [0.3333333333333333, \"#9c179e\"], [0.4444444444444444, \"#bd3786\"], [0.5555555555555556, \"#d8576b\"], [0.6666666666666666, \"#ed7953\"], [0.7777777777777778, \"#fb9f3a\"], [0.8888888888888888, \"#fdca26\"], [1.0, \"#f0f921\"]], \"type\": \"histogram2d\"}], \"histogram2dcontour\": [{\"colorbar\": {\"outlinewidth\": 0, \"ticks\": \"\"}, \"colorscale\": [[0.0, \"#0d0887\"], [0.1111111111111111, \"#46039f\"], [0.2222222222222222, \"#7201a8\"], [0.3333333333333333, \"#9c179e\"], [0.4444444444444444, \"#bd3786\"], [0.5555555555555556, \"#d8576b\"], [0.6666666666666666, \"#ed7953\"], [0.7777777777777778, \"#fb9f3a\"], [0.8888888888888888, \"#fdca26\"], [1.0, \"#f0f921\"]], \"type\": \"histogram2dcontour\"}], \"mesh3d\": [{\"colorbar\": {\"outlinewidth\": 0, \"ticks\": \"\"}, \"type\": \"mesh3d\"}], \"parcoords\": [{\"line\": {\"colorbar\": {\"outlinewidth\": 0, \"ticks\": \"\"}}, \"type\": \"parcoords\"}], \"scatter\": [{\"marker\": {\"colorbar\": {\"outlinewidth\": 0, \"ticks\": \"\"}}, \"type\": \"scatter\"}], \"scatter3d\": [{\"line\": {\"colorbar\": {\"outlinewidth\": 0, \"ticks\": \"\"}}, \"marker\": {\"colorbar\": {\"outlinewidth\": 0, \"ticks\": \"\"}}, \"type\": \"scatter3d\"}], \"scattercarpet\": [{\"marker\": {\"colorbar\": {\"outlinewidth\": 0, \"ticks\": \"\"}}, \"type\": \"scattercarpet\"}], \"scattergeo\": [{\"marker\": {\"colorbar\": {\"outlinewidth\": 0, \"ticks\": \"\"}}, \"type\": \"scattergeo\"}], \"scattergl\": [{\"marker\": {\"colorbar\": {\"outlinewidth\": 0, \"ticks\": \"\"}}, \"type\": \"scattergl\"}], \"scattermapbox\": [{\"marker\": {\"colorbar\": {\"outlinewidth\": 0, \"ticks\": \"\"}}, \"type\": \"scattermapbox\"}], \"scatterpolar\": [{\"marker\": {\"colorbar\": {\"outlinewidth\": 0, \"ticks\": \"\"}}, \"type\": \"scatterpolar\"}], \"scatterpolargl\": [{\"marker\": {\"colorbar\": {\"outlinewidth\": 0, \"ticks\": \"\"}}, \"type\": \"scatterpolargl\"}], \"scatterternary\": [{\"marker\": {\"colorbar\": {\"outlinewidth\": 0, \"ticks\": \"\"}}, \"type\": \"scatterternary\"}], \"surface\": [{\"colorbar\": {\"outlinewidth\": 0, \"ticks\": \"\"}, \"colorscale\": [[0.0, \"#0d0887\"], [0.1111111111111111, \"#46039f\"], [0.2222222222222222, \"#7201a8\"], [0.3333333333333333, \"#9c179e\"], [0.4444444444444444, \"#bd3786\"], [0.5555555555555556, \"#d8576b\"], [0.6666666666666666, \"#ed7953\"], [0.7777777777777778, \"#fb9f3a\"], [0.8888888888888888, \"#fdca26\"], [1.0, \"#f0f921\"]], \"type\": \"surface\"}], \"table\": [{\"cells\": {\"fill\": {\"color\": \"#EBF0F8\"}, \"line\": {\"color\": \"white\"}}, \"header\": {\"fill\": {\"color\": \"#C8D4E3\"}, \"line\": {\"color\": \"white\"}}, \"type\": \"table\"}]}, \"layout\": {\"annotationdefaults\": {\"arrowcolor\": \"#2a3f5f\", \"arrowhead\": 0, \"arrowwidth\": 1}, \"colorscale\": {\"diverging\": [[0, \"#8e0152\"], [0.1, \"#c51b7d\"], [0.2, \"#de77ae\"], [0.3, \"#f1b6da\"], [0.4, \"#fde0ef\"], [0.5, \"#f7f7f7\"], [0.6, \"#e6f5d0\"], [0.7, \"#b8e186\"], [0.8, \"#7fbc41\"], [0.9, \"#4d9221\"], [1, \"#276419\"]], \"sequential\": [[0.0, \"#0d0887\"], [0.1111111111111111, \"#46039f\"], [0.2222222222222222, \"#7201a8\"], [0.3333333333333333, \"#9c179e\"], [0.4444444444444444, \"#bd3786\"], [0.5555555555555556, \"#d8576b\"], [0.6666666666666666, \"#ed7953\"], [0.7777777777777778, \"#fb9f3a\"], [0.8888888888888888, \"#fdca26\"], [1.0, \"#f0f921\"]], \"sequentialminus\": [[0.0, \"#0d0887\"], [0.1111111111111111, \"#46039f\"], [0.2222222222222222, \"#7201a8\"], [0.3333333333333333, \"#9c179e\"], [0.4444444444444444, \"#bd3786\"], [0.5555555555555556, \"#d8576b\"], [0.6666666666666666, \"#ed7953\"], [0.7777777777777778, \"#fb9f3a\"], [0.8888888888888888, \"#fdca26\"], [1.0, \"#f0f921\"]]}, \"colorway\": [\"#636efa\", \"#EF553B\", \"#00cc96\", \"#ab63fa\", \"#FFA15A\", \"#19d3f3\", \"#FF6692\", \"#B6E880\", \"#FF97FF\", \"#FECB52\"], \"font\": {\"color\": \"#2a3f5f\"}, \"geo\": {\"bgcolor\": \"white\", \"lakecolor\": \"white\", \"landcolor\": \"#E5ECF6\", \"showlakes\": true, \"showland\": true, \"subunitcolor\": \"white\"}, \"hoverlabel\": {\"align\": \"left\"}, \"hovermode\": \"closest\", \"mapbox\": {\"style\": \"light\"}, \"paper_bgcolor\": \"white\", \"plot_bgcolor\": \"#E5ECF6\", \"polar\": {\"angularaxis\": {\"gridcolor\": \"white\", \"linecolor\": \"white\", \"ticks\": \"\"}, \"bgcolor\": \"#E5ECF6\", \"radialaxis\": {\"gridcolor\": \"white\", \"linecolor\": \"white\", \"ticks\": \"\"}}, \"scene\": {\"xaxis\": {\"backgroundcolor\": \"#E5ECF6\", \"gridcolor\": \"white\", \"gridwidth\": 2, \"linecolor\": \"white\", \"showbackground\": true, \"ticks\": \"\", \"zerolinecolor\": \"white\"}, \"yaxis\": {\"backgroundcolor\": \"#E5ECF6\", \"gridcolor\": \"white\", \"gridwidth\": 2, \"linecolor\": \"white\", \"showbackground\": true, \"ticks\": \"\", \"zerolinecolor\": \"white\"}, \"zaxis\": {\"backgroundcolor\": \"#E5ECF6\", \"gridcolor\": \"white\", \"gridwidth\": 2, \"linecolor\": \"white\", \"showbackground\": true, \"ticks\": \"\", \"zerolinecolor\": \"white\"}}, \"shapedefaults\": {\"line\": {\"color\": \"#2a3f5f\"}}, \"ternary\": {\"aaxis\": {\"gridcolor\": \"white\", \"linecolor\": \"white\", \"ticks\": \"\"}, \"baxis\": {\"gridcolor\": \"white\", \"linecolor\": \"white\", \"ticks\": \"\"}, \"bgcolor\": \"#E5ECF6\", \"caxis\": {\"gridcolor\": \"white\", \"linecolor\": \"white\", \"ticks\": \"\"}}, \"title\": {\"x\": 0.05}, \"xaxis\": {\"automargin\": true, \"gridcolor\": \"white\", \"linecolor\": \"white\", \"ticks\": \"\", \"zerolinecolor\": \"white\", \"zerolinewidth\": 2}, \"yaxis\": {\"automargin\": true, \"gridcolor\": \"white\", \"linecolor\": \"white\", \"ticks\": \"\", \"zerolinecolor\": \"white\", \"zerolinewidth\": 2}}}, \"title\": {\"font\": {\"color\": \"#9398A4\"}, \"text\": \"Gaussian\"}, \"width\": 500, \"xaxis\": {\"gridcolor\": \"#3F434F\", \"tickfont\": {\"color\": \"#ffffff\"}, \"title\": {\"font\": {\"color\": \"#ffffff\"}}, \"zeroline\": false}, \"yaxis\": {\"gridcolor\": \"#3F434F\", \"tickfont\": {\"color\": \"#ffffff\"}, \"title\": {\"font\": {\"color\": \"#ffffff\"}}, \"zeroline\": false}},\n",
       "                        {\"responsive\": true}\n",
       "                    ).then(function(){\n",
       "                            \n",
       "var gd = document.getElementById('17d12598-d2a0-49d2-ac82-50e17b9d0aca');\n",
       "var x = new MutationObserver(function (mutations, observer) {{\n",
       "        var display = window.getComputedStyle(gd).display;\n",
       "        if (!display || display === 'none') {{\n",
       "            console.log([gd, 'removed!']);\n",
       "            Plotly.purge(gd);\n",
       "            observer.disconnect();\n",
       "        }}\n",
       "}});\n",
       "\n",
       "// Listen for the removal of the full notebook cells\n",
       "var notebookContainer = gd.closest('#notebook-container');\n",
       "if (notebookContainer) {{\n",
       "    x.observe(notebookContainer, {childList: true});\n",
       "}}\n",
       "\n",
       "// Listen for the clearing of the current output cell\n",
       "var outputEl = gd.closest('.output');\n",
       "if (outputEl) {{\n",
       "    x.observe(outputEl, {childList: true});\n",
       "}}\n",
       "\n",
       "                        })\n",
       "                };\n",
       "                });\n",
       "            </script>\n",
       "        </div>"
      ]
     },
     "metadata": {},
     "output_type": "display_data"
    }
   ],
   "source": [
    "fig = go.Figure(scatter(X_plot[:,0], np.exp(log_dens), 'Points'))\n",
    "render(fig, 'Gaussian')"
   ]
  },
  {
   "cell_type": "code",
   "execution_count": null,
   "metadata": {},
   "outputs": [],
   "source": []
  }
 ],
 "metadata": {
  "kernelspec": {
   "display_name": "Python 3",
   "language": "python",
   "name": "python3"
  },
  "language_info": {
   "codemirror_mode": {
    "name": "ipython",
    "version": 3
   },
   "file_extension": ".py",
   "mimetype": "text/x-python",
   "name": "python",
   "nbconvert_exporter": "python",
   "pygments_lexer": "ipython3",
   "version": "3.7.3"
  }
 },
 "nbformat": 4,
 "nbformat_minor": 4
}
