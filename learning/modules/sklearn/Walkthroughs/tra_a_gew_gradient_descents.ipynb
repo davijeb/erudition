{
 "cells": [
  {
   "cell_type": "markdown",
   "metadata": {},
   "source": [
    "# Collection of Gradient Descent Methods"
   ]
  },
  {
   "cell_type": "code",
   "execution_count": 61,
   "metadata": {},
   "outputs": [],
   "source": [
    "from sklearn.linear_model import SGDRegressor\n",
    "from sklearn.preprocessing import StandardScaler\n",
    "from sklearn.datasets import make_regression\n",
    "from sklearn.model_selection import train_test_split\n",
    "from sklearn.metrics import accuracy_score\n",
    "\n",
    "import numpy as np\n",
    "import pandas as pd\n",
    "from sklearn.decomposition import PCA\n",
    "import os, sys, plotly.graph_objects as go\n",
    "module_path = os.path.abspath(os.path.join('../../../../..'))\n",
    "if module_path not in sys.path:\n",
    "    sys.path.append(module_path) \n",
    "from erudition.learning.helpers.plots.plotly_render import render, scatter, bar, shape_rect"
   ]
  },
  {
   "cell_type": "markdown",
   "metadata": {},
   "source": [
    "# Stochastic Gradient Descent\n",
    "\n",
    "$$J(\\mathbf w) = \\frac {1}{2} \\sum_{i=1}^N \\left( y^{(i)}-\\phi (\\mathbf w^T \\mathbf x)^{(i)} \\right )^2$$"
   ]
  },
  {
   "cell_type": "code",
   "execution_count": 42,
   "metadata": {},
   "outputs": [
    {
     "data": {
      "application/vnd.plotly.v1+json": {
       "config": {
        "plotlyServerURL": "https://plot.ly"
       },
       "data": [
        {
         "marker": {
          "color": "yellow",
          "size": 5
         },
         "mode": "markers",
         "name": "data",
         "opacity": 0.5,
         "type": "scatter",
         "x": [
          -0.07444591576616721,
          1.9094166404701305,
          -2.123895724309807,
          -0.7673475628880495,
          -2.0392321777601006,
          -1.4785862457798415,
          -1.867265192591748,
          1.669021525289393,
          1.5231240772696573,
          -0.03275327021599839,
          -0.8604133652839524,
          -1.7033824393551547,
          0.6116762888408679,
          -0.8222203955664315,
          -0.7904744554453119,
          -0.7153037092599682,
          -1.0121043752601675,
          0.47897982574639186,
          1.1581108735000678,
          -1.1913034972026486,
          -0.5297602037670388,
          1.5327389130025777,
          1.4412732890661155,
          0.6453759495851475,
          -0.9080240755212109,
          -1.5506634310661327,
          -0.3220615162056756,
          -0.3427145165267695,
          0.08658978747289992,
          -0.6771617115121117,
          -0.5769036556624031,
          0.6141667000434252,
          -0.013497224737933921,
          -0.4325581878196209,
          -0.3609661658190799,
          -0.12578692009964815,
          0.5049872789804571,
          1.0915068519224618,
          0.11567463429285867,
          -2.6197451040897444,
          -1.4074637743765552,
          -0.9043166251044086,
          -0.01901620790268883,
          0.40498171096095553,
          -0.23415337472333597,
          0.8128621188389601,
          -0.46572975357025687,
          -0.13014305436768459,
          -1.245738778711988,
          0.25988279424842353,
          1.4415686206579004,
          1.3668742674445247,
          0.6696725488300385,
          1.0035328978920242,
          -0.4606387709597875,
          -1.1105758454658288,
          0.8254163489880298,
          0.3571125715117464,
          -0.12791759148076653,
          0.24822058630033608,
          -0.9857260463355437,
          0.19686123586912352,
          -0.3152692446403456,
          -1.7131345290908775,
          0.47323762457354485,
          1.6764373122752827,
          -0.6626237589458467,
          -0.03471176970524331,
          0.6339190223180112,
          -1.251113576385303,
          2.1330333746562666,
          -0.4930009346588328,
          -1.4018510627922809,
          -1.081548003614395,
          1.2669111491866227,
          0.3577873603482833,
          0.046980593764742055,
          2.720169166589619,
          0.11092258970986608,
          0.3464482094969757,
          0.04852162794482699,
          -0.0771017094141042,
          -1.1978778925888485,
          -0.6002168771587947,
          0.48937456122791806,
          -1.4635149481321186,
          -1.1254890472983765,
          -0.23093453020867796,
          -0.773789199103573,
          0.7116148780888898,
          0.5137859509122088,
          0.755391225825756,
          1.2012139221639448,
          0.4127809269364983,
          0.3773004930448522,
          0.117327383308782,
          0.09767609854883172,
          -0.47917423784528995,
          0.05921843401448826,
          -1.0243876413342898
         ],
         "y": [
          54.32528929119836,
          64.16297945199956,
          -80.01509618623743,
          186.48246986595709,
          -81.10497089318326,
          -7.89275105715447,
          -138.42438163062678,
          -86.70234709930686,
          58.85600550191921,
          -85.38097662525904,
          -60.19739611322211,
          37.12316446454897,
          -46.86294370241792,
          -115.87037055592224,
          138.17298117375861,
          -110.20134735299598,
          -159.1007906111916,
          124.30928843582916,
          60.97490438778002,
          -47.623988961703375,
          -58.464167915754786,
          98.32788145491567,
          197.2901608083108,
          273.4448654764099,
          -174.54636242800768,
          -272.8597159114368,
          -56.27256131983826,
          -112.09324758852233,
          100.7526811120128,
          7.534774552472136,
          81.30031473806937,
          -37.73970130794411,
          17.839427663394446,
          -38.097342707523225,
          -54.84964519973076,
          175.9641906034714,
          -71.77543519984174,
          -93.23001595898734,
          197.93555041836822,
          13.416752512930039,
          -222.1664268513502,
          -332.02885176490713,
          62.869950477052804,
          53.900427337960814,
          188.97639034384372,
          53.62407379007998,
          -97.25717090772365,
          61.35107616426764,
          -153.5903353884172,
          -12.323066254137018,
          -58.682094765005985,
          -64.48157621912992,
          -134.48796502842038,
          -8.892615674197089,
          -62.840876773021364,
          -66.94099711642377,
          225.8958521581551,
          -52.859229548296284,
          46.72049325908096,
          2.7901530471478306,
          -121.34271720563476,
          -151.81425344624284,
          88.46377363460054,
          -104.51803874022416,
          -76.6046031983646,
          -60.72418675274223,
          -60.33114658192635,
          133.53273271921162,
          78.52261757161313,
          14.351709394978165,
          90.16811062065783,
          41.767372297803995,
          187.87451391382376,
          -34.25750214709374,
          234.47974887567875,
          -5.132283962834418,
          60.91783246715458,
          219.5639320423242,
          -74.63591023962854,
          -56.165744141689956,
          -120.54031990268493,
          -78.011494272894,
          -132.19163638936197,
          -70.77564594672918,
          120.03301994531533,
          -30.363407574624773,
          161.03872692947684,
          18.997837996103073,
          9.349730433799017,
          -153.37798737083733,
          318.88025554725635,
          -60.714111753885824,
          37.607122750901226,
          284.0215893618492,
          -108.16953612631164,
          -0.9545661851009406,
          35.566561198543646,
          -135.85028575047988,
          154.26515725620618,
          -238.09458657627673
         ]
        }
       ],
       "layout": {
        "height": 500,
        "legend": {
         "font": {
          "color": "#ffffff"
         }
        },
        "paper_bgcolor": "#22252B",
        "plot_bgcolor": "#292C34",
        "showlegend": true,
        "template": {
         "data": {
          "bar": [
           {
            "error_x": {
             "color": "#2a3f5f"
            },
            "error_y": {
             "color": "#2a3f5f"
            },
            "marker": {
             "line": {
              "color": "#E5ECF6",
              "width": 0.5
             }
            },
            "type": "bar"
           }
          ],
          "barpolar": [
           {
            "marker": {
             "line": {
              "color": "#E5ECF6",
              "width": 0.5
             }
            },
            "type": "barpolar"
           }
          ],
          "carpet": [
           {
            "aaxis": {
             "endlinecolor": "#2a3f5f",
             "gridcolor": "white",
             "linecolor": "white",
             "minorgridcolor": "white",
             "startlinecolor": "#2a3f5f"
            },
            "baxis": {
             "endlinecolor": "#2a3f5f",
             "gridcolor": "white",
             "linecolor": "white",
             "minorgridcolor": "white",
             "startlinecolor": "#2a3f5f"
            },
            "type": "carpet"
           }
          ],
          "choropleth": [
           {
            "colorbar": {
             "outlinewidth": 0,
             "ticks": ""
            },
            "type": "choropleth"
           }
          ],
          "contour": [
           {
            "colorbar": {
             "outlinewidth": 0,
             "ticks": ""
            },
            "colorscale": [
             [
              0,
              "#0d0887"
             ],
             [
              0.1111111111111111,
              "#46039f"
             ],
             [
              0.2222222222222222,
              "#7201a8"
             ],
             [
              0.3333333333333333,
              "#9c179e"
             ],
             [
              0.4444444444444444,
              "#bd3786"
             ],
             [
              0.5555555555555556,
              "#d8576b"
             ],
             [
              0.6666666666666666,
              "#ed7953"
             ],
             [
              0.7777777777777778,
              "#fb9f3a"
             ],
             [
              0.8888888888888888,
              "#fdca26"
             ],
             [
              1,
              "#f0f921"
             ]
            ],
            "type": "contour"
           }
          ],
          "contourcarpet": [
           {
            "colorbar": {
             "outlinewidth": 0,
             "ticks": ""
            },
            "type": "contourcarpet"
           }
          ],
          "heatmap": [
           {
            "colorbar": {
             "outlinewidth": 0,
             "ticks": ""
            },
            "colorscale": [
             [
              0,
              "#0d0887"
             ],
             [
              0.1111111111111111,
              "#46039f"
             ],
             [
              0.2222222222222222,
              "#7201a8"
             ],
             [
              0.3333333333333333,
              "#9c179e"
             ],
             [
              0.4444444444444444,
              "#bd3786"
             ],
             [
              0.5555555555555556,
              "#d8576b"
             ],
             [
              0.6666666666666666,
              "#ed7953"
             ],
             [
              0.7777777777777778,
              "#fb9f3a"
             ],
             [
              0.8888888888888888,
              "#fdca26"
             ],
             [
              1,
              "#f0f921"
             ]
            ],
            "type": "heatmap"
           }
          ],
          "heatmapgl": [
           {
            "colorbar": {
             "outlinewidth": 0,
             "ticks": ""
            },
            "colorscale": [
             [
              0,
              "#0d0887"
             ],
             [
              0.1111111111111111,
              "#46039f"
             ],
             [
              0.2222222222222222,
              "#7201a8"
             ],
             [
              0.3333333333333333,
              "#9c179e"
             ],
             [
              0.4444444444444444,
              "#bd3786"
             ],
             [
              0.5555555555555556,
              "#d8576b"
             ],
             [
              0.6666666666666666,
              "#ed7953"
             ],
             [
              0.7777777777777778,
              "#fb9f3a"
             ],
             [
              0.8888888888888888,
              "#fdca26"
             ],
             [
              1,
              "#f0f921"
             ]
            ],
            "type": "heatmapgl"
           }
          ],
          "histogram": [
           {
            "marker": {
             "colorbar": {
              "outlinewidth": 0,
              "ticks": ""
             }
            },
            "type": "histogram"
           }
          ],
          "histogram2d": [
           {
            "colorbar": {
             "outlinewidth": 0,
             "ticks": ""
            },
            "colorscale": [
             [
              0,
              "#0d0887"
             ],
             [
              0.1111111111111111,
              "#46039f"
             ],
             [
              0.2222222222222222,
              "#7201a8"
             ],
             [
              0.3333333333333333,
              "#9c179e"
             ],
             [
              0.4444444444444444,
              "#bd3786"
             ],
             [
              0.5555555555555556,
              "#d8576b"
             ],
             [
              0.6666666666666666,
              "#ed7953"
             ],
             [
              0.7777777777777778,
              "#fb9f3a"
             ],
             [
              0.8888888888888888,
              "#fdca26"
             ],
             [
              1,
              "#f0f921"
             ]
            ],
            "type": "histogram2d"
           }
          ],
          "histogram2dcontour": [
           {
            "colorbar": {
             "outlinewidth": 0,
             "ticks": ""
            },
            "colorscale": [
             [
              0,
              "#0d0887"
             ],
             [
              0.1111111111111111,
              "#46039f"
             ],
             [
              0.2222222222222222,
              "#7201a8"
             ],
             [
              0.3333333333333333,
              "#9c179e"
             ],
             [
              0.4444444444444444,
              "#bd3786"
             ],
             [
              0.5555555555555556,
              "#d8576b"
             ],
             [
              0.6666666666666666,
              "#ed7953"
             ],
             [
              0.7777777777777778,
              "#fb9f3a"
             ],
             [
              0.8888888888888888,
              "#fdca26"
             ],
             [
              1,
              "#f0f921"
             ]
            ],
            "type": "histogram2dcontour"
           }
          ],
          "mesh3d": [
           {
            "colorbar": {
             "outlinewidth": 0,
             "ticks": ""
            },
            "type": "mesh3d"
           }
          ],
          "parcoords": [
           {
            "line": {
             "colorbar": {
              "outlinewidth": 0,
              "ticks": ""
             }
            },
            "type": "parcoords"
           }
          ],
          "scatter": [
           {
            "marker": {
             "colorbar": {
              "outlinewidth": 0,
              "ticks": ""
             }
            },
            "type": "scatter"
           }
          ],
          "scatter3d": [
           {
            "line": {
             "colorbar": {
              "outlinewidth": 0,
              "ticks": ""
             }
            },
            "marker": {
             "colorbar": {
              "outlinewidth": 0,
              "ticks": ""
             }
            },
            "type": "scatter3d"
           }
          ],
          "scattercarpet": [
           {
            "marker": {
             "colorbar": {
              "outlinewidth": 0,
              "ticks": ""
             }
            },
            "type": "scattercarpet"
           }
          ],
          "scattergeo": [
           {
            "marker": {
             "colorbar": {
              "outlinewidth": 0,
              "ticks": ""
             }
            },
            "type": "scattergeo"
           }
          ],
          "scattergl": [
           {
            "marker": {
             "colorbar": {
              "outlinewidth": 0,
              "ticks": ""
             }
            },
            "type": "scattergl"
           }
          ],
          "scattermapbox": [
           {
            "marker": {
             "colorbar": {
              "outlinewidth": 0,
              "ticks": ""
             }
            },
            "type": "scattermapbox"
           }
          ],
          "scatterpolar": [
           {
            "marker": {
             "colorbar": {
              "outlinewidth": 0,
              "ticks": ""
             }
            },
            "type": "scatterpolar"
           }
          ],
          "scatterpolargl": [
           {
            "marker": {
             "colorbar": {
              "outlinewidth": 0,
              "ticks": ""
             }
            },
            "type": "scatterpolargl"
           }
          ],
          "scatterternary": [
           {
            "marker": {
             "colorbar": {
              "outlinewidth": 0,
              "ticks": ""
             }
            },
            "type": "scatterternary"
           }
          ],
          "surface": [
           {
            "colorbar": {
             "outlinewidth": 0,
             "ticks": ""
            },
            "colorscale": [
             [
              0,
              "#0d0887"
             ],
             [
              0.1111111111111111,
              "#46039f"
             ],
             [
              0.2222222222222222,
              "#7201a8"
             ],
             [
              0.3333333333333333,
              "#9c179e"
             ],
             [
              0.4444444444444444,
              "#bd3786"
             ],
             [
              0.5555555555555556,
              "#d8576b"
             ],
             [
              0.6666666666666666,
              "#ed7953"
             ],
             [
              0.7777777777777778,
              "#fb9f3a"
             ],
             [
              0.8888888888888888,
              "#fdca26"
             ],
             [
              1,
              "#f0f921"
             ]
            ],
            "type": "surface"
           }
          ],
          "table": [
           {
            "cells": {
             "fill": {
              "color": "#EBF0F8"
             },
             "line": {
              "color": "white"
             }
            },
            "header": {
             "fill": {
              "color": "#C8D4E3"
             },
             "line": {
              "color": "white"
             }
            },
            "type": "table"
           }
          ]
         },
         "layout": {
          "annotationdefaults": {
           "arrowcolor": "#2a3f5f",
           "arrowhead": 0,
           "arrowwidth": 1
          },
          "colorscale": {
           "diverging": [
            [
             0,
             "#8e0152"
            ],
            [
             0.1,
             "#c51b7d"
            ],
            [
             0.2,
             "#de77ae"
            ],
            [
             0.3,
             "#f1b6da"
            ],
            [
             0.4,
             "#fde0ef"
            ],
            [
             0.5,
             "#f7f7f7"
            ],
            [
             0.6,
             "#e6f5d0"
            ],
            [
             0.7,
             "#b8e186"
            ],
            [
             0.8,
             "#7fbc41"
            ],
            [
             0.9,
             "#4d9221"
            ],
            [
             1,
             "#276419"
            ]
           ],
           "sequential": [
            [
             0,
             "#0d0887"
            ],
            [
             0.1111111111111111,
             "#46039f"
            ],
            [
             0.2222222222222222,
             "#7201a8"
            ],
            [
             0.3333333333333333,
             "#9c179e"
            ],
            [
             0.4444444444444444,
             "#bd3786"
            ],
            [
             0.5555555555555556,
             "#d8576b"
            ],
            [
             0.6666666666666666,
             "#ed7953"
            ],
            [
             0.7777777777777778,
             "#fb9f3a"
            ],
            [
             0.8888888888888888,
             "#fdca26"
            ],
            [
             1,
             "#f0f921"
            ]
           ],
           "sequentialminus": [
            [
             0,
             "#0d0887"
            ],
            [
             0.1111111111111111,
             "#46039f"
            ],
            [
             0.2222222222222222,
             "#7201a8"
            ],
            [
             0.3333333333333333,
             "#9c179e"
            ],
            [
             0.4444444444444444,
             "#bd3786"
            ],
            [
             0.5555555555555556,
             "#d8576b"
            ],
            [
             0.6666666666666666,
             "#ed7953"
            ],
            [
             0.7777777777777778,
             "#fb9f3a"
            ],
            [
             0.8888888888888888,
             "#fdca26"
            ],
            [
             1,
             "#f0f921"
            ]
           ]
          },
          "colorway": [
           "#636efa",
           "#EF553B",
           "#00cc96",
           "#ab63fa",
           "#FFA15A",
           "#19d3f3",
           "#FF6692",
           "#B6E880",
           "#FF97FF",
           "#FECB52"
          ],
          "font": {
           "color": "#2a3f5f"
          },
          "geo": {
           "bgcolor": "white",
           "lakecolor": "white",
           "landcolor": "#E5ECF6",
           "showlakes": true,
           "showland": true,
           "subunitcolor": "white"
          },
          "hoverlabel": {
           "align": "left"
          },
          "hovermode": "closest",
          "mapbox": {
           "style": "light"
          },
          "paper_bgcolor": "white",
          "plot_bgcolor": "#E5ECF6",
          "polar": {
           "angularaxis": {
            "gridcolor": "white",
            "linecolor": "white",
            "ticks": ""
           },
           "bgcolor": "#E5ECF6",
           "radialaxis": {
            "gridcolor": "white",
            "linecolor": "white",
            "ticks": ""
           }
          },
          "scene": {
           "xaxis": {
            "backgroundcolor": "#E5ECF6",
            "gridcolor": "white",
            "gridwidth": 2,
            "linecolor": "white",
            "showbackground": true,
            "ticks": "",
            "zerolinecolor": "white"
           },
           "yaxis": {
            "backgroundcolor": "#E5ECF6",
            "gridcolor": "white",
            "gridwidth": 2,
            "linecolor": "white",
            "showbackground": true,
            "ticks": "",
            "zerolinecolor": "white"
           },
           "zaxis": {
            "backgroundcolor": "#E5ECF6",
            "gridcolor": "white",
            "gridwidth": 2,
            "linecolor": "white",
            "showbackground": true,
            "ticks": "",
            "zerolinecolor": "white"
           }
          },
          "shapedefaults": {
           "line": {
            "color": "#2a3f5f"
           }
          },
          "ternary": {
           "aaxis": {
            "gridcolor": "white",
            "linecolor": "white",
            "ticks": ""
           },
           "baxis": {
            "gridcolor": "white",
            "linecolor": "white",
            "ticks": ""
           },
           "bgcolor": "#E5ECF6",
           "caxis": {
            "gridcolor": "white",
            "linecolor": "white",
            "ticks": ""
           }
          },
          "title": {
           "x": 0.05
          },
          "xaxis": {
           "automargin": true,
           "gridcolor": "white",
           "linecolor": "white",
           "ticks": "",
           "zerolinecolor": "white",
           "zerolinewidth": 2
          },
          "yaxis": {
           "automargin": true,
           "gridcolor": "white",
           "linecolor": "white",
           "ticks": "",
           "zerolinecolor": "white",
           "zerolinewidth": 2
          }
         }
        },
        "title": {
         "font": {
          "color": "#9398A4"
         },
         "text": "Data Plot"
        },
        "width": 500,
        "xaxis": {
         "autorange": true,
         "gridcolor": "#3F434F",
         "range": [
          -2.980177838611094,
          3.0806019011109687
         ],
         "tickfont": {
          "color": "#ffffff"
         },
         "title": {
          "font": {
           "color": "#ffffff"
          },
          "text": "X"
         },
         "type": "linear",
         "zeroline": false
        },
        "yaxis": {
         "autorange": true,
         "gridcolor": "#3F434F",
         "range": [
          -376.2121230243397,
          363.0635268066889
         ],
         "tickfont": {
          "color": "#ffffff"
         },
         "title": {
          "font": {
           "color": "#ffffff"
          },
          "text": "y"
         },
         "type": "linear",
         "zeroline": false
        }
       }
      },
      "image/png": "[encoded data removed]",
      "text/html": [
       "<div>\n",
       "        \n",
       "        \n",
       "            <div id=\"19df19dd-d28b-4936-bf9d-0cd631b1d2b2\" class=\"plotly-graph-div\" style=\"height:500px; width:500px;\"></div>\n",
       "            <script type=\"text/javascript\">\n",
       "                require([\"plotly\"], function(Plotly) {\n",
       "                    window.PLOTLYENV=window.PLOTLYENV || {};\n",
       "                    \n",
       "                if (document.getElementById(\"19df19dd-d28b-4936-bf9d-0cd631b1d2b2\")) {\n",
       "                    Plotly.newPlot(\n",
       "                        '19df19dd-d28b-4936-bf9d-0cd631b1d2b2',\n",
       "                        [{\"marker\": {\"color\": \"yellow\", \"size\": 5}, \"mode\": \"markers\", \"name\": \"data\", \"opacity\": 0.5, \"type\": \"scatter\", \"x\": [-0.07444591576616721, 1.9094166404701305, -2.123895724309807, -0.7673475628880495, -2.0392321777601006, -1.4785862457798415, -1.867265192591748, 1.669021525289393, 1.5231240772696573, -0.03275327021599839, -0.8604133652839524, -1.7033824393551547, 0.6116762888408679, -0.8222203955664315, -0.7904744554453119, -0.7153037092599682, -1.0121043752601675, 0.47897982574639186, 1.1581108735000678, -1.1913034972026486, -0.5297602037670388, 1.5327389130025777, 1.4412732890661155, 0.6453759495851475, -0.9080240755212109, -1.5506634310661327, -0.3220615162056756, -0.3427145165267695, 0.08658978747289992, -0.6771617115121117, -0.5769036556624031, 0.6141667000434252, -0.013497224737933921, -0.4325581878196209, -0.3609661658190799, -0.12578692009964815, 0.5049872789804571, 1.0915068519224618, 0.11567463429285867, -2.6197451040897444, -1.4074637743765552, -0.9043166251044086, -0.01901620790268883, 0.40498171096095553, -0.23415337472333597, 0.8128621188389601, -0.46572975357025687, -0.13014305436768459, -1.245738778711988, 0.25988279424842353, 1.4415686206579004, 1.3668742674445247, 0.6696725488300385, 1.0035328978920242, -0.4606387709597875, -1.1105758454658288, 0.8254163489880298, 0.3571125715117464, -0.12791759148076653, 0.24822058630033608, -0.9857260463355437, 0.19686123586912352, -0.3152692446403456, -1.7131345290908775, 0.47323762457354485, 1.6764373122752827, -0.6626237589458467, -0.03471176970524331, 0.6339190223180112, -1.251113576385303, 2.1330333746562666, -0.4930009346588328, -1.4018510627922809, -1.081548003614395, 1.2669111491866227, 0.3577873603482833, 0.046980593764742055, 2.720169166589619, 0.11092258970986608, 0.3464482094969757, 0.04852162794482699, -0.0771017094141042, -1.1978778925888485, -0.6002168771587947, 0.48937456122791806, -1.4635149481321186, -1.1254890472983765, -0.23093453020867796, -0.773789199103573, 0.7116148780888898, 0.5137859509122088, 0.755391225825756, 1.2012139221639448, 0.4127809269364983, 0.3773004930448522, 0.117327383308782, 0.09767609854883172, -0.47917423784528995, 0.05921843401448826, -1.0243876413342898], \"y\": [54.32528929119836, 64.16297945199956, -80.01509618623743, 186.48246986595709, -81.10497089318326, -7.89275105715447, -138.42438163062678, -86.70234709930686, 58.85600550191921, -85.38097662525904, -60.19739611322211, 37.12316446454897, -46.86294370241792, -115.87037055592224, 138.17298117375861, -110.20134735299598, -159.1007906111916, 124.30928843582916, 60.97490438778002, -47.623988961703375, -58.464167915754786, 98.32788145491567, 197.2901608083108, 273.4448654764099, -174.54636242800768, -272.8597159114368, -56.27256131983826, -112.09324758852233, 100.7526811120128, 7.534774552472136, 81.30031473806937, -37.73970130794411, 17.839427663394446, -38.097342707523225, -54.84964519973076, 175.9641906034714, -71.77543519984174, -93.23001595898734, 197.93555041836822, 13.416752512930039, -222.1664268513502, -332.02885176490713, 62.869950477052804, 53.900427337960814, 188.97639034384372, 53.62407379007998, -97.25717090772365, 61.35107616426764, -153.5903353884172, -12.323066254137018, -58.682094765005985, -64.48157621912992, -134.48796502842038, -8.892615674197089, -62.840876773021364, -66.94099711642377, 225.8958521581551, -52.859229548296284, 46.72049325908096, 2.7901530471478306, -121.34271720563476, -151.81425344624284, 88.46377363460054, -104.51803874022416, -76.6046031983646, -60.72418675274223, -60.33114658192635, 133.53273271921162, 78.52261757161313, 14.351709394978165, 90.16811062065783, 41.767372297803995, 187.87451391382376, -34.25750214709374, 234.47974887567875, -5.132283962834418, 60.91783246715458, 219.5639320423242, -74.63591023962854, -56.165744141689956, -120.54031990268493, -78.011494272894, -132.19163638936197, -70.77564594672918, 120.03301994531533, -30.363407574624773, 161.03872692947684, 18.997837996103073, 9.349730433799017, -153.37798737083733, 318.88025554725635, -60.714111753885824, 37.607122750901226, 284.0215893618492, -108.16953612631164, -0.9545661851009406, 35.566561198543646, -135.85028575047988, 154.26515725620618, -238.09458657627673]}],\n",
       "                        {\"height\": 500, \"legend\": {\"font\": {\"color\": \"#ffffff\"}}, \"paper_bgcolor\": \"#22252B\", \"plot_bgcolor\": \"#292C34\", \"showlegend\": true, \"template\": {\"data\": {\"bar\": [{\"error_x\": {\"color\": \"#2a3f5f\"}, \"error_y\": {\"color\": \"#2a3f5f\"}, \"marker\": {\"line\": {\"color\": \"#E5ECF6\", \"width\": 0.5}}, \"type\": \"bar\"}], \"barpolar\": [{\"marker\": {\"line\": {\"color\": \"#E5ECF6\", \"width\": 0.5}}, \"type\": \"barpolar\"}], \"carpet\": [{\"aaxis\": {\"endlinecolor\": \"#2a3f5f\", \"gridcolor\": \"white\", \"linecolor\": \"white\", \"minorgridcolor\": \"white\", \"startlinecolor\": \"#2a3f5f\"}, \"baxis\": {\"endlinecolor\": \"#2a3f5f\", \"gridcolor\": \"white\", \"linecolor\": \"white\", \"minorgridcolor\": \"white\", \"startlinecolor\": \"#2a3f5f\"}, \"type\": \"carpet\"}], \"choropleth\": [{\"colorbar\": {\"outlinewidth\": 0, \"ticks\": \"\"}, \"type\": \"choropleth\"}], \"contour\": [{\"colorbar\": {\"outlinewidth\": 0, \"ticks\": \"\"}, \"colorscale\": [[0.0, \"#0d0887\"], [0.1111111111111111, \"#46039f\"], [0.2222222222222222, \"#7201a8\"], [0.3333333333333333, \"#9c179e\"], [0.4444444444444444, \"#bd3786\"], [0.5555555555555556, \"#d8576b\"], [0.6666666666666666, \"#ed7953\"], [0.7777777777777778, \"#fb9f3a\"], [0.8888888888888888, \"#fdca26\"], [1.0, \"#f0f921\"]], \"type\": \"contour\"}], \"contourcarpet\": [{\"colorbar\": {\"outlinewidth\": 0, \"ticks\": \"\"}, \"type\": \"contourcarpet\"}], \"heatmap\": [{\"colorbar\": {\"outlinewidth\": 0, \"ticks\": \"\"}, \"colorscale\": [[0.0, \"#0d0887\"], [0.1111111111111111, \"#46039f\"], [0.2222222222222222, \"#7201a8\"], [0.3333333333333333, \"#9c179e\"], [0.4444444444444444, \"#bd3786\"], [0.5555555555555556, \"#d8576b\"], [0.6666666666666666, \"#ed7953\"], [0.7777777777777778, \"#fb9f3a\"], [0.8888888888888888, \"#fdca26\"], [1.0, \"#f0f921\"]], \"type\": \"heatmap\"}], \"heatmapgl\": [{\"colorbar\": {\"outlinewidth\": 0, \"ticks\": \"\"}, \"colorscale\": [[0.0, \"#0d0887\"], [0.1111111111111111, \"#46039f\"], [0.2222222222222222, \"#7201a8\"], [0.3333333333333333, \"#9c179e\"], [0.4444444444444444, \"#bd3786\"], [0.5555555555555556, \"#d8576b\"], [0.6666666666666666, \"#ed7953\"], [0.7777777777777778, \"#fb9f3a\"], [0.8888888888888888, \"#fdca26\"], [1.0, \"#f0f921\"]], \"type\": \"heatmapgl\"}], \"histogram\": [{\"marker\": {\"colorbar\": {\"outlinewidth\": 0, \"ticks\": \"\"}}, \"type\": \"histogram\"}], \"histogram2d\": [{\"colorbar\": {\"outlinewidth\": 0, \"ticks\": \"\"}, \"colorscale\": [[0.0, \"#0d0887\"], [0.1111111111111111, \"#46039f\"], [0.2222222222222222, \"#7201a8\"], [0.3333333333333333, \"#9c179e\"], [0.4444444444444444, \"#bd3786\"], [0.5555555555555556, \"#d8576b\"], [0.6666666666666666, \"#ed7953\"], [0.7777777777777778, \"#fb9f3a\"], [0.8888888888888888, \"#fdca26\"], [1.0, \"#f0f921\"]], \"type\": \"histogram2d\"}], \"histogram2dcontour\": [{\"colorbar\": {\"outlinewidth\": 0, \"ticks\": \"\"}, \"colorscale\": [[0.0, \"#0d0887\"], [0.1111111111111111, \"#46039f\"], [0.2222222222222222, \"#7201a8\"], [0.3333333333333333, \"#9c179e\"], [0.4444444444444444, \"#bd3786\"], [0.5555555555555556, \"#d8576b\"], [0.6666666666666666, \"#ed7953\"], [0.7777777777777778, \"#fb9f3a\"], [0.8888888888888888, \"#fdca26\"], [1.0, \"#f0f921\"]], \"type\": \"histogram2dcontour\"}], \"mesh3d\": [{\"colorbar\": {\"outlinewidth\": 0, \"ticks\": \"\"}, \"type\": \"mesh3d\"}], \"parcoords\": [{\"line\": {\"colorbar\": {\"outlinewidth\": 0, \"ticks\": \"\"}}, \"type\": \"parcoords\"}], \"scatter\": [{\"marker\": {\"colorbar\": {\"outlinewidth\": 0, \"ticks\": \"\"}}, \"type\": \"scatter\"}], \"scatter3d\": [{\"line\": {\"colorbar\": {\"outlinewidth\": 0, \"ticks\": \"\"}}, \"marker\": {\"colorbar\": {\"outlinewidth\": 0, \"ticks\": \"\"}}, \"type\": \"scatter3d\"}], \"scattercarpet\": [{\"marker\": {\"colorbar\": {\"outlinewidth\": 0, \"ticks\": \"\"}}, \"type\": \"scattercarpet\"}], \"scattergeo\": [{\"marker\": {\"colorbar\": {\"outlinewidth\": 0, \"ticks\": \"\"}}, \"type\": \"scattergeo\"}], \"scattergl\": [{\"marker\": {\"colorbar\": {\"outlinewidth\": 0, \"ticks\": \"\"}}, \"type\": \"scattergl\"}], \"scattermapbox\": [{\"marker\": {\"colorbar\": {\"outlinewidth\": 0, \"ticks\": \"\"}}, \"type\": \"scattermapbox\"}], \"scatterpolar\": [{\"marker\": {\"colorbar\": {\"outlinewidth\": 0, \"ticks\": \"\"}}, \"type\": \"scatterpolar\"}], \"scatterpolargl\": [{\"marker\": {\"colorbar\": {\"outlinewidth\": 0, \"ticks\": \"\"}}, \"type\": \"scatterpolargl\"}], \"scatterternary\": [{\"marker\": {\"colorbar\": {\"outlinewidth\": 0, \"ticks\": \"\"}}, \"type\": \"scatterternary\"}], \"surface\": [{\"colorbar\": {\"outlinewidth\": 0, \"ticks\": \"\"}, \"colorscale\": [[0.0, \"#0d0887\"], [0.1111111111111111, \"#46039f\"], [0.2222222222222222, \"#7201a8\"], [0.3333333333333333, \"#9c179e\"], [0.4444444444444444, \"#bd3786\"], [0.5555555555555556, \"#d8576b\"], [0.6666666666666666, \"#ed7953\"], [0.7777777777777778, \"#fb9f3a\"], [0.8888888888888888, \"#fdca26\"], [1.0, \"#f0f921\"]], \"type\": \"surface\"}], \"table\": [{\"cells\": {\"fill\": {\"color\": \"#EBF0F8\"}, \"line\": {\"color\": \"white\"}}, \"header\": {\"fill\": {\"color\": \"#C8D4E3\"}, \"line\": {\"color\": \"white\"}}, \"type\": \"table\"}]}, \"layout\": {\"annotationdefaults\": {\"arrowcolor\": \"#2a3f5f\", \"arrowhead\": 0, \"arrowwidth\": 1}, \"colorscale\": {\"diverging\": [[0, \"#8e0152\"], [0.1, \"#c51b7d\"], [0.2, \"#de77ae\"], [0.3, \"#f1b6da\"], [0.4, \"#fde0ef\"], [0.5, \"#f7f7f7\"], [0.6, \"#e6f5d0\"], [0.7, \"#b8e186\"], [0.8, \"#7fbc41\"], [0.9, \"#4d9221\"], [1, \"#276419\"]], \"sequential\": [[0.0, \"#0d0887\"], [0.1111111111111111, \"#46039f\"], [0.2222222222222222, \"#7201a8\"], [0.3333333333333333, \"#9c179e\"], [0.4444444444444444, \"#bd3786\"], [0.5555555555555556, \"#d8576b\"], [0.6666666666666666, \"#ed7953\"], [0.7777777777777778, \"#fb9f3a\"], [0.8888888888888888, \"#fdca26\"], [1.0, \"#f0f921\"]], \"sequentialminus\": [[0.0, \"#0d0887\"], [0.1111111111111111, \"#46039f\"], [0.2222222222222222, \"#7201a8\"], [0.3333333333333333, \"#9c179e\"], [0.4444444444444444, \"#bd3786\"], [0.5555555555555556, \"#d8576b\"], [0.6666666666666666, \"#ed7953\"], [0.7777777777777778, \"#fb9f3a\"], [0.8888888888888888, \"#fdca26\"], [1.0, \"#f0f921\"]]}, \"colorway\": [\"#636efa\", \"#EF553B\", \"#00cc96\", \"#ab63fa\", \"#FFA15A\", \"#19d3f3\", \"#FF6692\", \"#B6E880\", \"#FF97FF\", \"#FECB52\"], \"font\": {\"color\": \"#2a3f5f\"}, \"geo\": {\"bgcolor\": \"white\", \"lakecolor\": \"white\", \"landcolor\": \"#E5ECF6\", \"showlakes\": true, \"showland\": true, \"subunitcolor\": \"white\"}, \"hoverlabel\": {\"align\": \"left\"}, \"hovermode\": \"closest\", \"mapbox\": {\"style\": \"light\"}, \"paper_bgcolor\": \"white\", \"plot_bgcolor\": \"#E5ECF6\", \"polar\": {\"angularaxis\": {\"gridcolor\": \"white\", \"linecolor\": \"white\", \"ticks\": \"\"}, \"bgcolor\": \"#E5ECF6\", \"radialaxis\": {\"gridcolor\": \"white\", \"linecolor\": \"white\", \"ticks\": \"\"}}, \"scene\": {\"xaxis\": {\"backgroundcolor\": \"#E5ECF6\", \"gridcolor\": \"white\", \"gridwidth\": 2, \"linecolor\": \"white\", \"showbackground\": true, \"ticks\": \"\", \"zerolinecolor\": \"white\"}, \"yaxis\": {\"backgroundcolor\": \"#E5ECF6\", \"gridcolor\": \"white\", \"gridwidth\": 2, \"linecolor\": \"white\", \"showbackground\": true, \"ticks\": \"\", \"zerolinecolor\": \"white\"}, \"zaxis\": {\"backgroundcolor\": \"#E5ECF6\", \"gridcolor\": \"white\", \"gridwidth\": 2, \"linecolor\": \"white\", \"showbackground\": true, \"ticks\": \"\", \"zerolinecolor\": \"white\"}}, \"shapedefaults\": {\"line\": {\"color\": \"#2a3f5f\"}}, \"ternary\": {\"aaxis\": {\"gridcolor\": \"white\", \"linecolor\": \"white\", \"ticks\": \"\"}, \"baxis\": {\"gridcolor\": \"white\", \"linecolor\": \"white\", \"ticks\": \"\"}, \"bgcolor\": \"#E5ECF6\", \"caxis\": {\"gridcolor\": \"white\", \"linecolor\": \"white\", \"ticks\": \"\"}}, \"title\": {\"x\": 0.05}, \"xaxis\": {\"automargin\": true, \"gridcolor\": \"white\", \"linecolor\": \"white\", \"ticks\": \"\", \"zerolinecolor\": \"white\", \"zerolinewidth\": 2}, \"yaxis\": {\"automargin\": true, \"gridcolor\": \"white\", \"linecolor\": \"white\", \"ticks\": \"\", \"zerolinecolor\": \"white\", \"zerolinewidth\": 2}}}, \"title\": {\"font\": {\"color\": \"#9398A4\"}, \"text\": \"Data Plot\"}, \"width\": 500, \"xaxis\": {\"gridcolor\": \"#3F434F\", \"tickfont\": {\"color\": \"#ffffff\"}, \"title\": {\"font\": {\"color\": \"#ffffff\"}, \"text\": \"X\"}, \"zeroline\": false}, \"yaxis\": {\"gridcolor\": \"#3F434F\", \"tickfont\": {\"color\": \"#ffffff\"}, \"title\": {\"font\": {\"color\": \"#ffffff\"}, \"text\": \"y\"}, \"zeroline\": false}},\n",
       "                        {\"responsive\": true}\n",
       "                    ).then(function(){\n",
       "                            \n",
       "var gd = document.getElementById('19df19dd-d28b-4936-bf9d-0cd631b1d2b2');\n",
       "var x = new MutationObserver(function (mutations, observer) {{\n",
       "        var display = window.getComputedStyle(gd).display;\n",
       "        if (!display || display === 'none') {{\n",
       "            console.log([gd, 'removed!']);\n",
       "            Plotly.purge(gd);\n",
       "            observer.disconnect();\n",
       "        }}\n",
       "}});\n",
       "\n",
       "// Listen for the removal of the full notebook cells\n",
       "var notebookContainer = gd.closest('#notebook-container');\n",
       "if (notebookContainer) {{\n",
       "    x.observe(notebookContainer, {childList: true});\n",
       "}}\n",
       "\n",
       "// Listen for the clearing of the current output cell\n",
       "var outputEl = gd.closest('.output');\n",
       "if (outputEl) {{\n",
       "    x.observe(outputEl, {childList: true});\n",
       "}}\n",
       "\n",
       "                        })\n",
       "                };\n",
       "                });\n",
       "            </script>\n",
       "        </div>"
      ]
     },
     "metadata": {},
     "output_type": "display_data"
    }
   ],
   "source": [
    "X, y = make_regression(n_features=7, random_state=42)\n",
    "\n",
    "# = StandardScaler().fit_transform(X)\n",
    "render(go.Figure(data=[scatter(X[:,0],y, 'data', mode='markers', size=5, color='yellow')]), 'Data Plot', x_axis_title='X', y_axis_title='y')"
   ]
  },
  {
   "cell_type": "code",
   "execution_count": 91,
   "metadata": {},
   "outputs": [
    {
     "data": {
      "application/vnd.plotly.v1+json": {
       "config": {
        "plotlyServerURL": "https://plot.ly"
       },
       "data": [
        {
         "marker": {
          "color": "yellow",
          "size": 5
         },
         "mode": "markers",
         "name": "data",
         "opacity": 1,
         "type": "scatter",
         "x": [
          -0.07444591576616721,
          0.5137859509122088,
          -0.9043166251044086,
          -0.3152692446403456,
          -0.6771617115121117,
          -0.5769036556624031,
          0.3773004930448522,
          -0.4325581878196209,
          0.09767609854883172,
          -0.773789199103573,
          1.0915068519224618,
          1.4415686206579004,
          -0.4606387709597875,
          0.5049872789804571,
          -1.4785862457798415,
          -2.6197451040897444,
          -1.5506634310661327,
          -1.0243876413342898,
          -1.1913034972026486,
          -0.23093453020867796,
          2.1330333746562666,
          -1.1105758454658288,
          -0.7673475628880495,
          1.9094166404701305,
          -0.12791759148076653,
          0.11092258970986608,
          -1.4018510627922809,
          -0.4930009346588328,
          0.11567463429285867,
          0.04852162794482699,
          0.6141667000434252,
          0.48937456122791806,
          0.08658978747289992,
          1.3668742674445247,
          0.3464482094969757,
          0.3577873603482833,
          -0.7904744554453119,
          0.25988279424842353,
          -1.867265192591748,
          1.4412732890661155,
          -1.081548003614395,
          -1.4635149481321186,
          0.19686123586912352,
          -0.47917423784528995,
          -0.7153037092599682,
          -1.7131345290908775,
          0.40498171096095553,
          1.0035328978920242,
          0.6116762888408679,
          0.755391225825756,
          0.6339190223180112,
          -0.8604133652839524,
          -0.01901620790268883,
          -0.12578692009964815,
          -2.0392321777601006,
          -1.4074637743765552,
          0.47897982574639186,
          -0.6626237589458467,
          -0.013497224737933921,
          -0.9857260463355437,
          1.5327389130025777,
          0.117327383308782,
          -2.123895724309807,
          1.669021525289393,
          0.6696725488300385,
          0.7116148780888898,
          -0.03275327021599839,
          1.1581108735000678,
          0.24822058630033608,
          -0.9080240755212109,
          -0.0771017094141042,
          -0.03471176970524331,
          0.8128621188389601,
          -0.13014305436768459,
          -1.245738778711988
         ],
         "y": [
          54.32528929119836,
          318.88025554725635,
          -332.02885176490713,
          88.46377363460054,
          7.534774552472136,
          81.30031473806937,
          -108.16953612631164,
          -38.097342707523225,
          35.566561198543646,
          9.349730433799017,
          -93.23001595898734,
          -58.682094765005985,
          -62.840876773021364,
          -71.77543519984174,
          -7.89275105715447,
          13.416752512930039,
          -272.8597159114368,
          -238.09458657627673,
          -47.623988961703375,
          18.997837996103073,
          90.16811062065783,
          -66.94099711642377,
          186.48246986595709,
          64.16297945199956,
          46.72049325908096,
          -74.63591023962854,
          187.87451391382376,
          41.767372297803995,
          197.93555041836822,
          -120.54031990268493,
          -37.73970130794411,
          120.03301994531533,
          100.7526811120128,
          -64.48157621912992,
          -56.165744141689956,
          -5.132283962834418,
          138.17298117375861,
          -12.323066254137018,
          -138.42438163062678,
          197.2901608083108,
          -34.25750214709374,
          -30.363407574624773,
          -151.81425344624284,
          -135.85028575047988,
          -110.20134735299598,
          -104.51803874022416,
          53.900427337960814,
          -8.892615674197089,
          -46.86294370241792,
          -60.714111753885824,
          78.52261757161313,
          -60.19739611322211,
          62.869950477052804,
          175.9641906034714,
          -81.10497089318326,
          -222.1664268513502,
          124.30928843582916,
          -60.33114658192635,
          17.839427663394446,
          -121.34271720563476,
          98.32788145491567,
          -0.9545661851009406,
          -80.01509618623743,
          -86.70234709930686,
          -134.48796502842038,
          -153.37798737083733,
          -85.38097662525904,
          60.97490438778002,
          2.7901530471478306,
          -174.54636242800768,
          -78.011494272894,
          133.53273271921162,
          53.62407379007998,
          61.35107616426764,
          -153.5903353884172
         ]
        },
        {
         "marker": {
          "color": "pink",
          "size": 5
         },
         "mode": "markers",
         "name": "data",
         "opacity": 1,
         "type": "scatter",
         "x": [
          -0.6002168771587947,
          -1.1978778925888485,
          -0.5297602037670388,
          0.05921843401448826,
          0.046980593764742055,
          0.4127809269364983,
          0.3571125715117464,
          1.2012139221639448,
          -1.0121043752601675,
          1.2669111491866227,
          0.47323762457354485,
          -0.3427145165267695,
          1.5231240772696573,
          -1.251113576385303,
          -1.7033824393551547,
          -0.8222203955664315,
          -0.3609661658190799,
          0.8254163489880298,
          -0.23415337472333597,
          -0.46572975357025687,
          0.6453759495851475,
          2.720169166589619,
          1.6764373122752827,
          -1.1254890472983765,
          -0.3220615162056756
         ],
         "y": [
          -70.77564594672918,
          -132.19163638936197,
          -58.464167915754786,
          154.26515725620618,
          60.91783246715458,
          284.0215893618492,
          -52.859229548296284,
          37.607122750901226,
          -159.1007906111916,
          234.47974887567875,
          -76.6046031983646,
          -112.09324758852233,
          58.85600550191921,
          14.351709394978165,
          37.12316446454897,
          -115.87037055592224,
          -54.84964519973076,
          225.8958521581551,
          188.97639034384372,
          -97.25717090772365,
          273.4448654764099,
          219.5639320423242,
          -60.72418675274223,
          161.03872692947684,
          -56.27256131983826
         ]
        }
       ],
       "layout": {
        "height": 500,
        "legend": {
         "font": {
          "color": "#ffffff"
         }
        },
        "paper_bgcolor": "#22252B",
        "plot_bgcolor": "#292C34",
        "showlegend": true,
        "template": {
         "data": {
          "bar": [
           {
            "error_x": {
             "color": "#2a3f5f"
            },
            "error_y": {
             "color": "#2a3f5f"
            },
            "marker": {
             "line": {
              "color": "#E5ECF6",
              "width": 0.5
             }
            },
            "type": "bar"
           }
          ],
          "barpolar": [
           {
            "marker": {
             "line": {
              "color": "#E5ECF6",
              "width": 0.5
             }
            },
            "type": "barpolar"
           }
          ],
          "carpet": [
           {
            "aaxis": {
             "endlinecolor": "#2a3f5f",
             "gridcolor": "white",
             "linecolor": "white",
             "minorgridcolor": "white",
             "startlinecolor": "#2a3f5f"
            },
            "baxis": {
             "endlinecolor": "#2a3f5f",
             "gridcolor": "white",
             "linecolor": "white",
             "minorgridcolor": "white",
             "startlinecolor": "#2a3f5f"
            },
            "type": "carpet"
           }
          ],
          "choropleth": [
           {
            "colorbar": {
             "outlinewidth": 0,
             "ticks": ""
            },
            "type": "choropleth"
           }
          ],
          "contour": [
           {
            "colorbar": {
             "outlinewidth": 0,
             "ticks": ""
            },
            "colorscale": [
             [
              0,
              "#0d0887"
             ],
             [
              0.1111111111111111,
              "#46039f"
             ],
             [
              0.2222222222222222,
              "#7201a8"
             ],
             [
              0.3333333333333333,
              "#9c179e"
             ],
             [
              0.4444444444444444,
              "#bd3786"
             ],
             [
              0.5555555555555556,
              "#d8576b"
             ],
             [
              0.6666666666666666,
              "#ed7953"
             ],
             [
              0.7777777777777778,
              "#fb9f3a"
             ],
             [
              0.8888888888888888,
              "#fdca26"
             ],
             [
              1,
              "#f0f921"
             ]
            ],
            "type": "contour"
           }
          ],
          "contourcarpet": [
           {
            "colorbar": {
             "outlinewidth": 0,
             "ticks": ""
            },
            "type": "contourcarpet"
           }
          ],
          "heatmap": [
           {
            "colorbar": {
             "outlinewidth": 0,
             "ticks": ""
            },
            "colorscale": [
             [
              0,
              "#0d0887"
             ],
             [
              0.1111111111111111,
              "#46039f"
             ],
             [
              0.2222222222222222,
              "#7201a8"
             ],
             [
              0.3333333333333333,
              "#9c179e"
             ],
             [
              0.4444444444444444,
              "#bd3786"
             ],
             [
              0.5555555555555556,
              "#d8576b"
             ],
             [
              0.6666666666666666,
              "#ed7953"
             ],
             [
              0.7777777777777778,
              "#fb9f3a"
             ],
             [
              0.8888888888888888,
              "#fdca26"
             ],
             [
              1,
              "#f0f921"
             ]
            ],
            "type": "heatmap"
           }
          ],
          "heatmapgl": [
           {
            "colorbar": {
             "outlinewidth": 0,
             "ticks": ""
            },
            "colorscale": [
             [
              0,
              "#0d0887"
             ],
             [
              0.1111111111111111,
              "#46039f"
             ],
             [
              0.2222222222222222,
              "#7201a8"
             ],
             [
              0.3333333333333333,
              "#9c179e"
             ],
             [
              0.4444444444444444,
              "#bd3786"
             ],
             [
              0.5555555555555556,
              "#d8576b"
             ],
             [
              0.6666666666666666,
              "#ed7953"
             ],
             [
              0.7777777777777778,
              "#fb9f3a"
             ],
             [
              0.8888888888888888,
              "#fdca26"
             ],
             [
              1,
              "#f0f921"
             ]
            ],
            "type": "heatmapgl"
           }
          ],
          "histogram": [
           {
            "marker": {
             "colorbar": {
              "outlinewidth": 0,
              "ticks": ""
             }
            },
            "type": "histogram"
           }
          ],
          "histogram2d": [
           {
            "colorbar": {
             "outlinewidth": 0,
             "ticks": ""
            },
            "colorscale": [
             [
              0,
              "#0d0887"
             ],
             [
              0.1111111111111111,
              "#46039f"
             ],
             [
              0.2222222222222222,
              "#7201a8"
             ],
             [
              0.3333333333333333,
              "#9c179e"
             ],
             [
              0.4444444444444444,
              "#bd3786"
             ],
             [
              0.5555555555555556,
              "#d8576b"
             ],
             [
              0.6666666666666666,
              "#ed7953"
             ],
             [
              0.7777777777777778,
              "#fb9f3a"
             ],
             [
              0.8888888888888888,
              "#fdca26"
             ],
             [
              1,
              "#f0f921"
             ]
            ],
            "type": "histogram2d"
           }
          ],
          "histogram2dcontour": [
           {
            "colorbar": {
             "outlinewidth": 0,
             "ticks": ""
            },
            "colorscale": [
             [
              0,
              "#0d0887"
             ],
             [
              0.1111111111111111,
              "#46039f"
             ],
             [
              0.2222222222222222,
              "#7201a8"
             ],
             [
              0.3333333333333333,
              "#9c179e"
             ],
             [
              0.4444444444444444,
              "#bd3786"
             ],
             [
              0.5555555555555556,
              "#d8576b"
             ],
             [
              0.6666666666666666,
              "#ed7953"
             ],
             [
              0.7777777777777778,
              "#fb9f3a"
             ],
             [
              0.8888888888888888,
              "#fdca26"
             ],
             [
              1,
              "#f0f921"
             ]
            ],
            "type": "histogram2dcontour"
           }
          ],
          "mesh3d": [
           {
            "colorbar": {
             "outlinewidth": 0,
             "ticks": ""
            },
            "type": "mesh3d"
           }
          ],
          "parcoords": [
           {
            "line": {
             "colorbar": {
              "outlinewidth": 0,
              "ticks": ""
             }
            },
            "type": "parcoords"
           }
          ],
          "scatter": [
           {
            "marker": {
             "colorbar": {
              "outlinewidth": 0,
              "ticks": ""
             }
            },
            "type": "scatter"
           }
          ],
          "scatter3d": [
           {
            "line": {
             "colorbar": {
              "outlinewidth": 0,
              "ticks": ""
             }
            },
            "marker": {
             "colorbar": {
              "outlinewidth": 0,
              "ticks": ""
             }
            },
            "type": "scatter3d"
           }
          ],
          "scattercarpet": [
           {
            "marker": {
             "colorbar": {
              "outlinewidth": 0,
              "ticks": ""
             }
            },
            "type": "scattercarpet"
           }
          ],
          "scattergeo": [
           {
            "marker": {
             "colorbar": {
              "outlinewidth": 0,
              "ticks": ""
             }
            },
            "type": "scattergeo"
           }
          ],
          "scattergl": [
           {
            "marker": {
             "colorbar": {
              "outlinewidth": 0,
              "ticks": ""
             }
            },
            "type": "scattergl"
           }
          ],
          "scattermapbox": [
           {
            "marker": {
             "colorbar": {
              "outlinewidth": 0,
              "ticks": ""
             }
            },
            "type": "scattermapbox"
           }
          ],
          "scatterpolar": [
           {
            "marker": {
             "colorbar": {
              "outlinewidth": 0,
              "ticks": ""
             }
            },
            "type": "scatterpolar"
           }
          ],
          "scatterpolargl": [
           {
            "marker": {
             "colorbar": {
              "outlinewidth": 0,
              "ticks": ""
             }
            },
            "type": "scatterpolargl"
           }
          ],
          "scatterternary": [
           {
            "marker": {
             "colorbar": {
              "outlinewidth": 0,
              "ticks": ""
             }
            },
            "type": "scatterternary"
           }
          ],
          "surface": [
           {
            "colorbar": {
             "outlinewidth": 0,
             "ticks": ""
            },
            "colorscale": [
             [
              0,
              "#0d0887"
             ],
             [
              0.1111111111111111,
              "#46039f"
             ],
             [
              0.2222222222222222,
              "#7201a8"
             ],
             [
              0.3333333333333333,
              "#9c179e"
             ],
             [
              0.4444444444444444,
              "#bd3786"
             ],
             [
              0.5555555555555556,
              "#d8576b"
             ],
             [
              0.6666666666666666,
              "#ed7953"
             ],
             [
              0.7777777777777778,
              "#fb9f3a"
             ],
             [
              0.8888888888888888,
              "#fdca26"
             ],
             [
              1,
              "#f0f921"
             ]
            ],
            "type": "surface"
           }
          ],
          "table": [
           {
            "cells": {
             "fill": {
              "color": "#EBF0F8"
             },
             "line": {
              "color": "white"
             }
            },
            "header": {
             "fill": {
              "color": "#C8D4E3"
             },
             "line": {
              "color": "white"
             }
            },
            "type": "table"
           }
          ]
         },
         "layout": {
          "annotationdefaults": {
           "arrowcolor": "#2a3f5f",
           "arrowhead": 0,
           "arrowwidth": 1
          },
          "colorscale": {
           "diverging": [
            [
             0,
             "#8e0152"
            ],
            [
             0.1,
             "#c51b7d"
            ],
            [
             0.2,
             "#de77ae"
            ],
            [
             0.3,
             "#f1b6da"
            ],
            [
             0.4,
             "#fde0ef"
            ],
            [
             0.5,
             "#f7f7f7"
            ],
            [
             0.6,
             "#e6f5d0"
            ],
            [
             0.7,
             "#b8e186"
            ],
            [
             0.8,
             "#7fbc41"
            ],
            [
             0.9,
             "#4d9221"
            ],
            [
             1,
             "#276419"
            ]
           ],
           "sequential": [
            [
             0,
             "#0d0887"
            ],
            [
             0.1111111111111111,
             "#46039f"
            ],
            [
             0.2222222222222222,
             "#7201a8"
            ],
            [
             0.3333333333333333,
             "#9c179e"
            ],
            [
             0.4444444444444444,
             "#bd3786"
            ],
            [
             0.5555555555555556,
             "#d8576b"
            ],
            [
             0.6666666666666666,
             "#ed7953"
            ],
            [
             0.7777777777777778,
             "#fb9f3a"
            ],
            [
             0.8888888888888888,
             "#fdca26"
            ],
            [
             1,
             "#f0f921"
            ]
           ],
           "sequentialminus": [
            [
             0,
             "#0d0887"
            ],
            [
             0.1111111111111111,
             "#46039f"
            ],
            [
             0.2222222222222222,
             "#7201a8"
            ],
            [
             0.3333333333333333,
             "#9c179e"
            ],
            [
             0.4444444444444444,
             "#bd3786"
            ],
            [
             0.5555555555555556,
             "#d8576b"
            ],
            [
             0.6666666666666666,
             "#ed7953"
            ],
            [
             0.7777777777777778,
             "#fb9f3a"
            ],
            [
             0.8888888888888888,
             "#fdca26"
            ],
            [
             1,
             "#f0f921"
            ]
           ]
          },
          "colorway": [
           "#636efa",
           "#EF553B",
           "#00cc96",
           "#ab63fa",
           "#FFA15A",
           "#19d3f3",
           "#FF6692",
           "#B6E880",
           "#FF97FF",
           "#FECB52"
          ],
          "font": {
           "color": "#2a3f5f"
          },
          "geo": {
           "bgcolor": "white",
           "lakecolor": "white",
           "landcolor": "#E5ECF6",
           "showlakes": true,
           "showland": true,
           "subunitcolor": "white"
          },
          "hoverlabel": {
           "align": "left"
          },
          "hovermode": "closest",
          "mapbox": {
           "style": "light"
          },
          "paper_bgcolor": "white",
          "plot_bgcolor": "#E5ECF6",
          "polar": {
           "angularaxis": {
            "gridcolor": "white",
            "linecolor": "white",
            "ticks": ""
           },
           "bgcolor": "#E5ECF6",
           "radialaxis": {
            "gridcolor": "white",
            "linecolor": "white",
            "ticks": ""
           }
          },
          "scene": {
           "xaxis": {
            "backgroundcolor": "#E5ECF6",
            "gridcolor": "white",
            "gridwidth": 2,
            "linecolor": "white",
            "showbackground": true,
            "ticks": "",
            "zerolinecolor": "white"
           },
           "yaxis": {
            "backgroundcolor": "#E5ECF6",
            "gridcolor": "white",
            "gridwidth": 2,
            "linecolor": "white",
            "showbackground": true,
            "ticks": "",
            "zerolinecolor": "white"
           },
           "zaxis": {
            "backgroundcolor": "#E5ECF6",
            "gridcolor": "white",
            "gridwidth": 2,
            "linecolor": "white",
            "showbackground": true,
            "ticks": "",
            "zerolinecolor": "white"
           }
          },
          "shapedefaults": {
           "line": {
            "color": "#2a3f5f"
           }
          },
          "ternary": {
           "aaxis": {
            "gridcolor": "white",
            "linecolor": "white",
            "ticks": ""
           },
           "baxis": {
            "gridcolor": "white",
            "linecolor": "white",
            "ticks": ""
           },
           "bgcolor": "#E5ECF6",
           "caxis": {
            "gridcolor": "white",
            "linecolor": "white",
            "ticks": ""
           }
          },
          "title": {
           "x": 0.05
          },
          "xaxis": {
           "automargin": true,
           "gridcolor": "white",
           "linecolor": "white",
           "ticks": "",
           "zerolinecolor": "white",
           "zerolinewidth": 2
          },
          "yaxis": {
           "automargin": true,
           "gridcolor": "white",
           "linecolor": "white",
           "ticks": "",
           "zerolinecolor": "white",
           "zerolinewidth": 2
          }
         }
        },
        "title": {
         "font": {
          "color": "#9398A4"
         },
         "text": "Data Plot"
        },
        "width": 500,
        "xaxis": {
         "autorange": true,
         "gridcolor": "#3F434F",
         "range": [
          -2.980177838611094,
          3.0806019011109687
         ],
         "tickfont": {
          "color": "#ffffff"
         },
         "title": {
          "font": {
           "color": "#ffffff"
          },
          "text": "X"
         },
         "type": "linear",
         "zeroline": false
        },
        "yaxis": {
         "autorange": true,
         "gridcolor": "#3F434F",
         "range": [
          -376.2121230243397,
          363.0635268066889
         ],
         "tickfont": {
          "color": "#ffffff"
         },
         "title": {
          "font": {
           "color": "#ffffff"
          },
          "text": "y"
         },
         "type": "linear",
         "zeroline": false
        }
       }
      },
      "image/png": "[encoded data removed]",
      "text/html": [
       "<div>\n",
       "        \n",
       "        \n",
       "            <div id=\"08cec0d2-2886-491b-8cf6-178e5adcd782\" class=\"plotly-graph-div\" style=\"height:500px; width:500px;\"></div>\n",
       "            <script type=\"text/javascript\">\n",
       "                require([\"plotly\"], function(Plotly) {\n",
       "                    window.PLOTLYENV=window.PLOTLYENV || {};\n",
       "                    \n",
       "                if (document.getElementById(\"08cec0d2-2886-491b-8cf6-178e5adcd782\")) {\n",
       "                    Plotly.newPlot(\n",
       "                        '08cec0d2-2886-491b-8cf6-178e5adcd782',\n",
       "                        [{\"marker\": {\"color\": \"yellow\", \"size\": 5}, \"mode\": \"markers\", \"name\": \"data\", \"opacity\": 1, \"type\": \"scatter\", \"x\": [-0.07444591576616721, 0.5137859509122088, -0.9043166251044086, -0.3152692446403456, -0.6771617115121117, -0.5769036556624031, 0.3773004930448522, -0.4325581878196209, 0.09767609854883172, -0.773789199103573, 1.0915068519224618, 1.4415686206579004, -0.4606387709597875, 0.5049872789804571, -1.4785862457798415, -2.6197451040897444, -1.5506634310661327, -1.0243876413342898, -1.1913034972026486, -0.23093453020867796, 2.1330333746562666, -1.1105758454658288, -0.7673475628880495, 1.9094166404701305, -0.12791759148076653, 0.11092258970986608, -1.4018510627922809, -0.4930009346588328, 0.11567463429285867, 0.04852162794482699, 0.6141667000434252, 0.48937456122791806, 0.08658978747289992, 1.3668742674445247, 0.3464482094969757, 0.3577873603482833, -0.7904744554453119, 0.25988279424842353, -1.867265192591748, 1.4412732890661155, -1.081548003614395, -1.4635149481321186, 0.19686123586912352, -0.47917423784528995, -0.7153037092599682, -1.7131345290908775, 0.40498171096095553, 1.0035328978920242, 0.6116762888408679, 0.755391225825756, 0.6339190223180112, -0.8604133652839524, -0.01901620790268883, -0.12578692009964815, -2.0392321777601006, -1.4074637743765552, 0.47897982574639186, -0.6626237589458467, -0.013497224737933921, -0.9857260463355437, 1.5327389130025777, 0.117327383308782, -2.123895724309807, 1.669021525289393, 0.6696725488300385, 0.7116148780888898, -0.03275327021599839, 1.1581108735000678, 0.24822058630033608, -0.9080240755212109, -0.0771017094141042, -0.03471176970524331, 0.8128621188389601, -0.13014305436768459, -1.245738778711988], \"y\": [54.32528929119836, 318.88025554725635, -332.02885176490713, 88.46377363460054, 7.534774552472136, 81.30031473806937, -108.16953612631164, -38.097342707523225, 35.566561198543646, 9.349730433799017, -93.23001595898734, -58.682094765005985, -62.840876773021364, -71.77543519984174, -7.89275105715447, 13.416752512930039, -272.8597159114368, -238.09458657627673, -47.623988961703375, 18.997837996103073, 90.16811062065783, -66.94099711642377, 186.48246986595709, 64.16297945199956, 46.72049325908096, -74.63591023962854, 187.87451391382376, 41.767372297803995, 197.93555041836822, -120.54031990268493, -37.73970130794411, 120.03301994531533, 100.7526811120128, -64.48157621912992, -56.165744141689956, -5.132283962834418, 138.17298117375861, -12.323066254137018, -138.42438163062678, 197.2901608083108, -34.25750214709374, -30.363407574624773, -151.81425344624284, -135.85028575047988, -110.20134735299598, -104.51803874022416, 53.900427337960814, -8.892615674197089, -46.86294370241792, -60.714111753885824, 78.52261757161313, -60.19739611322211, 62.869950477052804, 175.9641906034714, -81.10497089318326, -222.1664268513502, 124.30928843582916, -60.33114658192635, 17.839427663394446, -121.34271720563476, 98.32788145491567, -0.9545661851009406, -80.01509618623743, -86.70234709930686, -134.48796502842038, -153.37798737083733, -85.38097662525904, 60.97490438778002, 2.7901530471478306, -174.54636242800768, -78.011494272894, 133.53273271921162, 53.62407379007998, 61.35107616426764, -153.5903353884172]}, {\"marker\": {\"color\": \"pink\", \"size\": 5}, \"mode\": \"markers\", \"name\": \"data\", \"opacity\": 1, \"type\": \"scatter\", \"x\": [-0.6002168771587947, -1.1978778925888485, -0.5297602037670388, 0.05921843401448826, 0.046980593764742055, 0.4127809269364983, 0.3571125715117464, 1.2012139221639448, -1.0121043752601675, 1.2669111491866227, 0.47323762457354485, -0.3427145165267695, 1.5231240772696573, -1.251113576385303, -1.7033824393551547, -0.8222203955664315, -0.3609661658190799, 0.8254163489880298, -0.23415337472333597, -0.46572975357025687, 0.6453759495851475, 2.720169166589619, 1.6764373122752827, -1.1254890472983765, -0.3220615162056756], \"y\": [-70.77564594672918, -132.19163638936197, -58.464167915754786, 154.26515725620618, 60.91783246715458, 284.0215893618492, -52.859229548296284, 37.607122750901226, -159.1007906111916, 234.47974887567875, -76.6046031983646, -112.09324758852233, 58.85600550191921, 14.351709394978165, 37.12316446454897, -115.87037055592224, -54.84964519973076, 225.8958521581551, 188.97639034384372, -97.25717090772365, 273.4448654764099, 219.5639320423242, -60.72418675274223, 161.03872692947684, -56.27256131983826]}],\n",
       "                        {\"height\": 500, \"legend\": {\"font\": {\"color\": \"#ffffff\"}}, \"paper_bgcolor\": \"#22252B\", \"plot_bgcolor\": \"#292C34\", \"showlegend\": true, \"template\": {\"data\": {\"bar\": [{\"error_x\": {\"color\": \"#2a3f5f\"}, \"error_y\": {\"color\": \"#2a3f5f\"}, \"marker\": {\"line\": {\"color\": \"#E5ECF6\", \"width\": 0.5}}, \"type\": \"bar\"}], \"barpolar\": [{\"marker\": {\"line\": {\"color\": \"#E5ECF6\", \"width\": 0.5}}, \"type\": \"barpolar\"}], \"carpet\": [{\"aaxis\": {\"endlinecolor\": \"#2a3f5f\", \"gridcolor\": \"white\", \"linecolor\": \"white\", \"minorgridcolor\": \"white\", \"startlinecolor\": \"#2a3f5f\"}, \"baxis\": {\"endlinecolor\": \"#2a3f5f\", \"gridcolor\": \"white\", \"linecolor\": \"white\", \"minorgridcolor\": \"white\", \"startlinecolor\": \"#2a3f5f\"}, \"type\": \"carpet\"}], \"choropleth\": [{\"colorbar\": {\"outlinewidth\": 0, \"ticks\": \"\"}, \"type\": \"choropleth\"}], \"contour\": [{\"colorbar\": {\"outlinewidth\": 0, \"ticks\": \"\"}, \"colorscale\": [[0.0, \"#0d0887\"], [0.1111111111111111, \"#46039f\"], [0.2222222222222222, \"#7201a8\"], [0.3333333333333333, \"#9c179e\"], [0.4444444444444444, \"#bd3786\"], [0.5555555555555556, \"#d8576b\"], [0.6666666666666666, \"#ed7953\"], [0.7777777777777778, \"#fb9f3a\"], [0.8888888888888888, \"#fdca26\"], [1.0, \"#f0f921\"]], \"type\": \"contour\"}], \"contourcarpet\": [{\"colorbar\": {\"outlinewidth\": 0, \"ticks\": \"\"}, \"type\": \"contourcarpet\"}], \"heatmap\": [{\"colorbar\": {\"outlinewidth\": 0, \"ticks\": \"\"}, \"colorscale\": [[0.0, \"#0d0887\"], [0.1111111111111111, \"#46039f\"], [0.2222222222222222, \"#7201a8\"], [0.3333333333333333, \"#9c179e\"], [0.4444444444444444, \"#bd3786\"], [0.5555555555555556, \"#d8576b\"], [0.6666666666666666, \"#ed7953\"], [0.7777777777777778, \"#fb9f3a\"], [0.8888888888888888, \"#fdca26\"], [1.0, \"#f0f921\"]], \"type\": \"heatmap\"}], \"heatmapgl\": [{\"colorbar\": {\"outlinewidth\": 0, \"ticks\": \"\"}, \"colorscale\": [[0.0, \"#0d0887\"], [0.1111111111111111, \"#46039f\"], [0.2222222222222222, \"#7201a8\"], [0.3333333333333333, \"#9c179e\"], [0.4444444444444444, \"#bd3786\"], [0.5555555555555556, \"#d8576b\"], [0.6666666666666666, \"#ed7953\"], [0.7777777777777778, \"#fb9f3a\"], [0.8888888888888888, \"#fdca26\"], [1.0, \"#f0f921\"]], \"type\": \"heatmapgl\"}], \"histogram\": [{\"marker\": {\"colorbar\": {\"outlinewidth\": 0, \"ticks\": \"\"}}, \"type\": \"histogram\"}], \"histogram2d\": [{\"colorbar\": {\"outlinewidth\": 0, \"ticks\": \"\"}, \"colorscale\": [[0.0, \"#0d0887\"], [0.1111111111111111, \"#46039f\"], [0.2222222222222222, \"#7201a8\"], [0.3333333333333333, \"#9c179e\"], [0.4444444444444444, \"#bd3786\"], [0.5555555555555556, \"#d8576b\"], [0.6666666666666666, \"#ed7953\"], [0.7777777777777778, \"#fb9f3a\"], [0.8888888888888888, \"#fdca26\"], [1.0, \"#f0f921\"]], \"type\": \"histogram2d\"}], \"histogram2dcontour\": [{\"colorbar\": {\"outlinewidth\": 0, \"ticks\": \"\"}, \"colorscale\": [[0.0, \"#0d0887\"], [0.1111111111111111, \"#46039f\"], [0.2222222222222222, \"#7201a8\"], [0.3333333333333333, \"#9c179e\"], [0.4444444444444444, \"#bd3786\"], [0.5555555555555556, \"#d8576b\"], [0.6666666666666666, \"#ed7953\"], [0.7777777777777778, \"#fb9f3a\"], [0.8888888888888888, \"#fdca26\"], [1.0, \"#f0f921\"]], \"type\": \"histogram2dcontour\"}], \"mesh3d\": [{\"colorbar\": {\"outlinewidth\": 0, \"ticks\": \"\"}, \"type\": \"mesh3d\"}], \"parcoords\": [{\"line\": {\"colorbar\": {\"outlinewidth\": 0, \"ticks\": \"\"}}, \"type\": \"parcoords\"}], \"scatter\": [{\"marker\": {\"colorbar\": {\"outlinewidth\": 0, \"ticks\": \"\"}}, \"type\": \"scatter\"}], \"scatter3d\": [{\"line\": {\"colorbar\": {\"outlinewidth\": 0, \"ticks\": \"\"}}, \"marker\": {\"colorbar\": {\"outlinewidth\": 0, \"ticks\": \"\"}}, \"type\": \"scatter3d\"}], \"scattercarpet\": [{\"marker\": {\"colorbar\": {\"outlinewidth\": 0, \"ticks\": \"\"}}, \"type\": \"scattercarpet\"}], \"scattergeo\": [{\"marker\": {\"colorbar\": {\"outlinewidth\": 0, \"ticks\": \"\"}}, \"type\": \"scattergeo\"}], \"scattergl\": [{\"marker\": {\"colorbar\": {\"outlinewidth\": 0, \"ticks\": \"\"}}, \"type\": \"scattergl\"}], \"scattermapbox\": [{\"marker\": {\"colorbar\": {\"outlinewidth\": 0, \"ticks\": \"\"}}, \"type\": \"scattermapbox\"}], \"scatterpolar\": [{\"marker\": {\"colorbar\": {\"outlinewidth\": 0, \"ticks\": \"\"}}, \"type\": \"scatterpolar\"}], \"scatterpolargl\": [{\"marker\": {\"colorbar\": {\"outlinewidth\": 0, \"ticks\": \"\"}}, \"type\": \"scatterpolargl\"}], \"scatterternary\": [{\"marker\": {\"colorbar\": {\"outlinewidth\": 0, \"ticks\": \"\"}}, \"type\": \"scatterternary\"}], \"surface\": [{\"colorbar\": {\"outlinewidth\": 0, \"ticks\": \"\"}, \"colorscale\": [[0.0, \"#0d0887\"], [0.1111111111111111, \"#46039f\"], [0.2222222222222222, \"#7201a8\"], [0.3333333333333333, \"#9c179e\"], [0.4444444444444444, \"#bd3786\"], [0.5555555555555556, \"#d8576b\"], [0.6666666666666666, \"#ed7953\"], [0.7777777777777778, \"#fb9f3a\"], [0.8888888888888888, \"#fdca26\"], [1.0, \"#f0f921\"]], \"type\": \"surface\"}], \"table\": [{\"cells\": {\"fill\": {\"color\": \"#EBF0F8\"}, \"line\": {\"color\": \"white\"}}, \"header\": {\"fill\": {\"color\": \"#C8D4E3\"}, \"line\": {\"color\": \"white\"}}, \"type\": \"table\"}]}, \"layout\": {\"annotationdefaults\": {\"arrowcolor\": \"#2a3f5f\", \"arrowhead\": 0, \"arrowwidth\": 1}, \"colorscale\": {\"diverging\": [[0, \"#8e0152\"], [0.1, \"#c51b7d\"], [0.2, \"#de77ae\"], [0.3, \"#f1b6da\"], [0.4, \"#fde0ef\"], [0.5, \"#f7f7f7\"], [0.6, \"#e6f5d0\"], [0.7, \"#b8e186\"], [0.8, \"#7fbc41\"], [0.9, \"#4d9221\"], [1, \"#276419\"]], \"sequential\": [[0.0, \"#0d0887\"], [0.1111111111111111, \"#46039f\"], [0.2222222222222222, \"#7201a8\"], [0.3333333333333333, \"#9c179e\"], [0.4444444444444444, \"#bd3786\"], [0.5555555555555556, \"#d8576b\"], [0.6666666666666666, \"#ed7953\"], [0.7777777777777778, \"#fb9f3a\"], [0.8888888888888888, \"#fdca26\"], [1.0, \"#f0f921\"]], \"sequentialminus\": [[0.0, \"#0d0887\"], [0.1111111111111111, \"#46039f\"], [0.2222222222222222, \"#7201a8\"], [0.3333333333333333, \"#9c179e\"], [0.4444444444444444, \"#bd3786\"], [0.5555555555555556, \"#d8576b\"], [0.6666666666666666, \"#ed7953\"], [0.7777777777777778, \"#fb9f3a\"], [0.8888888888888888, \"#fdca26\"], [1.0, \"#f0f921\"]]}, \"colorway\": [\"#636efa\", \"#EF553B\", \"#00cc96\", \"#ab63fa\", \"#FFA15A\", \"#19d3f3\", \"#FF6692\", \"#B6E880\", \"#FF97FF\", \"#FECB52\"], \"font\": {\"color\": \"#2a3f5f\"}, \"geo\": {\"bgcolor\": \"white\", \"lakecolor\": \"white\", \"landcolor\": \"#E5ECF6\", \"showlakes\": true, \"showland\": true, \"subunitcolor\": \"white\"}, \"hoverlabel\": {\"align\": \"left\"}, \"hovermode\": \"closest\", \"mapbox\": {\"style\": \"light\"}, \"paper_bgcolor\": \"white\", \"plot_bgcolor\": \"#E5ECF6\", \"polar\": {\"angularaxis\": {\"gridcolor\": \"white\", \"linecolor\": \"white\", \"ticks\": \"\"}, \"bgcolor\": \"#E5ECF6\", \"radialaxis\": {\"gridcolor\": \"white\", \"linecolor\": \"white\", \"ticks\": \"\"}}, \"scene\": {\"xaxis\": {\"backgroundcolor\": \"#E5ECF6\", \"gridcolor\": \"white\", \"gridwidth\": 2, \"linecolor\": \"white\", \"showbackground\": true, \"ticks\": \"\", \"zerolinecolor\": \"white\"}, \"yaxis\": {\"backgroundcolor\": \"#E5ECF6\", \"gridcolor\": \"white\", \"gridwidth\": 2, \"linecolor\": \"white\", \"showbackground\": true, \"ticks\": \"\", \"zerolinecolor\": \"white\"}, \"zaxis\": {\"backgroundcolor\": \"#E5ECF6\", \"gridcolor\": \"white\", \"gridwidth\": 2, \"linecolor\": \"white\", \"showbackground\": true, \"ticks\": \"\", \"zerolinecolor\": \"white\"}}, \"shapedefaults\": {\"line\": {\"color\": \"#2a3f5f\"}}, \"ternary\": {\"aaxis\": {\"gridcolor\": \"white\", \"linecolor\": \"white\", \"ticks\": \"\"}, \"baxis\": {\"gridcolor\": \"white\", \"linecolor\": \"white\", \"ticks\": \"\"}, \"bgcolor\": \"#E5ECF6\", \"caxis\": {\"gridcolor\": \"white\", \"linecolor\": \"white\", \"ticks\": \"\"}}, \"title\": {\"x\": 0.05}, \"xaxis\": {\"automargin\": true, \"gridcolor\": \"white\", \"linecolor\": \"white\", \"ticks\": \"\", \"zerolinecolor\": \"white\", \"zerolinewidth\": 2}, \"yaxis\": {\"automargin\": true, \"gridcolor\": \"white\", \"linecolor\": \"white\", \"ticks\": \"\", \"zerolinecolor\": \"white\", \"zerolinewidth\": 2}}}, \"title\": {\"font\": {\"color\": \"#9398A4\"}, \"text\": \"Data Plot\"}, \"width\": 500, \"xaxis\": {\"gridcolor\": \"#3F434F\", \"tickfont\": {\"color\": \"#ffffff\"}, \"title\": {\"font\": {\"color\": \"#ffffff\"}, \"text\": \"X\"}, \"zeroline\": false}, \"yaxis\": {\"gridcolor\": \"#3F434F\", \"tickfont\": {\"color\": \"#ffffff\"}, \"title\": {\"font\": {\"color\": \"#ffffff\"}, \"text\": \"y\"}, \"zeroline\": false}},\n",
       "                        {\"responsive\": true}\n",
       "                    ).then(function(){\n",
       "                            \n",
       "var gd = document.getElementById('08cec0d2-2886-491b-8cf6-178e5adcd782');\n",
       "var x = new MutationObserver(function (mutations, observer) {{\n",
       "        var display = window.getComputedStyle(gd).display;\n",
       "        if (!display || display === 'none') {{\n",
       "            console.log([gd, 'removed!']);\n",
       "            Plotly.purge(gd);\n",
       "            observer.disconnect();\n",
       "        }}\n",
       "}});\n",
       "\n",
       "// Listen for the removal of the full notebook cells\n",
       "var notebookContainer = gd.closest('#notebook-container');\n",
       "if (notebookContainer) {{\n",
       "    x.observe(notebookContainer, {childList: true});\n",
       "}}\n",
       "\n",
       "// Listen for the clearing of the current output cell\n",
       "var outputEl = gd.closest('.output');\n",
       "if (outputEl) {{\n",
       "    x.observe(outputEl, {childList: true});\n",
       "}}\n",
       "\n",
       "                        })\n",
       "                };\n",
       "                });\n",
       "            </script>\n",
       "        </div>"
      ]
     },
     "metadata": {},
     "output_type": "display_data"
    }
   ],
   "source": [
    "X_train, X_test, y_train, y_test = train_test_split(X,y)\n",
    "\n",
    "render(go.Figure(\n",
    "           data=[\n",
    "               scatter(X_train[:,0],y_train ,'data', mode='markers', size=5, color='yellow', opacity=1),\n",
    "               scatter(X_test[:,0],y_test ,'data', mode='markers', size=5, color='pink', opacity=1)\n",
    "           ]), 'Data Plot', x_axis_title='X', y_axis_title='y')\n",
    "\n",
    "reg = SGDRegressor()\n",
    "fit=reg.fit(X_train,y_train)"
   ]
  }
 ],
 "metadata": {
  "kernelspec": {
   "display_name": "Python 3",
   "language": "python",
   "name": "python3"
  },
  "language_info": {
   "codemirror_mode": {
    "name": "ipython",
    "version": 3
   },
   "file_extension": ".py",
   "mimetype": "text/x-python",
   "name": "python",
   "nbconvert_exporter": "python",
   "pygments_lexer": "ipython3",
   "version": "3.7.3"
  }
 },
 "nbformat": 4,
 "nbformat_minor": 4
}
