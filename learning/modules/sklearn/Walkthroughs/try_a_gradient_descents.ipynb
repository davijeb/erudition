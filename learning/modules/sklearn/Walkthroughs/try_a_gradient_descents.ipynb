{
 "cells": [
  {
   "cell_type": "markdown",
   "metadata": {},
   "source": [
    "# Collection of Gradient Descent Methods"
   ]
  },
  {
   "cell_type": "code",
   "execution_count": null,
   "metadata": {},
   "outputs": [],
   "source": [
    "from sklearn.linear_model import LinearRegression\n",
    "from sklearn.preprocessing import StandardScaler\n",
    "from sklearn.datasets import make_regression\n",
    "from sklearn.model_selection import train_test_split\n",
    "from sklearn.metrics import accuracy_score\n",
    "\n",
    "import math\n",
    "\n",
    "import numpy as np\n",
    "import pandas as pd\n",
    "from sklearn.decomposition import PCA\n",
    "import os, sys, plotly.graph_objects as go\n",
    "module_path = os.path.abspath(os.path.join('../../../../..'))\n",
    "if module_path not in sys.path:\n",
    "    sys.path.append(module_path) \n",
    "from erudition.learning.helpers.plots.plotly_render import render, scatter, bar, shape_rect"
   ]
  },
  {
   "cell_type": "markdown",
   "metadata": {},
   "source": [
    "# Hand crafted linear regression"
   ]
  },
  {
   "cell_type": "code",
   "execution_count": null,
   "metadata": {},
   "outputs": [],
   "source": [
    "X = np.array([1,1.2, 4,3.8,4,5])\n",
    "y = np.array([3,2,3,3.5,5,7])\n",
    "\n",
    "diabetes_X[:,0].shape, diabetes_y.shape\n",
    "\n",
    "render(\n",
    "    go.Figure(data=[scatter(X, y, 'Data', mode='markers', color='yellow', opacity=0.9, size=5)]),\n",
    "    title='Scatter',\n",
    "    x_axis_title='X',\n",
    "    y_axis_title='y'\n",
    "\n",
    ")"
   ]
  },
  {
   "cell_type": "code",
   "execution_count": null,
   "metadata": {},
   "outputs": [],
   "source": [
    "theta_1x = np.mean(y/X.T)\n",
    "\n",
    "Xr = X.reshape(6,1)\n",
    "yr = y.reshape(6,1)\n",
    "theta_1=np.linalg.inv(Xr.T.dot(Xr)).dot(Xr.T.dot(yr))"
   ]
  },
  {
   "cell_type": "code",
   "execution_count": null,
   "metadata": {},
   "outputs": [],
   "source": [
    "model = LinearRegression()\n",
    "model.fit(Xr, y)\n",
    "\n",
    "model.coef_, model.intercept_"
   ]
  },
  {
   "cell_type": "code",
   "execution_count": null,
   "metadata": {},
   "outputs": [],
   "source": [
    "theta_0 = 0\n",
    "\n",
    "x_range = np.arange(0,6, 0.1)\n",
    "\n",
    "render(go.Figure(\n",
    "    data=[\n",
    "        scatter(X, y, 'Data', mode='markers', color='yellow', opacity=0.9, size=5),\n",
    "        scatter(x_range,x_range*theta_1x, 'Guess', mode='lines', size=5, color='yellow'),\n",
    "        scatter(x_range,x_range*theta_1[0], 'Gaussian', mode='lines', size=5, color='orange'),\n",
    "        scatter(x_range,x_range*model.coef_[0] + model.intercept_, 'LinearRegression', mode='lines', size=5, color='pink')\n",
    "    ]\n",
    "), 'Data Plot', x_axis_title='X', y_axis_title='y')\n"
   ]
  },
  {
   "cell_type": "markdown",
   "metadata": {},
   "source": [
    "# Cost function\n",
    "\n",
    "The cost function is defined as:\n",
    "    \n",
    "$$J(\\theta) = \\frac {1}{2n} \\sum_{i=1}^n(h_\\theta(x_i) - y_i)^2$$\n",
    "\n",
    "Which can be written in matrix form as:\n",
    "\n",
    "$$J(\\theta) = \\frac {1}{2n}(X\\theta-y)^T(X\\theta-y)$$\n",
    "\n",
    "which has the following closed-form solution\n",
    "\n",
    "$$J(\\theta) = (X^TX)^{-1}X^Ty$$\n",
    "\n",
    "We can also look for a function that minimises the cost function and we do this by using a technique called gradient descent. The key idea behind gradient descent is that we take the partial derivative of the theta values to find the slope of the cost function (assumed to be convex) and Lipschitz continuous (https://en.wikipedia.org/wiki/Lipschitz_continuity).\n",
    "\n",
    "Let's plot some values of $\\theta$ to show the form of the cost function."
   ]
  },
  {
   "cell_type": "code",
   "execution_count": null,
   "metadata": {},
   "outputs": [],
   "source": [
    "theta_0 = np.arange(-10, 10, 1)\n",
    "theta_1 = np.arange(-10, 10, 1)\n",
    "\n",
    "for t0, t1 in zip(theta_0, theta_1):\n",
    "    print(t0, t1)"
   ]
  },
  {
   "cell_type": "code",
   "execution_count": null,
   "metadata": {},
   "outputs": [],
   "source": [
    "def cost_function(thetas, n):\n",
    "    \n",
    "    j = 1/n * "
   ]
  },
  {
   "cell_type": "code",
   "execution_count": null,
   "metadata": {},
   "outputs": [],
   "source": [
    "theta = np.array((1,1))\n",
    "theta.T.shape"
   ]
  },
  {
   "cell_type": "markdown",
   "metadata": {},
   "source": [
    "# Stochastic Gradient Descent\n",
    "\n",
    "$$J(\\mathbf w) = \\frac {1}{2} \\sum_{i=1}^N \\left( y^{(i)}-\\phi (\\mathbf w^T \\mathbf x)^{(i)} \\right )^2$$"
   ]
  },
  {
   "cell_type": "code",
   "execution_count": null,
   "metadata": {},
   "outputs": [],
   "source": [
    "X, y = make_regression(n_features=7, random_state=42)\n",
    "\n",
    "# = StandardScaler().fit_transform(X)\n",
    "render(go.Figure(data=[scatter(X_scaled[:,0],y, 'data', mode='markers', size=5, color='yellow')]), 'Data Plot', x_axis_title='X', y_axis_title='y')"
   ]
  },
  {
   "cell_type": "code",
   "execution_count": null,
   "metadata": {},
   "outputs": [],
   "source": [
    "X_train, X_test, y_train, y_test = train_test_split(X,y)\n",
    "\n",
    "render(go.Figure(\n",
    "           data=[\n",
    "           scatter(X_train[:,0],y_train ,'data', mode='markers', size=5, color='yellow', opacity=1)\n",
    "           ]), 'Data Plot', x_axis_title='X', y_axis_title='y')\n",
    "\n",
    "reg = SGDRegressor()\n",
    "fit=reg.fit(X_train[:,0].reshape(75,1),y_train)"
   ]
  },
  {
   "cell_type": "code",
   "execution_count": null,
   "metadata": {},
   "outputs": [],
   "source": [
    "y_pred = reg.predict(X_test[:,0].reshape(25,1))"
   ]
  },
  {
   "cell_type": "code",
   "execution_count": null,
   "metadata": {},
   "outputs": [],
   "source": [
    "x_pred = np.arange(-3, 3, 0.24)"
   ]
  },
  {
   "cell_type": "code",
   "execution_count": null,
   "metadata": {},
   "outputs": [],
   "source": [
    "y_pred"
   ]
  },
  {
   "cell_type": "code",
   "execution_count": null,
   "metadata": {},
   "outputs": [],
   "source": [
    "6/25"
   ]
  },
  {
   "cell_type": "code",
   "execution_count": null,
   "metadata": {},
   "outputs": [],
   "source": [
    "x_pred"
   ]
  },
  {
   "cell_type": "code",
   "execution_count": null,
   "metadata": {},
   "outputs": [],
   "source": [
    "render(go.Figure(\n",
    "           data=[\n",
    "               scatter(X_train[:,0],y_train ,'data', mode='markers', size=5, color='yellow', opacity=1),\n",
    "               scatter(x_pred.T , y_pred, 'fit', mode='lines', size=5, color='pink', opacity=1)\n",
    "           ]), 'Data Plot', x_axis_title='X', y_axis_title='y')\n",
    "\n",
    "reg = SGDRegressor()\n",
    "fit=reg.fit(X_train,y_train)"
   ]
  },
  {
   "cell_type": "code",
   "execution_count": null,
   "metadata": {},
   "outputs": [],
   "source": [
    "X"
   ]
  },
  {
   "cell_type": "code",
   "execution_count": null,
   "metadata": {},
   "outputs": [],
   "source": [
    "render(go.Figure(\n",
    "           data=[\n",
    "               scatter(X,y ,'data', mode='markers', size=5, color='yellow', opacity=1)\n",
    "           ]), 'Data Plot', x_axis_title='X', y_axis_title='y')\n",
    "\n",
    "reg = SGDRegressor()\n",
    "fit=reg.fit(X_train,y_train)"
   ]
  },
  {
   "cell_type": "code",
   "execution_count": null,
   "metadata": {},
   "outputs": [],
   "source": []
  }
 ],
 "metadata": {
  "kernelspec": {
   "display_name": "Python 3",
   "language": "python",
   "name": "python3"
  },
  "language_info": {
   "codemirror_mode": {
    "name": "ipython",
    "version": 3
   },
   "file_extension": ".py",
   "mimetype": "text/x-python",
   "name": "python",
   "nbconvert_exporter": "python",
   "pygments_lexer": "ipython3",
   "version": "3.7.3"
  }
 },
 "nbformat": 4,
 "nbformat_minor": 4
}
