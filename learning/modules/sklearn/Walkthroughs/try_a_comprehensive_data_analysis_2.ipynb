{
 "cells": [
  {
   "cell_type": "code",
   "execution_count": null,
   "metadata": {},
   "outputs": [],
   "source": [
    "import pandas as pd\n",
    "import numpy as np\n",
    "import seaborn as sns\n",
    "import matplotlib.pyplot as plt\n",
    "\n",
    "from sklearn.datasets import load_breast_cancer, load_wine\n",
    "\n",
    "np.random.seed(42)"
   ]
  },
  {
   "cell_type": "code",
   "execution_count": null,
   "metadata": {},
   "outputs": [],
   "source": [
    "dataset = load_wine()\n",
    "X = dataset.data\n",
    "y = dataset.target\n",
    "\n",
    "X.shape"
   ]
  },
  {
   "cell_type": "code",
   "execution_count": null,
   "metadata": {},
   "outputs": [],
   "source": [
    "df = pd.DataFrame(X, columns=dataset.feature_names)\n",
    "p=sns.pairplot(df)"
   ]
  },
  {
   "cell_type": "code",
   "execution_count": null,
   "metadata": {},
   "outputs": [],
   "source": [
    "corrmap = df.corr()\n",
    "f, ax = plt.subplots(figsize=(20, 20))\n",
    "p=sns.heatmap(corrmap, square=True)"
   ]
  },
  {
   "cell_type": "code",
   "execution_count": null,
   "metadata": {},
   "outputs": [],
   "source": [
    "p=sns.distplot(df.ash)"
   ]
  },
  {
   "cell_type": "code",
   "execution_count": null,
   "metadata": {},
   "outputs": [],
   "source": [
    "# Search for Normality\n",
    "from scipy.stats import norm\n",
    "\n",
    "#histogram and normal probability plot\n",
    "from scipy import stats\n",
    "sns.distplot(df['magnesium'], fit=norm);\n",
    "fig = plt.figure()\n",
    "\n",
    "# Calculate quantiles for a probability plot, and optionally show the plot.\n",
    "# Generates a probability plot of sample data against the quantiles of a specified theoretical distribution (the normal distribution by default). \n",
    "# probplot optionally calculates a best-fit line for the data and plots the results using Matplotlib or a given plot function.\n",
    "res = stats.probplot(df['magnesium'], plot=plt)"
   ]
  },
  {
   "cell_type": "code",
   "execution_count": null,
   "metadata": {},
   "outputs": [],
   "source": [
    "# magnesium shows positive skewness and does not follow the line as a normal distribution would"
   ]
  },
  {
   "cell_type": "markdown",
   "metadata": {},
   "source": [
    "# Positive Skewness & Log Transform\n",
    "\n",
    "But everything's not lost. A simple data transformation can solve the problem. This is one of the awesome things you can learn in statistical books: in case of positive skewness, log transformations usually works well. When I discovered this, I felt like an Hogwarts' student discovering a new cool spell."
   ]
  },
  {
   "cell_type": "code",
   "execution_count": null,
   "metadata": {},
   "outputs": [],
   "source": [
    "df['magnesium'] = np.log(df['magnesium'])\n",
    "\n",
    "sns.distplot(df['magnesium'], fit=norm);\n",
    "fig = plt.figure()\n",
    "res = stats.probplot(df['magnesium'], plot=plt)"
   ]
  },
  {
   "cell_type": "code",
   "execution_count": null,
   "metadata": {},
   "outputs": [],
   "source": [
    "# Try a QuantileTranform\n",
    "\n",
    "from sklearn.preprocessing import QuantileTransformer\n",
    "trans = QuantileTransformer(output_distribution='normal')\n",
    "\n",
    "d = df.magnesium.to_numpy()[:,np.newaxis]\n",
    "res = trans.fit_transform(df.magnesium.to_numpy()[:,np.newaxis])\n",
    "\n",
    "sns.distplot(df['magnesium'], fit=norm);\n",
    "fig = plt.figure()\n",
    "r=stats.probplot(d[:,0], plot=plt)"
   ]
  },
  {
   "cell_type": "code",
   "execution_count": null,
   "metadata": {},
   "outputs": [],
   "source": []
  }
 ],
 "metadata": {
  "kernelspec": {
   "display_name": "Python 3",
   "language": "python",
   "name": "python3"
  },
  "language_info": {
   "codemirror_mode": {
    "name": "ipython",
    "version": 3
   },
   "file_extension": ".py",
   "mimetype": "text/x-python",
   "name": "python",
   "nbconvert_exporter": "python",
   "pygments_lexer": "ipython3",
   "version": "3.7.3"
  }
 },
 "nbformat": 4,
 "nbformat_minor": 4
}
