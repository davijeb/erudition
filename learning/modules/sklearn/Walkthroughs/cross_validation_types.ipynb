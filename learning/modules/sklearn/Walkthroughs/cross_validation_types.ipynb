{
 "cells": [
  {
   "cell_type": "markdown",
   "metadata": {},
   "source": [
    "# Cross Validation Type Visualisation\n",
    "\n",
    "https://scikit-learn.org/stable/auto_examples/model_selection/plot_cv_indices.html#sphx-glr-auto-examples-model-selection-plot-cv-indices-py"
   ]
  },
  {
   "cell_type": "code",
   "execution_count": null,
   "metadata": {},
   "outputs": [],
   "source": [
    "import numpy as np\n",
    "from sklearn.model_selection import train_test_split, cross_val_score\n",
    "from sklearn.model_selection import (TimeSeriesSplit, KFold, ShuffleSplit,\n",
    "                                     StratifiedKFold, GroupShuffleSplit,\n",
    "                                     GroupKFold, StratifiedShuffleSplit)\n",
    "from sklearn import datasets\n",
    "from sklearn import svm\n",
    "import os, sys, plotly.graph_objects as go\n",
    "module_path = os.path.abspath(os.path.join('../../../../..'))\n",
    "if module_path not in sys.path:\n",
    "    sys.path.append(module_path) \n",
    "from erudition.learning.helpers.plots.plotly_render import render, scatter, bar, shape_rect"
   ]
  },
  {
   "cell_type": "code",
   "execution_count": null,
   "metadata": {},
   "outputs": [],
   "source": [
    "X = np.random.randn(100, 10)\n",
    "\n",
    "percentiles_classes = [10,30,60]\n",
    "y = np.hstack([[i] * perc for i, perc in enumerate(percentiles_classes)])\n",
    "\n",
    "# Evenly spaced groups repeated once\n",
    "groups = np.hstack([[i] * 10 for i in range(10)])"
   ]
  },
  {
   "cell_type": "code",
   "execution_count": null,
   "metadata": {},
   "outputs": [],
   "source": [
    "import plotly.graph_objects as go\n",
    "\n",
    "cv = KFold(n_splits=12)\n",
    "\n",
    "indexes = []\n",
    "\n",
    "def plot_cv_indices(cv, X, y, group):\n",
    "    \"\"\"Create a sample plot for indices of a cross-validation object.\"\"\"\n",
    "\n",
    "    # Generate the training/testing visualizations for each CV split\n",
    "    for ii, (tr, tt) in enumerate(cv.split(X=X, y=y, groups=group)):\n",
    "        indices = np.array([np.nan] * len(X))\n",
    "        indices[tt] = 1\n",
    "        indices[tr] = 0\n",
    "        indexes.append(np.where(indices[:-1] != indices[1:])[0])\n",
    "        \n",
    "plot_cv_indices(cv, X, y, group)\n",
    "\n",
    "fig = go.Figure()\n",
    "\n",
    "cols = ['#e6194b', '#3cb44b', '#ffe119', '#4363d8', '#f58231', '#911eb4', '#46f0f0', '#f032e6', '#bcf60c', '#fabebe']\n",
    "\n",
    "# Set axes properties\n",
    "fig.update_xaxes(range=[0, 100], showgrid=False)\n",
    "fig.update_yaxes(range=[0, len(indexes)], showgrid=False)\n",
    "\n",
    "fold = 0\n",
    "start_col = 0\n",
    "\n",
    "for idx in reversed(indexes):\n",
    "    fig.add_shape(shape_rect(0,idx[0],fold,fold+0.9, fill_color=cols[0], line_width=1))\n",
    "    if (len(idx) > 1):\n",
    "        for sub_idx in idx[1:]:\n",
    "            fig.add_shape(shape_rect(idx[0],sub_idx,fold,fold+0.9, fill_color=cols[0], line_width=1))\n",
    "            last_sub = sub_idx\n",
    "    else:\n",
    "        last_sub = idx[0]          \n",
    "    se = fig.add_shape(shape_rect(last_sub,100,fold, fold+0.9, fill_color=cols[2], line_width=1)) \n",
    "    fold+=1\n",
    "    start_col = 1\n",
    "    \n",
    "fig.update_shapes(dict(xref='x', yref='y'))\n",
    "render(fig, str(cv.__class__.__name__), height=400, width=900)"
   ]
  }
 ],
 "metadata": {
  "kernelspec": {
   "display_name": "Python 3",
   "language": "python",
   "name": "python3"
  },
  "language_info": {
   "codemirror_mode": {
    "name": "ipython",
    "version": 3
   },
   "file_extension": ".py",
   "mimetype": "text/x-python",
   "name": "python",
   "nbconvert_exporter": "python",
   "pygments_lexer": "ipython3",
   "version": "3.7.3"
  }
 },
 "nbformat": 4,
 "nbformat_minor": 4
}
