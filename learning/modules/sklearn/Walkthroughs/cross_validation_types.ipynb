{
 "cells": [
  {
   "cell_type": "markdown",
   "metadata": {},
   "source": [
    "# Cross Validation Type Visualisation\n",
    "\n",
    "https://scikit-learn.org/stable/auto_examples/model_selection/plot_cv_indices.html#sphx-glr-auto-examples-model-selection-plot-cv-indices-py"
   ]
  },
  {
   "cell_type": "code",
   "execution_count": 24,
   "metadata": {},
   "outputs": [],
   "source": [
    "import numpy as np\n",
    "from sklearn.model_selection import train_test_split, cross_val_score\n",
    "from sklearn.model_selection import (TimeSeriesSplit, KFold, ShuffleSplit,\n",
    "                                     StratifiedKFold, GroupShuffleSplit,\n",
    "                                     GroupKFold, StratifiedShuffleSplit)\n",
    "from sklearn import datasets\n",
    "from sklearn import svm\n",
    "import os, sys, plotly.graph_objects as go\n",
    "module_path = os.path.abspath(os.path.join('../../../../..'))\n",
    "if module_path not in sys.path:\n",
    "    sys.path.append(module_path) \n",
    "from erudition.learning.helpers.plots.plotly_render import render, scatter, bar, shape_rect"
   ]
  },
  {
   "cell_type": "code",
   "execution_count": 25,
   "metadata": {},
   "outputs": [],
   "source": [
    "X = np.random.randn(100, 10)\n",
    "\n",
    "percentiles_classes = [10,30,60]\n",
    "y = np.hstack([[i] * perc for i, perc in enumerate(percentiles_classes)])\n",
    "\n",
    "# Evenly spaced groups repeated once\n",
    "groups = np.hstack([[i] * 10 for i in range(10)])"
   ]
  },
  {
   "cell_type": "code",
   "execution_count": 33,
   "metadata": {},
   "outputs": [
    {
     "data": {
      "application/vnd.plotly.v1+json": {
       "config": {
        "plotlyServerURL": "https://plot.ly"
       },
       "data": [],
       "layout": {
        "barmode": "stack",
        "height": 400,
        "legend": {
         "font": {
          "color": "#ffffff"
         }
        },
        "paper_bgcolor": "#22252B",
        "plot_bgcolor": "#292C34",
        "shapes": [
         {
          "line": {
           "color": "RoyalBlue",
           "width": 1
          },
          "type": "rect",
          "x0": 0,
          "x1": 91,
          "xref": "x",
          "y0": 0,
          "y1": 0.9,
          "yref": "y"
         },
         {
          "line": {
           "color": "RoyalBlue",
           "width": 1
          },
          "type": "rect",
          "x0": 91,
          "x1": 100,
          "xref": "x",
          "y0": 0,
          "y1": 0.9,
          "yref": "y"
         },
         {
          "line": {
           "color": "RoyalBlue",
           "width": 1
          },
          "type": "rect",
          "x0": 0,
          "x1": 83,
          "xref": "x",
          "y0": 1,
          "y1": 1.9,
          "yref": "y"
         },
         {
          "line": {
           "color": "RoyalBlue",
           "width": 1
          },
          "type": "rect",
          "x0": 83,
          "x1": 91,
          "xref": "x",
          "y0": 1,
          "y1": 1.9,
          "yref": "y"
         },
         {
          "line": {
           "color": "RoyalBlue",
           "width": 1
          },
          "type": "rect",
          "x0": 91,
          "x1": 100,
          "xref": "x",
          "y0": 1,
          "y1": 1.9,
          "yref": "y"
         },
         {
          "line": {
           "color": "RoyalBlue",
           "width": 1
          },
          "type": "rect",
          "x0": 0,
          "x1": 75,
          "xref": "x",
          "y0": 2,
          "y1": 2.9,
          "yref": "y"
         },
         {
          "line": {
           "color": "RoyalBlue",
           "width": 1
          },
          "type": "rect",
          "x0": 75,
          "x1": 83,
          "xref": "x",
          "y0": 2,
          "y1": 2.9,
          "yref": "y"
         },
         {
          "line": {
           "color": "RoyalBlue",
           "width": 1
          },
          "type": "rect",
          "x0": 83,
          "x1": 100,
          "xref": "x",
          "y0": 2,
          "y1": 2.9,
          "yref": "y"
         },
         {
          "line": {
           "color": "RoyalBlue",
           "width": 1
          },
          "type": "rect",
          "x0": 0,
          "x1": 67,
          "xref": "x",
          "y0": 3,
          "y1": 3.9,
          "yref": "y"
         },
         {
          "line": {
           "color": "RoyalBlue",
           "width": 1
          },
          "type": "rect",
          "x0": 67,
          "x1": 75,
          "xref": "x",
          "y0": 3,
          "y1": 3.9,
          "yref": "y"
         },
         {
          "line": {
           "color": "RoyalBlue",
           "width": 1
          },
          "type": "rect",
          "x0": 75,
          "x1": 100,
          "xref": "x",
          "y0": 3,
          "y1": 3.9,
          "yref": "y"
         },
         {
          "line": {
           "color": "RoyalBlue",
           "width": 1
          },
          "type": "rect",
          "x0": 0,
          "x1": 59,
          "xref": "x",
          "y0": 4,
          "y1": 4.9,
          "yref": "y"
         },
         {
          "line": {
           "color": "RoyalBlue",
           "width": 1
          },
          "type": "rect",
          "x0": 59,
          "x1": 67,
          "xref": "x",
          "y0": 4,
          "y1": 4.9,
          "yref": "y"
         },
         {
          "line": {
           "color": "RoyalBlue",
           "width": 1
          },
          "type": "rect",
          "x0": 67,
          "x1": 100,
          "xref": "x",
          "y0": 4,
          "y1": 4.9,
          "yref": "y"
         },
         {
          "line": {
           "color": "RoyalBlue",
           "width": 1
          },
          "type": "rect",
          "x0": 0,
          "x1": 51,
          "xref": "x",
          "y0": 5,
          "y1": 5.9,
          "yref": "y"
         },
         {
          "line": {
           "color": "RoyalBlue",
           "width": 1
          },
          "type": "rect",
          "x0": 51,
          "x1": 59,
          "xref": "x",
          "y0": 5,
          "y1": 5.9,
          "yref": "y"
         },
         {
          "line": {
           "color": "RoyalBlue",
           "width": 1
          },
          "type": "rect",
          "x0": 59,
          "x1": 100,
          "xref": "x",
          "y0": 5,
          "y1": 5.9,
          "yref": "y"
         },
         {
          "line": {
           "color": "RoyalBlue",
           "width": 1
          },
          "type": "rect",
          "x0": 0,
          "x1": 43,
          "xref": "x",
          "y0": 6,
          "y1": 6.9,
          "yref": "y"
         },
         {
          "line": {
           "color": "RoyalBlue",
           "width": 1
          },
          "type": "rect",
          "x0": 43,
          "x1": 51,
          "xref": "x",
          "y0": 6,
          "y1": 6.9,
          "yref": "y"
         },
         {
          "line": {
           "color": "RoyalBlue",
           "width": 1
          },
          "type": "rect",
          "x0": 51,
          "x1": 100,
          "xref": "x",
          "y0": 6,
          "y1": 6.9,
          "yref": "y"
         },
         {
          "line": {
           "color": "RoyalBlue",
           "width": 1
          },
          "type": "rect",
          "x0": 0,
          "x1": 35,
          "xref": "x",
          "y0": 7,
          "y1": 7.9,
          "yref": "y"
         },
         {
          "line": {
           "color": "RoyalBlue",
           "width": 1
          },
          "type": "rect",
          "x0": 35,
          "x1": 43,
          "xref": "x",
          "y0": 7,
          "y1": 7.9,
          "yref": "y"
         },
         {
          "line": {
           "color": "RoyalBlue",
           "width": 1
          },
          "type": "rect",
          "x0": 43,
          "x1": 100,
          "xref": "x",
          "y0": 7,
          "y1": 7.9,
          "yref": "y"
         },
         {
          "line": {
           "color": "RoyalBlue",
           "width": 1
          },
          "type": "rect",
          "x0": 0,
          "x1": 26,
          "xref": "x",
          "y0": 8,
          "y1": 8.9,
          "yref": "y"
         },
         {
          "line": {
           "color": "RoyalBlue",
           "width": 1
          },
          "type": "rect",
          "x0": 26,
          "x1": 35,
          "xref": "x",
          "y0": 8,
          "y1": 8.9,
          "yref": "y"
         },
         {
          "line": {
           "color": "RoyalBlue",
           "width": 1
          },
          "type": "rect",
          "x0": 35,
          "x1": 100,
          "xref": "x",
          "y0": 8,
          "y1": 8.9,
          "yref": "y"
         },
         {
          "line": {
           "color": "RoyalBlue",
           "width": 1
          },
          "type": "rect",
          "x0": 0,
          "x1": 17,
          "xref": "x",
          "y0": 9,
          "y1": 9.9,
          "yref": "y"
         },
         {
          "line": {
           "color": "RoyalBlue",
           "width": 1
          },
          "type": "rect",
          "x0": 17,
          "x1": 26,
          "xref": "x",
          "y0": 9,
          "y1": 9.9,
          "yref": "y"
         },
         {
          "line": {
           "color": "RoyalBlue",
           "width": 1
          },
          "type": "rect",
          "x0": 26,
          "x1": 100,
          "xref": "x",
          "y0": 9,
          "y1": 9.9,
          "yref": "y"
         },
         {
          "line": {
           "color": "RoyalBlue",
           "width": 1
          },
          "type": "rect",
          "x0": 0,
          "x1": 8,
          "xref": "x",
          "y0": 10,
          "y1": 10.9,
          "yref": "y"
         },
         {
          "line": {
           "color": "RoyalBlue",
           "width": 1
          },
          "type": "rect",
          "x0": 8,
          "x1": 17,
          "xref": "x",
          "y0": 10,
          "y1": 10.9,
          "yref": "y"
         },
         {
          "line": {
           "color": "RoyalBlue",
           "width": 1
          },
          "type": "rect",
          "x0": 17,
          "x1": 100,
          "xref": "x",
          "y0": 10,
          "y1": 10.9,
          "yref": "y"
         },
         {
          "line": {
           "color": "RoyalBlue",
           "width": 1
          },
          "type": "rect",
          "x0": 0,
          "x1": 8,
          "xref": "x",
          "y0": 11,
          "y1": 11.9,
          "yref": "y"
         },
         {
          "line": {
           "color": "RoyalBlue",
           "width": 1
          },
          "type": "rect",
          "x0": 8,
          "x1": 100,
          "xref": "x",
          "y0": 11,
          "y1": 11.9,
          "yref": "y"
         }
        ],
        "showlegend": true,
        "template": {
         "data": {
          "bar": [
           {
            "error_x": {
             "color": "#2a3f5f"
            },
            "error_y": {
             "color": "#2a3f5f"
            },
            "marker": {
             "line": {
              "color": "#E5ECF6",
              "width": 0.5
             }
            },
            "type": "bar"
           }
          ],
          "barpolar": [
           {
            "marker": {
             "line": {
              "color": "#E5ECF6",
              "width": 0.5
             }
            },
            "type": "barpolar"
           }
          ],
          "carpet": [
           {
            "aaxis": {
             "endlinecolor": "#2a3f5f",
             "gridcolor": "white",
             "linecolor": "white",
             "minorgridcolor": "white",
             "startlinecolor": "#2a3f5f"
            },
            "baxis": {
             "endlinecolor": "#2a3f5f",
             "gridcolor": "white",
             "linecolor": "white",
             "minorgridcolor": "white",
             "startlinecolor": "#2a3f5f"
            },
            "type": "carpet"
           }
          ],
          "choropleth": [
           {
            "colorbar": {
             "outlinewidth": 0,
             "ticks": ""
            },
            "type": "choropleth"
           }
          ],
          "contour": [
           {
            "colorbar": {
             "outlinewidth": 0,
             "ticks": ""
            },
            "colorscale": [
             [
              0,
              "#0d0887"
             ],
             [
              0.1111111111111111,
              "#46039f"
             ],
             [
              0.2222222222222222,
              "#7201a8"
             ],
             [
              0.3333333333333333,
              "#9c179e"
             ],
             [
              0.4444444444444444,
              "#bd3786"
             ],
             [
              0.5555555555555556,
              "#d8576b"
             ],
             [
              0.6666666666666666,
              "#ed7953"
             ],
             [
              0.7777777777777778,
              "#fb9f3a"
             ],
             [
              0.8888888888888888,
              "#fdca26"
             ],
             [
              1,
              "#f0f921"
             ]
            ],
            "type": "contour"
           }
          ],
          "contourcarpet": [
           {
            "colorbar": {
             "outlinewidth": 0,
             "ticks": ""
            },
            "type": "contourcarpet"
           }
          ],
          "heatmap": [
           {
            "colorbar": {
             "outlinewidth": 0,
             "ticks": ""
            },
            "colorscale": [
             [
              0,
              "#0d0887"
             ],
             [
              0.1111111111111111,
              "#46039f"
             ],
             [
              0.2222222222222222,
              "#7201a8"
             ],
             [
              0.3333333333333333,
              "#9c179e"
             ],
             [
              0.4444444444444444,
              "#bd3786"
             ],
             [
              0.5555555555555556,
              "#d8576b"
             ],
             [
              0.6666666666666666,
              "#ed7953"
             ],
             [
              0.7777777777777778,
              "#fb9f3a"
             ],
             [
              0.8888888888888888,
              "#fdca26"
             ],
             [
              1,
              "#f0f921"
             ]
            ],
            "type": "heatmap"
           }
          ],
          "heatmapgl": [
           {
            "colorbar": {
             "outlinewidth": 0,
             "ticks": ""
            },
            "colorscale": [
             [
              0,
              "#0d0887"
             ],
             [
              0.1111111111111111,
              "#46039f"
             ],
             [
              0.2222222222222222,
              "#7201a8"
             ],
             [
              0.3333333333333333,
              "#9c179e"
             ],
             [
              0.4444444444444444,
              "#bd3786"
             ],
             [
              0.5555555555555556,
              "#d8576b"
             ],
             [
              0.6666666666666666,
              "#ed7953"
             ],
             [
              0.7777777777777778,
              "#fb9f3a"
             ],
             [
              0.8888888888888888,
              "#fdca26"
             ],
             [
              1,
              "#f0f921"
             ]
            ],
            "type": "heatmapgl"
           }
          ],
          "histogram": [
           {
            "marker": {
             "colorbar": {
              "outlinewidth": 0,
              "ticks": ""
             }
            },
            "type": "histogram"
           }
          ],
          "histogram2d": [
           {
            "colorbar": {
             "outlinewidth": 0,
             "ticks": ""
            },
            "colorscale": [
             [
              0,
              "#0d0887"
             ],
             [
              0.1111111111111111,
              "#46039f"
             ],
             [
              0.2222222222222222,
              "#7201a8"
             ],
             [
              0.3333333333333333,
              "#9c179e"
             ],
             [
              0.4444444444444444,
              "#bd3786"
             ],
             [
              0.5555555555555556,
              "#d8576b"
             ],
             [
              0.6666666666666666,
              "#ed7953"
             ],
             [
              0.7777777777777778,
              "#fb9f3a"
             ],
             [
              0.8888888888888888,
              "#fdca26"
             ],
             [
              1,
              "#f0f921"
             ]
            ],
            "type": "histogram2d"
           }
          ],
          "histogram2dcontour": [
           {
            "colorbar": {
             "outlinewidth": 0,
             "ticks": ""
            },
            "colorscale": [
             [
              0,
              "#0d0887"
             ],
             [
              0.1111111111111111,
              "#46039f"
             ],
             [
              0.2222222222222222,
              "#7201a8"
             ],
             [
              0.3333333333333333,
              "#9c179e"
             ],
             [
              0.4444444444444444,
              "#bd3786"
             ],
             [
              0.5555555555555556,
              "#d8576b"
             ],
             [
              0.6666666666666666,
              "#ed7953"
             ],
             [
              0.7777777777777778,
              "#fb9f3a"
             ],
             [
              0.8888888888888888,
              "#fdca26"
             ],
             [
              1,
              "#f0f921"
             ]
            ],
            "type": "histogram2dcontour"
           }
          ],
          "mesh3d": [
           {
            "colorbar": {
             "outlinewidth": 0,
             "ticks": ""
            },
            "type": "mesh3d"
           }
          ],
          "parcoords": [
           {
            "line": {
             "colorbar": {
              "outlinewidth": 0,
              "ticks": ""
             }
            },
            "type": "parcoords"
           }
          ],
          "scatter": [
           {
            "marker": {
             "colorbar": {
              "outlinewidth": 0,
              "ticks": ""
             }
            },
            "type": "scatter"
           }
          ],
          "scatter3d": [
           {
            "line": {
             "colorbar": {
              "outlinewidth": 0,
              "ticks": ""
             }
            },
            "marker": {
             "colorbar": {
              "outlinewidth": 0,
              "ticks": ""
             }
            },
            "type": "scatter3d"
           }
          ],
          "scattercarpet": [
           {
            "marker": {
             "colorbar": {
              "outlinewidth": 0,
              "ticks": ""
             }
            },
            "type": "scattercarpet"
           }
          ],
          "scattergeo": [
           {
            "marker": {
             "colorbar": {
              "outlinewidth": 0,
              "ticks": ""
             }
            },
            "type": "scattergeo"
           }
          ],
          "scattergl": [
           {
            "marker": {
             "colorbar": {
              "outlinewidth": 0,
              "ticks": ""
             }
            },
            "type": "scattergl"
           }
          ],
          "scattermapbox": [
           {
            "marker": {
             "colorbar": {
              "outlinewidth": 0,
              "ticks": ""
             }
            },
            "type": "scattermapbox"
           }
          ],
          "scatterpolar": [
           {
            "marker": {
             "colorbar": {
              "outlinewidth": 0,
              "ticks": ""
             }
            },
            "type": "scatterpolar"
           }
          ],
          "scatterpolargl": [
           {
            "marker": {
             "colorbar": {
              "outlinewidth": 0,
              "ticks": ""
             }
            },
            "type": "scatterpolargl"
           }
          ],
          "scatterternary": [
           {
            "marker": {
             "colorbar": {
              "outlinewidth": 0,
              "ticks": ""
             }
            },
            "type": "scatterternary"
           }
          ],
          "surface": [
           {
            "colorbar": {
             "outlinewidth": 0,
             "ticks": ""
            },
            "colorscale": [
             [
              0,
              "#0d0887"
             ],
             [
              0.1111111111111111,
              "#46039f"
             ],
             [
              0.2222222222222222,
              "#7201a8"
             ],
             [
              0.3333333333333333,
              "#9c179e"
             ],
             [
              0.4444444444444444,
              "#bd3786"
             ],
             [
              0.5555555555555556,
              "#d8576b"
             ],
             [
              0.6666666666666666,
              "#ed7953"
             ],
             [
              0.7777777777777778,
              "#fb9f3a"
             ],
             [
              0.8888888888888888,
              "#fdca26"
             ],
             [
              1,
              "#f0f921"
             ]
            ],
            "type": "surface"
           }
          ],
          "table": [
           {
            "cells": {
             "fill": {
              "color": "#EBF0F8"
             },
             "line": {
              "color": "white"
             }
            },
            "header": {
             "fill": {
              "color": "#C8D4E3"
             },
             "line": {
              "color": "white"
             }
            },
            "type": "table"
           }
          ]
         },
         "layout": {
          "annotationdefaults": {
           "arrowcolor": "#2a3f5f",
           "arrowhead": 0,
           "arrowwidth": 1
          },
          "colorscale": {
           "diverging": [
            [
             0,
             "#8e0152"
            ],
            [
             0.1,
             "#c51b7d"
            ],
            [
             0.2,
             "#de77ae"
            ],
            [
             0.3,
             "#f1b6da"
            ],
            [
             0.4,
             "#fde0ef"
            ],
            [
             0.5,
             "#f7f7f7"
            ],
            [
             0.6,
             "#e6f5d0"
            ],
            [
             0.7,
             "#b8e186"
            ],
            [
             0.8,
             "#7fbc41"
            ],
            [
             0.9,
             "#4d9221"
            ],
            [
             1,
             "#276419"
            ]
           ],
           "sequential": [
            [
             0,
             "#0d0887"
            ],
            [
             0.1111111111111111,
             "#46039f"
            ],
            [
             0.2222222222222222,
             "#7201a8"
            ],
            [
             0.3333333333333333,
             "#9c179e"
            ],
            [
             0.4444444444444444,
             "#bd3786"
            ],
            [
             0.5555555555555556,
             "#d8576b"
            ],
            [
             0.6666666666666666,
             "#ed7953"
            ],
            [
             0.7777777777777778,
             "#fb9f3a"
            ],
            [
             0.8888888888888888,
             "#fdca26"
            ],
            [
             1,
             "#f0f921"
            ]
           ],
           "sequentialminus": [
            [
             0,
             "#0d0887"
            ],
            [
             0.1111111111111111,
             "#46039f"
            ],
            [
             0.2222222222222222,
             "#7201a8"
            ],
            [
             0.3333333333333333,
             "#9c179e"
            ],
            [
             0.4444444444444444,
             "#bd3786"
            ],
            [
             0.5555555555555556,
             "#d8576b"
            ],
            [
             0.6666666666666666,
             "#ed7953"
            ],
            [
             0.7777777777777778,
             "#fb9f3a"
            ],
            [
             0.8888888888888888,
             "#fdca26"
            ],
            [
             1,
             "#f0f921"
            ]
           ]
          },
          "colorway": [
           "#636efa",
           "#EF553B",
           "#00cc96",
           "#ab63fa",
           "#FFA15A",
           "#19d3f3",
           "#FF6692",
           "#B6E880",
           "#FF97FF",
           "#FECB52"
          ],
          "font": {
           "color": "#2a3f5f"
          },
          "geo": {
           "bgcolor": "white",
           "lakecolor": "white",
           "landcolor": "#E5ECF6",
           "showlakes": true,
           "showland": true,
           "subunitcolor": "white"
          },
          "hoverlabel": {
           "align": "left"
          },
          "hovermode": "closest",
          "mapbox": {
           "style": "light"
          },
          "paper_bgcolor": "white",
          "plot_bgcolor": "#E5ECF6",
          "polar": {
           "angularaxis": {
            "gridcolor": "white",
            "linecolor": "white",
            "ticks": ""
           },
           "bgcolor": "#E5ECF6",
           "radialaxis": {
            "gridcolor": "white",
            "linecolor": "white",
            "ticks": ""
           }
          },
          "scene": {
           "xaxis": {
            "backgroundcolor": "#E5ECF6",
            "gridcolor": "white",
            "gridwidth": 2,
            "linecolor": "white",
            "showbackground": true,
            "ticks": "",
            "zerolinecolor": "white"
           },
           "yaxis": {
            "backgroundcolor": "#E5ECF6",
            "gridcolor": "white",
            "gridwidth": 2,
            "linecolor": "white",
            "showbackground": true,
            "ticks": "",
            "zerolinecolor": "white"
           },
           "zaxis": {
            "backgroundcolor": "#E5ECF6",
            "gridcolor": "white",
            "gridwidth": 2,
            "linecolor": "white",
            "showbackground": true,
            "ticks": "",
            "zerolinecolor": "white"
           }
          },
          "shapedefaults": {
           "line": {
            "color": "#2a3f5f"
           }
          },
          "ternary": {
           "aaxis": {
            "gridcolor": "white",
            "linecolor": "white",
            "ticks": ""
           },
           "baxis": {
            "gridcolor": "white",
            "linecolor": "white",
            "ticks": ""
           },
           "bgcolor": "#E5ECF6",
           "caxis": {
            "gridcolor": "white",
            "linecolor": "white",
            "ticks": ""
           }
          },
          "title": {
           "x": 0.05
          },
          "xaxis": {
           "automargin": true,
           "gridcolor": "white",
           "linecolor": "white",
           "ticks": "",
           "zerolinecolor": "white",
           "zerolinewidth": 2
          },
          "yaxis": {
           "automargin": true,
           "gridcolor": "white",
           "linecolor": "white",
           "ticks": "",
           "zerolinecolor": "white",
           "zerolinewidth": 2
          }
         }
        },
        "title": {
         "font": {
          "color": "#9398A4"
         },
         "text": "KFold"
        },
        "width": 900,
        "xaxis": {
         "gridcolor": "#3F434F",
         "range": [
          0,
          100
         ],
         "showgrid": false,
         "tickfont": {
          "color": "#ffffff"
         },
         "title": {
          "font": {
           "color": "#ffffff"
          }
         },
         "zeroline": false
        },
        "yaxis": {
         "gridcolor": "#3F434F",
         "range": [
          0,
          12
         ],
         "showgrid": false,
         "tickfont": {
          "color": "#ffffff"
         },
         "title": {
          "font": {
           "color": "#ffffff"
          }
         },
         "zeroline": false
        }
       }
      },
      "image/png": "[encoded data removed]",
      "text/html": [
       "<div>\n",
       "        \n",
       "        \n",
       "            <div id=\"f375f83c-9789-4c82-b4ae-c59048bad73a\" class=\"plotly-graph-div\" style=\"height:400px; width:900px;\"></div>\n",
       "            <script type=\"text/javascript\">\n",
       "                require([\"plotly\"], function(Plotly) {\n",
       "                    window.PLOTLYENV=window.PLOTLYENV || {};\n",
       "                    \n",
       "                if (document.getElementById(\"f375f83c-9789-4c82-b4ae-c59048bad73a\")) {\n",
       "                    Plotly.newPlot(\n",
       "                        'f375f83c-9789-4c82-b4ae-c59048bad73a',\n",
       "                        [],\n",
       "                        {\"barmode\": \"stack\", \"height\": 400, \"legend\": {\"font\": {\"color\": \"#ffffff\"}}, \"paper_bgcolor\": \"#22252B\", \"plot_bgcolor\": \"#292C34\", \"shapes\": [{\"line\": {\"color\": \"RoyalBlue\", \"width\": 1}, \"type\": \"rect\", \"x0\": 0, \"x1\": 91, \"xref\": \"x\", \"y0\": 0, \"y1\": 0.9, \"yref\": \"y\"}, {\"line\": {\"color\": \"RoyalBlue\", \"width\": 1}, \"type\": \"rect\", \"x0\": 91, \"x1\": 100, \"xref\": \"x\", \"y0\": 0, \"y1\": 0.9, \"yref\": \"y\"}, {\"line\": {\"color\": \"RoyalBlue\", \"width\": 1}, \"type\": \"rect\", \"x0\": 0, \"x1\": 83, \"xref\": \"x\", \"y0\": 1, \"y1\": 1.9, \"yref\": \"y\"}, {\"line\": {\"color\": \"RoyalBlue\", \"width\": 1}, \"type\": \"rect\", \"x0\": 83, \"x1\": 91, \"xref\": \"x\", \"y0\": 1, \"y1\": 1.9, \"yref\": \"y\"}, {\"line\": {\"color\": \"RoyalBlue\", \"width\": 1}, \"type\": \"rect\", \"x0\": 91, \"x1\": 100, \"xref\": \"x\", \"y0\": 1, \"y1\": 1.9, \"yref\": \"y\"}, {\"line\": {\"color\": \"RoyalBlue\", \"width\": 1}, \"type\": \"rect\", \"x0\": 0, \"x1\": 75, \"xref\": \"x\", \"y0\": 2, \"y1\": 2.9, \"yref\": \"y\"}, {\"line\": {\"color\": \"RoyalBlue\", \"width\": 1}, \"type\": \"rect\", \"x0\": 75, \"x1\": 83, \"xref\": \"x\", \"y0\": 2, \"y1\": 2.9, \"yref\": \"y\"}, {\"line\": {\"color\": \"RoyalBlue\", \"width\": 1}, \"type\": \"rect\", \"x0\": 83, \"x1\": 100, \"xref\": \"x\", \"y0\": 2, \"y1\": 2.9, \"yref\": \"y\"}, {\"line\": {\"color\": \"RoyalBlue\", \"width\": 1}, \"type\": \"rect\", \"x0\": 0, \"x1\": 67, \"xref\": \"x\", \"y0\": 3, \"y1\": 3.9, \"yref\": \"y\"}, {\"line\": {\"color\": \"RoyalBlue\", \"width\": 1}, \"type\": \"rect\", \"x0\": 67, \"x1\": 75, \"xref\": \"x\", \"y0\": 3, \"y1\": 3.9, \"yref\": \"y\"}, {\"line\": {\"color\": \"RoyalBlue\", \"width\": 1}, \"type\": \"rect\", \"x0\": 75, \"x1\": 100, \"xref\": \"x\", \"y0\": 3, \"y1\": 3.9, \"yref\": \"y\"}, {\"line\": {\"color\": \"RoyalBlue\", \"width\": 1}, \"type\": \"rect\", \"x0\": 0, \"x1\": 59, \"xref\": \"x\", \"y0\": 4, \"y1\": 4.9, \"yref\": \"y\"}, {\"line\": {\"color\": \"RoyalBlue\", \"width\": 1}, \"type\": \"rect\", \"x0\": 59, \"x1\": 67, \"xref\": \"x\", \"y0\": 4, \"y1\": 4.9, \"yref\": \"y\"}, {\"line\": {\"color\": \"RoyalBlue\", \"width\": 1}, \"type\": \"rect\", \"x0\": 67, \"x1\": 100, \"xref\": \"x\", \"y0\": 4, \"y1\": 4.9, \"yref\": \"y\"}, {\"line\": {\"color\": \"RoyalBlue\", \"width\": 1}, \"type\": \"rect\", \"x0\": 0, \"x1\": 51, \"xref\": \"x\", \"y0\": 5, \"y1\": 5.9, \"yref\": \"y\"}, {\"line\": {\"color\": \"RoyalBlue\", \"width\": 1}, \"type\": \"rect\", \"x0\": 51, \"x1\": 59, \"xref\": \"x\", \"y0\": 5, \"y1\": 5.9, \"yref\": \"y\"}, {\"line\": {\"color\": \"RoyalBlue\", \"width\": 1}, \"type\": \"rect\", \"x0\": 59, \"x1\": 100, \"xref\": \"x\", \"y0\": 5, \"y1\": 5.9, \"yref\": \"y\"}, {\"line\": {\"color\": \"RoyalBlue\", \"width\": 1}, \"type\": \"rect\", \"x0\": 0, \"x1\": 43, \"xref\": \"x\", \"y0\": 6, \"y1\": 6.9, \"yref\": \"y\"}, {\"line\": {\"color\": \"RoyalBlue\", \"width\": 1}, \"type\": \"rect\", \"x0\": 43, \"x1\": 51, \"xref\": \"x\", \"y0\": 6, \"y1\": 6.9, \"yref\": \"y\"}, {\"line\": {\"color\": \"RoyalBlue\", \"width\": 1}, \"type\": \"rect\", \"x0\": 51, \"x1\": 100, \"xref\": \"x\", \"y0\": 6, \"y1\": 6.9, \"yref\": \"y\"}, {\"line\": {\"color\": \"RoyalBlue\", \"width\": 1}, \"type\": \"rect\", \"x0\": 0, \"x1\": 35, \"xref\": \"x\", \"y0\": 7, \"y1\": 7.9, \"yref\": \"y\"}, {\"line\": {\"color\": \"RoyalBlue\", \"width\": 1}, \"type\": \"rect\", \"x0\": 35, \"x1\": 43, \"xref\": \"x\", \"y0\": 7, \"y1\": 7.9, \"yref\": \"y\"}, {\"line\": {\"color\": \"RoyalBlue\", \"width\": 1}, \"type\": \"rect\", \"x0\": 43, \"x1\": 100, \"xref\": \"x\", \"y0\": 7, \"y1\": 7.9, \"yref\": \"y\"}, {\"line\": {\"color\": \"RoyalBlue\", \"width\": 1}, \"type\": \"rect\", \"x0\": 0, \"x1\": 26, \"xref\": \"x\", \"y0\": 8, \"y1\": 8.9, \"yref\": \"y\"}, {\"line\": {\"color\": \"RoyalBlue\", \"width\": 1}, \"type\": \"rect\", \"x0\": 26, \"x1\": 35, \"xref\": \"x\", \"y0\": 8, \"y1\": 8.9, \"yref\": \"y\"}, {\"line\": {\"color\": \"RoyalBlue\", \"width\": 1}, \"type\": \"rect\", \"x0\": 35, \"x1\": 100, \"xref\": \"x\", \"y0\": 8, \"y1\": 8.9, \"yref\": \"y\"}, {\"line\": {\"color\": \"RoyalBlue\", \"width\": 1}, \"type\": \"rect\", \"x0\": 0, \"x1\": 17, \"xref\": \"x\", \"y0\": 9, \"y1\": 9.9, \"yref\": \"y\"}, {\"line\": {\"color\": \"RoyalBlue\", \"width\": 1}, \"type\": \"rect\", \"x0\": 17, \"x1\": 26, \"xref\": \"x\", \"y0\": 9, \"y1\": 9.9, \"yref\": \"y\"}, {\"line\": {\"color\": \"RoyalBlue\", \"width\": 1}, \"type\": \"rect\", \"x0\": 26, \"x1\": 100, \"xref\": \"x\", \"y0\": 9, \"y1\": 9.9, \"yref\": \"y\"}, {\"line\": {\"color\": \"RoyalBlue\", \"width\": 1}, \"type\": \"rect\", \"x0\": 0, \"x1\": 8, \"xref\": \"x\", \"y0\": 10, \"y1\": 10.9, \"yref\": \"y\"}, {\"line\": {\"color\": \"RoyalBlue\", \"width\": 1}, \"type\": \"rect\", \"x0\": 8, \"x1\": 17, \"xref\": \"x\", \"y0\": 10, \"y1\": 10.9, \"yref\": \"y\"}, {\"line\": {\"color\": \"RoyalBlue\", \"width\": 1}, \"type\": \"rect\", \"x0\": 17, \"x1\": 100, \"xref\": \"x\", \"y0\": 10, \"y1\": 10.9, \"yref\": \"y\"}, {\"line\": {\"color\": \"RoyalBlue\", \"width\": 1}, \"type\": \"rect\", \"x0\": 0, \"x1\": 8, \"xref\": \"x\", \"y0\": 11, \"y1\": 11.9, \"yref\": \"y\"}, {\"line\": {\"color\": \"RoyalBlue\", \"width\": 1}, \"type\": \"rect\", \"x0\": 8, \"x1\": 100, \"xref\": \"x\", \"y0\": 11, \"y1\": 11.9, \"yref\": \"y\"}], \"showlegend\": true, \"template\": {\"data\": {\"bar\": [{\"error_x\": {\"color\": \"#2a3f5f\"}, \"error_y\": {\"color\": \"#2a3f5f\"}, \"marker\": {\"line\": {\"color\": \"#E5ECF6\", \"width\": 0.5}}, \"type\": \"bar\"}], \"barpolar\": [{\"marker\": {\"line\": {\"color\": \"#E5ECF6\", \"width\": 0.5}}, \"type\": \"barpolar\"}], \"carpet\": [{\"aaxis\": {\"endlinecolor\": \"#2a3f5f\", \"gridcolor\": \"white\", \"linecolor\": \"white\", \"minorgridcolor\": \"white\", \"startlinecolor\": \"#2a3f5f\"}, \"baxis\": {\"endlinecolor\": \"#2a3f5f\", \"gridcolor\": \"white\", \"linecolor\": \"white\", \"minorgridcolor\": \"white\", \"startlinecolor\": \"#2a3f5f\"}, \"type\": \"carpet\"}], \"choropleth\": [{\"colorbar\": {\"outlinewidth\": 0, \"ticks\": \"\"}, \"type\": \"choropleth\"}], \"contour\": [{\"colorbar\": {\"outlinewidth\": 0, \"ticks\": \"\"}, \"colorscale\": [[0.0, \"#0d0887\"], [0.1111111111111111, \"#46039f\"], [0.2222222222222222, \"#7201a8\"], [0.3333333333333333, \"#9c179e\"], [0.4444444444444444, \"#bd3786\"], [0.5555555555555556, \"#d8576b\"], [0.6666666666666666, \"#ed7953\"], [0.7777777777777778, \"#fb9f3a\"], [0.8888888888888888, \"#fdca26\"], [1.0, \"#f0f921\"]], \"type\": \"contour\"}], \"contourcarpet\": [{\"colorbar\": {\"outlinewidth\": 0, \"ticks\": \"\"}, \"type\": \"contourcarpet\"}], \"heatmap\": [{\"colorbar\": {\"outlinewidth\": 0, \"ticks\": \"\"}, \"colorscale\": [[0.0, \"#0d0887\"], [0.1111111111111111, \"#46039f\"], [0.2222222222222222, \"#7201a8\"], [0.3333333333333333, \"#9c179e\"], [0.4444444444444444, \"#bd3786\"], [0.5555555555555556, \"#d8576b\"], [0.6666666666666666, \"#ed7953\"], [0.7777777777777778, \"#fb9f3a\"], [0.8888888888888888, \"#fdca26\"], [1.0, \"#f0f921\"]], \"type\": \"heatmap\"}], \"heatmapgl\": [{\"colorbar\": {\"outlinewidth\": 0, \"ticks\": \"\"}, \"colorscale\": [[0.0, \"#0d0887\"], [0.1111111111111111, \"#46039f\"], [0.2222222222222222, \"#7201a8\"], [0.3333333333333333, \"#9c179e\"], [0.4444444444444444, \"#bd3786\"], [0.5555555555555556, \"#d8576b\"], [0.6666666666666666, \"#ed7953\"], [0.7777777777777778, \"#fb9f3a\"], [0.8888888888888888, \"#fdca26\"], [1.0, \"#f0f921\"]], \"type\": \"heatmapgl\"}], \"histogram\": [{\"marker\": {\"colorbar\": {\"outlinewidth\": 0, \"ticks\": \"\"}}, \"type\": \"histogram\"}], \"histogram2d\": [{\"colorbar\": {\"outlinewidth\": 0, \"ticks\": \"\"}, \"colorscale\": [[0.0, \"#0d0887\"], [0.1111111111111111, \"#46039f\"], [0.2222222222222222, \"#7201a8\"], [0.3333333333333333, \"#9c179e\"], [0.4444444444444444, \"#bd3786\"], [0.5555555555555556, \"#d8576b\"], [0.6666666666666666, \"#ed7953\"], [0.7777777777777778, \"#fb9f3a\"], [0.8888888888888888, \"#fdca26\"], [1.0, \"#f0f921\"]], \"type\": \"histogram2d\"}], \"histogram2dcontour\": [{\"colorbar\": {\"outlinewidth\": 0, \"ticks\": \"\"}, \"colorscale\": [[0.0, \"#0d0887\"], [0.1111111111111111, \"#46039f\"], [0.2222222222222222, \"#7201a8\"], [0.3333333333333333, \"#9c179e\"], [0.4444444444444444, \"#bd3786\"], [0.5555555555555556, \"#d8576b\"], [0.6666666666666666, \"#ed7953\"], [0.7777777777777778, \"#fb9f3a\"], [0.8888888888888888, \"#fdca26\"], [1.0, \"#f0f921\"]], \"type\": \"histogram2dcontour\"}], \"mesh3d\": [{\"colorbar\": {\"outlinewidth\": 0, \"ticks\": \"\"}, \"type\": \"mesh3d\"}], \"parcoords\": [{\"line\": {\"colorbar\": {\"outlinewidth\": 0, \"ticks\": \"\"}}, \"type\": \"parcoords\"}], \"scatter\": [{\"marker\": {\"colorbar\": {\"outlinewidth\": 0, \"ticks\": \"\"}}, \"type\": \"scatter\"}], \"scatter3d\": [{\"line\": {\"colorbar\": {\"outlinewidth\": 0, \"ticks\": \"\"}}, \"marker\": {\"colorbar\": {\"outlinewidth\": 0, \"ticks\": \"\"}}, \"type\": \"scatter3d\"}], \"scattercarpet\": [{\"marker\": {\"colorbar\": {\"outlinewidth\": 0, \"ticks\": \"\"}}, \"type\": \"scattercarpet\"}], \"scattergeo\": [{\"marker\": {\"colorbar\": {\"outlinewidth\": 0, \"ticks\": \"\"}}, \"type\": \"scattergeo\"}], \"scattergl\": [{\"marker\": {\"colorbar\": {\"outlinewidth\": 0, \"ticks\": \"\"}}, \"type\": \"scattergl\"}], \"scattermapbox\": [{\"marker\": {\"colorbar\": {\"outlinewidth\": 0, \"ticks\": \"\"}}, \"type\": \"scattermapbox\"}], \"scatterpolar\": [{\"marker\": {\"colorbar\": {\"outlinewidth\": 0, \"ticks\": \"\"}}, \"type\": \"scatterpolar\"}], \"scatterpolargl\": [{\"marker\": {\"colorbar\": {\"outlinewidth\": 0, \"ticks\": \"\"}}, \"type\": \"scatterpolargl\"}], \"scatterternary\": [{\"marker\": {\"colorbar\": {\"outlinewidth\": 0, \"ticks\": \"\"}}, \"type\": \"scatterternary\"}], \"surface\": [{\"colorbar\": {\"outlinewidth\": 0, \"ticks\": \"\"}, \"colorscale\": [[0.0, \"#0d0887\"], [0.1111111111111111, \"#46039f\"], [0.2222222222222222, \"#7201a8\"], [0.3333333333333333, \"#9c179e\"], [0.4444444444444444, \"#bd3786\"], [0.5555555555555556, \"#d8576b\"], [0.6666666666666666, \"#ed7953\"], [0.7777777777777778, \"#fb9f3a\"], [0.8888888888888888, \"#fdca26\"], [1.0, \"#f0f921\"]], \"type\": \"surface\"}], \"table\": [{\"cells\": {\"fill\": {\"color\": \"#EBF0F8\"}, \"line\": {\"color\": \"white\"}}, \"header\": {\"fill\": {\"color\": \"#C8D4E3\"}, \"line\": {\"color\": \"white\"}}, \"type\": \"table\"}]}, \"layout\": {\"annotationdefaults\": {\"arrowcolor\": \"#2a3f5f\", \"arrowhead\": 0, \"arrowwidth\": 1}, \"colorscale\": {\"diverging\": [[0, \"#8e0152\"], [0.1, \"#c51b7d\"], [0.2, \"#de77ae\"], [0.3, \"#f1b6da\"], [0.4, \"#fde0ef\"], [0.5, \"#f7f7f7\"], [0.6, \"#e6f5d0\"], [0.7, \"#b8e186\"], [0.8, \"#7fbc41\"], [0.9, \"#4d9221\"], [1, \"#276419\"]], \"sequential\": [[0.0, \"#0d0887\"], [0.1111111111111111, \"#46039f\"], [0.2222222222222222, \"#7201a8\"], [0.3333333333333333, \"#9c179e\"], [0.4444444444444444, \"#bd3786\"], [0.5555555555555556, \"#d8576b\"], [0.6666666666666666, \"#ed7953\"], [0.7777777777777778, \"#fb9f3a\"], [0.8888888888888888, \"#fdca26\"], [1.0, \"#f0f921\"]], \"sequentialminus\": [[0.0, \"#0d0887\"], [0.1111111111111111, \"#46039f\"], [0.2222222222222222, \"#7201a8\"], [0.3333333333333333, \"#9c179e\"], [0.4444444444444444, \"#bd3786\"], [0.5555555555555556, \"#d8576b\"], [0.6666666666666666, \"#ed7953\"], [0.7777777777777778, \"#fb9f3a\"], [0.8888888888888888, \"#fdca26\"], [1.0, \"#f0f921\"]]}, \"colorway\": [\"#636efa\", \"#EF553B\", \"#00cc96\", \"#ab63fa\", \"#FFA15A\", \"#19d3f3\", \"#FF6692\", \"#B6E880\", \"#FF97FF\", \"#FECB52\"], \"font\": {\"color\": \"#2a3f5f\"}, \"geo\": {\"bgcolor\": \"white\", \"lakecolor\": \"white\", \"landcolor\": \"#E5ECF6\", \"showlakes\": true, \"showland\": true, \"subunitcolor\": \"white\"}, \"hoverlabel\": {\"align\": \"left\"}, \"hovermode\": \"closest\", \"mapbox\": {\"style\": \"light\"}, \"paper_bgcolor\": \"white\", \"plot_bgcolor\": \"#E5ECF6\", \"polar\": {\"angularaxis\": {\"gridcolor\": \"white\", \"linecolor\": \"white\", \"ticks\": \"\"}, \"bgcolor\": \"#E5ECF6\", \"radialaxis\": {\"gridcolor\": \"white\", \"linecolor\": \"white\", \"ticks\": \"\"}}, \"scene\": {\"xaxis\": {\"backgroundcolor\": \"#E5ECF6\", \"gridcolor\": \"white\", \"gridwidth\": 2, \"linecolor\": \"white\", \"showbackground\": true, \"ticks\": \"\", \"zerolinecolor\": \"white\"}, \"yaxis\": {\"backgroundcolor\": \"#E5ECF6\", \"gridcolor\": \"white\", \"gridwidth\": 2, \"linecolor\": \"white\", \"showbackground\": true, \"ticks\": \"\", \"zerolinecolor\": \"white\"}, \"zaxis\": {\"backgroundcolor\": \"#E5ECF6\", \"gridcolor\": \"white\", \"gridwidth\": 2, \"linecolor\": \"white\", \"showbackground\": true, \"ticks\": \"\", \"zerolinecolor\": \"white\"}}, \"shapedefaults\": {\"line\": {\"color\": \"#2a3f5f\"}}, \"ternary\": {\"aaxis\": {\"gridcolor\": \"white\", \"linecolor\": \"white\", \"ticks\": \"\"}, \"baxis\": {\"gridcolor\": \"white\", \"linecolor\": \"white\", \"ticks\": \"\"}, \"bgcolor\": \"#E5ECF6\", \"caxis\": {\"gridcolor\": \"white\", \"linecolor\": \"white\", \"ticks\": \"\"}}, \"title\": {\"x\": 0.05}, \"xaxis\": {\"automargin\": true, \"gridcolor\": \"white\", \"linecolor\": \"white\", \"ticks\": \"\", \"zerolinecolor\": \"white\", \"zerolinewidth\": 2}, \"yaxis\": {\"automargin\": true, \"gridcolor\": \"white\", \"linecolor\": \"white\", \"ticks\": \"\", \"zerolinecolor\": \"white\", \"zerolinewidth\": 2}}}, \"title\": {\"font\": {\"color\": \"#9398A4\"}, \"text\": \"KFold\"}, \"width\": 900, \"xaxis\": {\"gridcolor\": \"#3F434F\", \"range\": [0, 100], \"showgrid\": false, \"tickfont\": {\"color\": \"#ffffff\"}, \"title\": {\"font\": {\"color\": \"#ffffff\"}}, \"zeroline\": false}, \"yaxis\": {\"gridcolor\": \"#3F434F\", \"range\": [0, 12], \"showgrid\": false, \"tickfont\": {\"color\": \"#ffffff\"}, \"title\": {\"font\": {\"color\": \"#ffffff\"}}, \"zeroline\": false}},\n",
       "                        {\"responsive\": true}\n",
       "                    ).then(function(){\n",
       "                            \n",
       "var gd = document.getElementById('f375f83c-9789-4c82-b4ae-c59048bad73a');\n",
       "var x = new MutationObserver(function (mutations, observer) {{\n",
       "        var display = window.getComputedStyle(gd).display;\n",
       "        if (!display || display === 'none') {{\n",
       "            console.log([gd, 'removed!']);\n",
       "            Plotly.purge(gd);\n",
       "            observer.disconnect();\n",
       "        }}\n",
       "}});\n",
       "\n",
       "// Listen for the removal of the full notebook cells\n",
       "var notebookContainer = gd.closest('#notebook-container');\n",
       "if (notebookContainer) {{\n",
       "    x.observe(notebookContainer, {childList: true});\n",
       "}}\n",
       "\n",
       "// Listen for the clearing of the current output cell\n",
       "var outputEl = gd.closest('.output');\n",
       "if (outputEl) {{\n",
       "    x.observe(outputEl, {childList: true});\n",
       "}}\n",
       "\n",
       "                        })\n",
       "                };\n",
       "                });\n",
       "            </script>\n",
       "        </div>"
      ]
     },
     "metadata": {},
     "output_type": "display_data"
    }
   ],
   "source": [
    "import plotly.graph_objects as go\n",
    "\n",
    "cv = KFold(n_splits=12)\n",
    "\n",
    "indexes = []\n",
    "\n",
    "def plot_cv_indices(cv, X, y, group):\n",
    "    \"\"\"Create a sample plot for indices of a cross-validation object.\"\"\"\n",
    "\n",
    "    # Generate the training/testing visualizations for each CV split\n",
    "    for ii, (tr, tt) in enumerate(cv.split(X=X, y=y, groups=group)):\n",
    "        indices = np.array([np.nan] * len(X))\n",
    "        indices[tt] = 1\n",
    "        indices[tr] = 0\n",
    "        indexes.append(np.where(indices[:-1] != indices[1:])[0])\n",
    "        \n",
    "plot_cv_indices(cv, X, y, group)\n",
    "\n",
    "fig = go.Figure()\n",
    "\n",
    "cols = ['#e6194b', '#3cb44b', '#ffe119', '#4363d8', '#f58231', '#911eb4', '#46f0f0', '#f032e6', '#bcf60c', '#fabebe']\n",
    "\n",
    "# Set axes properties\n",
    "fig.update_xaxes(range=[0, 100], showgrid=False)\n",
    "fig.update_yaxes(range=[0, len(indexes)], showgrid=False)\n",
    "\n",
    "fold = 0\n",
    "start_col = 0\n",
    "\n",
    "for idx in reversed(indexes):\n",
    "    fig.add_shape(shape_rect(0,idx[0],fold,fold+0.9, fill_color=cols[0], line_width=1))\n",
    "    if (len(idx) > 1):\n",
    "        for sub_idx in idx[1:]:\n",
    "            fig.add_shape(shape_rect(idx[0],sub_idx,fold,fold+0.9, fill_color=cols[0], line_width=1))\n",
    "            last_sub = sub_idx\n",
    "    else:\n",
    "        last_sub = idx[0]          \n",
    "    se = fig.add_shape(shape_rect(last_sub,100,fold, fold+0.9, fill_color=cols[2], line_width=1)) \n",
    "    fold+=1\n",
    "    start_col = 1\n",
    "    \n",
    "fig.update_shapes(dict(xref='x', yref='y'))\n",
    "render(fig, str(cv.__class__.__name__), height=400, width=900)"
   ]
  }
 ],
 "metadata": {
  "kernelspec": {
   "display_name": "Python 3",
   "language": "python",
   "name": "python3"
  },
  "language_info": {
   "codemirror_mode": {
    "name": "ipython",
    "version": 3
   },
   "file_extension": ".py",
   "mimetype": "text/x-python",
   "name": "python",
   "nbconvert_exporter": "python",
   "pygments_lexer": "ipython3",
   "version": "3.7.3"
  }
 },
 "nbformat": 4,
 "nbformat_minor": 4
}
