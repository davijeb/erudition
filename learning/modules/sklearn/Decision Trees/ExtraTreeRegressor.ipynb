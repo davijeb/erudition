{
 "cells": [
  {
   "cell_type": "markdown",
   "metadata": {},
   "source": [
    "# ExtraTreeRegressor\n",
    "Auto-generated notebook."
   ]
  },
  {
   "cell_type": "code",
   "execution_count": null,
   "metadata": {},
   "outputs": [],
   "source": [
    "from sklearn.tree import ExtraTreeRegressor\n",
    "\n",
    "import pandas as pd\n",
    "import numpy as np\n",
    "\n",
    "from sklearn import datasets\n",
    "import os, sys, plotly.graph_objects as go\n",
    "module_path = os.path.abspath(os.path.join('../../../../../'))\n",
    "if module_path not in sys.path:\n",
    "    sys.path.append(module_path) \n",
    "from erudition.learning.helpers.plots.plotly_render import render, scatter"
   ]
  },
  {
   "cell_type": "code",
   "execution_count": null,
   "metadata": {},
   "outputs": [],
   "source": [
    "# Create a random dataset\n",
    "rng = np.random.RandomState(1)\n",
    "X = np.sort(5 * rng.rand(80, 1), axis=0)\n",
    "y = np.sin(X).ravel()\n",
    "y[::5] += 3 * (0.5 - rng.rand(16))\n",
    "\n",
    "# Fit regression model\n",
    "regr_1 = ExtraTreeRegressor(max_depth=2)\n",
    "regr_2 = ExtraTreeRegressor(max_depth=5)\n",
    "regr_1.fit(X, y)\n",
    "regr_2.fit(X, y)\n",
    "\n",
    "# Predict\n",
    "X_test = np.arange(0.0, 5.0, 0.01)[:, np.newaxis]\n",
    "y_1 = regr_1.predict(X_test)\n",
    "y_2 = regr_2.predict(X_test)\n",
    "\n",
    "# Plot the results\n",
    "data_plot = scatter(X[:,0], y, 'data', mode='markers', size=5, color='yellow')\n",
    "reg1_plot = scatter(X_test[:,0], y_1, 'max depth = 2')\n",
    "reg2_plot = scatter(X_test[:,0], y_2, 'max depth = 5')\n",
    "\n",
    "\n",
    "fig = go.Figure(data=[data_plot, reg1_plot, reg2_plot])\n",
    "\n",
    "render(fig, 'Extra Tree Regression', width=800, x_axis_title='data', y_axis_title='target')\n",
    "\n",
    "print('Max Depth (2) Score = {}'.format(regr_1.score(X,y)))\n",
    "print('Max Depth (5) Score = {}'.format(regr_2.score(X,y)))"
   ]
  },
  {
   "cell_type": "code",
   "execution_count": null,
   "metadata": {},
   "outputs": [],
   "source": []
  }
 ],
 "metadata": {
  "kernelspec": {
   "display_name": "Python 3",
   "language": "python",
   "name": "python3"
  },
  "language_info": {
   "codemirror_mode": {
    "name": "ipython",
    "version": 3
   },
   "file_extension": ".py",
   "mimetype": "text/x-python",
   "name": "python",
   "nbconvert_exporter": "python",
   "pygments_lexer": "ipython3",
   "version": "3.7.3"
  }
 },
 "nbformat": 4,
 "nbformat_minor": 4
}
