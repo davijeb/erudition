{
 "nbformat": 4,
 "nbformat_minor": 2,
 "metadata": {
  "language_info": {
   "name": "python",
   "codemirror_mode": {
    "name": "ipython",
    "version": 3
   },
   "version": "3.7.4"
  },
  "orig_nbformat": 2,
  "file_extension": ".py",
  "mimetype": "text/x-python",
  "name": "python",
  "npconvert_exporter": "python",
  "pygments_lexer": "ipython3",
  "version": 3
 },
 "cells": [
  {
   "cell_type": "code",
   "execution_count": 33,
   "metadata": {},
   "outputs": [],
   "source": [
    "import numpy as np\n",
    "import pandas as pd\n",
    "from sklearn.preprocessing import OneHotEncoder, LabelEncoder"
   ]
  },
  {
   "cell_type": "markdown",
   "execution_count": null,
   "metadata": {},
   "outputs": [],
   "source": [
    "# One Hot Encoding\n",
    "\n",
    "Machine learning algorithms cannot work with categorical data directly.\n",
    "\n",
    "Categorical data must be converted to numbers.\n",
    "\n",
    "## What is One Hot Encoding?\n",
    "A one hot encoding is a representation of categorical variables as binary vectors.\n",
    "\n",
    "This first requires that the categorical values be mapped to integer values.\n",
    "\n",
    "Then, each integer value is represented as a binary vector that is all zero values except the index of the integer, which is marked with a 1."
   ]
  },
  {
   "cell_type": "code",
   "execution_count": 60,
   "metadata": {},
   "outputs": [
    {
     "name": "stdout",
     "output_type": "stream",
     "text": "[3 0 0 2 2 1 0 0 1 1]\n[[0. 0. 0. 1.]\n [1. 0. 0. 0.]\n [1. 0. 0. 0.]\n [0. 0. 1. 0.]\n [0. 0. 1. 0.]\n [0. 1. 0. 0.]\n [1. 0. 0. 0.]\n [1. 0. 0. 0.]\n [0. 1. 0. 0.]\n [0. 1. 0. 0.]]\n[array(['cold', 'hot', 'warm', 'zhot'], dtype='<U4')]\n"
    },
    {
     "data": {
      "text/html": "<div>\n<style scoped>\n    .dataframe tbody tr th:only-of-type {\n        vertical-align: middle;\n    }\n\n    .dataframe tbody tr th {\n        vertical-align: top;\n    }\n\n    .dataframe thead th {\n        text-align: right;\n    }\n</style>\n<table border=\"1\" class=\"dataframe\">\n  <thead>\n    <tr style=\"text-align: right;\">\n      <th></th>\n      <th>Temp_Label_Encoded</th>\n      <th>Temp_Categorical_cold</th>\n      <th>Temp_Categorical_hot</th>\n      <th>Temp_Categorical_warm</th>\n      <th>Temp_Categorical_zhot</th>\n    </tr>\n  </thead>\n  <tbody>\n    <tr>\n      <td>0</td>\n      <td>3</td>\n      <td>0</td>\n      <td>0</td>\n      <td>0</td>\n      <td>1</td>\n    </tr>\n    <tr>\n      <td>1</td>\n      <td>0</td>\n      <td>1</td>\n      <td>0</td>\n      <td>0</td>\n      <td>0</td>\n    </tr>\n    <tr>\n      <td>2</td>\n      <td>0</td>\n      <td>1</td>\n      <td>0</td>\n      <td>0</td>\n      <td>0</td>\n    </tr>\n    <tr>\n      <td>3</td>\n      <td>2</td>\n      <td>0</td>\n      <td>0</td>\n      <td>1</td>\n      <td>0</td>\n    </tr>\n    <tr>\n      <td>4</td>\n      <td>2</td>\n      <td>0</td>\n      <td>0</td>\n      <td>1</td>\n      <td>0</td>\n    </tr>\n    <tr>\n      <td>5</td>\n      <td>1</td>\n      <td>0</td>\n      <td>1</td>\n      <td>0</td>\n      <td>0</td>\n    </tr>\n    <tr>\n      <td>6</td>\n      <td>0</td>\n      <td>1</td>\n      <td>0</td>\n      <td>0</td>\n      <td>0</td>\n    </tr>\n    <tr>\n      <td>7</td>\n      <td>0</td>\n      <td>1</td>\n      <td>0</td>\n      <td>0</td>\n      <td>0</td>\n    </tr>\n    <tr>\n      <td>8</td>\n      <td>1</td>\n      <td>0</td>\n      <td>1</td>\n      <td>0</td>\n      <td>0</td>\n    </tr>\n    <tr>\n      <td>9</td>\n      <td>1</td>\n      <td>0</td>\n      <td>1</td>\n      <td>0</td>\n      <td>0</td>\n    </tr>\n  </tbody>\n</table>\n</div>",
      "text/plain": "   Temp_Label_Encoded  Temp_Categorical_cold  Temp_Categorical_hot  \\\n0                   3                      0                     0   \n1                   0                      1                     0   \n2                   0                      1                     0   \n3                   2                      0                     0   \n4                   2                      0                     0   \n5                   1                      0                     1   \n6                   0                      1                     0   \n7                   0                      1                     0   \n8                   1                      0                     1   \n9                   1                      0                     1   \n\n   Temp_Categorical_warm  Temp_Categorical_zhot  \n0                      0                      1  \n1                      0                      0  \n2                      0                      0  \n3                      1                      0  \n4                      1                      0  \n5                      0                      0  \n6                      0                      0  \n7                      0                      0  \n8                      0                      0  \n9                      0                      0  "
     },
     "execution_count": 60,
     "metadata": {},
     "output_type": "execute_result"
    }
   ],
   "source": [
    "le = LabelEncoder()\n",
    "ohe = OneHotEncoder(sparse=False)\n",
    "\n",
    "# define example\n",
    "data = ['zhot', 'cold', 'cold', 'warm', 'warm', 'hot', 'cold', 'cold', 'hot', 'hot']\n",
    "df = pd.DataFrame(data, columns=['Temp_Categorical'])\n",
    "\n",
    "# interget encode\n",
    "integer_encoded = le.fit_transform(data)\n",
    "print(integer_encoded)\n",
    "\n",
    "df['Temp_Label_Encoded'] = integer_encoded\n",
    "\n",
    "# binary encode\n",
    "onehot_encoded = ohe.fit_transform(np.array(data).reshape(len(data),1))\n",
    "print(onehot_encoded)\n",
    "print(ohe.categories_)\n",
    "\n",
    "df=pd.get_dummies(df,columns=['Temp_Categorical'])\n",
    "df\n",
    "\n",
    "\n"
   ]
  },
  {
   "cell_type": "code",
   "execution_count": null,
   "metadata": {},
   "outputs": [],
   "source": []
  }
 ]
}