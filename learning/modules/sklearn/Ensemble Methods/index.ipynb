{
 "cells": [
  {
   "cell_type": "code",
   "execution_count": 5,
   "metadata": {},
   "outputs": [
    {
     "name": "stdout",
     "output_type": "stream",
     "text": [
      "AdaBoostClassifier\n",
      "AdaBoostRegressor\n",
      "BaggingClassifier\n",
      "BaggingRegressor\n",
      "BaseEnsemble\n",
      "ExtraTreesClassifier\n",
      "ExtraTreesRegressor\n",
      "GradientBoostingClassifier\n",
      "GradientBoostingRegressor\n",
      "IsolationForest\n",
      "RandomForestClassifier\n",
      "RandomForestRegressor\n",
      "RandomTreesEmbedding\n",
      "VotingClassifier\n",
      "VotingRegressor\n"
     ]
    }
   ],
   "source": [
    "import inspect\n",
    "import nbformat as nbf\n",
    "import sklearn.ensemble as my_module\n",
    "d=[m[0] for m in inspect.getmembers(my_module, inspect.isclass)]\n",
    "for f in d:\n",
    "    create_notebook(f)\n",
    "    print(f)\n",
    "    \n",
    "def create_notebook(name):\n",
    "    nb = nbf.v4.new_notebook()\n",
    "    text = \"\"\"# Jupyter Notebook for {}\\nAuto-generated notebook.\"\"\".format(name)\n",
    "\n",
    "    code = \"\"\"from sklearn.ensemble import {} as model\"\"\".format(name)\n",
    "\n",
    "    nb['cells'] = [nbf.v4.new_markdown_cell(text),\n",
    "                   nbf.v4.new_code_cell(code)]\n",
    "    fname = '{}.ipynb'.format(name)\n",
    "\n",
    "    with open(fname, 'w') as f:\n",
    "        nbf.write(nb, f)"
   ]
  }
 ],
 "metadata": {
  "kernelspec": {
   "display_name": "Python 3",
   "language": "python",
   "name": "python3"
  },
  "language_info": {
   "codemirror_mode": {
    "name": "ipython",
    "version": 3
   },
   "file_extension": ".py",
   "mimetype": "text/x-python",
   "name": "python",
   "nbconvert_exporter": "python",
   "pygments_lexer": "ipython3",
   "version": "3.7.3"
  }
 },
 "nbformat": 4,
 "nbformat_minor": 2
}
