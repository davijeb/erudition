{
 "cells": [
  {
   "cell_type": "code",
   "execution_count": 1,
   "metadata": {},
   "outputs": [
    {
     "name": "stdout",
     "output_type": "stream",
     "text": [
      "DecisionTreeClassifier\n",
      "DecisionTreeRegressor\n",
      "ExtraTreeClassifier\n",
      "ExtraTreeRegressor\n"
     ]
    }
   ],
   "source": [
    "import inspect\n",
    "import nbformat as nbf\n",
    "import sklearn.tree as my_module\n",
    "\n",
    "def create_notebook(name):\n",
    "    nb = nbf.v4.new_notebook()\n",
    "    text = \"\"\"# Jupyter Notebook for {}\\nAuto-generated notebook.\"\"\".format(name)\n",
    "\n",
    "    code = \"\"\"from sklearn.tree import {} as model\"\"\".format(name)\n",
    "\n",
    "    nb['cells'] = [nbf.v4.new_markdown_cell(text),\n",
    "                   nbf.v4.new_code_cell(code)]\n",
    "    fname = '{}.ipynb'.format(name)\n",
    "\n",
    "    with open(fname, 'w') as f:\n",
    "        nbf.write(nb, f)\n",
    "\n",
    "d=[m[0] for m in inspect.getmembers(my_module, inspect.isclass)]\n",
    "for f in d:\n",
    "    create_notebook(f)\n",
    "    print(f)"
   ]
  }
 ],
 "metadata": {
  "kernelspec": {
   "display_name": "Python 3",
   "language": "python",
   "name": "python3"
  },
  "language_info": {
   "codemirror_mode": {
    "name": "ipython",
    "version": 3
   },
   "file_extension": ".py",
   "mimetype": "text/x-python",
   "name": "python",
   "nbconvert_exporter": "python",
   "pygments_lexer": "ipython3",
   "version": "3.7.3"
  }
 },
 "nbformat": 4,
 "nbformat_minor": 2
}
