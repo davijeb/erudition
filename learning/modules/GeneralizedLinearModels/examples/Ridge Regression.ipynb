{
 "nbformat": 4,
 "nbformat_minor": 2,
 "metadata": {
  "language_info": {
   "name": "python",
   "codemirror_mode": {
    "name": "ipython",
    "version": 3
   }
  },
  "orig_nbformat": 2,
  "file_extension": ".py",
  "mimetype": "text/x-python",
  "name": "python",
  "npconvert_exporter": "python",
  "pygments_lexer": "ipython3",
  "version": 3
 },
 "cells": [
  {
   "cell_type": "code",
   "execution_count": 6,
   "metadata": {},
   "outputs": [],
   "source": [
    "from sklearn.linear_model import Ridge\n",
    "\n",
    "\n",
    "import numpy as np\n",
    "from sklearn.datasets import make_blobs\n",
    "import os, sys, plotly.graph_objects as go\n",
    "module_path = os.path.abspath(os.path.join('..'))\n",
    "if module_path not in sys.path:\n",
    "    sys.path.append(module_path) \n",
    "from erudition.learning.helpers.plots.plotly_render import render, scatter"
   ]
  },
  {
   "cell_type": "markdown",
   "execution_count": null,
   "metadata": {},
   "outputs": [],
   "source": [
    "# Ridge Regression Coefficients\n",
    "\n",
    "Shows the effect of collinearity in the coefficients of an estimator.\n",
    "\n",
    "Ridge Regression is the estimator used in this example. Each color represents a different feature of the coefficient vector, and this is displayed as a function of the regularization parameter.\n",
    "\n",
    "This example also shows the usefulness of applying Ridge regression to highly ill-conditioned matrices. For such matrices, a slight change in the target variable can cause huge variances in the calculated weights. In such cases, it is useful to set a certain regularization (alpha) to reduce this variation (noise).\n",
    "\n",
    "When alpha is very large, the regularization effect dominates the squared loss function and the coefficients tend to zero. At the end of the path, as alpha tends toward zero and the solution tends towards the ordinary least squares, coefficients exhibit big oscillations. In practise it is necessary to tune alpha in such a way that a balance is maintained between both."
   ]
  },
  {
   "cell_type": "code",
   "execution_count": 7,
   "metadata": {},
   "outputs": [
    {
     "ename": "NameError",
     "evalue": "name 'linear_model' is not defined",
     "output_type": "error",
     "traceback": [
      "\u001b[0;31m---------------------------------------------------------------------------\u001b[0m",
      "\u001b[0;31mNameError\u001b[0m                                 Traceback (most recent call last)",
      "\u001b[0;32m<ipython-input-7-11baf29f0da1>\u001b[0m in \u001b[0;36m<module>\u001b[0;34m\u001b[0m\n\u001b[1;32m     56\u001b[0m \u001b[0mcoefs\u001b[0m \u001b[0;34m=\u001b[0m \u001b[0;34m[\u001b[0m\u001b[0;34m]\u001b[0m\u001b[0;34m\u001b[0m\u001b[0;34m\u001b[0m\u001b[0m\n\u001b[1;32m     57\u001b[0m \u001b[0;32mfor\u001b[0m \u001b[0ma\u001b[0m \u001b[0;32min\u001b[0m \u001b[0malphas\u001b[0m\u001b[0;34m:\u001b[0m\u001b[0;34m\u001b[0m\u001b[0;34m\u001b[0m\u001b[0m\n\u001b[0;32m---> 58\u001b[0;31m     \u001b[0mridge\u001b[0m \u001b[0;34m=\u001b[0m \u001b[0mlinear_model\u001b[0m\u001b[0;34m.\u001b[0m\u001b[0mRidge\u001b[0m\u001b[0;34m(\u001b[0m\u001b[0malpha\u001b[0m\u001b[0;34m=\u001b[0m\u001b[0ma\u001b[0m\u001b[0;34m,\u001b[0m \u001b[0mfit_intercept\u001b[0m\u001b[0;34m=\u001b[0m\u001b[0;32mFalse\u001b[0m\u001b[0;34m)\u001b[0m\u001b[0;34m\u001b[0m\u001b[0;34m\u001b[0m\u001b[0m\n\u001b[0m\u001b[1;32m     59\u001b[0m     \u001b[0mridge\u001b[0m\u001b[0;34m.\u001b[0m\u001b[0mfit\u001b[0m\u001b[0;34m(\u001b[0m\u001b[0mX\u001b[0m\u001b[0;34m,\u001b[0m \u001b[0my\u001b[0m\u001b[0;34m)\u001b[0m\u001b[0;34m\u001b[0m\u001b[0;34m\u001b[0m\u001b[0m\n\u001b[1;32m     60\u001b[0m     \u001b[0mplots\u001b[0m\u001b[0;34m.\u001b[0m\u001b[0mappend\u001b[0m\u001b[0;34m(\u001b[0m\u001b[0mscatter\u001b[0m\u001b[0;34m(\u001b[0m\u001b[0malphas\u001b[0m\u001b[0;34m,\u001b[0m \u001b[0mridge\u001b[0m\u001b[0;34m.\u001b[0m\u001b[0mcoef_\u001b[0m\u001b[0;34m,\u001b[0m \u001b[0;34m''\u001b[0m\u001b[0;34m)\u001b[0m\u001b[0;34m)\u001b[0m\u001b[0;34m\u001b[0m\u001b[0;34m\u001b[0m\u001b[0m\n",
      "\u001b[0;31mNameError\u001b[0m: name 'linear_model' is not defined"
     ]
    }
   ],
   "source": [
    "# X is the 10x10 Hilbert matrix\n",
    "# In linear algebra, a Hilbert matrix, introduced by Hilbert (1894), is a square matrix with entries being the unit fractions\n",
    "\n",
    "\"\"\"\n",
    "x = array([\n",
    "       [ 1,  2,  3,  4,  5,  6,  7,  8,  9, 10],\n",
    "       [ 2,  3,  4,  5,  6,  7,  8,  9, 10, 11],\n",
    "       [ 3,  4,  5,  6,  7,  8,  9, 10, 11, 12],\n",
    "       [ 4,  5,  6,  7,  8,  9, 10, 11, 12, 13],\n",
    "       [ 5,  6,  7,  8,  9, 10, 11, 12, 13, 14],\n",
    "       [ 6,  7,  8,  9, 10, 11, 12, 13, 14, 15],\n",
    "       [ 7,  8,  9, 10, 11, 12, 13, 14, 15, 16],\n",
    "       [ 8,  9, 10, 11, 12, 13, 14, 15, 16, 17],\n",
    "       [ 9, 10, 11, 12, 13, 14, 15, 16, 17, 18],\n",
    "       [10, 11, 12, 13, 14, 15, 16, 17, 18, 19]])\n",
    "\n",
    "X = 1./x\n",
    "\n",
    "X = array([[1.        , 0.5       , 0.33333333, 0.25      , 0.2       ,\n",
    "        0.16666667, 0.14285714, 0.125     , 0.11111111, 0.1       ],\n",
    "       [0.5       , 0.33333333, 0.25      , 0.2       , 0.16666667,\n",
    "        0.14285714, 0.125     , 0.11111111, 0.1       , 0.09090909],\n",
    "       [0.33333333, 0.25      , 0.2       , 0.16666667, 0.14285714,\n",
    "        0.125     , 0.11111111, 0.1       , 0.09090909, 0.08333333],\n",
    "       [0.25      , 0.2       , 0.16666667, 0.14285714, 0.125     ,\n",
    "        0.11111111, 0.1       , 0.09090909, 0.08333333, 0.07692308],\n",
    "       [0.2       , 0.16666667, 0.14285714, 0.125     , 0.11111111,\n",
    "        0.1       , 0.09090909, 0.08333333, 0.07692308, 0.07142857],\n",
    "       [0.16666667, 0.14285714, 0.125     , 0.11111111, 0.1       ,\n",
    "        0.09090909, 0.08333333, 0.07692308, 0.07142857, 0.06666667],\n",
    "       [0.14285714, 0.125     , 0.11111111, 0.1       , 0.09090909,\n",
    "        0.08333333, 0.07692308, 0.07142857, 0.06666667, 0.0625    ],\n",
    "       [0.125     , 0.11111111, 0.1       , 0.09090909, 0.08333333,\n",
    "        0.07692308, 0.07142857, 0.06666667, 0.0625    , 0.05882353],\n",
    "       [0.11111111, 0.1       , 0.09090909, 0.08333333, 0.07692308,\n",
    "        0.07142857, 0.06666667, 0.0625    , 0.05882353, 0.05555556],\n",
    "       [0.1       , 0.09090909, 0.08333333, 0.07692308, 0.07142857,\n",
    "        0.06666667, 0.0625    , 0.05882353, 0.05555556, 0.05263158]])\n",
    "\n",
    "y = array([1., 1., 1., 1., 1., 1., 1., 1., 1., 1.])\n",
    "\n",
    "\"\"\"\n",
    "\n",
    "X = 1. / (np.arange(1, 11) + np.arange(0, 10)[:, np.newaxis])\n",
    "y = np.ones(10)\n",
    "\n",
    "# #############################################################################\n",
    "# Compute paths\n",
    "\n",
    "n_alphas = 200\n",
    "# This is an aray of 200 values\n",
    "alphas = np.logspace(-10, -2, n_alphas)\n",
    "\n",
    "plots = []\n",
    "\n",
    "coefs = []\n",
    "for a in alphas:\n",
    "    ridge = linear_model.Ridge(alpha=a, fit_intercept=False)\n",
    "    ridge.fit(X, y)\n",
    "    plots.append(scatter(alphas, ridge.coef_, ''))\n",
    "    coefs.append(ridge.coef_)\n",
    "\n",
    "# #############################################################################\n",
    "# Display results\n",
    "\n",
    "ax = plt.gca()\n",
    "\n",
    "ax.plot(alphas, coefs)\n",
    "ax.set_xscale('log')\n",
    "ax.set_xlim(ax.get_xlim()[::-1])  # reverse axis\n",
    "plt.xlabel('alpha')\n",
    "plt.ylabel('weights')\n",
    "plt.title('Ridge coefficients as a function of the regularization')\n",
    "plt.axis('tight')\n",
    "plt.show()"
   ]
  },
  {
   "cell_type": "markdown",
   "execution_count": null,
   "metadata": {},
   "outputs": [],
   "source": [
    "X"
   ]
  },
  {
   "cell_type": "code",
   "execution_count": 0,
   "metadata": {},
   "outputs": [],
   "source": [
    "fig = go.Figure(data=plots)\n",
    "fig.update_layout(xaxis_type=\"log\")\n",
    "render(fig, title='Data', width=1000, height=1000)"
   ]
  },
  {
   "cell_type": "code",
   "execution_count": 0,
   "metadata": {},
   "outputs": [],
   "source": [
    "(1./np.arange(1, 11)).shape\n",
    "help(np.shape)"
   ]
  },
  {
   "cell_type": "code",
   "execution_count": 0,
   "metadata": {},
   "outputs": [],
   "source": [
    "1/(np.arange(1, 11) + np.arange(0, 10)[:, np.newaxis])"
   ]
  },
  {
   "cell_type": "code",
   "execution_count": null,
   "metadata": {},
   "outputs": [],
   "source": []
  }
 ]
}