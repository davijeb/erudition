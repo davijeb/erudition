{
 "nbformat": 4,
 "nbformat_minor": 2,
 "metadata": {
  "language_info": {
   "name": "python",
   "codemirror_mode": {
    "name": "ipython",
    "version": 3
   }
  },
  "orig_nbformat": 2,
  "file_extension": ".py",
  "mimetype": "text/x-python",
  "name": "python",
  "npconvert_exporter": "python",
  "pygments_lexer": "ipython3",
  "version": 3
 },
 "cells": [
  {
   "cell_type": "markdown",
   "execution_count": null,
   "metadata": {},
   "outputs": [],
   "source": [
    "# Linear Algebra"
   ]
  },
  {
   "cell_type": "code",
   "execution_count": 1,
   "metadata": {},
   "outputs": [],
   "source": [
    "import numpy as np"
   ]
  },
  {
   "cell_type": "markdown",
   "execution_count": 6,
   "metadata": {},
   "outputs": [],
   "source": [
    "# <u>Matrix and vector products</u>\n"
   ]
  },
  {
   "cell_type": "markdown",
   "execution_count": 9,
   "metadata": {},
   "outputs": [],
   "source": [
    "# 1. numpy.dot\n",
    "\"multiply a matrix by another matrix\""
   ]
  },
  {
   "cell_type": "code",
   "execution_count": 2,
   "metadata": {},
   "outputs": [
    {
     "name": "stdout",
     "output_type": "stream",
     "text": "12\n11\n[[4 1]\n [2 2]]\n"
    }
   ],
   "source": [
    "# simple\n",
    "res = np.dot(3,4)\n",
    "\n",
    "print(res)\n",
    "\n",
    "# (1, 2) • (7, 9) = 1×3 + 2×4 = 11 \n",
    "res = np.dot([1,2],[3,4])\n",
    "\n",
    "print(res)\n",
    "\n",
    "a = [[1, 0], [0, 1]]\n",
    "b = [[4, 1], [2, 2]]\n",
    "res = np.dot(a, b)\n",
    "\n",
    "print(res)"
   ]
  },
  {
   "cell_type": "markdown",
   "execution_count": null,
   "metadata": {},
   "outputs": [],
   "source": [
    "# 2. numpy.vdot\n",
    "\"return the dot product of two vectors\""
   ]
  },
  {
   "cell_type": "code",
   "execution_count": 3,
   "metadata": {},
   "outputs": [
    {
     "data": {
      "text/plain": "130"
     },
     "execution_count": 3,
     "metadata": {},
     "output_type": "execute_result"
    }
   ],
   "source": [
    "vec_a = np.arange(5)\n",
    "vec_b = np.arange(5)+10\n",
    "\n",
    "np.vdot(vec_a, vec_b)"
   ]
  },
  {
   "cell_type": "markdown",
   "execution_count": null,
   "metadata": {},
   "outputs": [],
   "source": [
    "# 3. numpy.inner\n",
    "\"inner product of two arrays\"\n",
    "\n",
    "without complex conjugation"
   ]
  },
  {
   "cell_type": "code",
   "execution_count": 4,
   "metadata": {},
   "outputs": [
    {
     "data": {
      "text/plain": "130"
     },
     "execution_count": 4,
     "metadata": {},
     "output_type": "execute_result"
    }
   ],
   "source": [
    "vec_a = np.arange(5)\n",
    "vec_b = np.arange(5)+10\n",
    "\n",
    "np.inner(vec_a, vec_b)"
   ]
  },
  {
   "cell_type": "markdown",
   "execution_count": 30,
   "metadata": {},
   "outputs": [],
   "source": [
    "# 4. numpy.outer\n",
    "\"computer the outer product of two vectors\"\n",
    "The outer product of two coordinate vectors is a matrix. \n",
    "\n",
    "The outer product contrasts with the dot product, which takes as input a pair of coordinate vectors and produces a scalar.\n",
    "\n",
    "$\\mathbf{v}\\otimes\\mathbf{w}$\n",
    "\n",
    "and is defined as:\n",
    "\n",
    "$\\mathbf{v}\\otimes\\mathbf{w}:=\\mathbf{v}\\mathbf{w}^\\top$\n",
    "\n"
   ]
  },
  {
   "cell_type": "code",
   "execution_count": 5,
   "metadata": {},
   "outputs": [
    {
     "name": "stdout",
     "output_type": "stream",
     "text": "[0 1 2 3 4] [10 11 12 13 14]\n[[ 0  0  0  0  0]\n [10 11 12 13 14]\n [20 22 24 26 28]\n [30 33 36 39 42]\n [40 44 48 52 56]]\n[[ 0  0  0  0  0]\n [10 11 12 13 14]\n [20 22 24 26 28]\n [30 33 36 39 42]\n [40 44 48 52 56]]\n"
    }
   ],
   "source": [
    "vec_a = np.arange(5)\n",
    "vec_b = np.arange(5)+10\n",
    "\n",
    "print(vec_a, vec_b)\n",
    "\n",
    "res = np.outer(vec_a, vec_b)\n",
    "\n",
    "print(res)\n",
    "\n",
    "res = vec_b * (vec_a[:, np.newaxis])\n",
    "\n",
    "print(res)"
   ]
  },
  {
   "cell_type": "markdown",
   "execution_count": null,
   "metadata": {},
   "outputs": [],
   "source": [
    "# 5. numpy.matmul\n",
    "\"matrix product of two arrays\"\n"
   ]
  },
  {
   "cell_type": "code",
   "execution_count": 6,
   "metadata": {},
   "outputs": [
    {
     "data": {
      "text/plain": "array([[4, 1],\n       [2, 2]])"
     },
     "execution_count": 6,
     "metadata": {},
     "output_type": "execute_result"
    }
   ],
   "source": [
    "a = np.array([[1,0],\n",
    "               [0,1]])\n",
    "b = np.array([[4,1],\n",
    "               [2,2]])\n",
    "\n",
    "np.matmul(a,b)"
   ]
  },
  {
   "cell_type": "markdown",
   "execution_count": null,
   "metadata": {},
   "outputs": [],
   "source": [
    "# 6. numpy.tensordot\n",
    "\"compute tensor produc along a specific axis\"\n",
    "\n",
    "Given two tensors, a and b, and an array_like object containing two array_like objects, (a_axes, b_axes), sum the products of a’s and b’s elements (components) over the axes specified by a_axes and b_axes. The third argument can be a single non-negative integer_like scalar, N; if it is such, then the last N dimensions of a and the first N dimensions of b are summed over.\n",
    "\n",
    "axes = 0: tensor product $a\\otimes b$\n",
    "\n",
    "axes = 1: tensor product $a.b$\n",
    "\n",
    "axes = 2: (default) tensor double contraction $a:b$"
   ]
  },
  {
   "cell_type": "code",
   "execution_count": 7,
   "metadata": {},
   "outputs": [
    {
     "name": "stdout",
     "output_type": "stream",
     "text": "[[[0 1]]\n\n [[0 1]]] \n\n [['a' 'z']]\n"
    },
    {
     "data": {
      "text/plain": "array(['z', 'z'], dtype=object)"
     },
     "execution_count": 7,
     "metadata": {},
     "output_type": "execute_result"
    }
   ],
   "source": [
    "a = np.array([0,1,0,1])\n",
    "a = a.reshape(2, 1,2)\n",
    "\n",
    "A = np.array( ('a', 'z'), dtype=object )\n",
    "A = A.reshape(1,2)\n",
    "\n",
    "print (a, '\\n\\n', A)\n",
    "\n",
    "np.tensordot(a, A)"
   ]
  },
  {
   "cell_type": "code",
   "execution_count": null,
   "metadata": {},
   "outputs": [],
   "source": []
  }
 ]
}