{
 "cells": [
  {
   "cell_type": "code",
   "execution_count": 24,
   "metadata": {},
   "outputs": [
    {
     "name": "stdout",
     "output_type": "stream",
     "text": [
      "ARDRegression\n",
      "BayesianRidge\n",
      "ElasticNet\n",
      "ElasticNetCV\n",
      "Hinge\n",
      "Huber\n",
      "HuberRegressor\n",
      "Lars\n",
      "LarsCV\n",
      "Lasso\n",
      "LassoCV\n",
      "LassoLars\n",
      "LassoLarsCV\n",
      "LassoLarsIC\n",
      "LinearRegression\n",
      "Log\n",
      "LogisticRegression\n",
      "LogisticRegressionCV\n",
      "ModifiedHuber\n",
      "MultiTaskElasticNet\n",
      "MultiTaskElasticNetCV\n",
      "MultiTaskLasso\n",
      "MultiTaskLassoCV\n",
      "OrthogonalMatchingPursuit\n",
      "OrthogonalMatchingPursuitCV\n",
      "PassiveAggressiveClassifier\n",
      "PassiveAggressiveRegressor\n",
      "Perceptron\n",
      "RANSACRegressor\n",
      "Ridge\n",
      "RidgeCV\n",
      "RidgeClassifier\n",
      "RidgeClassifierCV\n",
      "SGDClassifier\n",
      "SGDRegressor\n",
      "SquaredLoss\n",
      "TheilSenRegressor\n"
     ]
    }
   ],
   "source": [
    "import inspect\n",
    "import nbformat as nbf\n",
    "import sklearn.linear_model as my_module\n",
    "d=[m[0] for m in inspect.getmembers(my_module, inspect.isclass)]\n",
    "for f in d:\n",
    "    create_notebook(f)\n",
    "    print(f)"
   ]
  },
  {
   "cell_type": "code",
   "execution_count": 23,
   "metadata": {},
   "outputs": [],
   "source": [
    "def create_notebook(name):\n",
    "    nb = nbf.v4.new_notebook()\n",
    "    text = \"\"\"\n",
    "    # My first automatic Jupyter Notebook<br>\n",
    "    This is an auto-generated notebook.\"\"\"\n",
    "\n",
    "    code = \"\"\"\n",
    "    from sklearn.linear_model import {}\"\"\".format(name)\n",
    "\n",
    "    nb['cells'] = [nbf.v4.new_markdown_cell(text),\n",
    "                   nbf.v4.new_code_cell(code)]\n",
    "    fname = '{}.ipynb'.format(name)\n",
    "\n",
    "    with open(fname, 'w') as f:\n",
    "        nbf.write(nb, f)"
   ]
  }
 ],
 "metadata": {
  "kernelspec": {
   "display_name": "Python 3",
   "language": "python",
   "name": "python3"
  },
  "language_info": {
   "codemirror_mode": {
    "name": "ipython",
    "version": 3
   },
   "file_extension": ".py",
   "mimetype": "text/x-python",
   "name": "python",
   "nbconvert_exporter": "python",
   "pygments_lexer": "ipython3",
   "version": "3.7.3"
  }
 },
 "nbformat": 4,
 "nbformat_minor": 2
}
